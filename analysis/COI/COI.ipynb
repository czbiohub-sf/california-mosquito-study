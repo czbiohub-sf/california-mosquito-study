{
 "cells": [
  {
   "cell_type": "code",
   "execution_count": 284,
   "metadata": {},
   "outputs": [],
   "source": [
    "import time\n",
    "import pandas as pd\n",
    "import numpy as np\n",
    "import os\n",
    "import boto3\n",
    "s3 = boto3.client('s3')\n",
    "from Bio import Entrez\n",
    "from Bio import SeqIO\n",
    "from Bio import SeqRecord\n",
    "from Bio import Seq\n",
    "import re\n",
    "Entrez.email = \"lucy.li@czbiohub.org\"\n",
    "api_key = \"1a6a75bc7f8a5a3088510eb4f1b35eefa009\""
   ]
  },
  {
   "cell_type": "markdown",
   "metadata": {},
   "source": [
    "# Download reference sequences"
   ]
  },
  {
   "cell_type": "code",
   "execution_count": 18,
   "metadata": {},
   "outputs": [],
   "source": [
    "genuses = [\"Culiseta\", \"Culex\", \"Aedes\"]\n",
    "taxids = Entrez.read(Entrez.esearch(term=' OR '.join([\"(\"+x+\"[All Names] AND Genus[Rank])\" for x in genuses]), db=\"taxonomy\"))[\"IdList\"]\n",
    "genus_taxids = dict(zip(genuses, taxids))\n"
   ]
  },
  {
   "cell_type": "code",
   "execution_count": 19,
   "metadata": {},
   "outputs": [],
   "source": [
    "coi_ids = {}\n",
    "for x in genus_taxids:\n",
    "    search_term = '[Organism:exp] AND (\"mitochondrion\"[title] OR \"mitochondrial\"[title] OR \"COI\"[title]) AND (1000:30000[Sequence Length]) NOT (predicted[title])'\n",
    "    coi_ids[x] = Entrez.read(Entrez.esearch(term=\"txid\"+genus_taxids[x]+search_term, db=\"nucleotide\", retmax=1000, api_key=api_key))[\"IdList\"]\n",
    "    time.sleep(0.1)\n",
    "\n",
    "\n"
   ]
  },
  {
   "cell_type": "code",
   "execution_count": null,
   "metadata": {},
   "outputs": [],
   "source": [
    "seqs = {}\n",
    "for x in coi_ids:\n",
    "    seqs[x] = Entrez.efetch(db=\"nucleotide\", id=coi_ids[x], rettype=\"fasta\", retmode=\"text\").read()\n"
   ]
  },
  {
   "cell_type": "code",
   "execution_count": null,
   "metadata": {},
   "outputs": [],
   "source": [
    "with open('mito.fasta', 'w') as f:\n",
    "    f.write(''.join(list(seqs.values())))\n",
    "\n"
   ]
  },
  {
   "cell_type": "code",
   "execution_count": null,
   "metadata": {},
   "outputs": [],
   "source": [
    "%%bash\n",
    "bowtie2-build mito.fasta mito"
   ]
  },
  {
   "cell_type": "markdown",
   "metadata": {},
   "source": [
    "# bowtie reads to reference and assemble aligned reads"
   ]
  },
  {
   "cell_type": "code",
   "execution_count": 20,
   "metadata": {},
   "outputs": [],
   "source": [
    "metadata = pd.read_csv(\"../../data/metadata/CMS001_CMS002_MergedAnnotations.csv\")"
   ]
  },
  {
   "cell_type": "code",
   "execution_count": null,
   "metadata": {},
   "outputs": [],
   "source": [
    "file_sizes = metadata[\"read1\"].apply(lambda x: s3.head_object(Bucket='czb-seqbot', Key='/'.join(x.split(\"/\")[3:]))[\"ContentLength\"])\n",
    "\n",
    "\n"
   ]
  },
  {
   "cell_type": "code",
   "execution_count": null,
   "metadata": {},
   "outputs": [],
   "source": [
    "list(metadata[file_sizes==file_sizes.min()].read1)"
   ]
  },
  {
   "cell_type": "code",
   "execution_count": null,
   "metadata": {},
   "outputs": [],
   "source": [
    "metadata[\"read1\"].str.split(\"/\").apply(lambda x: x[4]).unique()"
   ]
  },
  {
   "cell_type": "code",
   "execution_count": null,
   "metadata": {},
   "outputs": [],
   "source": [
    "def get_command (filename):\n",
    "    fn = os.path.basename(filename)\n",
    "    basefn = fn.replace(\".fastq.gz\", \"\")\n",
    "    fastqfn = fn.replace(\"fastq.gz\", \"fastq\")\n",
    "    bamfn = fn.replace(\"fastq.gz\", \"bam\")\n",
    "    command = \"aws s3 cp \"+filename+\" .; \"\n",
    "    command += \"bowtie2 -U \"+fn+\" -x mito | samtools view -bS | samtools sort > \"+bamfn+\"; \"\n",
    "    command += \"samtools index \"+bamfn+\"; \"\n",
    "    command += \"samtools fastq \"+bamfn+\" -F 4 > \"+fastqfn+\"; \"\n",
    "    command += \"gzip \"+fastqfn+\"; \"\n",
    "    command += \"megahit -r \"+fn+\" -o \"+basefn+\"; \"\n",
    "    command += \"mv \"+basefn+\"/final.contigs.fa \"+basefn+\".fasta; \"\n",
    "    command += \"rm -rf \"+fn+\" \"+bamfn+\" \"+bamfn+\".bai \"+basefn\n",
    "    return(command)\n",
    "    \n",
    "    \n",
    "    \n",
    "    "
   ]
  },
  {
   "cell_type": "code",
   "execution_count": null,
   "metadata": {},
   "outputs": [],
   "source": [
    "command_str = '\\n'.join(list(metadata[\"read1\"].apply(get_command)))\n",
    "with open (\"mito_commands\", \"w\") as f:\n",
    "    f.write(command_str)\n",
    "\n",
    "\n"
   ]
  },
  {
   "cell_type": "markdown",
   "metadata": {},
   "source": [
    "# Compare genomes"
   ]
  },
  {
   "cell_type": "code",
   "execution_count": null,
   "metadata": {},
   "outputs": [],
   "source": [
    "%%bash\n",
    "for x in $(ls CMS*.fasta); do sample=${x/_R1_001.fasta/}; perl -pi -e \"s/^>/>${sample}__/g\" $x; done\n",
    "cat CMS*.fasta > all_mito_contigs.fasta\n",
    "makeblastdb -in all_mito_contigs.fasta -input_type fasta -dbtype nucl -out all_mito\n",
    "run_blast () {\n",
    "  prefix=\"${1%.*}\"\n",
    "  blastn -query $1 -db all_mito -out ${prefix}_blast.txt -outfmt '6 qseqid sseqid evalue qcovs qstart qend sstart send pident qseq sseq' -task dc-megablast\n",
    "}\n",
    "export -f run_blast\n",
    "ls CMS*.fasta | parallel -j 128 run_blast {}\n",
    "mkdir alignments\n",
    "\n",
    "\n"
   ]
  },
  {
   "cell_type": "code",
   "execution_count": 21,
   "metadata": {},
   "outputs": [],
   "source": [
    "blast_colnames = ['qseqid', 'sseqid', 'evalue', 'qcovs', 'qstart', 'qend', 'sstart', 'send', 'pident', 'qseq', 'sseq']"
   ]
  },
  {
   "cell_type": "code",
   "execution_count": 151,
   "metadata": {},
   "outputs": [],
   "source": [
    "blast_filenames = [x for x in os.listdir() if x.endswith(\"blast.txt\")]"
   ]
  },
  {
   "cell_type": "code",
   "execution_count": 152,
   "metadata": {},
   "outputs": [],
   "source": [
    "blast_results = pd.concat([pd.read_csv(x, sep=\"\\t\", header=None, names=blast_colnames) for x in blast_filenames])\n",
    "blast_results = blast_results.assign(qsample=blast_results[\"qseqid\"].str.split(\"__\").apply(lambda x: x[0]),\n",
    "                                     ssample=blast_results[\"sseqid\"].str.split(\"__\").apply(lambda x: x[0]),\n",
    "                                     qlen=(blast_results[\"qend\"]-blast_results[\"qstart\"]))"
   ]
  },
  {
   "cell_type": "code",
   "execution_count": 153,
   "metadata": {},
   "outputs": [],
   "source": [
    "num_unique = blast_results.groupby(\"qseqid\")[\"ssample\"].nunique()"
   ]
  },
  {
   "cell_type": "code",
   "execution_count": 154,
   "metadata": {},
   "outputs": [],
   "source": [
    "filtered_blast_results = blast_results[blast_results[\"qseqid\"].isin(num_unique[num_unique==num_unique.max()].index)].groupby(\"qseqid\", as_index=False).apply(lambda x: x.sort_values(by=\"qlen\").groupby(\"ssample\", as_index=False).first())"
   ]
  },
  {
   "cell_type": "code",
   "execution_count": 246,
   "metadata": {},
   "outputs": [],
   "source": [
    "filtered_blast_metrics = filtered_blast_results.groupby(\"qseqid\").apply(lambda x: pd.DataFrame({\"num_long\":[(x[\"qlen\"]>=x[\"qlen\"].max()*0.8).sum()], \"mean_qlen\":[x[\"qlen\"].mean()]}))"
   ]
  },
  {
   "cell_type": "code",
   "execution_count": 251,
   "metadata": {},
   "outputs": [],
   "source": [
    "subset_criterion1 = filtered_blast_metrics[\"mean_qlen\"]>filtered_blast_metrics[\"mean_qlen\"].max()*0.3\n",
    "subset_criterion2 = filtered_blast_metrics[\"num_long\"]>20\n",
    "qseqid_subset = filtered_blast_metrics[subset_criterion1 & subset_criterion2].reset_index()[\"qseqid\"].tolist()\n",
    "\n",
    "\n",
    "\n",
    "\n"
   ]
  },
  {
   "cell_type": "code",
   "execution_count": 252,
   "metadata": {},
   "outputs": [],
   "source": [
    "def create_seq_record (blast_row):\n",
    "    sequence = Seq.Seq(blast_row[\"sseq\"].replace(\"-\", \"\"))\n",
    "    id_name = blast_row[\"ssample\"]\n",
    "    if blast_row[\"sstart\"]>blast_row[\"send\"]:\n",
    "        output_seq = SeqRecord.SeqRecord(seq=sequence).reverse_complement(id=id_name, description=\"\")\n",
    "    else:\n",
    "        output_seq = SeqRecord.SeqRecord(seq=sequence, id=id_name, description=\"\")\n",
    "    return (output_seq)\n",
    "\n",
    "def get_best_blast_hit (df, outfn, qlen_threshold=0.8):\n",
    "    selected_blast_results = df[df[\"qlen\"]>df[\"qlen\"].max()*qlen_threshold]\n",
    "    selected_sequences = selected_blast_results.apply(create_seq_record, axis=1).tolist()\n",
    "    SeqIO.write(selected_sequences, outfn, \"fasta\")\n",
    "    return ([selected_blast_results, selected_sequences])\n"
   ]
  },
  {
   "cell_type": "code",
   "execution_count": 244,
   "metadata": {},
   "outputs": [],
   "source": [
    "alignments = {}\n",
    "for qseqid_x in qseqid_subset:\n",
    "    alignments[qseqid_x] = get_best_blast_hit(filtered_blast_results[filtered_blast_results[\"qseqid\"]==qseqid_x],\n",
    "                                              outfn=os.path.join(\"alignments\", qseqid_x+\".fasta\"),\n",
    "                                              qlen_threshold=0.8)\n",
    "    print (qseqid_x+\".fasta written to file\")"
   ]
  },
  {
   "cell_type": "code",
   "execution_count": null,
   "metadata": {},
   "outputs": [],
   "source": [
    "%%bash\n",
    "ls alignments/*.fasta | parallel muscle -in {} -out {.}.aln\n",
    "mkdir trees"
   ]
  },
  {
   "cell_type": "code",
   "execution_count": 324,
   "metadata": {},
   "outputs": [],
   "source": [
    "aln_fn = [x for x in os.listdir(\"alignments\") if x.endswith(\".aln\")]\n",
    "aligned_sequences = [list(SeqIO.parse(os.path.join(\"alignments\", x), \"fasta\")) for x in aln_fn]"
   ]
  },
  {
   "cell_type": "code",
   "execution_count": 325,
   "metadata": {},
   "outputs": [],
   "source": [
    "num_gap_chunks = [np.mean([re.sub(\"\\-+\", \"-\", str(x.seq)).count('-')/len(x.seq) for x in aligned_seq]) for aligned_seq in aligned_sequences]"
   ]
  },
  {
   "cell_type": "code",
   "execution_count": 326,
   "metadata": {},
   "outputs": [],
   "source": [
    "num_gaps = [np.mean([x.seq.count('-')/len(x.seq) for x in aligned_seq]) for aligned_seq in aligned_sequences]"
   ]
  },
  {
   "cell_type": "code",
   "execution_count": 327,
   "metadata": {},
   "outputs": [],
   "source": [
    "alignment_qual = pd.DataFrame({\"filename\":aln_fn, \"seqs\":aligned_sequences, \"num_gap_chunks\":num_gap_chunks, \"num_gaps\":num_gaps})\n",
    "alignment_qual = alignment_qual.assign(rank=alignment_qual[\"num_gap_chunks\"].rank()+alignment_qual[\"num_gaps\"].rank())"
   ]
  },
  {
   "cell_type": "code",
   "execution_count": 335,
   "metadata": {},
   "outputs": [
    {
     "data": {
      "text/html": [
       "<div>\n",
       "<style scoped>\n",
       "    .dataframe tbody tr th:only-of-type {\n",
       "        vertical-align: middle;\n",
       "    }\n",
       "\n",
       "    .dataframe tbody tr th {\n",
       "        vertical-align: top;\n",
       "    }\n",
       "\n",
       "    .dataframe thead th {\n",
       "        text-align: right;\n",
       "    }\n",
       "</style>\n",
       "<table border=\"1\" class=\"dataframe\">\n",
       "  <thead>\n",
       "    <tr style=\"text-align: right;\">\n",
       "      <th></th>\n",
       "      <th>filename</th>\n",
       "      <th>seqs</th>\n",
       "      <th>num_gap_chunks</th>\n",
       "      <th>num_gaps</th>\n",
       "      <th>rank</th>\n",
       "    </tr>\n",
       "  </thead>\n",
       "  <tbody>\n",
       "    <tr>\n",
       "      <td>341</td>\n",
       "      <td>CMS_002_20b_Rb_S132_L004__k141_857.aln</td>\n",
       "      <td>[(-, A, C, G, C, T, C, A, A, G, A, T, C, G, -,...</td>\n",
       "      <td>0.017650</td>\n",
       "      <td>0.117949</td>\n",
       "      <td>81.0</td>\n",
       "    </tr>\n",
       "    <tr>\n",
       "      <td>219</td>\n",
       "      <td>CMS_039_RNA_A_S9__k141_1912.aln</td>\n",
       "      <td>[(-, -, -, -, -, -, -, -, -, -, -, -, -, -, -,...</td>\n",
       "      <td>0.016610</td>\n",
       "      <td>0.126400</td>\n",
       "      <td>88.0</td>\n",
       "    </tr>\n",
       "    <tr>\n",
       "      <td>119</td>\n",
       "      <td>CMS_040_RNA_A_S21__k141_1635.aln</td>\n",
       "      <td>[(-, -, -, -, -, -, -, -, -, -, C, T, C, A, T,...</td>\n",
       "      <td>0.017900</td>\n",
       "      <td>0.115679</td>\n",
       "      <td>96.0</td>\n",
       "    </tr>\n",
       "    <tr>\n",
       "      <td>194</td>\n",
       "      <td>CMS_007_RNA_A_S12__k141_3208.aln</td>\n",
       "      <td>[(-, -, -, -, -, -, -, -, -, -, -, -, -, -, -,...</td>\n",
       "      <td>0.017839</td>\n",
       "      <td>0.119364</td>\n",
       "      <td>97.0</td>\n",
       "    </tr>\n",
       "    <tr>\n",
       "      <td>202</td>\n",
       "      <td>CMS_004_RNA_A_S2__k141_3446.aln</td>\n",
       "      <td>[(-, -, -, -, -, -, -, -, -, -, -, -, -, -, -,...</td>\n",
       "      <td>0.017781</td>\n",
       "      <td>0.121130</td>\n",
       "      <td>97.0</td>\n",
       "    </tr>\n",
       "    <tr>\n",
       "      <td>346</td>\n",
       "      <td>CMS_002_26e_Rb_S150_L004__k141_2016.aln</td>\n",
       "      <td>[(-, -, C, A, G, G, C, T, A, A, G, G, T, T, A,...</td>\n",
       "      <td>0.018025</td>\n",
       "      <td>0.102701</td>\n",
       "      <td>104.0</td>\n",
       "    </tr>\n",
       "    <tr>\n",
       "      <td>337</td>\n",
       "      <td>CMS_022_RNA_A_S6__k141_1252.aln</td>\n",
       "      <td>[(C, T, C, A, T, T, T, A, T, T, A, T, C, G, T,...</td>\n",
       "      <td>0.017942</td>\n",
       "      <td>0.116220</td>\n",
       "      <td>104.0</td>\n",
       "    </tr>\n",
       "    <tr>\n",
       "      <td>215</td>\n",
       "      <td>CMS_033_RNA_A_S8__k141_3882.aln</td>\n",
       "      <td>[(-, -, -, -, -, -, -, -, -, -, -, -, -, -, -,...</td>\n",
       "      <td>0.017692</td>\n",
       "      <td>0.123334</td>\n",
       "      <td>106.0</td>\n",
       "    </tr>\n",
       "    <tr>\n",
       "      <td>243</td>\n",
       "      <td>CMS_001_17_S6_L001__k141_930.aln</td>\n",
       "      <td>[(-, -, -, -, -, -, -, -, -, -, -, -, -, -, -,...</td>\n",
       "      <td>0.017892</td>\n",
       "      <td>0.120317</td>\n",
       "      <td>107.0</td>\n",
       "    </tr>\n",
       "    <tr>\n",
       "      <td>82</td>\n",
       "      <td>CMS_002_23a_Rb_S138_L004__k141_2824.aln</td>\n",
       "      <td>[(-, -, -, -, -, -, -, -, -, -, -, -, -, -, -,...</td>\n",
       "      <td>0.018031</td>\n",
       "      <td>0.115942</td>\n",
       "      <td>112.0</td>\n",
       "    </tr>\n",
       "    <tr>\n",
       "      <td>320</td>\n",
       "      <td>CMS_002_25a_Rb_S140_L004__k141_230.aln</td>\n",
       "      <td>[(-, A, C, C, A, T, G, T, G, -, -, -, -, -, -,...</td>\n",
       "      <td>0.017802</td>\n",
       "      <td>0.123789</td>\n",
       "      <td>114.0</td>\n",
       "    </tr>\n",
       "    <tr>\n",
       "      <td>334</td>\n",
       "      <td>CMS_028_RNA_A_S17__k141_2290.aln</td>\n",
       "      <td>[(-, -, -, -, -, -, T, G, T, C, A, C, T, C, A,...</td>\n",
       "      <td>0.018109</td>\n",
       "      <td>0.115491</td>\n",
       "      <td>116.0</td>\n",
       "    </tr>\n",
       "    <tr>\n",
       "      <td>21</td>\n",
       "      <td>CMS_002_36a_Rb_S170_L004__k141_4533.aln</td>\n",
       "      <td>[(-, -, -, -, -, -, -, -, -, -, -, -, -, -, -,...</td>\n",
       "      <td>0.018073</td>\n",
       "      <td>0.116452</td>\n",
       "      <td>118.0</td>\n",
       "    </tr>\n",
       "    <tr>\n",
       "      <td>45</td>\n",
       "      <td>CMS_002_47h_Rb_S1_L004__k141_3353.aln</td>\n",
       "      <td>[(-, -, -, -, -, -, -, -, -, -, -, -, -, -, -,...</td>\n",
       "      <td>0.018000</td>\n",
       "      <td>0.120279</td>\n",
       "      <td>121.0</td>\n",
       "    </tr>\n",
       "    <tr>\n",
       "      <td>170</td>\n",
       "      <td>CMS_002_42a_Rb_S177_L004__k141_3099.aln</td>\n",
       "      <td>[(-, -, -, -, -, -, -, -, -, -, -, -, -, -, -,...</td>\n",
       "      <td>0.017940</td>\n",
       "      <td>0.122716</td>\n",
       "      <td>125.0</td>\n",
       "    </tr>\n",
       "    <tr>\n",
       "      <td>318</td>\n",
       "      <td>CMS_045_RNA_A_S2__k141_1567.aln</td>\n",
       "      <td>[(T, C, T, A, C, G, C, C, G, C, G, G, A, A, A,...</td>\n",
       "      <td>0.017802</td>\n",
       "      <td>0.126302</td>\n",
       "      <td>127.0</td>\n",
       "    </tr>\n",
       "    <tr>\n",
       "      <td>27</td>\n",
       "      <td>CMS_002_40a_Rb_S174_L004__k141_1081.aln</td>\n",
       "      <td>[(-, -, -, -, -, -, -, -, -, -, -, -, -, -, -,...</td>\n",
       "      <td>0.017940</td>\n",
       "      <td>0.123402</td>\n",
       "      <td>129.0</td>\n",
       "    </tr>\n",
       "    <tr>\n",
       "      <td>290</td>\n",
       "      <td>CMS_035_RNA_A_S20__k141_4750.aln</td>\n",
       "      <td>[(-, -, -, -, -, -, -, -, -, -, -, -, -, -, -,...</td>\n",
       "      <td>0.018180</td>\n",
       "      <td>0.116966</td>\n",
       "      <td>130.0</td>\n",
       "    </tr>\n",
       "    <tr>\n",
       "      <td>159</td>\n",
       "      <td>CMS_002_29b_Rb_S160_L004__k141_3408.aln</td>\n",
       "      <td>[(-, -, -, -, -, -, -, -, -, -, -, -, -, -, -,...</td>\n",
       "      <td>0.018149</td>\n",
       "      <td>0.119089</td>\n",
       "      <td>132.0</td>\n",
       "    </tr>\n",
       "    <tr>\n",
       "      <td>23</td>\n",
       "      <td>CMS_002_29e_Rb_S164_L004__k141_3073.aln</td>\n",
       "      <td>[(-, -, -, -, -, -, T, G, T, C, A, C, T, C, A,...</td>\n",
       "      <td>0.018259</td>\n",
       "      <td>0.115402</td>\n",
       "      <td>133.0</td>\n",
       "    </tr>\n",
       "  </tbody>\n",
       "</table>\n",
       "</div>"
      ],
      "text/plain": [
       "                                    filename  \\\n",
       "341   CMS_002_20b_Rb_S132_L004__k141_857.aln   \n",
       "219          CMS_039_RNA_A_S9__k141_1912.aln   \n",
       "119         CMS_040_RNA_A_S21__k141_1635.aln   \n",
       "194         CMS_007_RNA_A_S12__k141_3208.aln   \n",
       "202          CMS_004_RNA_A_S2__k141_3446.aln   \n",
       "346  CMS_002_26e_Rb_S150_L004__k141_2016.aln   \n",
       "337          CMS_022_RNA_A_S6__k141_1252.aln   \n",
       "215          CMS_033_RNA_A_S8__k141_3882.aln   \n",
       "243         CMS_001_17_S6_L001__k141_930.aln   \n",
       "82   CMS_002_23a_Rb_S138_L004__k141_2824.aln   \n",
       "320   CMS_002_25a_Rb_S140_L004__k141_230.aln   \n",
       "334         CMS_028_RNA_A_S17__k141_2290.aln   \n",
       "21   CMS_002_36a_Rb_S170_L004__k141_4533.aln   \n",
       "45     CMS_002_47h_Rb_S1_L004__k141_3353.aln   \n",
       "170  CMS_002_42a_Rb_S177_L004__k141_3099.aln   \n",
       "318          CMS_045_RNA_A_S2__k141_1567.aln   \n",
       "27   CMS_002_40a_Rb_S174_L004__k141_1081.aln   \n",
       "290         CMS_035_RNA_A_S20__k141_4750.aln   \n",
       "159  CMS_002_29b_Rb_S160_L004__k141_3408.aln   \n",
       "23   CMS_002_29e_Rb_S164_L004__k141_3073.aln   \n",
       "\n",
       "                                                  seqs  num_gap_chunks  \\\n",
       "341  [(-, A, C, G, C, T, C, A, A, G, A, T, C, G, -,...        0.017650   \n",
       "219  [(-, -, -, -, -, -, -, -, -, -, -, -, -, -, -,...        0.016610   \n",
       "119  [(-, -, -, -, -, -, -, -, -, -, C, T, C, A, T,...        0.017900   \n",
       "194  [(-, -, -, -, -, -, -, -, -, -, -, -, -, -, -,...        0.017839   \n",
       "202  [(-, -, -, -, -, -, -, -, -, -, -, -, -, -, -,...        0.017781   \n",
       "346  [(-, -, C, A, G, G, C, T, A, A, G, G, T, T, A,...        0.018025   \n",
       "337  [(C, T, C, A, T, T, T, A, T, T, A, T, C, G, T,...        0.017942   \n",
       "215  [(-, -, -, -, -, -, -, -, -, -, -, -, -, -, -,...        0.017692   \n",
       "243  [(-, -, -, -, -, -, -, -, -, -, -, -, -, -, -,...        0.017892   \n",
       "82   [(-, -, -, -, -, -, -, -, -, -, -, -, -, -, -,...        0.018031   \n",
       "320  [(-, A, C, C, A, T, G, T, G, -, -, -, -, -, -,...        0.017802   \n",
       "334  [(-, -, -, -, -, -, T, G, T, C, A, C, T, C, A,...        0.018109   \n",
       "21   [(-, -, -, -, -, -, -, -, -, -, -, -, -, -, -,...        0.018073   \n",
       "45   [(-, -, -, -, -, -, -, -, -, -, -, -, -, -, -,...        0.018000   \n",
       "170  [(-, -, -, -, -, -, -, -, -, -, -, -, -, -, -,...        0.017940   \n",
       "318  [(T, C, T, A, C, G, C, C, G, C, G, G, A, A, A,...        0.017802   \n",
       "27   [(-, -, -, -, -, -, -, -, -, -, -, -, -, -, -,...        0.017940   \n",
       "290  [(-, -, -, -, -, -, -, -, -, -, -, -, -, -, -,...        0.018180   \n",
       "159  [(-, -, -, -, -, -, -, -, -, -, -, -, -, -, -,...        0.018149   \n",
       "23   [(-, -, -, -, -, -, T, G, T, C, A, C, T, C, A,...        0.018259   \n",
       "\n",
       "     num_gaps   rank  \n",
       "341  0.117949   81.0  \n",
       "219  0.126400   88.0  \n",
       "119  0.115679   96.0  \n",
       "194  0.119364   97.0  \n",
       "202  0.121130   97.0  \n",
       "346  0.102701  104.0  \n",
       "337  0.116220  104.0  \n",
       "215  0.123334  106.0  \n",
       "243  0.120317  107.0  \n",
       "82   0.115942  112.0  \n",
       "320  0.123789  114.0  \n",
       "334  0.115491  116.0  \n",
       "21   0.116452  118.0  \n",
       "45   0.120279  121.0  \n",
       "170  0.122716  125.0  \n",
       "318  0.126302  127.0  \n",
       "27   0.123402  129.0  \n",
       "290  0.116966  130.0  \n",
       "159  0.119089  132.0  \n",
       "23   0.115402  133.0  "
      ]
     },
     "execution_count": 335,
     "metadata": {},
     "output_type": "execute_result"
    }
   ],
   "source": [
    "alignment_qual.sort_values(by=\"rank\").head(n=20)"
   ]
  },
  {
   "cell_type": "code",
   "execution_count": 332,
   "metadata": {},
   "outputs": [
    {
     "data": {
      "text/plain": [
       "'parallel iqtree -nt AUTO -s {} -pre trees/{/.} ::: alignments/CMS_002_20b_Rb_S132_L004__k141_857.aln alignments/CMS_039_RNA_A_S9__k141_1912.aln alignments/CMS_040_RNA_A_S21__k141_1635.aln alignments/CMS_007_RNA_A_S12__k141_3208.aln alignments/CMS_004_RNA_A_S2__k141_3446.aln alignments/CMS_002_26e_Rb_S150_L004__k141_2016.aln alignments/CMS_022_RNA_A_S6__k141_1252.aln alignments/CMS_033_RNA_A_S8__k141_3882.aln alignments/CMS_001_17_S6_L001__k141_930.aln alignments/CMS_002_23a_Rb_S138_L004__k141_2824.aln alignments/CMS_002_25a_Rb_S140_L004__k141_230.aln alignments/CMS_028_RNA_A_S17__k141_2290.aln alignments/CMS_002_36a_Rb_S170_L004__k141_4533.aln alignments/CMS_002_47h_Rb_S1_L004__k141_3353.aln alignments/CMS_002_42a_Rb_S177_L004__k141_3099.aln alignments/CMS_045_RNA_A_S2__k141_1567.aln alignments/CMS_002_40a_Rb_S174_L004__k141_1081.aln alignments/CMS_035_RNA_A_S20__k141_4750.aln alignments/CMS_002_29b_Rb_S160_L004__k141_3408.aln alignments/CMS_002_29e_Rb_S164_L004__k141_3073.aln'"
      ]
     },
     "execution_count": 332,
     "metadata": {},
     "output_type": "execute_result"
    }
   ],
   "source": [
    "# command to make phylogenetic trees\n",
    "\"parallel iqtree -nt AUTO -s {} -pre trees/{/.} ::: \"+' '.join(alignment_qual.sort_values(by=\"rank\").head(n=20)[\"filename\"].apply(lambda x: os.path.join(\"alignments\", x)).tolist())"
   ]
  },
  {
   "cell_type": "code",
   "execution_count": null,
   "metadata": {},
   "outputs": [],
   "source": [
    "%%bash\n",
    "ls alignments/*.aln | parallel iqtree -nt AUTO -s {} -pre trees/{/.}"
   ]
  }
 ],
 "metadata": {
  "kernelspec": {
   "display_name": "Python 3",
   "language": "python",
   "name": "python3"
  },
  "language_info": {
   "codemirror_mode": {
    "name": "ipython",
    "version": 3
   },
   "file_extension": ".py",
   "mimetype": "text/x-python",
   "name": "python",
   "nbconvert_exporter": "python",
   "pygments_lexer": "ipython3",
   "version": "3.7.3"
  }
 },
 "nbformat": 4,
 "nbformat_minor": 2
}
