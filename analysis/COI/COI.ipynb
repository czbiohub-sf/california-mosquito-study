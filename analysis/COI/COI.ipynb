{
 "cells": [
  {
   "cell_type": "code",
   "execution_count": 172,
   "metadata": {},
   "outputs": [],
   "source": [
    "import time\n",
    "import pandas as pd\n",
    "import os\n",
    "import boto3\n",
    "s3 = boto3.client('s3')\n",
    "from Bio import Entrez\n",
    "from Bio import SeqIO\n",
    "from Bio import SeqRecord\n",
    "from Bio import Seq\n",
    "Entrez.email = \"lucy.li@czbiohub.org\"\n",
    "api_key = \"1a6a75bc7f8a5a3088510eb4f1b35eefa009\""
   ]
  },
  {
   "cell_type": "markdown",
   "metadata": {},
   "source": [
    "# Download reference sequences"
   ]
  },
  {
   "cell_type": "code",
   "execution_count": 18,
   "metadata": {},
   "outputs": [],
   "source": [
    "genuses = [\"Culiseta\", \"Culex\", \"Aedes\"]\n",
    "taxids = Entrez.read(Entrez.esearch(term=' OR '.join([\"(\"+x+\"[All Names] AND Genus[Rank])\" for x in genuses]), db=\"taxonomy\"))[\"IdList\"]\n",
    "genus_taxids = dict(zip(genuses, taxids))\n"
   ]
  },
  {
   "cell_type": "code",
   "execution_count": 19,
   "metadata": {},
   "outputs": [],
   "source": [
    "coi_ids = {}\n",
    "for x in genus_taxids:\n",
    "    search_term = '[Organism:exp] AND (\"mitochondrion\"[title] OR \"mitochondrial\"[title] OR \"COI\"[title]) AND (1000:30000[Sequence Length]) NOT (predicted[title])'\n",
    "    coi_ids[x] = Entrez.read(Entrez.esearch(term=\"txid\"+genus_taxids[x]+search_term, db=\"nucleotide\", retmax=1000, api_key=api_key))[\"IdList\"]\n",
    "    time.sleep(0.1)\n",
    "\n",
    "\n"
   ]
  },
  {
   "cell_type": "code",
   "execution_count": null,
   "metadata": {},
   "outputs": [],
   "source": [
    "seqs = {}\n",
    "for x in coi_ids:\n",
    "    seqs[x] = Entrez.efetch(db=\"nucleotide\", id=coi_ids[x], rettype=\"fasta\", retmode=\"text\").read()\n"
   ]
  },
  {
   "cell_type": "code",
   "execution_count": null,
   "metadata": {},
   "outputs": [],
   "source": [
    "with open('mito.fasta', 'w') as f:\n",
    "    f.write(''.join(list(seqs.values())))\n",
    "\n"
   ]
  },
  {
   "cell_type": "code",
   "execution_count": null,
   "metadata": {},
   "outputs": [],
   "source": [
    "%%bash\n",
    "bowtie2-build mito.fasta mito"
   ]
  },
  {
   "cell_type": "markdown",
   "metadata": {},
   "source": [
    "# bowtie reads to reference and assemble aligned reads"
   ]
  },
  {
   "cell_type": "code",
   "execution_count": 20,
   "metadata": {},
   "outputs": [],
   "source": [
    "metadata = pd.read_csv(\"../../data/metadata/CMS001_CMS002_MergedAnnotations.csv\")"
   ]
  },
  {
   "cell_type": "code",
   "execution_count": null,
   "metadata": {},
   "outputs": [],
   "source": [
    "file_sizes = metadata[\"read1\"].apply(lambda x: s3.head_object(Bucket='czb-seqbot', Key='/'.join(x.split(\"/\")[3:]))[\"ContentLength\"])\n",
    "\n",
    "\n"
   ]
  },
  {
   "cell_type": "code",
   "execution_count": null,
   "metadata": {},
   "outputs": [],
   "source": [
    "list(metadata[file_sizes==file_sizes.min()].read1)"
   ]
  },
  {
   "cell_type": "code",
   "execution_count": null,
   "metadata": {},
   "outputs": [],
   "source": [
    "metadata[\"read1\"].str.split(\"/\").apply(lambda x: x[4]).unique()"
   ]
  },
  {
   "cell_type": "code",
   "execution_count": null,
   "metadata": {},
   "outputs": [],
   "source": [
    "def get_command (filename):\n",
    "    fn = os.path.basename(filename)\n",
    "    basefn = fn.replace(\".fastq.gz\", \"\")\n",
    "    fastqfn = fn.replace(\"fastq.gz\", \"fastq\")\n",
    "    bamfn = fn.replace(\"fastq.gz\", \"bam\")\n",
    "    command = \"aws s3 cp \"+filename+\" .; \"\n",
    "    command += \"bowtie2 -U \"+fn+\" -x mito | samtools view -bS | samtools sort > \"+bamfn+\"; \"\n",
    "    command += \"samtools index \"+bamfn+\"; \"\n",
    "    command += \"samtools fastq \"+bamfn+\" -F 4 > \"+fastqfn+\"; \"\n",
    "    command += \"gzip \"+fastqfn+\"; \"\n",
    "    command += \"megahit -r \"+fn+\" -o \"+basefn+\"; \"\n",
    "    command += \"mv \"+basefn+\"/final.contigs.fa \"+basefn+\".fasta; \"\n",
    "    command += \"rm -rf \"+fn+\" \"+bamfn+\" \"+bamfn+\".bai \"+basefn\n",
    "    return(command)\n",
    "    \n",
    "    \n",
    "    \n",
    "    "
   ]
  },
  {
   "cell_type": "code",
   "execution_count": null,
   "metadata": {},
   "outputs": [],
   "source": [
    "command_str = '\\n'.join(list(metadata[\"read1\"].apply(get_command)))\n",
    "with open (\"mito_commands\", \"w\") as f:\n",
    "    f.write(command_str)\n",
    "\n",
    "\n"
   ]
  },
  {
   "cell_type": "markdown",
   "metadata": {},
   "source": [
    "# Compare genomes"
   ]
  },
  {
   "cell_type": "code",
   "execution_count": null,
   "metadata": {},
   "outputs": [],
   "source": [
    "%%bash\n",
    "for x in $(ls CMS*.fasta); do sample=${x/_R1_001.fasta/}; perl -pi -e \"s/^>/>${sample}__/g\" $x; done\n",
    "cat CMS*.fasta > all_mito_contigs.fasta\n",
    "makeblastdb -in all_mito_contigs.fasta -input_type fasta -dbtype nucl -out all_mito\n",
    "run_blast () {\n",
    "  prefix=\"${1%.*}\"\n",
    "  blastn -query $1 -db all_mito -out ${prefix}_blast.txt -outfmt '6 qseqid sseqid evalue qcovs qstart qend sstart send pident qseq sseq' -task dc-megablast\n",
    "}\n",
    "export -f run_blast\n",
    "ls CMS*.fasta | parallel -j 128 run_blast {}\n",
    "mkdir alignments\n",
    "\n",
    "\n"
   ]
  },
  {
   "cell_type": "code",
   "execution_count": 21,
   "metadata": {},
   "outputs": [],
   "source": [
    "blast_colnames = ['qseqid', 'sseqid', 'evalue', 'qcovs', 'qstart', 'qend', 'sstart', 'send', 'pident', 'qseq', 'sseq']"
   ]
  },
  {
   "cell_type": "code",
   "execution_count": 151,
   "metadata": {},
   "outputs": [],
   "source": [
    "blast_filenames = [x for x in os.listdir() if x.endswith(\"blast.txt\")]"
   ]
  },
  {
   "cell_type": "code",
   "execution_count": 152,
   "metadata": {},
   "outputs": [],
   "source": [
    "blast_results = pd.concat([pd.read_csv(x, sep=\"\\t\", header=None, names=blast_colnames) for x in blast_filenames])\n",
    "blast_results = blast_results.assign(qsample=blast_results[\"qseqid\"].str.split(\"__\").apply(lambda x: x[0]),\n",
    "                                     ssample=blast_results[\"sseqid\"].str.split(\"__\").apply(lambda x: x[0]),\n",
    "                                     qlen=(blast_results[\"qend\"]-blast_results[\"qstart\"]))"
   ]
  },
  {
   "cell_type": "code",
   "execution_count": 153,
   "metadata": {},
   "outputs": [],
   "source": [
    "num_unique = blast_results.groupby(\"qseqid\")[\"ssample\"].nunique()"
   ]
  },
  {
   "cell_type": "code",
   "execution_count": 154,
   "metadata": {},
   "outputs": [],
   "source": [
    "filtered_blast_results = blast_results[blast_results[\"qseqid\"].isin(num_unique[num_unique==num_unique.max()].index)].groupby(\"qseqid\", as_index=False).apply(lambda x: x.sort_values(by=\"qlen\").groupby(\"ssample\", as_index=False).first())"
   ]
  },
  {
   "cell_type": "code",
   "execution_count": 155,
   "metadata": {},
   "outputs": [],
   "source": [
    "filtered_blast_metrics = filtered_blast_results.groupby(\"qseqid\").apply(lambda x: pd.DataFrame({\"prop_long\":[(x[\"qlen\"]>=x[\"qlen\"].max()*0.8).sum()], \"mean_qlen\":[x[\"qlen\"].mean()]}))"
   ]
  },
  {
   "cell_type": "code",
   "execution_count": 235,
   "metadata": {},
   "outputs": [],
   "source": [
    "qseqid_subset = filtered_blast_metrics[filtered_blast_metrics[\"mean_qlen\"]>filtered_blast_metrics[\"mean_qlen\"].max()*0.3].reset_index()[\"qseqid\"].tolist()"
   ]
  },
  {
   "cell_type": "code",
   "execution_count": 243,
   "metadata": {},
   "outputs": [],
   "source": [
    "def create_seq_record (blast_row):\n",
    "    sequence = Seq.Seq(blast_row[\"sseq\"].replace(\"-\", \"\"))\n",
    "    id_name = blast_row[\"ssample\"]\n",
    "    if blast_row[\"sstart\"]>blast_row[\"send\"]:\n",
    "        output_seq = SeqRecord.SeqRecord(seq=sequence).reverse_complement(id=id_name, description=\"\")\n",
    "    else:\n",
    "        output_seq = SeqRecord.SeqRecord(seq=sequence, id=id_name, description=\"\")\n",
    "    return (output_seq)\n",
    "\n",
    "def get_best_blast_hit (df, outfn, qlen_threshold=0.8):\n",
    "    selected_blast_results = df[df[\"qlen\"]>df[\"qlen\"].max()*qlen_threshold]\n",
    "    selected_sequences = selected_blast_results.apply(create_seq_record, axis=1).tolist()\n",
    "    SeqIO.write(selected_sequences, outfn, \"fasta\")\n",
    "    return ([selected_blast_results, selected_sequences])\n"
   ]
  },
  {
   "cell_type": "code",
   "execution_count": 244,
   "metadata": {},
   "outputs": [],
   "source": [
    "alignments = {}\n",
    "for qseqid_x in qseqid_subset:\n",
    "    alignments[qseqid_x] = get_best_blast_hit(filtered_blast_results[filtered_blast_results[\"qseqid\"]==qseqid_x],\n",
    "                                              outfn=os.path.join(\"alignments\", qseqid_x+\".fasta\"),\n",
    "                                              qlen_threshold=0.8)\n",
    "    print (qseqid_x+\".fasta written to file\")"
   ]
  },
  {
   "cell_type": "code",
   "execution_count": null,
   "metadata": {},
   "outputs": [],
   "source": [
    "%%bash\n",
    "ls alignments/*.fasta | parallel muscle -in {} -out {.}.aln\n",
    "mkdir trees\n",
    "ls alignments/*.aln | parallel iqtree -nt AUTO -phy {} -pre trees/{/.}"
   ]
  }
 ],
 "metadata": {
  "kernelspec": {
   "display_name": "Python 3",
   "language": "python",
   "name": "python3"
  },
  "language_info": {
   "codemirror_mode": {
    "name": "ipython",
    "version": 3
   },
   "file_extension": ".py",
   "mimetype": "text/x-python",
   "name": "python",
   "nbconvert_exporter": "python",
   "pygments_lexer": "ipython3",
   "version": "3.7.3"
  }
 },
 "nbformat": 4,
 "nbformat_minor": 2
}
