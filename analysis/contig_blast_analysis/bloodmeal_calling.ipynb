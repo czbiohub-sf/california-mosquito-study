{
 "cells": [
  {
   "cell_type": "markdown",
   "metadata": {},
   "source": [
    "# Bloodmeal Calling\n",
    "\n",
    "In this notebook, we analyze contigs from each bloodfed mosquito sample with LCA in *Vertebrata*. The potential bloodmeal call is the lowest taxonomic group consistent with the LCAs of all such contigs in a sample."
   ]
  },
  {
   "cell_type": "code",
   "execution_count": 1,
   "metadata": {},
   "outputs": [],
   "source": [
    "import pandas as pd\n",
    "import numpy as np\n",
    "from ete3 import NCBITaxa\n",
    "import boto3\n",
    "import tempfile\n",
    "import subprocess\n",
    "import os\n",
    "import io\n",
    "import re\n",
    "import time\n",
    "import json\n",
    "ncbi = NCBITaxa()"
   ]
  },
  {
   "cell_type": "code",
   "execution_count": 2,
   "metadata": {},
   "outputs": [],
   "source": [
    "df = pd.read_csv('../../figures/fig3/all_contigs_df.tsv', sep='\\t', \n",
    "                dtype={'taxid': np.int})\n",
    "df = df[df['group'] == 'Metazoa']"
   ]
  },
  {
   "cell_type": "code",
   "execution_count": 3,
   "metadata": {},
   "outputs": [],
   "source": [
    "def taxid2name(taxid):\n",
    "    return ncbi.get_taxid_translator([taxid])[taxid]"
   ]
  },
  {
   "cell_type": "markdown",
   "metadata": {},
   "source": [
    "There is a partial order on taxa: $a < b$ if $a$ is an ancestor of $b$. A taxon $t$ is admissible as a bloodmeal call for a given sample if it is consistent with all *Vertebrata* LCA taxa $b$: $t < b$ or $b < t$ for all $b$. That is, a taxon is admissable if t in lineage(b) or b in lineage(t) for all b.\n",
    "\n",
    "We will report the lowest admissable taxon for each sample."
   ]
  },
  {
   "cell_type": "code",
   "execution_count": 4,
   "metadata": {},
   "outputs": [],
   "source": [
    "def get_lowest_admissable_taxon(taxa):\n",
    "    lineages = [ncbi.get_lineage(taxid) for taxid in taxa]\n",
    "    \n",
    "    if len(lineages) == 0:\n",
    "        return 0\n",
    "    \n",
    "    all_taxa = np.unique([taxid for lineage in lineages for taxid in lineage])\n",
    "    non_leaf_taxa = np.unique([taxid for lineage in lineages for taxid in lineage[:-1]])\n",
    "    leaf_taxa = [taxid for taxid in all_taxa if taxid not in non_leaf_taxa]\n",
    "    \n",
    "    leaf_lineages = [ncbi.get_lineage(taxid) for taxid in leaf_taxa]\n",
    "    leaf_common_ancestors = set.intersection(*[set(l) for l in leaf_lineages])\n",
    "    lca = [taxid for taxid in leaf_lineages[0] if taxid in leaf_common_ancestors][-1]\n",
    "        \n",
    "    return lca"
   ]
  },
  {
   "cell_type": "code",
   "execution_count": 5,
   "metadata": {},
   "outputs": [],
   "source": [
    "def filter_taxon(taxid, exclude = [], # drop these taxa\n",
    "                               exclude_children = [], # drop children of these taxa\n",
    "                               parent=None # only keep children of the parent\n",
    "                ):\n",
    "    if taxid in exclude:\n",
    "        return False\n",
    "    \n",
    "    lineage = ncbi.get_lineage(taxid)\n",
    "    \n",
    "    exclude_children = set(exclude_children)\n",
    "    \n",
    "    if len(set(lineage) & set(exclude_children)) > 0:\n",
    "        return False\n",
    "    \n",
    "    if parent and parent not in lineage:\n",
    "        return False\n",
    "    \n",
    "    return True"
   ]
  },
  {
   "cell_type": "code",
   "execution_count": 6,
   "metadata": {},
   "outputs": [],
   "source": [
    "vertebrate_taxid = 7742\n",
    "primate_taxid = 9443"
   ]
  },
  {
   "cell_type": "code",
   "execution_count": 7,
   "metadata": {},
   "outputs": [],
   "source": [
    "euarchontoglires_taxid = 314146"
   ]
  },
  {
   "cell_type": "code",
   "execution_count": 8,
   "metadata": {},
   "outputs": [],
   "source": [
    "df['filter_taxon'] = df['taxid'].apply(lambda x: filter_taxon(x, \n",
    "                                           exclude = [euarchontoglires_taxid],\n",
    "                                           exclude_children = [primate_taxid],\n",
    "                                           parent = vertebrate_taxid))"
   ]
  },
  {
   "cell_type": "markdown",
   "metadata": {},
   "source": [
    "How many nonprimate vertebrate contigs per sample? 1 to 11."
   ]
  },
  {
   "cell_type": "code",
   "execution_count": 9,
   "metadata": {},
   "outputs": [
    {
     "name": "stdout",
     "output_type": "stream",
     "text": [
      "Pretty printing has been turned OFF\n"
     ]
    },
    {
     "data": {
      "text/plain": [
       "[1, 1, 1, 1, 1, 1, 1, 1, 2, 2, 2, 3, 3, 3, 4, 4, 4, 4, 4, 4, 4, 4, 4, 4, 4, 4, 5, 5, 5, 5, 5, 5, 5, 5, 5, 6, 6, 6, 6, 6, 6, 7, 8, 8, 8, 8, 9, 9, 10, 10, 11]"
      ]
     },
     "execution_count": 9,
     "metadata": {},
     "output_type": "execute_result"
    }
   ],
   "source": [
    "%pprint\n",
    "sorted(df[df['filter_taxon']].groupby('sample').count()['taxid'])"
   ]
  },
  {
   "cell_type": "code",
   "execution_count": 10,
   "metadata": {},
   "outputs": [],
   "source": [
    "lowest_admissable_taxa = []\n",
    "for sample in df['sample'].unique():\n",
    "    taxid = get_lowest_admissable_taxon(df[(df['sample'] == sample) & df['filter_taxon']]['taxid'])\n",
    "    name = taxid2name(taxid) if taxid else \"NA\"\n",
    "    lowest_admissable_taxa.append({'sample': sample, 'name': name, 'taxid': taxid})\n",
    "lowest_admissable_taxa = pd.DataFrame(lowest_admissable_taxa).sort_values('sample')\n",
    "lowest_admissable_taxa = lowest_admissable_taxa[['sample', 'taxid', 'name']]"
   ]
  },
  {
   "cell_type": "code",
   "execution_count": 11,
   "metadata": {},
   "outputs": [
    {
     "data": {
      "text/html": [
       "<div>\n",
       "<style scoped>\n",
       "    .dataframe tbody tr th:only-of-type {\n",
       "        vertical-align: middle;\n",
       "    }\n",
       "\n",
       "    .dataframe tbody tr th {\n",
       "        vertical-align: top;\n",
       "    }\n",
       "\n",
       "    .dataframe thead th {\n",
       "        text-align: right;\n",
       "    }\n",
       "</style>\n",
       "<table border=\"1\" class=\"dataframe\">\n",
       "  <thead>\n",
       "    <tr style=\"text-align: right;\">\n",
       "      <th></th>\n",
       "      <th>sample</th>\n",
       "      <th>taxid</th>\n",
       "      <th>name</th>\n",
       "    </tr>\n",
       "  </thead>\n",
       "  <tbody>\n",
       "    <tr>\n",
       "      <th>39</th>\n",
       "      <td>CMS001_001_Ra_S1</td>\n",
       "      <td>35500</td>\n",
       "      <td>Pecora</td>\n",
       "    </tr>\n",
       "    <tr>\n",
       "      <th>0</th>\n",
       "      <td>CMS001_003_Ra_S2</td>\n",
       "      <td>35500</td>\n",
       "      <td>Pecora</td>\n",
       "    </tr>\n",
       "    <tr>\n",
       "      <th>21</th>\n",
       "      <td>CMS001_004_Ra_S2</td>\n",
       "      <td>379584</td>\n",
       "      <td>Caniformia</td>\n",
       "    </tr>\n",
       "    <tr>\n",
       "      <th>6</th>\n",
       "      <td>CMS001_005_Ra_S3</td>\n",
       "      <td>1437010</td>\n",
       "      <td>Boreoeutheria</td>\n",
       "    </tr>\n",
       "    <tr>\n",
       "      <th>3</th>\n",
       "      <td>CMS001_008_Ra_S3</td>\n",
       "      <td>35500</td>\n",
       "      <td>Pecora</td>\n",
       "    </tr>\n",
       "  </tbody>\n",
       "</table>\n",
       "</div>"
      ],
      "text/plain": [
       "              sample    taxid           name\n",
       "39  CMS001_001_Ra_S1    35500         Pecora\n",
       "0   CMS001_003_Ra_S2    35500         Pecora\n",
       "21  CMS001_004_Ra_S2   379584     Caniformia\n",
       "6   CMS001_005_Ra_S3  1437010  Boreoeutheria\n",
       "3   CMS001_008_Ra_S3    35500         Pecora"
      ]
     },
     "execution_count": 11,
     "metadata": {},
     "output_type": "execute_result"
    }
   ],
   "source": [
    "lowest_admissable_taxa.head()"
   ]
  },
  {
   "cell_type": "code",
   "execution_count": 12,
   "metadata": {},
   "outputs": [],
   "source": [
    "partition = \"Pecora Carnivora Homininae Rodentia Leporidae Aves\".split()\n",
    "partition = ncbi.get_name_translator(partition)\n",
    "partition = {v[0]: k for k, v in partition.items()}\n",
    "\n",
    "def get_category(taxid):\n",
    "    if not taxid:\n",
    "        return None\n",
    "    lineage = ncbi.get_lineage(taxid)\n",
    "    for k in partition:\n",
    "        if k in lineage:\n",
    "            return partition[k]\n",
    "    else:\n",
    "        return 'NA'"
   ]
  },
  {
   "cell_type": "markdown",
   "metadata": {},
   "source": [
    "The ranks of the categories are:"
   ]
  },
  {
   "cell_type": "code",
   "execution_count": 13,
   "metadata": {},
   "outputs": [
    {
     "data": {
      "text/plain": [
       "{207598: 'subfamily', 33554: 'order', 9989: 'order', 9979: 'family', 35500: 'infraorder', 8782: 'class'}"
      ]
     },
     "execution_count": 13,
     "metadata": {},
     "output_type": "execute_result"
    }
   ],
   "source": [
    "ncbi.get_rank(partition.keys())"
   ]
  },
  {
   "cell_type": "code",
   "execution_count": 14,
   "metadata": {},
   "outputs": [],
   "source": [
    "bloodmeal_calls = lowest_admissable_taxa\n",
    "\n",
    "bloodmeal_calls['category'] = bloodmeal_calls['taxid'].apply(get_category)\n",
    "\n",
    "bloodmeal_calls = bloodmeal_calls[bloodmeal_calls['category'] != 'NA']\n",
    "bloodmeal_calls = bloodmeal_calls[bloodmeal_calls['name'] != 'NA']\n",
    "\n",
    "bloodmeal_calls = bloodmeal_calls[['sample', 'category', 'name']]\n",
    "bloodmeal_calls = bloodmeal_calls.sort_values('sample')\n",
    "bloodmeal_calls = bloodmeal_calls.rename(columns={'sample': 'Sample',\n",
    "                                                  'category': 'Bloodmeal Category',\n",
    "                                                  'name': 'Bloodmeal Call'})"
   ]
  },
  {
   "cell_type": "code",
   "execution_count": 15,
   "metadata": {},
   "outputs": [],
   "source": [
    "metadata = pd.read_csv('../../data/metadata/CMS001_CMS002_MergedAnnotations.csv')\n",
    "metadata = metadata[['NewIDseqName', 'Habitat', 'collection_lat', 'collection_long', 'ska_genus', 'ska_species']].rename(\n",
    "    columns = {'NewIDseqName': 'Sample',\n",
    "               'ska_genus': 'Genus',\n",
    "    'ska_species': 'Species',\n",
    "     'collection_lat': 'Lat',\n",
    "     'collection_long': 'Long'})"
   ]
  },
  {
   "cell_type": "code",
   "execution_count": 16,
   "metadata": {},
   "outputs": [
    {
     "data": {
      "text/plain": [
       "0             CMS001_001_Ra_S1\n",
       "1             CMS001_002_Ra_S1\n",
       "2             CMS001_003_Ra_S2\n",
       "3             CMS001_004_Ra_S2\n",
       "4             CMS001_005_Ra_S3\n",
       "                ...           \n",
       "143     CMS002_051a_Rb_S6_L004\n",
       "144     CMS002_053a_Rb_S7_L004\n",
       "145     CMS002_054a_Rb_S8_L004\n",
       "146     CMS002_056a_Rb_S9_L004\n",
       "147    CMS002_057a_Rb_S10_L004\n",
       "Name: Sample, Length: 148, dtype: object"
      ]
     },
     "execution_count": 16,
     "metadata": {},
     "output_type": "execute_result"
    }
   ],
   "source": [
    "metadata['Sample']"
   ]
  },
  {
   "cell_type": "code",
   "execution_count": 19,
   "metadata": {},
   "outputs": [],
   "source": [
    "bloodmeal_calls = bloodmeal_calls.merge(metadata, on='Sample', how='left')"
   ]
  },
  {
   "cell_type": "code",
   "execution_count": 18,
   "metadata": {},
   "outputs": [],
   "source": [
    "bloodmeal_calls.to_csv(\n",
    "    '../../figures/fig4/bloodmeal_calls.csv', index=False)"
   ]
  }
 ],
 "metadata": {
  "kernelspec": {
   "display_name": "flash",
   "language": "python",
   "name": "flash"
  },
  "language_info": {
   "codemirror_mode": {
    "name": "ipython",
    "version": 3
   },
   "file_extension": ".py",
   "mimetype": "text/x-python",
   "name": "python",
   "nbconvert_exporter": "python",
   "pygments_lexer": "ipython3",
   "version": "3.5.3"
  }
 },
 "nbformat": 4,
 "nbformat_minor": 2
}
