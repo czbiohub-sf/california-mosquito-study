{
 "cells": [
  {
   "cell_type": "code",
   "execution_count": 1,
   "metadata": {},
   "outputs": [],
   "source": [
    "import pandas as pd\n",
    "import numpy as np\n",
    "from ete3 import NCBITaxa\n",
    "import boto3\n",
    "import tempfile\n",
    "import subprocess\n",
    "import os\n",
    "import io\n",
    "import re\n",
    "import time\n",
    "import json\n",
    "ncbi = NCBITaxa()"
   ]
  },
  {
   "cell_type": "code",
   "execution_count": 2,
   "metadata": {},
   "outputs": [],
   "source": [
    "df = pd.read_csv('../../figures/fig3/all_contigs_df.tsv', sep='\\t', \n",
    "                dtype={'taxid': np.int})\n",
    "df = df[df['group'] == 'Metazoa']\n",
    "df = df[['sample', 'sci_name', 'read_prop', 'taxid']]"
   ]
  },
  {
   "cell_type": "code",
   "execution_count": 3,
   "metadata": {},
   "outputs": [],
   "source": [
    "def taxid2name(taxid):\n",
    "    return ncbi.get_taxid_translator([taxid])[taxid]"
   ]
  },
  {
   "cell_type": "markdown",
   "metadata": {},
   "source": [
    "There is a partial order on taxa: a < b if a is an ancestor of b. For a sample with one true bloodmeal, we would like to report a taxon t such that it is related to every other taxon, ie, t < b or b < t for all t reported.\n",
    "\n",
    "put another way, a taxon is admissable if t in lineage(b) or b in lineage(t) for all b."
   ]
  },
  {
   "cell_type": "code",
   "execution_count": 4,
   "metadata": {},
   "outputs": [],
   "source": [
    "def get_least_admissable_taxon(taxa,\n",
    "                               exclude = [], # drop these taxa\n",
    "                               exclude_children = [], # drop children of these taxa\n",
    "                               parent=None, # only keep children of the parent\n",
    "                               antiparent=None # only keep taxa not in lineage of parent\n",
    "                              ):\n",
    "    if antiparent:\n",
    "        exclude.extend(ncbi.get_lineage(antiparent))\n",
    "    exclude = set(exclude)\n",
    "    exclude_children = set(exclude_children)\n",
    "    \n",
    "    taxa = [taxid for taxid in taxa if taxid not in exclude]\n",
    "    \n",
    "    lineages = [ncbi.get_lineage(taxid) for taxid in taxa]\n",
    "    \n",
    "    lineages = [lineage for lineage in lineages if len(set(lineage) & exclude_children) == 0]\n",
    "\n",
    "    if parent:\n",
    "        lineages = [lineage for lineage in lineages if parent in lineage]\n",
    "        if len(lineages) == 0:\n",
    "            return 0\n",
    "        \n",
    "    if antiparent:\n",
    "        lineages = [lineage for lineage in lineages if antiparent not in lineage]\n",
    "        if len(lineages) == 0:\n",
    "            return 0\n",
    "        \n",
    "    all_taxa = np.unique([taxid for lineage in lineages for taxid in lineage])\n",
    "    non_leaf_taxa = np.unique([taxid for lineage in lineages for taxid in lineage[:-1]])\n",
    "    leaf_taxa = [taxid for taxid in all_taxa if taxid not in non_leaf_taxa]\n",
    "    \n",
    "    leaf_lineages = [ncbi.get_lineage(taxid) for taxid in leaf_taxa]\n",
    "    leaf_common_ancestors = set.intersection(*[set(l) for l in leaf_lineages])\n",
    "    lca = [taxid for taxid in leaf_lineages[0] if taxid in leaf_common_ancestors][-1]\n",
    "        \n",
    "    return lca"
   ]
  },
  {
   "cell_type": "code",
   "execution_count": 5,
   "metadata": {},
   "outputs": [],
   "source": [
    "vertebrate_taxid = 7742\n",
    "primate_taxid = 9443"
   ]
  },
  {
   "cell_type": "code",
   "execution_count": 6,
   "metadata": {},
   "outputs": [],
   "source": [
    "euarchontoglires_taxid = 314146"
   ]
  },
  {
   "cell_type": "code",
   "execution_count": 7,
   "metadata": {},
   "outputs": [],
   "source": [
    "least_admissable_taxa = []\n",
    "for sample in df['sample'].unique():\n",
    "    taxid = get_least_admissable_taxon(df[df['sample'] == sample]['taxid'],\n",
    "                                      exclude = [euarchontoglires_taxid],\n",
    "                                      exclude_children = [primate_taxid],\n",
    "                                      parent = vertebrate_taxid)\n",
    "    name = taxid2name(taxid) if taxid else \"NA\"\n",
    "    least_admissable_taxa.append({'sample': sample, 'name': name, 'taxid': taxid})\n",
    "least_admissable_taxa = pd.DataFrame(least_admissable_taxa).sort_values('sample')\n",
    "least_admissable_taxa = least_admissable_taxa[['sample', 'taxid', 'name']]"
   ]
  },
  {
   "cell_type": "code",
   "execution_count": 8,
   "metadata": {},
   "outputs": [
    {
     "data": {
      "text/html": [
       "<div>\n",
       "<style scoped>\n",
       "    .dataframe tbody tr th:only-of-type {\n",
       "        vertical-align: middle;\n",
       "    }\n",
       "\n",
       "    .dataframe tbody tr th {\n",
       "        vertical-align: top;\n",
       "    }\n",
       "\n",
       "    .dataframe thead th {\n",
       "        text-align: right;\n",
       "    }\n",
       "</style>\n",
       "<table border=\"1\" class=\"dataframe\">\n",
       "  <thead>\n",
       "    <tr style=\"text-align: right;\">\n",
       "      <th></th>\n",
       "      <th>sample</th>\n",
       "      <th>taxid</th>\n",
       "      <th>name</th>\n",
       "    </tr>\n",
       "  </thead>\n",
       "  <tbody>\n",
       "    <tr>\n",
       "      <th>39</th>\n",
       "      <td>CMS001_001_Ra_S1</td>\n",
       "      <td>35500</td>\n",
       "      <td>Pecora</td>\n",
       "    </tr>\n",
       "    <tr>\n",
       "      <th>0</th>\n",
       "      <td>CMS001_003_Ra_S2</td>\n",
       "      <td>35500</td>\n",
       "      <td>Pecora</td>\n",
       "    </tr>\n",
       "    <tr>\n",
       "      <th>21</th>\n",
       "      <td>CMS001_004_Ra_S2</td>\n",
       "      <td>379584</td>\n",
       "      <td>Caniformia</td>\n",
       "    </tr>\n",
       "    <tr>\n",
       "      <th>6</th>\n",
       "      <td>CMS001_005_Ra_S3</td>\n",
       "      <td>1437010</td>\n",
       "      <td>Boreoeutheria</td>\n",
       "    </tr>\n",
       "    <tr>\n",
       "      <th>3</th>\n",
       "      <td>CMS001_008_Ra_S3</td>\n",
       "      <td>35500</td>\n",
       "      <td>Pecora</td>\n",
       "    </tr>\n",
       "  </tbody>\n",
       "</table>\n",
       "</div>"
      ],
      "text/plain": [
       "              sample    taxid           name\n",
       "39  CMS001_001_Ra_S1    35500         Pecora\n",
       "0   CMS001_003_Ra_S2    35500         Pecora\n",
       "21  CMS001_004_Ra_S2   379584     Caniformia\n",
       "6   CMS001_005_Ra_S3  1437010  Boreoeutheria\n",
       "3   CMS001_008_Ra_S3    35500         Pecora"
      ]
     },
     "execution_count": 8,
     "metadata": {},
     "output_type": "execute_result"
    }
   ],
   "source": [
    "least_admissable_taxa.head()"
   ]
  },
  {
   "cell_type": "code",
   "execution_count": 9,
   "metadata": {},
   "outputs": [],
   "source": [
    "partition = \"Pecora Carnivora Homininae Rodentia Leporidae Aves\".split()\n",
    "partition = ncbi.get_name_translator(partition)\n",
    "partition = {v[0]: k for k, v in partition.items()}\n",
    "\n",
    "def get_category(taxid):\n",
    "    if not taxid:\n",
    "        return None\n",
    "    lineage = ncbi.get_lineage(taxid)\n",
    "    for k in partition:\n",
    "        if k in lineage:\n",
    "            return partition[k]\n",
    "    else:\n",
    "        return 'NA'"
   ]
  },
  {
   "cell_type": "code",
   "execution_count": 10,
   "metadata": {},
   "outputs": [
    {
     "data": {
      "text/plain": [
       "{8782: 'class',\n",
       " 9979: 'family',\n",
       " 9989: 'order',\n",
       " 33554: 'order',\n",
       " 35500: 'infraorder',\n",
       " 207598: 'subfamily'}"
      ]
     },
     "execution_count": 10,
     "metadata": {},
     "output_type": "execute_result"
    }
   ],
   "source": [
    "ncbi.get_rank(partition.keys())"
   ]
  },
  {
   "cell_type": "code",
   "execution_count": 11,
   "metadata": {},
   "outputs": [],
   "source": [
    "vertebrate_calls = least_admissable_taxa"
   ]
  },
  {
   "cell_type": "code",
   "execution_count": 12,
   "metadata": {},
   "outputs": [],
   "source": [
    "vertebrate_calls['category'] = vertebrate_calls['taxid'].apply(get_category)\n",
    "\n",
    "vertebrate_calls = vertebrate_calls[vertebrate_calls['category'] != 'NA']\n",
    "vertebrate_calls = vertebrate_calls[['sample', 'category', 'name']]\n",
    "vertebrate_calls = vertebrate_calls.sort_values('sample')\n",
    "\n",
    "vertebrate_calls.to_csv(\n",
    "    '../../figures/fig4/vertebrate_lat.csv', index=False)"
   ]
  },
  {
   "cell_type": "code",
   "execution_count": 13,
   "metadata": {},
   "outputs": [
    {
     "data": {
      "text/html": [
       "<div>\n",
       "<style scoped>\n",
       "    .dataframe tbody tr th:only-of-type {\n",
       "        vertical-align: middle;\n",
       "    }\n",
       "\n",
       "    .dataframe tbody tr th {\n",
       "        vertical-align: top;\n",
       "    }\n",
       "\n",
       "    .dataframe thead th {\n",
       "        text-align: right;\n",
       "    }\n",
       "</style>\n",
       "<table border=\"1\" class=\"dataframe\">\n",
       "  <thead>\n",
       "    <tr style=\"text-align: right;\">\n",
       "      <th></th>\n",
       "      <th>sample</th>\n",
       "      <th>category</th>\n",
       "      <th>name</th>\n",
       "    </tr>\n",
       "  </thead>\n",
       "  <tbody>\n",
       "    <tr>\n",
       "      <th>39</th>\n",
       "      <td>CMS001_001_Ra_S1</td>\n",
       "      <td>Pecora</td>\n",
       "      <td>Pecora</td>\n",
       "    </tr>\n",
       "    <tr>\n",
       "      <th>0</th>\n",
       "      <td>CMS001_003_Ra_S2</td>\n",
       "      <td>Pecora</td>\n",
       "      <td>Pecora</td>\n",
       "    </tr>\n",
       "    <tr>\n",
       "      <th>21</th>\n",
       "      <td>CMS001_004_Ra_S2</td>\n",
       "      <td>Carnivora</td>\n",
       "      <td>Caniformia</td>\n",
       "    </tr>\n",
       "    <tr>\n",
       "      <th>3</th>\n",
       "      <td>CMS001_008_Ra_S3</td>\n",
       "      <td>Pecora</td>\n",
       "      <td>Pecora</td>\n",
       "    </tr>\n",
       "    <tr>\n",
       "      <th>1</th>\n",
       "      <td>CMS001_009_Ra_S13</td>\n",
       "      <td>Pecora</td>\n",
       "      <td>Pecora</td>\n",
       "    </tr>\n",
       "  </tbody>\n",
       "</table>\n",
       "</div>"
      ],
      "text/plain": [
       "               sample   category        name\n",
       "39   CMS001_001_Ra_S1     Pecora      Pecora\n",
       "0    CMS001_003_Ra_S2     Pecora      Pecora\n",
       "21   CMS001_004_Ra_S2  Carnivora  Caniformia\n",
       "3    CMS001_008_Ra_S3     Pecora      Pecora\n",
       "1   CMS001_009_Ra_S13     Pecora      Pecora"
      ]
     },
     "execution_count": 13,
     "metadata": {},
     "output_type": "execute_result"
    }
   ],
   "source": [
    "vertebrate_calls[['sample', 'category', 'name']].head()"
   ]
  },
  {
   "cell_type": "code",
   "execution_count": 14,
   "metadata": {},
   "outputs": [],
   "source": [
    "least_admissable_taxa = []\n",
    "for sample in df['sample'].unique():\n",
    "    taxid = get_least_admissable_taxon(df[df['sample'] == sample]['taxid'],\n",
    "                                      antiparent = vertebrate_taxid)\n",
    "    name = taxid2name(taxid) if taxid else \"NA\"\n",
    "    least_admissable_taxa.append({'sample': sample, 'name': name, 'taxid': taxid})\n",
    "least_admissable_taxa = pd.DataFrame(least_admissable_taxa).sort_values('sample')\n",
    "least_admissable_taxa[['sample', 'taxid', 'name']].to_csv(\n",
    "    '../../figures/fig4/non_vertebrate_lat.csv', index=False)"
   ]
  }
 ],
 "metadata": {
  "kernelspec": {
   "display_name": "flash",
   "language": "python",
   "name": "flash"
  },
  "language_info": {
   "codemirror_mode": {
    "name": "ipython",
    "version": 3
   },
   "file_extension": ".py",
   "mimetype": "text/x-python",
   "name": "python",
   "nbconvert_exporter": "python",
   "pygments_lexer": "ipython3",
   "version": "3.5.3"
  }
 },
 "nbformat": 4,
 "nbformat_minor": 2
}
