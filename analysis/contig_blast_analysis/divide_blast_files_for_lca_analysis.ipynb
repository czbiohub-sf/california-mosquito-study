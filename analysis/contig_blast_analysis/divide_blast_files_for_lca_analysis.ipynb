{
 "cells": [
  {
   "cell_type": "code",
   "execution_count": 1,
   "metadata": {},
   "outputs": [],
   "source": [
    "import boto3\n",
    "import pandas as pd\n",
    "from ete3 import NCBITaxa\n",
    "import subprocess\n",
    "import itertools\n",
    "import os\n",
    "import s3fs\n",
    "import numpy as np\n",
    "import pdb\n",
    "import matplotlib.pyplot as plt\n",
    "from sqlalchemy import create_engine\n",
    "from lca_functions import *"
   ]
  },
  {
   "cell_type": "code",
   "execution_count": 2,
   "metadata": {},
   "outputs": [],
   "source": [
    "def get_line_count (folder_name):\n",
    "    system_return = str(subprocess.check_output([\"wc -l \"+folder_name+\"/*\"], shell=True)).split(\"\\\\n\")[:-3]\n",
    "    outdf = pd.DataFrame([row.split(\" \")[-2:] for row in system_return], columns=[\"line_count\", \"filename\"])\n",
    "    outdf[\"line_count\"] = outdf[\"line_count\"].astype(\"int\")\n",
    "    return (outdf)\n",
    "\n",
    "line_counts = [get_line_count(x) for x in os.listdir() if x.startswith(\"CMS00\") and not x.endswith(\".m9\")]"
   ]
  },
  {
   "cell_type": "code",
   "execution_count": 30,
   "metadata": {},
   "outputs": [],
   "source": [
    "def get_splits (line_count_df):\n",
    "    target_chunk_size = line_count_df[\"line_count\"].max()*2\n",
    "    df = line_count_df.sort_values(by=\"line_count\")\n",
    "    groups = []\n",
    "    curr_group = []\n",
    "    nrows = 0\n",
    "    for i in range(len(df)):\n",
    "        curr_group += [df[\"filename\"].iloc[i]]\n",
    "        nrows += df[\"line_count\"].iloc[i]\n",
    "        if nrows >= target_chunk_size:\n",
    "            groups.append(curr_group)\n",
    "            curr_group = []\n",
    "            nrows = 0\n",
    "    for i, x in enumerate(groups):\n",
    "        os.system(\"mkdir -p output/\"+os.path.dirname(x[0]))\n",
    "        os.system(\"cat \"+' '.join(x)+\" > output/\"+os.path.dirname(x[0])+\"/blast_nr_\"+str(i)+\".m9\")"
   ]
  },
  {
   "cell_type": "code",
   "execution_count": 31,
   "metadata": {},
   "outputs": [
    {
     "data": {
      "text/plain": [
       "[None, None, None, None, None]"
      ]
     },
     "execution_count": 31,
     "metadata": {},
     "output_type": "execute_result"
    }
   ],
   "source": [
    "[get_splits(x) for x in line_counts]"
   ]
  },
  {
   "cell_type": "code",
   "execution_count": 47,
   "metadata": {},
   "outputs": [],
   "source": [
    "def get_lca_analysis_command (fn, blast_type=\"nr\", read_count_path=None):\n",
    "    prefix = '_'.join(os.path.basename(fn).split(\"_\")[:-2])\n",
    "    filtered_blast_path = fn.replace(prefix, \"filtered_blast\")\n",
    "    exclude_contigs_path = fn.replace(prefix, \"exclude_contigs\")\n",
    "    lca_path = fn.replace(prefix, \"lca\")\n",
    "    dirname = os.path.basename(os.path.dirname(fn))\n",
    "    if read_count_path is None:\n",
    "        read_count_path = \"s3://czbiohub-mosquito/contigs/\"+dirname+\"/contig_stats.json\"\n",
    "    return (\"python lca_analysis.py --blast_type \"+blast_type+\" --fpath \"+fn+\\\n",
    "    \" --filtered_blast_path \"+filtered_blast_path+\\\n",
    "    \" --excluded_contigs_path \"+exclude_contigs_path+\\\n",
    "    \" --outpath \"+lca_path+\\\n",
    "    \" --read_count_path \"+read_count_path+\\\n",
    "    \" --verbose True\")"
   ]
  },
  {
   "cell_type": "code",
   "execution_count": 44,
   "metadata": {},
   "outputs": [],
   "source": [
    "with open (\"temp_blast_nr_commands\", \"w\") as handle:\n",
    "    for r, d, f in os.walk(\"output\"):\n",
    "        for file in f:\n",
    "            if file.startswith(\"blast_nr_\"):\n",
    "                handle.write(\"%s\\n\" % get_lca_analysis_command (os.path.join(r, file), \"nr\"))"
   ]
  },
  {
   "cell_type": "code",
   "execution_count": 48,
   "metadata": {},
   "outputs": [],
   "source": [
    "with open (\"temp_blast_nt_commands\", \"w\") as handle:\n",
    "    for r, d, f in os.walk(\"archive/new_blast_nt_files\"):\n",
    "        for file in f:\n",
    "            if file.startswith(\"new_blast_nt_\"):\n",
    "                handle.write(\"%s\\n\" % get_lca_analysis_command (os.path.join(r, file), \"nt\", \"s3://czbiohub-mosquito/contig_quality_concat/contig_stats_all.tsv\"))"
   ]
  },
  {
   "cell_type": "code",
   "execution_count": null,
   "metadata": {},
   "outputs": [],
   "source": []
  }
 ],
 "metadata": {
  "kernelspec": {
   "display_name": "Python 3",
   "language": "python",
   "name": "python3"
  },
  "language_info": {
   "codemirror_mode": {
    "name": "ipython",
    "version": 3
   },
   "file_extension": ".py",
   "mimetype": "text/x-python",
   "name": "python",
   "nbconvert_exporter": "python",
   "pygments_lexer": "ipython3",
   "version": "3.7.3"
  }
 },
 "nbformat": 4,
 "nbformat_minor": 2
}
