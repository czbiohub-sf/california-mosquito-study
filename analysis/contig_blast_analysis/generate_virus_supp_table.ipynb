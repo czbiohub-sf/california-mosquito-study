{
 "cells": [
  {
   "cell_type": "code",
   "execution_count": 1,
   "metadata": {
    "collapsed": true
   },
   "outputs": [],
   "source": [
    "import pandas as pd\n",
    "import json\n",
    "import numpy as np"
   ]
  },
  {
   "cell_type": "code",
   "execution_count": 2,
   "metadata": {},
   "outputs": [],
   "source": [
    "# Information about Baltimore classification of virus family groups\n",
    "viral_family_groups = pd.read_csv(\"../../data/virus_family_groups.csv\", header=0)\n",
    "viral_family_groups = viral_family_groups.loc[:, ~viral_family_groups.columns.str.startswith('Unnamed')]\n",
    "# Convert virus json into data frame\n",
    "with open (\"../../data/darkmatter/virus.json\", \"r\") as f:\n",
    "    viral_json = pd.DataFrame(json.load(f)).T\n",
    "    viral_json['poly_group'] = viral_json.index.astype(np.int64)\n",
    "    viral_json = viral_json.rename(columns={'samples': \"full_samples\"})"
   ]
  },
  {
   "cell_type": "code",
   "execution_count": 3,
   "metadata": {},
   "outputs": [],
   "source": [
    "viral_json = viral_json.merge(viral_family_groups, on=\"family\", how=\"left\")\n",
    "viral_json.loc[viral_json[\"family\"]==\"Chuviridae\", \"baltimore_group\"] = \"V\""
   ]
  },
  {
   "cell_type": "code",
   "execution_count": 4,
   "metadata": {},
   "outputs": [],
   "source": [
    "viral_reads = pd.read_csv('../../data/s3/contig_quality_concat/viral_decontam.tsv', sep='\\t')\n",
    "poly_group_frequency = viral_reads[['poly_group', 'sample']].groupby('poly_group').count().reset_index()"
   ]
  },
  {
   "cell_type": "code",
   "execution_count": 5,
   "metadata": {},
   "outputs": [],
   "source": [
    "poly_group_samples = viral_reads[['poly_group', 'sample']].groupby('poly_group')['sample'].apply(list)"
   ]
  },
  {
   "cell_type": "code",
   "execution_count": 6,
   "metadata": {},
   "outputs": [],
   "source": [
    "viral_json = viral_json.merge(poly_group_frequency, on=\"poly_group\", how=\"left\").rename(columns = {'sample': 'n_samples'})\n",
    "viral_json = viral_json.merge(poly_group_samples, on=\"poly_group\", how=\"left\").rename(columns = {'sample': 'samples'})"
   ]
  },
  {
   "cell_type": "code",
   "execution_count": 7,
   "metadata": {},
   "outputs": [],
   "source": [
    "viral_json['n_segments'] = viral_json['segments'].apply(lambda x: len(x))"
   ]
  },
  {
   "cell_type": "code",
   "execution_count": 8,
   "metadata": {},
   "outputs": [],
   "source": [
    "viral_json['sci_name'] = viral_json.apply(lambda x: x['name'] if x['name'] != 'TBD' else x['provisional_name'], \n",
    "                                              axis = 1)"
   ]
  },
  {
   "cell_type": "code",
   "execution_count": 9,
   "metadata": {},
   "outputs": [],
   "source": [
    "viral_json[['novel']] = (viral_json[['name']] == 'TBD')"
   ]
  },
  {
   "cell_type": "code",
   "execution_count": 10,
   "metadata": {},
   "outputs": [],
   "source": [
    "viral_json[['sci_name', \n",
    "            'novel',\n",
    "            'baltimore_group',\n",
    "            'genome_description',\n",
    "            'number_of_segments_conventional',\n",
    "            'n_segments',\n",
    "            'family',\n",
    "            'submission_taxid',\n",
    "            'n_samples',\n",
    "            'samples'\n",
    "           ]].to_csv('../../data/virus_supp_table.csv', index = False)"
   ]
  }
 ],
 "metadata": {
  "kernelspec": {
   "display_name": "Python 3",
   "language": "python",
   "name": "python3"
  },
  "language_info": {
   "codemirror_mode": {
    "name": "ipython",
    "version": 3
   },
   "file_extension": ".py",
   "mimetype": "text/x-python",
   "name": "python",
   "nbconvert_exporter": "python",
   "pygments_lexer": "ipython3",
   "version": "3.5.3"
  }
 },
 "nbformat": 4,
 "nbformat_minor": 2
}
