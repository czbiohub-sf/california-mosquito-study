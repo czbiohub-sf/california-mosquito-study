{
 "cells": [
  {
   "cell_type": "code",
   "execution_count": 1,
   "metadata": {},
   "outputs": [],
   "source": [
    "import pandas as pd\n",
    "from ete3 import NCBITaxa\n",
    "import os\n",
    "import math\n",
    "import re\n",
    "import numpy as np\n",
    "from Bio import Entrez\n",
    "import time\n",
    "import json"
   ]
  },
  {
   "cell_type": "markdown",
   "metadata": {},
   "source": [
    "Run on an AWS EC2 instance.\n",
    "\n",
    "cd /mnt/data"
   ]
  },
  {
   "cell_type": "code",
   "execution_count": null,
   "metadata": {},
   "outputs": [],
   "source": [
    "os.system(\"aws s3 ls s3://czbiohub-mosquito/contigs/ --recursive | \"+\n",
    "          \"grep '.blast.' | grep -v 'ater' | awk 'NF>1{print $NF}' | \"+\n",
    "          \"parallel aws s3 cp s3://czbiohub-mosquito/{} {}\")"
   ]
  },
  {
   "cell_type": "code",
   "execution_count": null,
   "metadata": {},
   "outputs": [],
   "source": [
    "os.system(\"mkdir contig_lineages\")"
   ]
  },
  {
   "cell_type": "code",
   "execution_count": null,
   "metadata": {},
   "outputs": [],
   "source": [
    "ncbi = NCBITaxa()\n",
    "#ncbi.update_taxonomy_database()"
   ]
  },
  {
   "cell_type": "code",
   "execution_count": null,
   "metadata": {},
   "outputs": [],
   "source": [
    "Entrez.email = \"lucy.li@czbiohub.org\""
   ]
  },
  {
   "cell_type": "code",
   "execution_count": 2,
   "metadata": {},
   "outputs": [],
   "source": [
    "blast_col_names = [\"qseqid\", \"sseqid\", \"pident\", \"length\", \"mismatch\", \"gapopen\", \n",
    "                   \"qstart\", \"qend\", \"sstart\", \"send\", \"evalue\", \"bitscore\"]"
   ]
  },
  {
   "cell_type": "code",
   "execution_count": null,
   "metadata": {},
   "outputs": [],
   "source": [
    "blast_results = []\n",
    "for path, subdirs, files in os.walk(\"contigs\"):\n",
    "    for name in files:\n",
    "        fn = os.path.join(path, name)\n",
    "        tb = pd.read_table(fn, header=None, names=blast_col_names)\n",
    "        tb = tb.assign(blast_type=name.split('.')[0], sample=os.path.basename(path))\n",
    "        blast_results.append(tb)\n",
    "blast_results_df = pd.concat(blast_results)"
   ]
  },
  {
   "cell_type": "code",
   "execution_count": null,
   "metadata": {},
   "outputs": [],
   "source": [
    "blast_topresults_df = blast_results_df.groupby(['sample', 'blast_type', 'qseqid']).first()"
   ]
  },
  {
   "cell_type": "code",
   "execution_count": null,
   "metadata": {},
   "outputs": [],
   "source": [
    "accessions = blast_topresults_df.sseqid.unique()"
   ]
  },
  {
   "cell_type": "code",
   "execution_count": null,
   "metadata": {},
   "outputs": [],
   "source": [
    "def get_taxid (x):\n",
    "    search_result = Entrez.parse(Entrez.esummary(db=\"nucleotide\", id=x))\n",
    "    taxid = str(list(search_result)[0]['TaxId'])\n",
    "    return (taxid)"
   ]
  },
  {
   "cell_type": "code",
   "execution_count": null,
   "metadata": {},
   "outputs": [],
   "source": [
    "acc_to_lineage = {}"
   ]
  },
  {
   "cell_type": "code",
   "execution_count": null,
   "metadata": {},
   "outputs": [],
   "source": [
    "for x in accessions:\n",
    "    if (x in acc_to_lineage):\n",
    "        continue\n",
    "    for i in range(5):\n",
    "        try:\n",
    "            taxid = get_taxid(x)\n",
    "        except:\n",
    "            time.sleep(20)\n",
    "        else:\n",
    "            break\n",
    "    acc_to_lineage[x] = ncbi.get_lineage(taxid)\n"
   ]
  },
  {
   "cell_type": "code",
   "execution_count": null,
   "metadata": {},
   "outputs": [],
   "source": [
    "with open('acc_to_lineage.json', 'w') as file:\n",
    "    json.dump(acc_to_lineage, file)"
   ]
  },
  {
   "cell_type": "code",
   "execution_count": null,
   "metadata": {},
   "outputs": [],
   "source": [
    "# accessions_file = open(\"contig_lineages/accessions.txt\", \"w\")\n",
    "# for x in accessions:\n",
    "#     accessions_file.write(x+\"\\n\")\n",
    "\n",
    "# accessions_file.close()\n",
    "# os.system(\"cat contig_lineages/accessions.txt | parallel -j 1 python get_lineage_acc.py {}\")"
   ]
  }
 ],
 "metadata": {
  "kernelspec": {
   "display_name": "Python 3",
   "language": "python",
   "name": "python3"
  },
  "language_info": {
   "codemirror_mode": {
    "name": "ipython",
    "version": 3
   },
   "file_extension": ".py",
   "mimetype": "text/x-python",
   "name": "python",
   "nbconvert_exporter": "python",
   "pygments_lexer": "ipython3",
   "version": "3.6.5"
  }
 },
 "nbformat": 4,
 "nbformat_minor": 2
}
