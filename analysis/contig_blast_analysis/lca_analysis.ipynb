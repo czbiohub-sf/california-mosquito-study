{
 "cells": [
  {
   "cell_type": "code",
   "execution_count": 1,
   "metadata": {},
   "outputs": [],
   "source": [
    "import boto3\n",
    "import pandas as pd\n",
    "from ete3 import NCBITaxa"
   ]
  },
  {
   "cell_type": "code",
   "execution_count": 3,
   "metadata": {},
   "outputs": [],
   "source": [
    "s3 = boto3.resource('s3')\n",
    "client = boto3.client('s3')\n",
    "bucket = s3.Bucket(\"czbiohub-mosquito\")"
   ]
  },
  {
   "cell_type": "code",
   "execution_count": 45,
   "metadata": {},
   "outputs": [],
   "source": [
    "bucket_name = \"czbiohub-mosquito\"\n",
    "list_of_folders = client.list_objects(Bucket=bucket_name, Prefix=\"contigs/\")\n",
    "filenames = pd.DataFrame([\"s3://\"+bucket_name+\"/\"+x[\"Key\"] for x in list_of_folders[\"Contents\"] if \"blast_nt\" in x[\"Key\"]], columns=[\"blast_nt\"])\n",
    "filenames = filenames.assign(filtered_blast_nt=filenames[\"blast_nt\"].apply(lambda x: x.replace(\"contigs\", \"contig_quality\").replace(\".m9\", \"_filtered.m9\")))\n",
    "filenames = filenames.assign(lca_nt=filenames[\"filtered_blast_nt\"].apply(lambda x: x.replace(\"blast_nt_filtered.m9\", \"lca_nt.m9\")))\n"
   ]
  },
  {
   "cell_type": "markdown",
   "metadata": {},
   "source": [
    "The nt hits of contigs from each sample are filtered with ident_cutoff=0.5 and align_len_cutoff=0.2"
   ]
  },
  {
   "cell_type": "code",
   "execution_count": 97,
   "metadata": {},
   "outputs": [],
   "source": [
    "commands = filenames.apply(lambda x: \"python lca_analysis.py --blast_type nt --fpath \"+x.iloc[0]+\\\n",
    "                \" --filtered_blast_path \"+x.iloc[1]+\" --outpath \"+x.iloc[2]+\\\n",
    "                \" --ident_cutoff 0.5 --align_len_cutoff 0.5\", axis=1)\n"
   ]
  },
  {
   "cell_type": "code",
   "execution_count": 102,
   "metadata": {},
   "outputs": [],
   "source": [
    "commands.to_csv(\"lca_analysis_commands\", index=False)"
   ]
  },
  {
   "cell_type": "code",
   "execution_count": null,
   "metadata": {},
   "outputs": [],
   "source": [
    "%%bash\n",
    "parallel -a lca_analysis_commands -j 16\n",
    "\n"
   ]
  },
  {
   "cell_type": "code",
   "execution_count": null,
   "metadata": {},
   "outputs": [],
   "source": []
  }
 ],
 "metadata": {
  "kernelspec": {
   "display_name": "Python 3",
   "language": "python",
   "name": "python3"
  },
  "language_info": {
   "codemirror_mode": {
    "name": "ipython",
    "version": 3
   },
   "file_extension": ".py",
   "mimetype": "text/x-python",
   "name": "python",
   "nbconvert_exporter": "python",
   "pygments_lexer": "ipython3",
   "version": "3.6.5"
  }
 },
 "nbformat": 4,
 "nbformat_minor": 2
}
