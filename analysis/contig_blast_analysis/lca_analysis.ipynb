{
 "cells": [
  {
   "cell_type": "code",
   "execution_count": 31,
   "metadata": {},
   "outputs": [],
   "source": [
    "import boto3\n",
    "import pandas as pd\n",
    "from ete3 import NCBITaxa\n",
    "import subprocess"
   ]
  },
  {
   "cell_type": "code",
   "execution_count": 13,
   "metadata": {},
   "outputs": [],
   "source": [
    "s3 = boto3.resource('s3')\n",
    "client = boto3.client('s3')\n",
    "bucket_name = \"czbiohub-mosquito\"\n",
    "bucket = s3.Bucket(bucket_name)"
   ]
  },
  {
   "cell_type": "markdown",
   "metadata": {},
   "source": [
    "### functions"
   ]
  },
  {
   "cell_type": "code",
   "execution_count": 50,
   "metadata": {},
   "outputs": [],
   "source": [
    "def run_lca_analysis (input_file_name, output_dir, ident_cutoff, align_cutoff, bitscore_cutoff, \\\n",
    "                      blast_type, default=False, ncores=8):\n",
    "    # First list the folders (there is a limit of 1000 files output by AWS by default)\n",
    "    list_of_folders = [client.list_objects(Bucket=bucket_name, Prefix=x[\"Prefix\"]+input_file_name) \\\n",
    "                       for x in client.list_objects(Bucket=bucket_name, Prefix=\"contigs/\", Delimiter=\"/\")[\"CommonPrefixes\"]]\n",
    "    list_of_folders = [\"s3://\"+bucket_name+\"/\"+x[\"Prefix\"] for x in list_of_folders if \"Contents\" in x.keys()]\n",
    "    filenames = pd.DataFrame(list_of_folders, columns=[\"blast_\"+blast_type])\n",
    "    output_string = output_dir\n",
    "    if not default:\n",
    "        output_string += \"/ident\"+str(ident_cutoff)+\"align\"+str(align_cutoff)+\"bitscore\"+str(bitscore_cutoff)\n",
    "    filenames = filenames.assign(filtered_blast=filenames[\"blast_\"+blast_type].str.replace(\"contigs\", output_string).str.replace(\".m9\", \"_filtered.m9\"))\n",
    "    filenames = filenames.assign(lca=filenames[\"filtered_blast\"].str.replace(\"blast_\"+blast_type, \"lca_\"+blast_type))\n",
    "    commands = filenames.apply(lambda x: \"python lca_analysis.py \"+\\\n",
    "                               \"--blast_type \"+blast_type+\\\n",
    "                               \" --fpath \"+x.iloc[0]+\\\n",
    "                               \" --filtered_blast_path \"+x.iloc[1]+\\\n",
    "                               \" --outpath \"+x.iloc[2]+\\\n",
    "                               \" --ident_cutoff \"+str(ident_cutoff)+\\\n",
    "                               \" --align_len_cutoff \"+str(align_cutoff)+\\\n",
    "                               \" --bitscore_cutoff \"+str(bitscore_cutoff), axis=1)\n",
    "    commands.to_csv(\"lca_\"+blast_type+\"_commands\", index=False)\n",
    "    command_str = \"parallel -a lca_\"+blast_type+\"_commands -j \"+str(ncores)\n",
    "    process = subprocess.Popen(command_str.split(), stdout=subprocess.PIPE)\n",
    "    output, error = process.communicate()\n",
    "    return (output, error)\n"
   ]
  },
  {
   "cell_type": "code",
   "execution_count": 99,
   "metadata": {},
   "outputs": [],
   "source": [
    "combinations = pd.concat([\n",
    "    expand_grid({\n",
    "        \"ident_cutoff\":[x*0.1 for x in range(0, 10)], \\\n",
    "        \"align_cutoff\":[x*0.1 for x in range(0, 10)], \\\n",
    "        \"bitscore_cutoff\":[0]\n",
    "    }),\n",
    "    expand_grid({\"ident_cutoff\":[0], \"align_cutoff\":[0], \"bitscore_cutoff\":[x*0.1 for x in range(0, 10)]})\n",
    "], axis=0, ignore_index=True)\n"
   ]
  },
  {
   "cell_type": "markdown",
   "metadata": {},
   "source": [
    "### nt hits\n",
    "The nt hits of contigs from each sample are filtered with ident_cutoff=0.9 and align_len_cutoff=0.9"
   ]
  },
  {
   "cell_type": "code",
   "execution_count": 51,
   "metadata": {},
   "outputs": [
    {
     "data": {
      "text/plain": [
       "(b'', None)"
      ]
     },
     "execution_count": 51,
     "metadata": {},
     "output_type": "execute_result"
    }
   ],
   "source": [
    "run_lca_analysis(input_file_name=\"blast_nt.m9\", output_dir=\"contig_quality\", \\\n",
    "                 ident_cutoff=0.9, align_cutoff=0.9, bitscore_cutoff=0, \\\n",
    "                 blast_type=\"nt\", default=True, ncores=8)"
   ]
  },
  {
   "cell_type": "markdown",
   "metadata": {},
   "source": [
    "Sensitivity analysis using different combinations of cutoffs"
   ]
  },
  {
   "cell_type": "code",
   "execution_count": null,
   "metadata": {},
   "outputs": [],
   "source": [
    "combinations.apply(lambda x: \\\n",
    "                   run_lca_analysis(input_file_name=\"blast_nt.m9\", output_dir=\"contig_quality_sensitivity\", \\\n",
    "                                    ident_cutoff=x[\"ident_cutoff\"], align_cutoff=x[\"align_cutoff\"], \\\n",
    "                                    bitscore_cutoff=x[\"bitscore_cutoff\"], \\\n",
    "                                    blast_type=\"nt\", default=False, ncores=8), \\\n",
    "                   axis=0)"
   ]
  },
  {
   "cell_type": "markdown",
   "metadata": {},
   "source": [
    "### nr hits\n",
    "The nr hits of contigs from each sample are filtered with ident_cutoff=0.9 and align_len_cutoff=0.9"
   ]
  },
  {
   "cell_type": "code",
   "execution_count": 52,
   "metadata": {},
   "outputs": [
    {
     "data": {
      "text/plain": [
       "(b'', None)"
      ]
     },
     "execution_count": 52,
     "metadata": {},
     "output_type": "execute_result"
    }
   ],
   "source": [
    "run_lca_analysis(input_file_name=\"blast_subset_nr.m9\", output_dir=\"contig_quality_sensitivity\", \\\n",
    "                 ident_cutoff=0.9, align_cutoff=0.9, bitscore_cutoff=0, \\\n",
    "                 blast_type=\"nr\", default=True, ncores=8)"
   ]
  },
  {
   "cell_type": "code",
   "execution_count": null,
   "metadata": {},
   "outputs": [],
   "source": [
    "combinations.apply(lambda x: \\\n",
    "                   run_lca_analysis(input_file_name=\"blast_subset_nr.m9\", output_dir=\"contig_quality_sensitivity\", \\\n",
    "                                    ident_cutoff=x[\"ident_cutoff\"], align_cutoff=x[\"align_cutoff\"], \\\n",
    "                                    bitscore_cutoff=x[\"bitscore_cutoff\"], \\\n",
    "                                    blast_type=\"nr\", default=False, ncores=8), \\\n",
    "                   axis=0)"
   ]
  }
 ],
 "metadata": {
  "kernelspec": {
   "display_name": "Python 3",
   "language": "python",
   "name": "python3"
  },
  "language_info": {
   "codemirror_mode": {
    "name": "ipython",
    "version": 3
   },
   "file_extension": ".py",
   "mimetype": "text/x-python",
   "name": "python",
   "nbconvert_exporter": "python",
   "pygments_lexer": "ipython3",
   "version": "3.6.5"
  }
 },
 "nbformat": 4,
 "nbformat_minor": 2
}
