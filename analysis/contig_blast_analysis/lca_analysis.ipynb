{
 "cells": [
  {
   "cell_type": "code",
   "execution_count": 1,
   "metadata": {},
   "outputs": [],
   "source": [
    "import boto3\n",
    "import pandas as pd\n",
    "from ete3 import NCBITaxa\n",
    "import subprocess\n",
    "import itertools\n",
    "import os\n",
    "import s3fs\n",
    "import numpy as np\n",
    "import matplotlib.pyplot as plt\n",
    "from sqlalchemy import create_engine\n",
    "from lca_functions import *"
   ]
  },
  {
   "cell_type": "code",
   "execution_count": 2,
   "metadata": {},
   "outputs": [],
   "source": [
    "s3 = boto3.resource('s3')\n",
    "client = boto3.client('s3')\n",
    "bucket_name = \"czbiohub-mosquito\"\n",
    "bucket = s3.Bucket(bucket_name)\n",
    "contig_folders = [x[\"Prefix\"] for x in client.list_objects(Bucket=bucket_name, Prefix=\"contigs/\", Delimiter=\"/\")[\"CommonPrefixes\"]]\n",
    "contig_quality_folders = [x[\"Prefix\"] for x in client.list_objects(Bucket=bucket_name, Prefix=\"contig_quality/\", Delimiter=\"/\")[\"CommonPrefixes\"] if \"Mos\" not in x[\"Prefix\"]]\n",
    "\n",
    "ncores = os.cpu_count()\n",
    "\n"
   ]
  },
  {
   "cell_type": "code",
   "execution_count": 3,
   "metadata": {},
   "outputs": [],
   "source": [
    "ncbi = NCBITaxa()\n",
    "# ncbi.update_taxonomy_database()"
   ]
  },
  {
   "cell_type": "markdown",
   "metadata": {},
   "source": [
    "### functions"
   ]
  },
  {
   "cell_type": "code",
   "execution_count": 4,
   "metadata": {},
   "outputs": [],
   "source": [
    "def run_lca_analysis (input_file_name, output_dir, bucket_name, ident_cutoff, align_cutoff, bitscore_cutoff, \\\n",
    "                      blast_type, default=False, ncores=8):\n",
    "    # First list the folders (there is a limit of 1000 files output by AWS by default)\n",
    "    list_of_folders = [client.list_objects(Bucket=bucket_name, Prefix=x[\"Prefix\"]+input_file_name) \\\n",
    "                       for x in client.list_objects(Bucket=bucket_name, Prefix=\"contigs/\", Delimiter=\"/\")[\"CommonPrefixes\"]]\n",
    "    list_of_folders = [\"s3://\"+bucket_name+\"/\"+x[\"Prefix\"] for x in list_of_folders if \"Contents\" in x.keys()]\n",
    "    filenames = pd.DataFrame(list_of_folders, columns=[\"blast_\"+blast_type])\n",
    "    output_string = output_dir\n",
    "    if not default:\n",
    "        output_string += \"/ident\"+str(ident_cutoff)+\"align\"+str(align_cutoff)+\"bitscore\"+str(bitscore_cutoff)\n",
    "    filenames = filenames.assign(filtered_blast=filenames[\"blast_\"+blast_type].str.replace(\"contigs\", output_string).str.replace(\".m9\", \"_filtered.m9\"))\n",
    "    filenames = filenames.assign(excluded_contigs=filenames[\"filtered_blast\"].apply(os.path.dirname).apply(lambda x: os.path.join(x, \"exclude_contigs_\"+blast_type+\".txt\")))\n",
    "    filenames = filenames.assign(lca=filenames[\"filtered_blast\"].str.replace(\"blast_\"+blast_type, \"lca_\"+blast_type).str.replace(\"_filtered\", \"\"))\n",
    "    filenames = filenames.assign(reads=filenames[\"lca\"].str.replace(\"lca_\"+blast_type+\".m9\", \"MosRefOnly/bowtie_csp_counts_1000.txt\"))\n",
    "    #filenames.loc[~filenames[\"reads\"].str.contains(\"ater\"), \"reads\"] = filenames.loc[~filenames[\"reads\"].str.contains(\"ater\"), \"reads\"].str.replace(\"bowtie\", \"Mos/bowtie\")\n",
    "    commands = filenames.apply(lambda x: \"python lca_analysis.py\"+\\\n",
    "                               \" --blast_type \"+blast_type+\\\n",
    "                               \" --fpath \"+x.iloc[0]+\\\n",
    "                               \" --filtered_blast_path \"+x.iloc[1]+\\\n",
    "                               \" --excluded_contigs_path \"+x.iloc[2]+\\\n",
    "                               \" --outpath \"+x.iloc[3]+\\\n",
    "                               \" --read_count_path \"+x.iloc[4]+\\\n",
    "                               \" --ident_cutoff \"+str(ident_cutoff)+\\\n",
    "                               \" --align_len_cutoff \"+str(align_cutoff)+\\\n",
    "                               \" --bitscore_cutoff \"+str(bitscore_cutoff)+\\\n",
    "                               \" --verbose True\", axis=1)\n",
    "    print (commands)\n",
    "    commands_csv_filename = \"lca_\"+blast_type+\"_commands\"\n",
    "    if not default:\n",
    "        commands_csv_filename += \"_ident\"+str(ident_cutoff)+\"align\"+str(align_cutoff)+\"bitscore\"+str(bitscore_cutoff)\n",
    "    commands.to_csv(commands_csv_filename, index=False)\n",
    "    if (len(filenames) < ncores):\n",
    "        ncores = len(filenames)\n",
    "    command_str = \"parallel -a \"+commands_csv_filename+\" -j \"+str(ncores)\n",
    "    print (command_str)\n",
    "#     process = subprocess.Popen(command_str.split(), stdout=subprocess.PIPE)\n",
    "#     output, error = process.communicate()\n",
    "#     return (output, error)\n"
   ]
  },
  {
   "cell_type": "code",
   "execution_count": 5,
   "metadata": {},
   "outputs": [],
   "source": [
    "def combine_blast_lca (lca_file_name, blast_file_name, outfile, sample_name, blast_type, output_file_name=None):\n",
    "    lca_data = pd.read_csv(lca_file_name, sep=\"\\t\", header=0)\n",
    "    blast_data = pd.read_csv(blast_file_name, sep=\"\\t\", header=0)\n",
    "    blast_data_grouped = blast_data.groupby([\"query\"], as_index=False).\\\n",
    "    apply(lambda x: x[x[\"bitscore\"]==max(x[\"bitscore\"])].head(n=1))\n",
    "    blast_data_grouped = blast_data_grouped[['query', 'identity', 'align_length', 'mismatches', 'gaps',\n",
    "                                             'qstart', 'qend', 'sstart', 'send', 'bitscore']]\n",
    "#     agg({'identity':[\"max\"], 'align_length':[\"max\"], 'mismatches':[\"max\"], 'gaps':[\"max\"],\n",
    "#          'qstart':[\"min\"], 'qend':[\"max\"], 'sstart':[\"min\"], 'send':[\"max\"],\n",
    "#          'bitscore':[\"max\"]})\n",
    "    blast_data_grouped.columns = blast_data_grouped.columns.get_level_values(0)\n",
    "    grouped_df = pd.merge(blast_data_grouped, lca_data, how=\"left\", on=\"query\")\n",
    "    grouped_df.insert(1, \"blast_type\", value=blast_type)\n",
    "    grouped_df.insert(2, \"sample\", value=sample_name)\n",
    "    df_to_s3(grouped_df, outfile)\n",
    "    outfile"
   ]
  },
  {
   "cell_type": "code",
   "execution_count": 6,
   "metadata": {},
   "outputs": [],
   "source": [
    "##\n",
    "## Produce a dataframe from every combination of values\n",
    "## From: https://pandas.pydata.org/pandas-docs/stable/user_guide/cookbook.html\n",
    "##\n",
    "def expand_grid(data_dict):\n",
    "    rows = itertools.product(*data_dict.values())\n",
    "    return pd.DataFrame.from_records(rows, columns=data_dict.keys())"
   ]
  },
  {
   "cell_type": "code",
   "execution_count": 7,
   "metadata": {},
   "outputs": [],
   "source": [
    "combinations = pd.concat([\n",
    "    expand_grid({\n",
    "        \"ident_cutoff\":[x*0.1 for x in range(0, 10)], \\\n",
    "        \"align_cutoff\":[x*0.1 for x in range(0, 10)], \\\n",
    "        \"bitscore_cutoff\":[0]\n",
    "    }),\n",
    "    expand_grid({\"ident_cutoff\":[0], \"align_cutoff\":[0], \"bitscore_cutoff\":[x*0.1 for x in range(0, 10)]})\n",
    "], axis=0, ignore_index=True)\n"
   ]
  },
  {
   "cell_type": "markdown",
   "metadata": {},
   "source": [
    "### nt hits\n",
    "The nt hits of contigs from each sample are filtered with ident_cutoff=0.9 and align_len_cutoff=0.9"
   ]
  },
  {
   "cell_type": "code",
   "execution_count": 8,
   "metadata": {},
   "outputs": [
    {
     "name": "stdout",
     "output_type": "stream",
     "text": [
      "0      python lca_analysis.py --blast_type nt --fpath...\n",
      "1      python lca_analysis.py --blast_type nt --fpath...\n",
      "2      python lca_analysis.py --blast_type nt --fpath...\n",
      "3      python lca_analysis.py --blast_type nt --fpath...\n",
      "4      python lca_analysis.py --blast_type nt --fpath...\n",
      "                             ...                        \n",
      "150    python lca_analysis.py --blast_type nt --fpath...\n",
      "151    python lca_analysis.py --blast_type nt --fpath...\n",
      "152    python lca_analysis.py --blast_type nt --fpath...\n",
      "153    python lca_analysis.py --blast_type nt --fpath...\n",
      "154    python lca_analysis.py --blast_type nt --fpath...\n",
      "Length: 155, dtype: object\n",
      "parallel -a lca_nt_commands -j 128\n"
     ]
    },
    {
     "name": "stderr",
     "output_type": "stream",
     "text": [
      "/home/lucy/anaconda3/envs/skeeters/lib/python3.7/site-packages/ipykernel_launcher.py:30: FutureWarning: The signature of `Series.to_csv` was aligned to that of `DataFrame.to_csv`, and argument 'header' will change its default value from False to True: please pass an explicit value to suppress this warning.\n"
     ]
    }
   ],
   "source": [
    "run_lca_analysis(input_file_name=\"blast_nt.m9\", output_dir=\"contig_quality\", \\\n",
    "                 bucket_name=bucket_name,\\\n",
    "                 ident_cutoff=0.9, align_cutoff=0.9, bitscore_cutoff=0, \\\n",
    "                 blast_type=\"nt\", default=True, ncores=ncores)"
   ]
  },
  {
   "cell_type": "markdown",
   "metadata": {},
   "source": [
    "Sensitivity analysis using different combinations of cutoffs"
   ]
  },
  {
   "cell_type": "code",
   "execution_count": 8,
   "metadata": {},
   "outputs": [],
   "source": [
    "lca_nt_paths = [\"s3://\"+bucket_name+\"/\"+x[\"Prefix\"]+\"lca_nt.m9\" \\\n",
    " for x in client.list_objects(Bucket=bucket_name, Prefix=\"contig_quality/\", Delimiter=\"/\")[\"CommonPrefixes\"] if \"Mos\" not in x[\"Prefix\"]]\n",
    "blast_nt_paths = [x.replace(\"lca_nt\", \"blast_nt_filtered\") for x in lca_nt_paths]\n"
   ]
  },
  {
   "cell_type": "code",
   "execution_count": 22,
   "metadata": {},
   "outputs": [],
   "source": [
    "i=34\n",
    "sample_name = os.path.basename(os.path.dirname(lca_nt_paths[i]))\n",
    "outfile = lca_nt_paths[i].replace(\"lca_nt\", \"blast_lca_nt_filtered\")\n",
    "combine_blast_lca (lca_nt_paths[i], blast_nt_paths[i], outfile, sample_name, \"nt\")"
   ]
  },
  {
   "cell_type": "code",
   "execution_count": 9,
   "metadata": {},
   "outputs": [
    {
     "name": "stdout",
     "output_type": "stream",
     "text": [
      "error: CMS001_Water5_RNA_A_S12\n",
      "error: CMS001_water1_S11\n",
      "error: CMS001_water5_RNA_A_S12\n",
      "error: CMS002_016a_Rb_S121_L004\n",
      "error: CMS002_025d_Rb_S143_L004\n",
      "error: CMS002_025f_Rb_S145_L004\n",
      "error: CMS002_0Water8_Rb_S11_L004\n"
     ]
    }
   ],
   "source": [
    "for i in range(len(lca_nt_paths)):\n",
    "    sample_name = os.path.basename(os.path.dirname(lca_nt_paths[i]))\n",
    "    outfile = lca_nt_paths[i].replace(\"lca_nt\", \"blast_lca_nt_filtered\")\n",
    "    try:\n",
    "        combine_blast_lca (lca_nt_paths[i], blast_nt_paths[i], outfile, sample_name, \"nt\")\n",
    "    except:\n",
    "        print (\"error: \"+sample_name)\n",
    "\n"
   ]
  },
  {
   "cell_type": "code",
   "execution_count": null,
   "metadata": {},
   "outputs": [],
   "source": [
    "combinations.apply(lambda x: \\\n",
    "                   run_lca_analysis(input_file_name=\"blast_nt.m9\", output_dir=\"contig_quality_sensitivity\", \\\n",
    "                                    ident_cutoff=x[\"ident_cutoff\"], align_cutoff=x[\"align_cutoff\"], \\\n",
    "                                    bitscore_cutoff=x[\"bitscore_cutoff\"], \\\n",
    "                                    blast_type=\"nt\", default=False, ncores=ncores), \\\n",
    "                   axis=1)"
   ]
  },
  {
   "cell_type": "markdown",
   "metadata": {},
   "source": [
    "### nr hits\n",
    "The nr hits of contigs from each sample are filtered with ident_cutoff=0.9 and align_len_cutoff=0.9"
   ]
  },
  {
   "cell_type": "code",
   "execution_count": null,
   "metadata": {},
   "outputs": [],
   "source": [
    "%%bash\n",
    "aws s3 ls s3://czbiohub-mosquito/plast/ | grep '.m8' | awk 'NF>1{print $NF}' | parallel -j 72 python create_blast_nr.py --fpath s3://czbiohub-mosquito/plast/{}\n",
    "aws s3 ls s3://lucymli/skeeters/blast_nr/ | grep 'CMS00' | awk 'NF>1{print $NF}' | parallel aws s3 sync s3://lucymli/skeeters/blast_nr/{} blast_nr_output/{}\n",
    "head -n 1 $(find blast_nr_output -type f -name '*.m8' | head -n 1) > header_line \n",
    "for x in `ls blast_nr_output`; do \n",
    "    mkdir -p blast_nr_output_full/$x\n",
    "    head -n 1 $(find blast_nr_output -type f -name '*.m8' | head -n 1) > blast_nr_output_full/$x/blast_nr.m9\n",
    "    ls -d $(find blast_nr_output/$x -type f) | xargs -0 -I file cat file > blast_nr_output_full/$x/blast_nr.m9\n",
    "done\n",
    "ls blast_nr_output_full | parallel aws s3 cp blast_nr_output_full/{}/blast_nr.m9 s3://czbiohub-mosquito/contigs/{}/blast_nr.m9\n"
   ]
  },
  {
   "cell_type": "code",
   "execution_count": 15,
   "metadata": {},
   "outputs": [
    {
     "name": "stdout",
     "output_type": "stream",
     "text": [
      "0      python lca_analysis.py --blast_type nr --fpath...\n",
      "1      python lca_analysis.py --blast_type nr --fpath...\n",
      "2      python lca_analysis.py --blast_type nr --fpath...\n",
      "3      python lca_analysis.py --blast_type nr --fpath...\n",
      "4      python lca_analysis.py --blast_type nr --fpath...\n",
      "                             ...                        \n",
      "150    python lca_analysis.py --blast_type nr --fpath...\n",
      "151    python lca_analysis.py --blast_type nr --fpath...\n",
      "152    python lca_analysis.py --blast_type nr --fpath...\n",
      "153    python lca_analysis.py --blast_type nr --fpath...\n",
      "154    python lca_analysis.py --blast_type nr --fpath...\n",
      "Length: 155, dtype: object\n",
      "parallel -a lca_nr_commands -j 128\n"
     ]
    },
    {
     "name": "stderr",
     "output_type": "stream",
     "text": [
      "/home/lucy/anaconda3/envs/skeeters/lib/python3.7/site-packages/ipykernel_launcher.py:30: FutureWarning: The signature of `Series.to_csv` was aligned to that of `DataFrame.to_csv`, and argument 'header' will change its default value from False to True: please pass an explicit value to suppress this warning.\n"
     ]
    }
   ],
   "source": [
    "run_lca_analysis(input_file_name=\"blast_nr.m9\", output_dir=\"contig_quality\", \\\n",
    "                 bucket_name=bucket_name,\\\n",
    "                 ident_cutoff=0.9, align_cutoff=0.9, bitscore_cutoff=0, \\\n",
    "                 blast_type=\"nr\", default=True, ncores=ncores)"
   ]
  },
  {
   "cell_type": "code",
   "execution_count": 23,
   "metadata": {},
   "outputs": [],
   "source": [
    "lca_nr_paths = [\"s3://\"+bucket_name+\"/\"+x[\"Prefix\"]+\"lca_nr.m9\" \\\n",
    " for x in client.list_objects(Bucket=bucket_name, Prefix=\"contig_quality/\", Delimiter=\"/\")[\"CommonPrefixes\"] if \"Mos\" not in x[\"Prefix\"]]\n",
    "blast_nr_paths = [x.replace(\"lca_nr\", \"blast_nr_filtered\") for x in lca_nr_paths]\n"
   ]
  },
  {
   "cell_type": "code",
   "execution_count": 25,
   "metadata": {},
   "outputs": [],
   "source": [
    "i=34\n",
    "sample_name = os.path.basename(os.path.dirname(lca_nr_paths[i]))\n",
    "outfile = lca_nr_paths[i].replace(\"lca_nr\", \"blast_lca_nr_filtered\")\n",
    "combine_blast_lca (lca_nr_paths[i], blast_nr_paths[i], outfile, sample_name, \"nr\")"
   ]
  },
  {
   "cell_type": "code",
   "execution_count": null,
   "metadata": {},
   "outputs": [],
   "source": [
    "for i in range(len(lca_nr_paths)):\n",
    "    sample_name = os.path.basename(os.path.dirname(lca_nr_paths[i]))\n",
    "    outfile = lca_nr_paths[i].replace(\"lca_nr\", \"blast_lca_nr_filtered\")\n",
    "    try:\n",
    "        combine_blast_lca (lca_nr_paths[i], blast_nr_paths[i], outfile, sample_name, \"nr\")\n",
    "    except:\n",
    "        print (\"error: \"+sample_name)\n",
    "\n"
   ]
  },
  {
   "cell_type": "markdown",
   "metadata": {},
   "source": [
    "### subset nr hits (NO NEED TO RUN NOW THAT NR RESULTS FROM PLAST ARE AVAILABLE)\n",
    "The subset nr hits of contigs from each sample are filtered with ident_cutoff=0.9 and align_len_cutoff=0.9"
   ]
  },
  {
   "cell_type": "code",
   "execution_count": null,
   "metadata": {},
   "outputs": [],
   "source": [
    "run_lca_analysis(input_file_name=\"blast_subset_nr.m9\", output_dir=\"contig_quality\", \\\n",
    "                 bucket_name=bucket_name,\\\n",
    "                 ident_cutoff=0.9, align_cutoff=0.9, bitscore_cutoff=0, \\\n",
    "                 blast_type=\"nr\", default=True, ncores=ncores)"
   ]
  },
  {
   "cell_type": "code",
   "execution_count": null,
   "metadata": {},
   "outputs": [],
   "source": [
    "combinations.apply(lambda x: \\\n",
    "                   run_lca_analysis(input_file_name=\"blast_subset_nr.m9\", output_dir=\"contig_quality_sensitivity\", \\\n",
    "                                    ident_cutoff=x[\"ident_cutoff\"], align_cutoff=x[\"align_cutoff\"], \\\n",
    "                                    bitscore_cutoff=x[\"bitscore_cutoff\"], \\\n",
    "                                    blast_type=\"nr\", default=False, ncores=ncores), \\\n",
    "                   axis=1)"
   ]
  },
  {
   "cell_type": "markdown",
   "metadata": {},
   "source": [
    "## play"
   ]
  },
  {
   "cell_type": "code",
   "execution_count": null,
   "metadata": {},
   "outputs": [],
   "source": [
    "contig_file = pd.read_csv(\"s3://czbiohub-mosquito/contigs/CMS001_003_Ra_S2/blast_nt.m9\", header=None, sep=\"\\t\", comment=\"#\")\n",
    "blast_lca_file = pd.read_csv(\"s3://czbiohub-mosquito/contig_quality/CMS001_003_Ra_S2/blast_lca_nt_filtered.m9\", header=0, sep=\"\\t\", comment=\"#\")\n",
    "\n",
    "\n",
    "\n",
    "\n"
   ]
  },
  {
   "cell_type": "code",
   "execution_count": null,
   "metadata": {},
   "outputs": [],
   "source": [
    "[contig_file[contig_file[0]==x][12].isin(ncbi.get_descendant_taxa(\"7157\")).any()\\\n",
    " for x in blast_lca_file[blast_lca_file[\"taxid\"]==33213][\"query\"]]\n",
    "\n",
    "\n",
    "\n"
   ]
  },
  {
   "cell_type": "code",
   "execution_count": null,
   "metadata": {},
   "outputs": [],
   "source": [
    "blast_lca_file[blast_lca_file[\"taxid\"]==33213].iloc[6,:]"
   ]
  },
  {
   "cell_type": "code",
   "execution_count": null,
   "metadata": {},
   "outputs": [],
   "source": [
    "contig_file[contig_file[0]==\"NODE_5053_length_360_cov_0.664311\"]"
   ]
  },
  {
   "cell_type": "code",
   "execution_count": null,
   "metadata": {},
   "outputs": [],
   "source": [
    "df = contig_file\n",
    "db=\"nucleotide\"\n",
    "return_taxid_only=True\n",
    "ident_cutoff=0.9\n",
    "align_len_cutoff=0.9\n",
    "bitscore_cutoff=0\n",
    "\n"
   ]
  },
  {
   "cell_type": "code",
   "execution_count": null,
   "metadata": {},
   "outputs": [],
   "source": [
    "df[0].value_counts().head(5)"
   ]
  },
  {
   "cell_type": "code",
   "execution_count": null,
   "metadata": {},
   "outputs": [],
   "source": [
    "int(contig_file[0][0].split(\"_\")[3])"
   ]
  },
  {
   "cell_type": "code",
   "execution_count": null,
   "metadata": {},
   "outputs": [],
   "source": [
    "blast_nr = pd.read_csv(\"s3://czbiohub-mosquito/contigs/CMS001_026_Ra_S18/blast_nr.m9\", header=None, sep=\"\\t\", comment=\"#\")\n",
    "blast_nt = pd.read_csv(\"s3://czbiohub-mosquito/contigs/CMS001_026_Ra_S18/blast_nt.m9\", header=None, sep=\"\\t\", comment=\"#\")\n",
    "read_counts = pd.read_csv(\"s3://czbiohub-mosquito/contig_quality/CMS001_026_Ra_S18/bowtie_csp_counts_1000.txt\", header=None, sep=\"\\t\", comment=\"#\")\n",
    "#blast_lca_file = pd.read_csv(\"s3://czbiohub-mosquito/contig_quality/CMS001_026_Ra_S18/blast_lca_nr_filtered.m9\", header=0, sep=\"\\t\", comment=\"#\")\n",
    "\n",
    "\n",
    "\n",
    "\n"
   ]
  },
  {
   "cell_type": "code",
   "execution_count": null,
   "metadata": {},
   "outputs": [],
   "source": [
    "read_counts.head(2)"
   ]
  },
  {
   "cell_type": "code",
   "execution_count": 9,
   "metadata": {},
   "outputs": [],
   "source": [
    "unique_acc = [x.split(\"|\")[-2] for x in blast_nr[1].unique()]"
   ]
  },
  {
   "cell_type": "code",
   "execution_count": 24,
   "metadata": {},
   "outputs": [],
   "source": [
    "taxids = [x[\"TaxId\"] for x in list(Entrez.parse(Entrez.esummary(db=\"protein\", id=','.join(unique_acc[:400]), retmode=\"xml\")))]\n",
    "\n",
    "\n"
   ]
  },
  {
   "cell_type": "code",
   "execution_count": 28,
   "metadata": {},
   "outputs": [
    {
     "data": {
      "text/plain": [
       "[True,\n",
       " False,\n",
       " True,\n",
       " False,\n",
       " False,\n",
       " False,\n",
       " False,\n",
       " False,\n",
       " False,\n",
       " False,\n",
       " False,\n",
       " False,\n",
       " True,\n",
       " True,\n",
       " True,\n",
       " False,\n",
       " False,\n",
       " False,\n",
       " False,\n",
       " False,\n",
       " False,\n",
       " False,\n",
       " False,\n",
       " False,\n",
       " False,\n",
       " False,\n",
       " True,\n",
       " False,\n",
       " False,\n",
       " False,\n",
       " False,\n",
       " False,\n",
       " False,\n",
       " False,\n",
       " False,\n",
       " False,\n",
       " False,\n",
       " False,\n",
       " False,\n",
       " False,\n",
       " False,\n",
       " False,\n",
       " True,\n",
       " False,\n",
       " False,\n",
       " False,\n",
       " False,\n",
       " False,\n",
       " False,\n",
       " False,\n",
       " False,\n",
       " False,\n",
       " False,\n",
       " True,\n",
       " False,\n",
       " False,\n",
       " False,\n",
       " False,\n",
       " False,\n",
       " False,\n",
       " False,\n",
       " False,\n",
       " False,\n",
       " False,\n",
       " False,\n",
       " False,\n",
       " False,\n",
       " False,\n",
       " False,\n",
       " False,\n",
       " False,\n",
       " False,\n",
       " True,\n",
       " False,\n",
       " True,\n",
       " False,\n",
       " True,\n",
       " False,\n",
       " False,\n",
       " False,\n",
       " False,\n",
       " False,\n",
       " False,\n",
       " False,\n",
       " True,\n",
       " False,\n",
       " False,\n",
       " True,\n",
       " False,\n",
       " False,\n",
       " False,\n",
       " True,\n",
       " False,\n",
       " False,\n",
       " False,\n",
       " True,\n",
       " False,\n",
       " False,\n",
       " False,\n",
       " False,\n",
       " False,\n",
       " False,\n",
       " False,\n",
       " False,\n",
       " False,\n",
       " False,\n",
       " False,\n",
       " False,\n",
       " False,\n",
       " False,\n",
       " False,\n",
       " False,\n",
       " False,\n",
       " False,\n",
       " True,\n",
       " False,\n",
       " False,\n",
       " False,\n",
       " False,\n",
       " False,\n",
       " False,\n",
       " False,\n",
       " False,\n",
       " False,\n",
       " False,\n",
       " False,\n",
       " False,\n",
       " False,\n",
       " False,\n",
       " False,\n",
       " False,\n",
       " False,\n",
       " False,\n",
       " False,\n",
       " False,\n",
       " False,\n",
       " False,\n",
       " False,\n",
       " False,\n",
       " False,\n",
       " False,\n",
       " False,\n",
       " False,\n",
       " False,\n",
       " True,\n",
       " False,\n",
       " False,\n",
       " False,\n",
       " False,\n",
       " False,\n",
       " False,\n",
       " False,\n",
       " False,\n",
       " False,\n",
       " False,\n",
       " True,\n",
       " False,\n",
       " False,\n",
       " False,\n",
       " False,\n",
       " False,\n",
       " False,\n",
       " False,\n",
       " False,\n",
       " True,\n",
       " False,\n",
       " False,\n",
       " False,\n",
       " False,\n",
       " False,\n",
       " False,\n",
       " False,\n",
       " False,\n",
       " False,\n",
       " False,\n",
       " False,\n",
       " False,\n",
       " False,\n",
       " False,\n",
       " False,\n",
       " False,\n",
       " False,\n",
       " False,\n",
       " False,\n",
       " False,\n",
       " False,\n",
       " False,\n",
       " False,\n",
       " True,\n",
       " False,\n",
       " False,\n",
       " False,\n",
       " False,\n",
       " False,\n",
       " True,\n",
       " False,\n",
       " False,\n",
       " False,\n",
       " False,\n",
       " False,\n",
       " False,\n",
       " False,\n",
       " False,\n",
       " False,\n",
       " False,\n",
       " False,\n",
       " False,\n",
       " False,\n",
       " False,\n",
       " False,\n",
       " False,\n",
       " False,\n",
       " False,\n",
       " False,\n",
       " False,\n",
       " False,\n",
       " False,\n",
       " False,\n",
       " False,\n",
       " False,\n",
       " False,\n",
       " False,\n",
       " False,\n",
       " True,\n",
       " False,\n",
       " False,\n",
       " True,\n",
       " False,\n",
       " False,\n",
       " False,\n",
       " False,\n",
       " False,\n",
       " False,\n",
       " False,\n",
       " False,\n",
       " True,\n",
       " True,\n",
       " True,\n",
       " True,\n",
       " True,\n",
       " False,\n",
       " False,\n",
       " False,\n",
       " True,\n",
       " False,\n",
       " False,\n",
       " False,\n",
       " False,\n",
       " False,\n",
       " False,\n",
       " False,\n",
       " False,\n",
       " True,\n",
       " False,\n",
       " False,\n",
       " False,\n",
       " False,\n",
       " False,\n",
       " False,\n",
       " False,\n",
       " False,\n",
       " False,\n",
       " False,\n",
       " False,\n",
       " False,\n",
       " False,\n",
       " False,\n",
       " False,\n",
       " False,\n",
       " True,\n",
       " True,\n",
       " False,\n",
       " False,\n",
       " True,\n",
       " False,\n",
       " True,\n",
       " False,\n",
       " False,\n",
       " False,\n",
       " False,\n",
       " False,\n",
       " False,\n",
       " False,\n",
       " False,\n",
       " False,\n",
       " True,\n",
       " True,\n",
       " False,\n",
       " True,\n",
       " False,\n",
       " False,\n",
       " False,\n",
       " False,\n",
       " False,\n",
       " False,\n",
       " False,\n",
       " False,\n",
       " False,\n",
       " True,\n",
       " True,\n",
       " False,\n",
       " False,\n",
       " False,\n",
       " False,\n",
       " False,\n",
       " False,\n",
       " True,\n",
       " False,\n",
       " False,\n",
       " True,\n",
       " False,\n",
       " False,\n",
       " False,\n",
       " False,\n",
       " False,\n",
       " True,\n",
       " False,\n",
       " True,\n",
       " True,\n",
       " True,\n",
       " True,\n",
       " True,\n",
       " True,\n",
       " True,\n",
       " True,\n",
       " True,\n",
       " True,\n",
       " True,\n",
       " False,\n",
       " False,\n",
       " False,\n",
       " False,\n",
       " True,\n",
       " False,\n",
       " False,\n",
       " True,\n",
       " False,\n",
       " False,\n",
       " True,\n",
       " True,\n",
       " False,\n",
       " False,\n",
       " True,\n",
       " True,\n",
       " False,\n",
       " True,\n",
       " False,\n",
       " True,\n",
       " False,\n",
       " False,\n",
       " False,\n",
       " False,\n",
       " True,\n",
       " True,\n",
       " True,\n",
       " False,\n",
       " False,\n",
       " False,\n",
       " False,\n",
       " False,\n",
       " False,\n",
       " False,\n",
       " True,\n",
       " False,\n",
       " False,\n",
       " False,\n",
       " False,\n",
       " False,\n",
       " False,\n",
       " False,\n",
       " False,\n",
       " False,\n",
       " False,\n",
       " False,\n",
       " False,\n",
       " False,\n",
       " False,\n",
       " False,\n",
       " False,\n",
       " False,\n",
       " False,\n",
       " False,\n",
       " False,\n",
       " False,\n",
       " False,\n",
       " False,\n",
       " False,\n",
       " False,\n",
       " False,\n",
       " False,\n",
       " False,\n",
       " False,\n",
       " False,\n",
       " False,\n",
       " False,\n",
       " True,\n",
       " False,\n",
       " False,\n",
       " False,\n",
       " False]"
      ]
     },
     "execution_count": 28,
     "metadata": {},
     "output_type": "execute_result"
    }
   ],
   "source": [
    "[6960 in ncbi.get_lineage(x) for x in taxids]"
   ]
  },
  {
   "cell_type": "code",
   "execution_count": 15,
   "metadata": {},
   "outputs": [
    {
     "data": {
      "text/plain": [
       "{'artificial sequences': [81077]}"
      ]
     },
     "execution_count": 15,
     "metadata": {},
     "output_type": "execute_result"
    }
   ],
   "source": [
    "ncbi.get_name_translator([\"artificial sequences\"])"
   ]
  },
  {
   "cell_type": "code",
   "execution_count": null,
   "metadata": {},
   "outputs": [],
   "source": []
  }
 ],
 "metadata": {
  "kernelspec": {
   "display_name": "Python 3",
   "language": "python",
   "name": "python3"
  },
  "language_info": {
   "codemirror_mode": {
    "name": "ipython",
    "version": 3
   },
   "file_extension": ".py",
   "mimetype": "text/x-python",
   "name": "python",
   "nbconvert_exporter": "python",
   "pygments_lexer": "ipython3",
   "version": "3.7.3"
  }
 },
 "nbformat": 4,
 "nbformat_minor": 2
}
