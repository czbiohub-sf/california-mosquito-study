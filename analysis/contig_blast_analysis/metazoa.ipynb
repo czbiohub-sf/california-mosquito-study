{
 "cells": [
  {
   "cell_type": "code",
   "execution_count": 208,
   "metadata": {},
   "outputs": [],
   "source": [
    "import pandas as pd\n",
    "import numpy as np\n",
    "from ete3 import NCBITaxa\n",
    "import boto3\n",
    "import tempfile\n",
    "import subprocess\n",
    "import os\n",
    "import io\n",
    "import re\n",
    "import time\n",
    "import json\n",
    "ncbi = NCBITaxa()"
   ]
  },
  {
   "cell_type": "code",
   "execution_count": 217,
   "metadata": {},
   "outputs": [],
   "source": [
    "df = pd.read_csv('../../figures/fig3/all_contigs_df.tsv', sep='\\t', \n",
    "                dtype={'taxid': np.int})\n",
    "df = df[df['group'] == 'Metazoa']\n",
    "df = df[['sample', 'sci_name', 'read_prop', 'taxid']]"
   ]
  },
  {
   "cell_type": "code",
   "execution_count": 218,
   "metadata": {},
   "outputs": [],
   "source": [
    "def taxid2name(taxid):\n",
    "    return ncbi.get_taxid_translator([taxid])[taxid]"
   ]
  },
  {
   "cell_type": "markdown",
   "metadata": {},
   "source": [
    "There is a partial order on taxa: a < b if a is an ancestor of b. For a sample with one true bloodmeal, we would like to report a taxon t such that it is related to every other taxon, ie, t < b or b < t for all t reported.\n",
    "\n",
    "put another way, a taxon is admissable if t in lineage(b) or b in lineage(t) for all b."
   ]
  },
  {
   "cell_type": "code",
   "execution_count": 220,
   "metadata": {},
   "outputs": [],
   "source": [
    "def get_least_admissable_taxon(taxa,\n",
    "                               exclude = [], # drop these taxa\n",
    "                               parent=None, # only keep children of the parent\n",
    "                               antiparent=None # only keep taxa not in lineage of parent\n",
    "                              ):\n",
    "    if antiparent:\n",
    "        exclude.extend(ncbi.get_lineage(antiparent))\n",
    "    \n",
    "    taxa = [taxid for taxid in taxa if taxid not in exclude]\n",
    "    lineages = [ncbi.get_lineage(taxid) for taxid in taxa]\n",
    "    \n",
    "    if parent:\n",
    "        lineages = [lineage for lineage in lineages if parent in lineage]\n",
    "        if len(lineages) == 0:\n",
    "            return 0\n",
    "        \n",
    "    if antiparent:\n",
    "        lineages = [lineage for lineage in lineages if antiparent not in lineage]\n",
    "        if len(lineages) == 0:\n",
    "            return 0\n",
    "        \n",
    "    all_taxa = np.unique([taxid for lineage in lineages for taxid in lineage])\n",
    "    non_leaf_taxa = np.unique([taxid for lineage in lineages for taxid in lineage[:-1]])\n",
    "    leaf_taxa = [taxid for taxid in all_taxa if taxid not in non_leaf_taxa]\n",
    "    \n",
    "    leaf_lineages = [ncbi.get_lineage(taxid) for taxid in leaf_taxa]\n",
    "    leaf_common_ancestors = set.intersection(*[set(l) for l in leaf_lineages])\n",
    "    lca = [taxid for taxid in leaf_lineages[0] if taxid in leaf_common_ancestors][-1]\n",
    "    \n",
    "    return lca"
   ]
  },
  {
   "cell_type": "code",
   "execution_count": 251,
   "metadata": {},
   "outputs": [],
   "source": [
    "vertebrate_taxid = 7742"
   ]
  },
  {
   "cell_type": "code",
   "execution_count": 252,
   "metadata": {},
   "outputs": [],
   "source": [
    "one_off_exclusions = [314146, 9544]"
   ]
  },
  {
   "cell_type": "code",
   "execution_count": 291,
   "metadata": {},
   "outputs": [],
   "source": [
    "least_admissable_taxa = []\n",
    "for sample in df['sample'].unique():\n",
    "    taxid = get_least_admissable_taxon(df[df['sample'] == sample]['taxid'],\n",
    "                                      exclude = one_off_exclusions,\n",
    "                                      parent = vertebrate_taxid)\n",
    "    name = taxid2name(taxid) if taxid else \"NA\"\n",
    "    least_admissable_taxa.append({'sample': sample, 'name': name, 'taxid': taxid})\n",
    "least_admissable_taxa = pd.DataFrame(least_admissable_taxa).sort_values('sample')\n",
    "least_admissable_taxa = least_admissable_taxa[['sample', 'taxid', 'name']]\n",
    "\n",
    "# Temporary until missing metadata returns\n",
    "vertebrate_calls = least_admissable_taxa.append({\n",
    "    'sample': 'CMS001_060_Ra_S12',\n",
    "    'taxid': '35500',\n",
    "    'name': 'Pecora'\n",
    "}, ignore_index=True)"
   ]
  },
  {
   "cell_type": "code",
   "execution_count": 293,
   "metadata": {},
   "outputs": [],
   "source": [
    "partition = \"Pecora Carnivora Homininae Rodentia Leporidae Aves\".split()\n",
    "partition = ncbi.get_name_translator(partition)\n",
    "partition = {v[0]: k for k, v in partition.items()}\n",
    "\n",
    "def get_category(taxid):\n",
    "    if not taxid:\n",
    "        return None\n",
    "    lineage = ncbi.get_lineage(taxid)\n",
    "    for k in partition:\n",
    "        if k in lineage:\n",
    "            return partition[k]\n",
    "    else:\n",
    "        return 'NA'\n",
    "\n",
    "vertebrate_calls['category'] = vertebrate_calls['taxid'].apply(get_category)"
   ]
  },
  {
   "cell_type": "code",
   "execution_count": 295,
   "metadata": {},
   "outputs": [],
   "source": [
    "vertebrate_calls = vertebrate_calls[vertebrate_calls['category'] != 'NA']\n",
    "vertebrate_calls = vertebrate_calls[['sample', 'category', 'name']]\n",
    "vertebrate_calls = vertebrate_calls.sort_values('sample')\n",
    "\n",
    "vertebrate_calls.to_csv(\n",
    "    '../../figures/fig4/vertebrate_lat.csv', index=False)"
   ]
  },
  {
   "cell_type": "code",
   "execution_count": 287,
   "metadata": {},
   "outputs": [
    {
     "data": {
      "text/plain": [
       "{8782: 'class',\n",
       " 9979: 'family',\n",
       " 9989: 'order',\n",
       " 33554: 'order',\n",
       " 35500: 'infraorder',\n",
       " 207598: 'subfamily'}"
      ]
     },
     "execution_count": 287,
     "metadata": {},
     "output_type": "execute_result"
    }
   ],
   "source": [
    "ncbi.get_rank(partition.keys())"
   ]
  },
  {
   "cell_type": "code",
   "execution_count": 296,
   "metadata": {},
   "outputs": [
    {
     "data": {
      "text/html": [
       "<div>\n",
       "<style scoped>\n",
       "    .dataframe tbody tr th:only-of-type {\n",
       "        vertical-align: middle;\n",
       "    }\n",
       "\n",
       "    .dataframe tbody tr th {\n",
       "        vertical-align: top;\n",
       "    }\n",
       "\n",
       "    .dataframe thead th {\n",
       "        text-align: right;\n",
       "    }\n",
       "</style>\n",
       "<table border=\"1\" class=\"dataframe\">\n",
       "  <thead>\n",
       "    <tr style=\"text-align: right;\">\n",
       "      <th></th>\n",
       "      <th>sample</th>\n",
       "      <th>category</th>\n",
       "      <th>name</th>\n",
       "    </tr>\n",
       "  </thead>\n",
       "  <tbody>\n",
       "    <tr>\n",
       "      <th>0</th>\n",
       "      <td>CMS001_001_Ra_S1</td>\n",
       "      <td>Pecora</td>\n",
       "      <td>Pecora</td>\n",
       "    </tr>\n",
       "    <tr>\n",
       "      <th>1</th>\n",
       "      <td>CMS001_003_Ra_S2</td>\n",
       "      <td>Pecora</td>\n",
       "      <td>Pecora</td>\n",
       "    </tr>\n",
       "    <tr>\n",
       "      <th>2</th>\n",
       "      <td>CMS001_004_Ra_S2</td>\n",
       "      <td>Carnivora</td>\n",
       "      <td>Caniformia</td>\n",
       "    </tr>\n",
       "    <tr>\n",
       "      <th>3</th>\n",
       "      <td>CMS001_005_Ra_S3</td>\n",
       "      <td>Homininae</td>\n",
       "      <td>Homininae</td>\n",
       "    </tr>\n",
       "    <tr>\n",
       "      <th>4</th>\n",
       "      <td>CMS001_008_Ra_S3</td>\n",
       "      <td>Pecora</td>\n",
       "      <td>Pecora</td>\n",
       "    </tr>\n",
       "  </tbody>\n",
       "</table>\n",
       "</div>"
      ],
      "text/plain": [
       "             sample   category        name\n",
       "0  CMS001_001_Ra_S1     Pecora      Pecora\n",
       "1  CMS001_003_Ra_S2     Pecora      Pecora\n",
       "2  CMS001_004_Ra_S2  Carnivora  Caniformia\n",
       "3  CMS001_005_Ra_S3  Homininae   Homininae\n",
       "4  CMS001_008_Ra_S3     Pecora      Pecora"
      ]
     },
     "execution_count": 296,
     "metadata": {},
     "output_type": "execute_result"
    }
   ],
   "source": [
    "vertebrate_calls[['sample', 'category', 'name']].head()"
   ]
  },
  {
   "cell_type": "code",
   "execution_count": 241,
   "metadata": {},
   "outputs": [],
   "source": [
    "least_admissable_taxa = []\n",
    "for sample in df['sample'].unique():\n",
    "    taxid = get_least_admissable_taxon(df[df['sample'] == sample]['taxid'],\n",
    "                                      exclude = one_off_exclusions,\n",
    "                                      antiparent = vertebrate_taxid)\n",
    "    name = taxid2name(taxid) if taxid else \"NA\"\n",
    "    least_admissable_taxa.append({'sample': sample, 'name': name, 'taxid': taxid})\n",
    "least_admissable_taxa = pd.DataFrame(least_admissable_taxa).sort_values('sample')\n",
    "least_admissable_taxa[['sample', 'taxid', 'name']].to_csv(\n",
    "    '../../figures/fig4/non_vertebrate_lat.csv', index=False)"
   ]
  }
 ],
 "metadata": {
  "kernelspec": {
   "display_name": "flash",
   "language": "python",
   "name": "flash"
  },
  "language_info": {
   "codemirror_mode": {
    "name": "ipython",
    "version": 3
   },
   "file_extension": ".py",
   "mimetype": "text/x-python",
   "name": "python",
   "nbconvert_exporter": "python",
   "pygments_lexer": "ipython3",
   "version": "3.5.3"
  }
 },
 "nbformat": 4,
 "nbformat_minor": 2
}
