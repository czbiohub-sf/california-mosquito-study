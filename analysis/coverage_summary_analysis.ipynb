{
 "cells": [
  {
   "cell_type": "code",
   "execution_count": 132,
   "metadata": {},
   "outputs": [],
   "source": [
    "import s3fs\n",
    "import pandas as pd\n",
    "import matplotlib.pyplot as plt\n",
    "import numpy as np\n",
    "from scipy import optimize\n",
    "import numpy.polynomial.polynomial as poly"
   ]
  },
  {
   "cell_type": "code",
   "execution_count": 11,
   "metadata": {},
   "outputs": [],
   "source": [
    "cov_sum = pd.read_csv(\"s3://czbiohub-mosquito/contig_quality_concat/Mos/CoverageSummaryStatsFinal.csv\")\n",
    "cov_sum = cov_sum.assign(length=cov_sum.contig_id.str.split(\"_\").apply(lambda x: int(x[3])))"
   ]
  },
  {
   "cell_type": "code",
   "execution_count": 9,
   "metadata": {},
   "outputs": [
    {
     "data": {
      "text/html": [
       "<div>\n",
       "<style scoped>\n",
       "    .dataframe tbody tr th:only-of-type {\n",
       "        vertical-align: middle;\n",
       "    }\n",
       "\n",
       "    .dataframe tbody tr th {\n",
       "        vertical-align: top;\n",
       "    }\n",
       "\n",
       "    .dataframe thead th {\n",
       "        text-align: right;\n",
       "    }\n",
       "</style>\n",
       "<table border=\"1\" class=\"dataframe\">\n",
       "  <thead>\n",
       "    <tr style=\"text-align: right;\">\n",
       "      <th></th>\n",
       "      <th>contig_id</th>\n",
       "      <th>count</th>\n",
       "      <th>mean</th>\n",
       "      <th>std</th>\n",
       "      <th>min</th>\n",
       "      <th>25%</th>\n",
       "      <th>50%</th>\n",
       "      <th>75%</th>\n",
       "      <th>max</th>\n",
       "      <th>sample</th>\n",
       "    </tr>\n",
       "  </thead>\n",
       "  <tbody>\n",
       "    <tr>\n",
       "      <th>0</th>\n",
       "      <td>NODE_10000_length_238_cov_0.763975</td>\n",
       "      <td>238.0</td>\n",
       "      <td>2.268908</td>\n",
       "      <td>0.625714</td>\n",
       "      <td>1.0</td>\n",
       "      <td>2.0</td>\n",
       "      <td>2.0</td>\n",
       "      <td>2.0</td>\n",
       "      <td>4.0</td>\n",
       "      <td>CMS001_001_Ra_S1</td>\n",
       "    </tr>\n",
       "    <tr>\n",
       "      <th>1</th>\n",
       "      <td>NODE_10001_length_238_cov_0.757764</td>\n",
       "      <td>238.0</td>\n",
       "      <td>1.260504</td>\n",
       "      <td>0.439835</td>\n",
       "      <td>1.0</td>\n",
       "      <td>1.0</td>\n",
       "      <td>1.0</td>\n",
       "      <td>2.0</td>\n",
       "      <td>2.0</td>\n",
       "      <td>CMS001_001_Ra_S1</td>\n",
       "    </tr>\n",
       "    <tr>\n",
       "      <th>2</th>\n",
       "      <td>NODE_10002_length_238_cov_0.751553</td>\n",
       "      <td>238.0</td>\n",
       "      <td>1.247899</td>\n",
       "      <td>0.432703</td>\n",
       "      <td>1.0</td>\n",
       "      <td>1.0</td>\n",
       "      <td>1.0</td>\n",
       "      <td>1.0</td>\n",
       "      <td>2.0</td>\n",
       "      <td>CMS001_001_Ra_S1</td>\n",
       "    </tr>\n",
       "    <tr>\n",
       "      <th>3</th>\n",
       "      <td>NODE_10003_length_238_cov_0.739130</td>\n",
       "      <td>238.0</td>\n",
       "      <td>1.256303</td>\n",
       "      <td>0.437511</td>\n",
       "      <td>1.0</td>\n",
       "      <td>1.0</td>\n",
       "      <td>1.0</td>\n",
       "      <td>2.0</td>\n",
       "      <td>2.0</td>\n",
       "      <td>CMS001_001_Ra_S1</td>\n",
       "    </tr>\n",
       "    <tr>\n",
       "      <th>4</th>\n",
       "      <td>NODE_10004_length_238_cov_0.726708</td>\n",
       "      <td>238.0</td>\n",
       "      <td>1.571429</td>\n",
       "      <td>0.495915</td>\n",
       "      <td>1.0</td>\n",
       "      <td>1.0</td>\n",
       "      <td>2.0</td>\n",
       "      <td>2.0</td>\n",
       "      <td>2.0</td>\n",
       "      <td>CMS001_001_Ra_S1</td>\n",
       "    </tr>\n",
       "    <tr>\n",
       "      <th>5</th>\n",
       "      <td>NODE_10005_length_238_cov_0.683230</td>\n",
       "      <td>238.0</td>\n",
       "      <td>1.890756</td>\n",
       "      <td>0.787989</td>\n",
       "      <td>1.0</td>\n",
       "      <td>1.0</td>\n",
       "      <td>2.0</td>\n",
       "      <td>3.0</td>\n",
       "      <td>3.0</td>\n",
       "      <td>CMS001_001_Ra_S1</td>\n",
       "    </tr>\n",
       "    <tr>\n",
       "      <th>6</th>\n",
       "      <td>NODE_10006_length_238_cov_0.677019</td>\n",
       "      <td>238.0</td>\n",
       "      <td>2.121849</td>\n",
       "      <td>0.983978</td>\n",
       "      <td>1.0</td>\n",
       "      <td>1.0</td>\n",
       "      <td>2.0</td>\n",
       "      <td>3.0</td>\n",
       "      <td>4.0</td>\n",
       "      <td>CMS001_001_Ra_S1</td>\n",
       "    </tr>\n",
       "    <tr>\n",
       "      <th>7</th>\n",
       "      <td>NODE_10007_length_238_cov_0.677019</td>\n",
       "      <td>238.0</td>\n",
       "      <td>1.256303</td>\n",
       "      <td>0.437511</td>\n",
       "      <td>1.0</td>\n",
       "      <td>1.0</td>\n",
       "      <td>1.0</td>\n",
       "      <td>2.0</td>\n",
       "      <td>2.0</td>\n",
       "      <td>CMS001_001_Ra_S1</td>\n",
       "    </tr>\n",
       "    <tr>\n",
       "      <th>8</th>\n",
       "      <td>NODE_10008_length_238_cov_0.670807</td>\n",
       "      <td>238.0</td>\n",
       "      <td>1.256303</td>\n",
       "      <td>0.437511</td>\n",
       "      <td>1.0</td>\n",
       "      <td>1.0</td>\n",
       "      <td>1.0</td>\n",
       "      <td>2.0</td>\n",
       "      <td>2.0</td>\n",
       "      <td>CMS001_001_Ra_S1</td>\n",
       "    </tr>\n",
       "    <tr>\n",
       "      <th>9</th>\n",
       "      <td>NODE_10009_length_238_cov_0.658385</td>\n",
       "      <td>238.0</td>\n",
       "      <td>1.260504</td>\n",
       "      <td>0.439835</td>\n",
       "      <td>1.0</td>\n",
       "      <td>1.0</td>\n",
       "      <td>1.0</td>\n",
       "      <td>2.0</td>\n",
       "      <td>2.0</td>\n",
       "      <td>CMS001_001_Ra_S1</td>\n",
       "    </tr>\n",
       "  </tbody>\n",
       "</table>\n",
       "</div>"
      ],
      "text/plain": [
       "                            contig_id  count      mean       std  min  25%  \\\n",
       "0  NODE_10000_length_238_cov_0.763975  238.0  2.268908  0.625714  1.0  2.0   \n",
       "1  NODE_10001_length_238_cov_0.757764  238.0  1.260504  0.439835  1.0  1.0   \n",
       "2  NODE_10002_length_238_cov_0.751553  238.0  1.247899  0.432703  1.0  1.0   \n",
       "3  NODE_10003_length_238_cov_0.739130  238.0  1.256303  0.437511  1.0  1.0   \n",
       "4  NODE_10004_length_238_cov_0.726708  238.0  1.571429  0.495915  1.0  1.0   \n",
       "5  NODE_10005_length_238_cov_0.683230  238.0  1.890756  0.787989  1.0  1.0   \n",
       "6  NODE_10006_length_238_cov_0.677019  238.0  2.121849  0.983978  1.0  1.0   \n",
       "7  NODE_10007_length_238_cov_0.677019  238.0  1.256303  0.437511  1.0  1.0   \n",
       "8  NODE_10008_length_238_cov_0.670807  238.0  1.256303  0.437511  1.0  1.0   \n",
       "9  NODE_10009_length_238_cov_0.658385  238.0  1.260504  0.439835  1.0  1.0   \n",
       "\n",
       "   50%  75%  max            sample  \n",
       "0  2.0  2.0  4.0  CMS001_001_Ra_S1  \n",
       "1  1.0  2.0  2.0  CMS001_001_Ra_S1  \n",
       "2  1.0  1.0  2.0  CMS001_001_Ra_S1  \n",
       "3  1.0  2.0  2.0  CMS001_001_Ra_S1  \n",
       "4  2.0  2.0  2.0  CMS001_001_Ra_S1  \n",
       "5  2.0  3.0  3.0  CMS001_001_Ra_S1  \n",
       "6  2.0  3.0  4.0  CMS001_001_Ra_S1  \n",
       "7  1.0  2.0  2.0  CMS001_001_Ra_S1  \n",
       "8  1.0  2.0  2.0  CMS001_001_Ra_S1  \n",
       "9  1.0  2.0  2.0  CMS001_001_Ra_S1  "
      ]
     },
     "execution_count": 9,
     "metadata": {},
     "output_type": "execute_result"
    }
   ],
   "source": [
    "cov_sum.head(n=10)"
   ]
  },
  {
   "cell_type": "code",
   "execution_count": 117,
   "metadata": {},
   "outputs": [
    {
     "data": {
      "image/png": "[encoded data removed]",
      "text/plain": [
       "<Figure size 432x288 with 1 Axes>"
      ]
     },
     "metadata": {},
     "output_type": "display_data"
    }
   ],
   "source": [
    "plt.plot(cov_sum[\"length\"], cov_sum[\"50%\"], '.')\n",
    "plt.yscale('log')\n",
    "plt.xscale('log')"
   ]
  },
  {
   "cell_type": "code",
   "execution_count": 146,
   "metadata": {},
   "outputs": [
    {
     "data": {
      "text/plain": [
       "Text(0,0.5,'Standard deviation of reads')"
      ]
     },
     "execution_count": 146,
     "metadata": {},
     "output_type": "execute_result"
    },
    {
     "data": {
      "image/png": "[encoded data removed]",
      "text/plain": [
       "<Figure size 432x288 with 1 Axes>"
      ]
     },
     "metadata": {},
     "output_type": "display_data"
    }
   ],
   "source": [
    "plt.plot(cov_sum[\"50%\"], cov_sum[\"std\"], '.')\n",
    "plt.xlabel(\"Median number of reads\")\n",
    "plt.ylabel(\"Standard deviation of reads\")"
   ]
  },
  {
   "cell_type": "code",
   "execution_count": 145,
   "metadata": {},
   "outputs": [
    {
     "data": {
      "text/plain": [
       "Text(0,0.5,'Standard deviation of reads')"
      ]
     },
     "execution_count": 145,
     "metadata": {},
     "output_type": "execute_result"
    },
    {
     "data": {
      "image/png": "[encoded data removed]",
      "text/plain": [
       "<Figure size 432x288 with 1 Axes>"
      ]
     },
     "metadata": {},
     "output_type": "display_data"
    }
   ],
   "source": [
    "plt.plot(cov_sum[\"50%\"], cov_sum[\"std\"], '.')\n",
    "plt.xscale('log')\n",
    "plt.xlabel(\"Median number of reads\")\n",
    "plt.ylabel(\"Standard deviation of reads\")"
   ]
  },
  {
   "cell_type": "code",
   "execution_count": 148,
   "metadata": {},
   "outputs": [],
   "source": [
    "def curve_func(new_x, a, b):\n",
    "    return (a * pow(10, b*new_x))"
   ]
  },
  {
   "cell_type": "code",
   "execution_count": 149,
   "metadata": {},
   "outputs": [
    {
     "name": "stderr",
     "output_type": "stream",
     "text": [
      "/Users/lucy.li/anaconda3/lib/python3.6/site-packages/ipykernel_launcher.py:1: RuntimeWarning: divide by zero encountered in log10\n",
      "  \"\"\"Entry point for launching an IPython kernel.\n"
     ]
    },
    {
     "data": {
      "text/plain": [
       "(array([0.25557463, 1.05478988]), array([[ 6.83877950e-06, -2.49655512e-06],\n",
       "        [-2.49655512e-06,  9.18793800e-07]]))"
      ]
     },
     "execution_count": 149,
     "metadata": {},
     "output_type": "execute_result"
    }
   ],
   "source": [
    "curve_fit = scipy.optimize.curve_fit(curve_func, np.log10(cov_sum[\"50%\"]), cov_sum[\"std\"])\n",
    "curve_fit"
   ]
  },
  {
   "cell_type": "code",
   "execution_count": 152,
   "metadata": {},
   "outputs": [],
   "source": [
    "xdata = [float(y)/1000 for y in [x for x in range(int(np.log10(cov_sum[\"50%\"].min()+1)), (int(np.log10(cov_sum[\"50%\"].max()))+1)*1000)]]\n",
    "ydata = [curve_func(x, curve_fit[0][0], curve_fit[0][1]) for x in xdata]\n",
    "\n"
   ]
  },
  {
   "cell_type": "code",
   "execution_count": 153,
   "metadata": {},
   "outputs": [
    {
     "data": {
      "text/plain": [
       "Text(0,0.5,'Standard deviation of reads')"
      ]
     },
     "execution_count": 153,
     "metadata": {},
     "output_type": "execute_result"
    },
    {
     "data": {
      "image/png": "[encoded data removed]",
      "text/plain": [
       "<Figure size 432x288 with 1 Axes>"
      ]
     },
     "metadata": {},
     "output_type": "display_data"
    }
   ],
   "source": [
    "plt.plot(cov_sum[\"50%\"], cov_sum[\"std\"], '.', [pow(10, x) for x in xdata], ydata)\n",
    "plt.xscale('log')\n",
    "plt.xlabel(\"Median number of reads\")\n",
    "plt.ylabel(\"Standard deviation of reads\")"
   ]
  },
  {
   "cell_type": "code",
   "execution_count": 404,
   "metadata": {},
   "outputs": [
    {
     "name": "stdout",
     "output_type": "stream",
     "text": [
      "12 891240\n"
     ]
    }
   ],
   "source": [
    "residuals = (cov_sum[\"std\"] - np.log10(cov_sum[\"50%\"]+0.000001).apply(curve_func, a=curve_fit[0][0], b=curve_fit[0][1]))/np.sqrt(cov_sum[\"std\"])\n",
    "upper_residual = (residuals).quantile(q=0.999987)\n",
    "outliers = [i for i, x in enumerate(residuals) if (x > upper_residual) and (cov_sum[\"50%\"][i]>0.0)]\n",
    "expected = [i for i, x in enumerate(residuals) if not ((x > upper_residual) and (cov_sum[\"50%\"][i]>0.0))]\n",
    "print(len(outliers), len(expected))\n",
    "\n",
    "\n"
   ]
  },
  {
   "cell_type": "code",
   "execution_count": 405,
   "metadata": {},
   "outputs": [
    {
     "data": {
      "text/plain": [
       "Text(0,0.5,'Standard deviation of reads')"
      ]
     },
     "execution_count": 405,
     "metadata": {},
     "output_type": "execute_result"
    },
    {
     "data": {
      "image/png": "[encoded data removed]",
      "text/plain": [
       "<Figure size 432x288 with 1 Axes>"
      ]
     },
     "metadata": {},
     "output_type": "display_data"
    }
   ],
   "source": [
    "plt.scatter(cov_sum[\"50%\"][expected], cov_sum[\"std\"][expected], marker=\".\", c=\"black\")\n",
    "plt.scatter(cov_sum[\"50%\"][outliers], cov_sum[\"std\"][outliers], marker=\".\",  c=\"red\")\n",
    "plt.plot([pow(10, x) for x in xdata], ydata)\n",
    "plt.xscale('log')\n",
    "plt.xlabel(\"Median number of reads\")\n",
    "plt.ylabel(\"Standard deviation of reads\")"
   ]
  },
  {
   "cell_type": "code",
   "execution_count": 408,
   "metadata": {},
   "outputs": [
    {
     "data": {
      "text/html": [
       "<div>\n",
       "<style scoped>\n",
       "    .dataframe tbody tr th:only-of-type {\n",
       "        vertical-align: middle;\n",
       "    }\n",
       "\n",
       "    .dataframe tbody tr th {\n",
       "        vertical-align: top;\n",
       "    }\n",
       "\n",
       "    .dataframe thead th {\n",
       "        text-align: right;\n",
       "    }\n",
       "</style>\n",
       "<table border=\"1\" class=\"dataframe\">\n",
       "  <thead>\n",
       "    <tr style=\"text-align: right;\">\n",
       "      <th></th>\n",
       "      <th>contig_id</th>\n",
       "      <th>count</th>\n",
       "      <th>mean</th>\n",
       "      <th>std</th>\n",
       "      <th>min</th>\n",
       "      <th>25%</th>\n",
       "      <th>50%</th>\n",
       "      <th>75%</th>\n",
       "      <th>max</th>\n",
       "      <th>sample</th>\n",
       "      <th>length</th>\n",
       "    </tr>\n",
       "  </thead>\n",
       "  <tbody>\n",
       "    <tr>\n",
       "      <th>35733</th>\n",
       "      <td>NODE_1077_length_835_cov_81.494723</td>\n",
       "      <td>835.0</td>\n",
       "      <td>18956.117365</td>\n",
       "      <td>34583.657364</td>\n",
       "      <td>4.0</td>\n",
       "      <td>77.0</td>\n",
       "      <td>108.0</td>\n",
       "      <td>8912.50</td>\n",
       "      <td>100750.0</td>\n",
       "      <td>CMS001_005_Ra_S3</td>\n",
       "      <td>835</td>\n",
       "    </tr>\n",
       "    <tr>\n",
       "      <th>52764</th>\n",
       "      <td>NODE_4870_length_455_cov_1.126984</td>\n",
       "      <td>455.0</td>\n",
       "      <td>6147.107692</td>\n",
       "      <td>9242.626845</td>\n",
       "      <td>1.0</td>\n",
       "      <td>4.0</td>\n",
       "      <td>5.0</td>\n",
       "      <td>17032.50</td>\n",
       "      <td>21986.0</td>\n",
       "      <td>CMS001_005_Ra_S3</td>\n",
       "      <td>455</td>\n",
       "    </tr>\n",
       "    <tr>\n",
       "      <th>99976</th>\n",
       "      <td>NODE_6193_length_457_cov_2.531579</td>\n",
       "      <td>457.0</td>\n",
       "      <td>39016.680525</td>\n",
       "      <td>56157.266309</td>\n",
       "      <td>2.0</td>\n",
       "      <td>9.0</td>\n",
       "      <td>16.0</td>\n",
       "      <td>89315.00</td>\n",
       "      <td>152920.0</td>\n",
       "      <td>CMS001_009_Ra_S13</td>\n",
       "      <td>457</td>\n",
       "    </tr>\n",
       "    <tr>\n",
       "      <th>135378</th>\n",
       "      <td>NODE_338_length_835_cov_369.542216</td>\n",
       "      <td>835.0</td>\n",
       "      <td>11021.372455</td>\n",
       "      <td>16430.346892</td>\n",
       "      <td>0.0</td>\n",
       "      <td>50.0</td>\n",
       "      <td>58.0</td>\n",
       "      <td>21532.00</td>\n",
       "      <td>49697.0</td>\n",
       "      <td>CMS001_014_Ra_S5</td>\n",
       "      <td>835</td>\n",
       "    </tr>\n",
       "    <tr>\n",
       "      <th>150497</th>\n",
       "      <td>NODE_1476_length_626_cov_43.211293</td>\n",
       "      <td>626.0</td>\n",
       "      <td>8631.239617</td>\n",
       "      <td>17225.118039</td>\n",
       "      <td>34.0</td>\n",
       "      <td>155.0</td>\n",
       "      <td>200.0</td>\n",
       "      <td>3083.75</td>\n",
       "      <td>53977.0</td>\n",
       "      <td>CMS001_016_Ra_S6</td>\n",
       "      <td>626</td>\n",
       "    </tr>\n",
       "    <tr>\n",
       "      <th>162186</th>\n",
       "      <td>NODE_6372_length_352_cov_0.970909</td>\n",
       "      <td>352.0</td>\n",
       "      <td>17766.656250</td>\n",
       "      <td>22832.239191</td>\n",
       "      <td>1.0</td>\n",
       "      <td>4.0</td>\n",
       "      <td>7.0</td>\n",
       "      <td>42297.50</td>\n",
       "      <td>58370.0</td>\n",
       "      <td>CMS001_016_Ra_S6</td>\n",
       "      <td>352</td>\n",
       "    </tr>\n",
       "    <tr>\n",
       "      <th>421168</th>\n",
       "      <td>NODE_1135_length_1291_cov_200.006590</td>\n",
       "      <td>1291.0</td>\n",
       "      <td>12380.517428</td>\n",
       "      <td>19355.465461</td>\n",
       "      <td>1.0</td>\n",
       "      <td>3.0</td>\n",
       "      <td>6.0</td>\n",
       "      <td>23984.00</td>\n",
       "      <td>59225.0</td>\n",
       "      <td>CMS002_007a_Rb_S118_L004</td>\n",
       "      <td>1291</td>\n",
       "    </tr>\n",
       "    <tr>\n",
       "      <th>496093</th>\n",
       "      <td>NODE_41106_length_233_cov_1.557692</td>\n",
       "      <td>233.0</td>\n",
       "      <td>3643.373391</td>\n",
       "      <td>4703.105548</td>\n",
       "      <td>1.0</td>\n",
       "      <td>2.0</td>\n",
       "      <td>2.0</td>\n",
       "      <td>9621.00</td>\n",
       "      <td>10247.0</td>\n",
       "      <td>CMS002_020a_Rb_S131_L004</td>\n",
       "      <td>233</td>\n",
       "    </tr>\n",
       "    <tr>\n",
       "      <th>541867</th>\n",
       "      <td>NODE_3781_length_349_cov_78.625000</td>\n",
       "      <td>349.0</td>\n",
       "      <td>18406.896848</td>\n",
       "      <td>21061.842191</td>\n",
       "      <td>0.0</td>\n",
       "      <td>253.0</td>\n",
       "      <td>306.0</td>\n",
       "      <td>43769.00</td>\n",
       "      <td>46392.0</td>\n",
       "      <td>CMS002_020e_Rb_S135_L004</td>\n",
       "      <td>349</td>\n",
       "    </tr>\n",
       "    <tr>\n",
       "      <th>597248</th>\n",
       "      <td>NODE_8731_length_567_cov_1.363265</td>\n",
       "      <td>567.0</td>\n",
       "      <td>1286.142857</td>\n",
       "      <td>5076.421107</td>\n",
       "      <td>1.0</td>\n",
       "      <td>3.0</td>\n",
       "      <td>4.0</td>\n",
       "      <td>8.00</td>\n",
       "      <td>21406.0</td>\n",
       "      <td>CMS002_021a_Rb_S136_L004</td>\n",
       "      <td>567</td>\n",
       "    </tr>\n",
       "    <tr>\n",
       "      <th>631583</th>\n",
       "      <td>NODE_561_length_663_cov_369.319113</td>\n",
       "      <td>663.0</td>\n",
       "      <td>4912.417798</td>\n",
       "      <td>5424.632369</td>\n",
       "      <td>1.0</td>\n",
       "      <td>20.0</td>\n",
       "      <td>863.0</td>\n",
       "      <td>11534.50</td>\n",
       "      <td>13842.0</td>\n",
       "      <td>CMS002_028e_Rb_S158_L004</td>\n",
       "      <td>663</td>\n",
       "    </tr>\n",
       "    <tr>\n",
       "      <th>768274</th>\n",
       "      <td>NODE_233_length_843_cov_171.345953</td>\n",
       "      <td>843.0</td>\n",
       "      <td>3869.633452</td>\n",
       "      <td>5150.761361</td>\n",
       "      <td>1.0</td>\n",
       "      <td>3.0</td>\n",
       "      <td>157.0</td>\n",
       "      <td>9010.50</td>\n",
       "      <td>14258.0</td>\n",
       "      <td>CMS002_041a_Rb_S176_L004</td>\n",
       "      <td>843</td>\n",
       "    </tr>\n",
       "  </tbody>\n",
       "</table>\n",
       "</div>"
      ],
      "text/plain": [
       "                                   contig_id   count          mean  \\\n",
       "35733     NODE_1077_length_835_cov_81.494723   835.0  18956.117365   \n",
       "52764      NODE_4870_length_455_cov_1.126984   455.0   6147.107692   \n",
       "99976      NODE_6193_length_457_cov_2.531579   457.0  39016.680525   \n",
       "135378    NODE_338_length_835_cov_369.542216   835.0  11021.372455   \n",
       "150497    NODE_1476_length_626_cov_43.211293   626.0   8631.239617   \n",
       "162186     NODE_6372_length_352_cov_0.970909   352.0  17766.656250   \n",
       "421168  NODE_1135_length_1291_cov_200.006590  1291.0  12380.517428   \n",
       "496093    NODE_41106_length_233_cov_1.557692   233.0   3643.373391   \n",
       "541867    NODE_3781_length_349_cov_78.625000   349.0  18406.896848   \n",
       "597248     NODE_8731_length_567_cov_1.363265   567.0   1286.142857   \n",
       "631583    NODE_561_length_663_cov_369.319113   663.0   4912.417798   \n",
       "768274    NODE_233_length_843_cov_171.345953   843.0   3869.633452   \n",
       "\n",
       "                 std   min    25%    50%       75%       max  \\\n",
       "35733   34583.657364   4.0   77.0  108.0   8912.50  100750.0   \n",
       "52764    9242.626845   1.0    4.0    5.0  17032.50   21986.0   \n",
       "99976   56157.266309   2.0    9.0   16.0  89315.00  152920.0   \n",
       "135378  16430.346892   0.0   50.0   58.0  21532.00   49697.0   \n",
       "150497  17225.118039  34.0  155.0  200.0   3083.75   53977.0   \n",
       "162186  22832.239191   1.0    4.0    7.0  42297.50   58370.0   \n",
       "421168  19355.465461   1.0    3.0    6.0  23984.00   59225.0   \n",
       "496093   4703.105548   1.0    2.0    2.0   9621.00   10247.0   \n",
       "541867  21061.842191   0.0  253.0  306.0  43769.00   46392.0   \n",
       "597248   5076.421107   1.0    3.0    4.0      8.00   21406.0   \n",
       "631583   5424.632369   1.0   20.0  863.0  11534.50   13842.0   \n",
       "768274   5150.761361   1.0    3.0  157.0   9010.50   14258.0   \n",
       "\n",
       "                          sample  length  \n",
       "35733           CMS001_005_Ra_S3     835  \n",
       "52764           CMS001_005_Ra_S3     455  \n",
       "99976          CMS001_009_Ra_S13     457  \n",
       "135378          CMS001_014_Ra_S5     835  \n",
       "150497          CMS001_016_Ra_S6     626  \n",
       "162186          CMS001_016_Ra_S6     352  \n",
       "421168  CMS002_007a_Rb_S118_L004    1291  \n",
       "496093  CMS002_020a_Rb_S131_L004     233  \n",
       "541867  CMS002_020e_Rb_S135_L004     349  \n",
       "597248  CMS002_021a_Rb_S136_L004     567  \n",
       "631583  CMS002_028e_Rb_S158_L004     663  \n",
       "768274  CMS002_041a_Rb_S176_L004     843  "
      ]
     },
     "execution_count": 408,
     "metadata": {},
     "output_type": "execute_result"
    }
   ],
   "source": [
    "cov_sum.iloc[outliers]"
   ]
  },
  {
   "cell_type": "markdown",
   "metadata": {},
   "source": [
    "Focusing just on contigs > 1000 nt in length"
   ]
  },
  {
   "cell_type": "code",
   "execution_count": 414,
   "metadata": {},
   "outputs": [],
   "source": [
    "cov_sum_long = cov_sum[cov_sum[\"length\"]>1000]"
   ]
  },
  {
   "cell_type": "code",
   "execution_count": 415,
   "metadata": {},
   "outputs": [
    {
     "data": {
      "text/plain": [
       "Text(0,0.5,'Standard deviation of reads')"
      ]
     },
     "execution_count": 415,
     "metadata": {},
     "output_type": "execute_result"
    },
    {
     "data": {
      "image/png": "[encoded data removed]",
      "text/plain": [
       "<Figure size 432x288 with 1 Axes>"
      ]
     },
     "metadata": {},
     "output_type": "display_data"
    }
   ],
   "source": [
    "plt.plot(cov_sum_long[\"50%\"], cov_sum_long[\"std\"], '.')\n",
    "plt.xscale('log')\n",
    "plt.xlabel(\"Median number of reads\")\n",
    "plt.ylabel(\"Standard deviation of reads\")"
   ]
  },
  {
   "cell_type": "code",
   "execution_count": 416,
   "metadata": {},
   "outputs": [
    {
     "data": {
      "text/plain": [
       "(array([0.69484506, 0.92105124]), array([[ 3.20555759e-03, -5.46349164e-04],\n",
       "        [-5.46349164e-04,  9.39532991e-05]]))"
      ]
     },
     "execution_count": 416,
     "metadata": {},
     "output_type": "execute_result"
    }
   ],
   "source": [
    "curve_fit_long = scipy.optimize.curve_fit(curve_func, np.log10(cov_sum_long[\"50%\"]), cov_sum_long[\"std\"])\n",
    "curve_fit_long"
   ]
  },
  {
   "cell_type": "code",
   "execution_count": 423,
   "metadata": {},
   "outputs": [],
   "source": [
    "xdata_long = [float(y)/1000 for y in [x for x in range(int(np.log10(cov_sum_long[\"50%\"].min()+1)), (int(np.log10(cov_sum_long[\"50%\"].max())))*1000)]]\n",
    "ydata_long = [curve_func(x, curve_fit_long[0][0], curve_fit_long[0][1]) for x in xdata_long]\n",
    "\n"
   ]
  },
  {
   "cell_type": "code",
   "execution_count": 424,
   "metadata": {},
   "outputs": [
    {
     "data": {
      "text/plain": [
       "Text(0,0.5,'Standard deviation of reads')"
      ]
     },
     "execution_count": 424,
     "metadata": {},
     "output_type": "execute_result"
    },
    {
     "data": {
      "image/png": "[encoded data removed]",
      "text/plain": [
       "<Figure size 432x288 with 1 Axes>"
      ]
     },
     "metadata": {},
     "output_type": "display_data"
    }
   ],
   "source": [
    "plt.plot(cov_sum_long[\"50%\"], cov_sum_long[\"std\"], '.', [pow(10, x) for x in xdata_long], ydata_long)\n",
    "plt.xscale('log')\n",
    "plt.xlabel(\"Median number of reads\")\n",
    "plt.ylabel(\"Standard deviation of reads\")"
   ]
  },
  {
   "cell_type": "code",
   "execution_count": 440,
   "metadata": {},
   "outputs": [
    {
     "name": "stdout",
     "output_type": "stream",
     "text": [
      "1 22801\n"
     ]
    }
   ],
   "source": [
    "residuals_long = (cov_sum_long[\"std\"] - np.log10(cov_sum_long[\"50%\"]+0.000001).apply(curve_func, a=curve_fit_long[0][0], b=curve_fit_long[0][1]))/np.sqrt(cov_sum_long[\"std\"])\n",
    "upper_residual_long = (residuals_long).quantile(q=0.999987)\n",
    "outliers_long = [i for i, x in enumerate(residuals_long) if (x > upper_residual_long) and (list(cov_sum_long[\"50%\"])[i]>0.0)]\n",
    "expected_long = [i for i, x in enumerate(residuals_long) if not ((x > upper_residual_long) and (list(cov_sum_long[\"50%\"])[i]>0.0))]\n",
    "print(len(outliers_long), len(expected_long))\n",
    "\n"
   ]
  },
  {
   "cell_type": "code",
   "execution_count": 444,
   "metadata": {},
   "outputs": [
    {
     "data": {
      "text/plain": [
       "Text(0,0.5,'Standard deviation of reads')"
      ]
     },
     "execution_count": 444,
     "metadata": {},
     "output_type": "execute_result"
    },
    {
     "data": {
      "image/png": "[encoded data removed]",
      "text/plain": [
       "<Figure size 432x288 with 1 Axes>"
      ]
     },
     "metadata": {},
     "output_type": "display_data"
    }
   ],
   "source": [
    "plt.scatter(cov_sum_long[\"50%\"].iloc[expected_long], cov_sum_long[\"std\"].iloc[expected_long], marker=\".\", c=\"black\")\n",
    "plt.scatter(cov_sum_long[\"50%\"].iloc[outliers_long], cov_sum_long[\"std\"].iloc[outliers_long], marker=\".\",  c=\"red\")\n",
    "plt.plot([pow(10, x) for x in xdata_long], ydata_long)\n",
    "plt.xscale('log')\n",
    "plt.xlabel(\"Median number of reads\")\n",
    "plt.ylabel(\"Standard deviation of reads\")"
   ]
  },
  {
   "cell_type": "code",
   "execution_count": 445,
   "metadata": {},
   "outputs": [
    {
     "data": {
      "text/html": [
       "<div>\n",
       "<style scoped>\n",
       "    .dataframe tbody tr th:only-of-type {\n",
       "        vertical-align: middle;\n",
       "    }\n",
       "\n",
       "    .dataframe tbody tr th {\n",
       "        vertical-align: top;\n",
       "    }\n",
       "\n",
       "    .dataframe thead th {\n",
       "        text-align: right;\n",
       "    }\n",
       "</style>\n",
       "<table border=\"1\" class=\"dataframe\">\n",
       "  <thead>\n",
       "    <tr style=\"text-align: right;\">\n",
       "      <th></th>\n",
       "      <th>contig_id</th>\n",
       "      <th>count</th>\n",
       "      <th>mean</th>\n",
       "      <th>std</th>\n",
       "      <th>min</th>\n",
       "      <th>25%</th>\n",
       "      <th>50%</th>\n",
       "      <th>75%</th>\n",
       "      <th>max</th>\n",
       "      <th>sample</th>\n",
       "      <th>length</th>\n",
       "    </tr>\n",
       "  </thead>\n",
       "  <tbody>\n",
       "    <tr>\n",
       "      <th>421168</th>\n",
       "      <td>NODE_1135_length_1291_cov_200.006590</td>\n",
       "      <td>1291.0</td>\n",
       "      <td>12380.517428</td>\n",
       "      <td>19355.465461</td>\n",
       "      <td>1.0</td>\n",
       "      <td>3.0</td>\n",
       "      <td>6.0</td>\n",
       "      <td>23984.0</td>\n",
       "      <td>59225.0</td>\n",
       "      <td>CMS002_007a_Rb_S118_L004</td>\n",
       "      <td>1291</td>\n",
       "    </tr>\n",
       "  </tbody>\n",
       "</table>\n",
       "</div>"
      ],
      "text/plain": [
       "                                   contig_id   count          mean  \\\n",
       "421168  NODE_1135_length_1291_cov_200.006590  1291.0  12380.517428   \n",
       "\n",
       "                 std  min  25%  50%      75%      max  \\\n",
       "421168  19355.465461  1.0  3.0  6.0  23984.0  59225.0   \n",
       "\n",
       "                          sample  length  \n",
       "421168  CMS002_007a_Rb_S118_L004    1291  "
      ]
     },
     "execution_count": 445,
     "metadata": {},
     "output_type": "execute_result"
    }
   ],
   "source": [
    "cov_sum_long.iloc[outliers_long]"
   ]
  },
  {
   "cell_type": "code",
   "execution_count": null,
   "metadata": {},
   "outputs": [],
   "source": []
  }
 ],
 "metadata": {
  "kernelspec": {
   "display_name": "Python 3",
   "language": "python",
   "name": "python3"
  },
  "language_info": {
   "codemirror_mode": {
    "name": "ipython",
    "version": 3
   },
   "file_extension": ".py",
   "mimetype": "text/x-python",
   "name": "python",
   "nbconvert_exporter": "python",
   "pygments_lexer": "ipython3",
   "version": "3.6.5"
  }
 },
 "nbformat": 4,
 "nbformat_minor": 2
}
