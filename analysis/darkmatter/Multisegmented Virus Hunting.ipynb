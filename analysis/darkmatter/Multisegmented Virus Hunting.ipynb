{
 "cells": [
  {
   "cell_type": "code",
   "execution_count": 1,
   "metadata": {},
   "outputs": [],
   "source": [
    "import pandas as pd\n",
    "import numpy as np\n",
    "import matplotlib.pyplot as plt\n",
    "import networkx as nx\n",
    "%matplotlib inline"
   ]
  },
  {
   "cell_type": "code",
   "execution_count": 2,
   "metadata": {},
   "outputs": [],
   "source": [
    "from collections import Counter, defaultdict\n",
    "import seaborn as sns"
   ]
  },
  {
   "cell_type": "code",
   "execution_count": 5,
   "metadata": {},
   "outputs": [
    {
     "name": "stdout",
     "output_type": "stream",
     "text": [
      "================================================================\n",
      "Program: CD-HIT, V4.8.1 (+OpenMP), Jul 22 2019, 16:30:15\n",
      "Command:\n",
      "         /Users/josh/packages/cd-hit-v4.8.1-2019-0228/cd-hit-est\n",
      "         -M 2000 -T 3 -d 0 -i\n",
      "         /Users/josh/src/skeeters/data/500_contigs.fasta -o\n",
      "         /Users/josh/src/skeeters/data/500_contigs_cluster\n",
      "\n",
      "Started: Wed Jul 31 11:08:13 2019\n",
      "================================================================\n",
      "                            Output                              \n",
      "----------------------------------------------------------------\n",
      "total seq: 117833\n",
      "longest and shortest : 18525 and 501\n",
      "Total letters: 98758862\n",
      "Sequences have been sorted\n",
      "\n",
      "Approximated minimal memory consumption:\n",
      "Sequence        : 118M\n",
      "Buffer          : 3 X 17M = 52M\n",
      "Table           : 2 X 18M = 37M\n",
      "Miscellaneous   : 5M\n",
      "Total           : 213M\n",
      "\n",
      "Table limit with the given memory limit:\n",
      "Max number of representatives: 1909210\n",
      "Max number of word counting entries: 223264246\n",
      "\n",
      "# comparing sequences from          0  to      15430\n",
      "..............---------- new table with    11383 representatives\n",
      "# comparing sequences from      15430  to      35910\n",
      "..........    20000  finished      14787  clusters\n",
      "..........    30000  finished      22026  clusters\n",
      "100.0%---------- new table with    14803 representatives\n",
      "# comparing sequences from      35910  to      52294\n",
      "..........    40000  finished      29110  clusters\n",
      "..........    50000  finished      36268  clusters\n",
      "100.0%---------- new table with    11717 representatives\n",
      "# comparing sequences from      52294  to      65401\n",
      "..........    60000  finished      43311  clusters\n",
      "99.9%---------- new table with     9152 representatives\n",
      "# comparing sequences from      65401  to      75887\n",
      "99.9%---------- new table with     7212 representatives\n",
      "# comparing sequences from      75887  to      84276\n",
      "99.9%................---------- new table with     5655 representatives\n",
      "# comparing sequences from      84276  to      90987\n",
      "100.0%...........---------- new table with     4468 representatives\n",
      "# comparing sequences from      90987  to      96356\n",
      "99.9%---------- new table with     3588 representatives\n",
      "# comparing sequences from      96356  to     100651\n",
      "99.9%---------- new table with     2859 representatives\n",
      "# comparing sequences from     100651  to     104087\n",
      "100.0%---------- new table with     2271 representatives\n",
      "# comparing sequences from     104087  to     106836\n",
      "100.0%---------- new table with     1828 representatives\n",
      "# comparing sequences from     106836  to     109035\n",
      "99.9%---------- new table with     1467 representatives\n",
      "# comparing sequences from     109035  to     110794\n",
      "99.9%---------- new table with     1168 representatives\n",
      "# comparing sequences from     110794  to     112201\n",
      "99.9%---------- new table with      927 representatives\n",
      "# comparing sequences from     112201  to     113327\n",
      "99.9%.....---------- new table with      693 representatives\n",
      "# comparing sequences from     113327  to     114228\n",
      "99.9%---------- new table with      592 representatives\n",
      "# comparing sequences from     114228  to     114949\n",
      "99.9%........---------- new table with      477 representatives\n",
      "# comparing sequences from     114949  to     115525\n",
      "99.9%---------- new table with      369 representatives\n",
      "# comparing sequences from     115525  to     115986\n",
      "100.0%.......---------- new table with      314 representatives\n",
      "# comparing sequences from     115986  to     116355\n",
      "99.9%---------- new table with      238 representatives\n",
      "# comparing sequences from     116355  to     116650\n",
      "100.0%---------- new table with      216 representatives\n",
      "# comparing sequences from     116650  to     116886\n",
      ".........---------- new table with      141 representatives\n",
      "# comparing sequences from     116886  to     117833\n",
      "...............---------- new table with      623 representatives\n",
      "\n",
      "   117833  finished      82161  clusters\n",
      "\n",
      "Approximated maximum memory consumption: 482M\n",
      "writing new database\n",
      "writing clustering information\n",
      "program completed !\n",
      "\n",
      "Total CPU time 330.40\n"
     ]
    }
   ],
   "source": [
    "# !/Users/josh/packages/cd-hit-v4.8.1-2019-0228/cd-hit-est -M 2000 -T 3 -d 0  \\\n",
    "#     -i ~/src/skeeters/data/500_contigs.fasta \\\n",
    "#     -o ~/src/skeeters/data/500_contigs_cluster"
   ]
  },
  {
   "cell_type": "code",
   "execution_count": 10,
   "metadata": {},
   "outputs": [],
   "source": [
    "from collections import defaultdict, namedtuple\n",
    "Member = namedtuple('Member', ['contig', 'length', 'percent_id', 'percent_id_sign', 'sample', 'coverage'])"
   ]
  },
  {
   "cell_type": "code",
   "execution_count": 11,
   "metadata": {},
   "outputs": [],
   "source": [
    "def parse_cdhit_row(row):\n",
    "    if '*' in row:\n",
    "        index, length, name, percent_id = row.split()\n",
    "        percent_id_sign, percent_id = '0', 100\n",
    "    else:\n",
    "        index, length, name, _, percent_id = row.split()\n",
    "    length = int(length.strip(',nt'))\n",
    "    name = name.strip('>').strip('.')\n",
    "    sample, contig = name.split('~')\n",
    "    coverage = float(contig.split('_')[-1])\n",
    "    \n",
    "    if percent_id != 100:\n",
    "        percent_id_sign, percent_id = percent_id.strip('%').split('/')\n",
    "        percent_id = float(percent_id)\n",
    "    return Member(contig=contig, sample=sample, length=length,\n",
    "                  percent_id=percent_id, percent_id_sign=percent_id_sign, coverage=coverage)"
   ]
  },
  {
   "cell_type": "code",
   "execution_count": 12,
   "metadata": {},
   "outputs": [
    {
     "data": {
      "text/plain": [
       "Member(contig='NODE_2_length_2441_cov_25.388748', length=2441, percent_id=99.8, percent_id_sign='-', sample='CMS002_026d_Rb_S149_L004', coverage=25.388748)"
      ]
     },
     "execution_count": 12,
     "metadata": {},
     "output_type": "execute_result"
    }
   ],
   "source": [
    "example_row = '3\t2441nt, >CMS002_026d_Rb_S149_L004~NODE_2_length_2441_cov_25.388748... at -/99.80%'\n",
    "parse_cdhit_row(example_row)"
   ]
  },
  {
   "cell_type": "code",
   "execution_count": 24,
   "metadata": {},
   "outputs": [],
   "source": [
    "clusters = defaultdict(list)\n",
    "with open('../data/500_contigs_cluster.clstr', 'r') as file:\n",
    "    for line in file:\n",
    "        if line.startswith('>Cluster'):\n",
    "            cluster_id = line.split()[-1]\n",
    "        else:\n",
    "            member = parse_cdhit_row(line)\n",
    "            if 'water' in member.sample.lower():\n",
    "                continue\n",
    "            clusters[cluster_id].append(member)"
   ]
  },
  {
   "cell_type": "code",
   "execution_count": 25,
   "metadata": {},
   "outputs": [
    {
     "data": {
      "text/plain": [
       "82003"
      ]
     },
     "execution_count": 25,
     "metadata": {},
     "output_type": "execute_result"
    }
   ],
   "source": [
    "len(clusters)"
   ]
  },
  {
   "cell_type": "code",
   "execution_count": 26,
   "metadata": {},
   "outputs": [],
   "source": [
    "# remove singletons\n",
    "clusters = {cluster_id: clusters[cluster_id] for cluster_id in clusters if len(clusters[cluster_id]) > 1}\n",
    "samples = list(set([member.sample for cluster_id in clusters for member in clusters[cluster_id]]))"
   ]
  },
  {
   "cell_type": "code",
   "execution_count": 50,
   "metadata": {},
   "outputs": [],
   "source": [
    "def get_representative(cluster):\n",
    "    representative = [member for member in cluster if member.percent_id_sign == '0'][0]\n",
    "    return representative\n",
    "def print_cluster(cluster_id):\n",
    "    cluster = clusters[cluster_id]\n",
    "    representative = get_representative(cluster)\n",
    "    samples = defaultdict(list)\n",
    "    for member in cluster:\n",
    "        samples[member.sample].append(str(member.length))\n",
    "    lengths_list = ','.join(['+'.join(lengths) for lengths in samples.values()])\n",
    "    \n",
    "    print('Cluster: ', cluster_id)\n",
    "    print('Rep contig: ', representative.sample, representative.contig)\n",
    "    print('Rep Length: ', representative.length)\n",
    "    print('N samples: ', len(samples))\n",
    "    print('Contig Lengths: ', lengths_list)"
   ]
  },
  {
   "cell_type": "code",
   "execution_count": 51,
   "metadata": {},
   "outputs": [
    {
     "name": "stdout",
     "output_type": "stream",
     "text": [
      "Cluster:  100\n",
      "Rep contig:  CMS002_053a_Rb_S7_L004 NODE_14_length_5720_cov_8.857700\n",
      "Rep Length:  5720\n",
      "N samples:  29\n",
      "Contig Lengths:  1315,1585+1244+1034,670,5720,1037+615+580+570,863+549,809+574,908+562+523,1253+1025,746,542,1096+820,876,1158,953+908,858,917+587,619+520,975,521,1922+987+940,761,575,535,963,695+628+507,1050+707+524,858+502,757\n"
     ]
    }
   ],
   "source": [
    "print_cluster('100')"
   ]
  },
  {
   "cell_type": "code",
   "execution_count": 30,
   "metadata": {},
   "outputs": [],
   "source": [
    "contig_to_cluster = {member.contig: cluster_id for cluster_id in clusters for member in clusters[cluster_id]}"
   ]
  },
  {
   "cell_type": "code",
   "execution_count": 31,
   "metadata": {},
   "outputs": [],
   "source": [
    "def graph_from_clusters(clusters):\n",
    "    G = nx.Graph()\n",
    "    for cluster_id in clusters:\n",
    "        for member in clusters[cluster_id]:\n",
    "            if member.length > 700:\n",
    "                G.add_edge(cluster_id, member.sample, attr_dict=member._asdict())\n",
    "    return G"
   ]
  },
  {
   "cell_type": "code",
   "execution_count": 32,
   "metadata": {},
   "outputs": [],
   "source": [
    "G = graph_from_clusters(clusters)"
   ]
  },
  {
   "cell_type": "code",
   "execution_count": 33,
   "metadata": {},
   "outputs": [],
   "source": [
    "def df_from_subset(subset, aggregation = None):\n",
    "    df = pd.DataFrame(columns = [cluster_id for cluster_id in clusters if cluster_id in subset], \n",
    "                      index = [sample for sample in samples if sample in subset], dtype=int).fillna(0)\n",
    "    # make a heatmap\n",
    "    for cluster_id in clusters:\n",
    "        if cluster_id not in subset:\n",
    "            continue\n",
    "        for member in clusters[cluster_id]:\n",
    "            if member.sample not in subset:\n",
    "                continue\n",
    "            if aggregation == None:\n",
    "                df.loc[member.sample, cluster_id] = 1\n",
    "            if aggregation == 'coverage':\n",
    "                df.loc[member.sample, cluster_id] += member.coverage\n",
    "            if aggregation == 'length':\n",
    "                df.loc[member.sample, cluster_id] += member.length\n",
    "    return df"
   ]
  },
  {
   "cell_type": "code",
   "execution_count": 34,
   "metadata": {},
   "outputs": [],
   "source": [
    "def walk(nodes, G=G):\n",
    "    if not isinstance(nodes, list):\n",
    "        nodes = [nodes]\n",
    "    return [nbr for node in nodes for nbr in G.neighbors(node) ]"
   ]
  },
  {
   "cell_type": "code",
   "execution_count": 35,
   "metadata": {},
   "outputs": [],
   "source": [
    "def nbhd(start, depth=1):\n",
    "    if isinstance(start, str):\n",
    "        start = [start]\n",
    "    n = start\n",
    "    for i in range(depth):\n",
    "        n = n + walk(n)\n",
    "    return set(n)"
   ]
  },
  {
   "cell_type": "code",
   "execution_count": 36,
   "metadata": {},
   "outputs": [
    {
     "data": {
      "text/plain": [
       "[1, 16, 50, 135]"
      ]
     },
     "execution_count": 36,
     "metadata": {},
     "output_type": "execute_result"
    }
   ],
   "source": [
    "# Test that neighborhoods grow\n",
    "[len(nbhd(contig_to_cluster['NODE_2_length_2441_cov_25.388748'], i)) for i in range(4)]"
   ]
  },
  {
   "cell_type": "markdown",
   "metadata": {},
   "source": [
    "## Examples"
   ]
  },
  {
   "cell_type": "code",
   "execution_count": 37,
   "metadata": {},
   "outputs": [],
   "source": [
    "def split_hannah(input):\n",
    "    return [line.split('\\t')[2] for line in input.split('\\n')]\n",
    "wuhan6 = \"\"\"CMS001_042_Ra_S23\tbin10\tNODE_10_length_2444_cov_49.183354\t1702\t36384680\t46.77792961 seg1=PB2\n",
    "CMS001_042_Ra_S23\tbin11\tNODE_11_length_2437_cov_68.228814\t2361\t36384680\t64.88994819 seg2=PB1\n",
    "CMS001_042_Ra_S23\tbin12\tNODE_12_length_2238_cov_65.551134\t2072\t36384680\t56.94704475 seg3=PA\n",
    "CMS001_042_Ra_S23\tbin13\tNODE_15_length_1855_cov_99.279528\t2584\t36384680\t71.01890136 seg4=NP\n",
    "CMS001_042_Ra_S23\tbin3\tNODE_28_length_1501_cov_37.367978\t787\t36384680\t21.62998273 seg5=gp\n",
    "CMS001_042_Ra_S23\tbin4\tNODE_131_length_861_cov_90.163265\t1027\t36384680\t28.22616552 seg6=hypoth\"\"\"\n",
    "\n",
    "wuhan6_ish_contigs = split_hannah(wuhan6)\n",
    "\n"
   ]
  },
  {
   "cell_type": "code",
   "execution_count": 38,
   "metadata": {},
   "outputs": [],
   "source": [
    "whidbey_ish = \"\"\"CMS002_018b_Rb_S129_L004\tbin1\tNODE_4_length_2203_cov_29.747883\t906\t89837146\t10.08491521 PA\n",
    "CMS002_018b_Rb_S129_L004\tbin15\tNODE_10_length_884_cov_107.267658\t1237\t89837146\t13.76935995 NP\n",
    "CMS002_018b_Rb_S129_L004\tbin15\tNODE_9_length_939_cov_28.932715\t361\t89837146\t4.018382329 NP\n",
    "CMS002_018b_Rb_S129_L004\tbin2\tNODE_2_length_2430_cov_26.274968\t876\t89837146\t9.750977619 PB1\"\"\"\n",
    "\n",
    "whidbey_ish_contigs = split_hannah(whidbey_ish)\n",
    "\n"
   ]
  },
  {
   "cell_type": "code",
   "execution_count": 39,
   "metadata": {},
   "outputs": [],
   "source": [
    "wm3_ish = \"\"\"CMS001_027_Ra_S16\tbin14\tNODE_6_length_2203_cov_26.203669\t930\t29422908\t31.6080246 PA\n",
    "CMS001_027_Ra_S16\tbin16\tNODE_16_length_1779_cov_20.285546\t605\t29422908\t20.56220955 NP\n",
    "CMS001_027_Ra_S16\tbin17\tNODE_3_length_2447_cov_21.006751\t882\t29422908\t29.97664269 PB1\n",
    "CMS001_027_Ra_S16\tbin7\tNODE_4_length_2420_cov_26.034571\t1026\t29422908\t34.87078843 PB2\"\"\"\n",
    "\n",
    "wm3_ish_contigs = split_hannah(wm3_ish)\n",
    "\n"
   ]
  },
  {
   "cell_type": "code",
   "execution_count": 40,
   "metadata": {},
   "outputs": [],
   "source": [
    "def sort_by(x_list, idx_list):\n",
    "     return [x for (idx,x) in sorted(zip(idx_list,x_list), key=lambda pair: pair[0])]"
   ]
  },
  {
   "cell_type": "code",
   "execution_count": 41,
   "metadata": {},
   "outputs": [],
   "source": [
    "def fish_dark_matter(bait_contigs, overlap_cutoff=0.9):\n",
    "    bait_clusters = [contig_to_cluster[c] for c in bait_contigs]\n",
    "    df = df_from_subset(nbhd(bait_clusters, 3))\n",
    "    samples_with_bait = df.loc[:, bait_clusters].sum(axis = 1) == len(bait_clusters)\n",
    "    n_samples_with_bait = df.loc[:, bait_clusters].sum().mean()\n",
    "    clusters_containing_bait = df.loc[samples_with_bait].sum() >= (overlap_cutoff * n_samples_with_bait)\n",
    "    clusters_not_overflowing_bait = (df.sum() * overlap_cutoff) <= n_samples_with_bait\n",
    "\n",
    "    overlapping_clusters = df.columns[clusters_containing_bait & clusters_not_overflowing_bait]\n",
    "    df = df[overlapping_clusters]\n",
    "    df = df.loc[df.sum(axis = 1) > 0,:]\n",
    "    \n",
    "    return df\n",
    "\n",
    "def display_dark_matter(df):\n",
    "    overlapping_clusters = df.columns\n",
    "\n",
    "    print('Found ', len(overlapping_clusters), ' candidate segments.')\n",
    "    lengths = [get_representative(clusters[cluster_id]).length for cluster_id in overlapping_clusters]\n",
    "    print('Segment lengths: ', sorted(lengths, reverse=True))\n",
    "    for cluster in sort_by(overlapping_clusters, lengths):\n",
    "        print('---')\n",
    "        print_cluster(cluster)\n",
    "    if (df > 0).mean().mean() < 1:\n",
    "        sns.clustermap(df)\n",
    "\n",
    "# # Add code to return a subset of the dataframe with the candidate overlapping_clusters"
   ]
  },
  {
   "cell_type": "code",
   "execution_count": 60,
   "metadata": {},
   "outputs": [
    {
     "name": "stdout",
     "output_type": "stream",
     "text": [
      "Found  6  candidate segments.\n",
      "Segment lengths:  [2444, 2441, 2239, 1871, 1532, 866]\n",
      "---\n",
      "Cluster:  24013\n",
      "Rep contig:  CMS001_038_Ra_S22 NODE_80_length_866_cov_105.239544\n",
      "Rep Length:  866\n",
      "N samples:  13\n",
      "Contig Lengths:  863,862,866,851,861,852,862,854,861,857,861,858,853\n",
      "---\n",
      "Cluster:  5024\n",
      "Rep contig:  CMS002_029e_Rb_S164_L004 NODE_27_length_1532_cov_20.452921\n",
      "Rep Length:  1532\n",
      "N samples:  13\n",
      "Contig Lengths:  1515,1500,1495,1497,1496,1491,1504,1501,1496,1496,1501,1500,1532\n",
      "---\n",
      "Cluster:  2693\n",
      "Rep contig:  CMS002_056a_Rb_S9_L004 NODE_23_length_1871_cov_203.951505\n",
      "Rep Length:  1871\n",
      "N samples:  13\n",
      "Contig Lengths:  1865,1867,1858,1845,1850,1860,1860,1859,1865,1856,1855,1871,1868\n",
      "---\n",
      "Cluster:  1525\n",
      "Rep contig:  CMS002_029e_Rb_S164_L004 NODE_13_length_2239_cov_35.559667\n",
      "Rep Length:  2239\n",
      "N samples:  13\n",
      "Contig Lengths:  2227,2228,2223,2228,2221,2225,2234,2238,2228,2222,2238,2235,2239\n",
      "---\n",
      "Cluster:  1170\n",
      "Rep contig:  CMS002_029c_Rb_S161_L004 NODE_9_length_2441_cov_36.508037\n",
      "Rep Length:  2441\n",
      "N samples:  13\n",
      "Contig Lengths:  2434,2437,2437,2438,2434,2431,2438,2436,2441,2436,2437,2441,2433\n",
      "---\n",
      "Cluster:  1163\n",
      "Rep contig:  CMS001_042_Ra_S23 NODE_10_length_2444_cov_49.183354\n",
      "Rep Length:  2444\n",
      "N samples:  13\n",
      "Contig Lengths:  2440,2443,2439,2431,2437,2417,2441,2438,2437,2437,2444,2441,2436\n"
     ]
    }
   ],
   "source": [
    "# From one wuhan 6 contig\n",
    "display_dark_matter(fish_dark_matter(wuhan6_ish_contigs[:1], 0.8))"
   ]
  },
  {
   "cell_type": "code",
   "execution_count": 61,
   "metadata": {},
   "outputs": [
    {
     "name": "stdout",
     "output_type": "stream",
     "text": [
      "Found  6  candidate segments.\n",
      "Segment lengths:  [2447, 2420, 2203, 1779, 1449, 813]\n",
      "---\n",
      "Cluster:  27844\n",
      "Rep contig:  CMS001_046_Ra_S3 NODE_46_length_813_cov_29.523098\n",
      "Rep Length:  813\n",
      "N samples:  2\n",
      "Contig Lengths:  803,813\n",
      "---\n",
      "Cluster:  5942\n",
      "Rep contig:  CMS001_046_Ra_S3 NODE_15_length_1449_cov_6.100583\n",
      "Rep Length:  1449\n",
      "N samples:  2\n",
      "Contig Lengths:  1443,1449\n",
      "---\n",
      "Cluster:  3153\n",
      "Rep contig:  CMS001_027_Ra_S16 NODE_16_length_1779_cov_20.285546\n",
      "Rep Length:  1779\n",
      "N samples:  2\n",
      "Contig Lengths:  1779,1765\n",
      "---\n",
      "Cluster:  1610\n",
      "Rep contig:  CMS001_027_Ra_S16 NODE_6_length_2203_cov_26.203669\n",
      "Rep Length:  2203\n",
      "N samples:  2\n",
      "Contig Lengths:  2203,2196\n",
      "---\n",
      "Cluster:  1204\n",
      "Rep contig:  CMS001_027_Ra_S16 NODE_4_length_2420_cov_26.034571\n",
      "Rep Length:  2420\n",
      "N samples:  2\n",
      "Contig Lengths:  2420,2418\n",
      "---\n",
      "Cluster:  1160\n",
      "Rep contig:  CMS001_027_Ra_S16 NODE_3_length_2447_cov_21.006751\n",
      "Rep Length:  2447\n",
      "N samples:  2\n",
      "Contig Lengths:  2447,2447\n"
     ]
    }
   ],
   "source": [
    "# wm3 candidates\n",
    "display_dark_matter(fish_dark_matter(wm3_ish_contigs))"
   ]
  },
  {
   "cell_type": "code",
   "execution_count": 62,
   "metadata": {},
   "outputs": [
    {
     "name": "stdout",
     "output_type": "stream",
     "text": [
      "Found  9  candidate segments.\n",
      "Segment lengths:  [6634, 2449, 2442, 2301, 2245, 2123, 1842, 1534, 869]\n",
      "---\n",
      "Cluster:  23854\n",
      "Rep contig:  CMS002_045c_Rb_S185_L004 NODE_14_length_869_cov_33.226010\n",
      "Rep Length:  869\n",
      "N samples:  15\n",
      "Contig Lengths:  856,857,869,857,857,863,664,534,853,861,857,857,856,857,860\n",
      "---\n",
      "Cluster:  4999\n",
      "Rep contig:  CMS002_045f_Rb_S189_L004 NODE_10_length_1534_cov_13.974605\n",
      "Rep Length:  1534\n",
      "N samples:  15\n",
      "Contig Lengths:  1515,1476,1510,1505,1513,1510,1001,899,1507,1534,1505,1494,1511,1514,1496\n",
      "---\n",
      "Cluster:  2828\n",
      "Rep contig:  CMS002_045e_Rb_S188_L004 NODE_7_length_1842_cov_33.126346\n",
      "Rep Length:  1842\n",
      "N samples:  15\n",
      "Contig Lengths:  1838,1819,1835,1817,1827,1832,1079+689,1804,1839,1841,1823,1838,1842,1815,1830\n",
      "---\n",
      "Cluster:  1813\n",
      "Rep contig:  CMS002_026e_Rb_S150_L004 NODE_5_length_2123_cov_21.675953\n",
      "Rep Length:  2123\n",
      "N samples:  16\n",
      "Contig Lengths:  2093,2056,2093,2087,2096,2084,1404,2040,2093,2079,2085,2091,793,2089,2107,2123\n",
      "---\n",
      "Cluster:  1513\n",
      "Rep contig:  CMS002_026c_Rb_S148_L004 NODE_4_length_2245_cov_17.264299\n",
      "Rep Length:  2245\n",
      "N samples:  15\n",
      "Contig Lengths:  2237,2185,2243,2234,2236,2245,828+753+585,1313,2239,2230,2232,2235,2229,2245,2229\n",
      "---\n",
      "Cluster:  1392\n",
      "Rep contig:  CMS002_045g_Rb_S190_L004 NODE_5_length_2301_cov_72.350270\n",
      "Rep Length:  2301\n",
      "N samples:  16\n",
      "Contig Lengths:  2044,2030,2049,2035,2301,2140,1441,2026,2041,2042,2041,2045,991+547,2037,2095,2066\n",
      "---\n",
      "Cluster:  1168\n",
      "Rep contig:  CMS002_026a_Rb_S146_L004 NODE_2_length_2442_cov_5.123890\n",
      "Rep Length:  2442\n",
      "N samples:  15\n",
      "Contig Lengths:  2435,1386,2416,2436,2424,2440,757,525,2417,2425,2434,2442,2431,2431,2421\n",
      "---\n",
      "Cluster:  1158\n",
      "Rep contig:  CMS002_045c_Rb_S185_L004 NODE_3_length_2449_cov_17.910624\n",
      "Rep Length:  2449\n",
      "N samples:  15\n",
      "Contig Lengths:  2437,2366,2449,2446,2443,2446,1037,771,2441,2437,2437,2440,2442,2437,2445\n",
      "---\n",
      "Cluster:  70\n",
      "Rep contig:  CMS002_045b_Rb_S184_L004 NODE_1_length_6634_cov_114.513192\n",
      "Rep Length:  6634\n",
      "N samples:  16\n",
      "Contig Lengths:  6614,6606,6614,6611,6613,6634,2581+1484+1392,3265+2955,6612,6613,6620,6613,580,6614,6612,6618\n"
     ]
    },
    {
     "data": {
      "image/png": "[encoded data removed]",
      "text/plain": [
       "<Figure size 720x720 with 4 Axes>"
      ]
     },
     "metadata": {
      "needs_background": "light"
     },
     "output_type": "display_data"
    }
   ],
   "source": [
    "awuhan6_seed = 'NODE_4_length_2235_cov_10.352641'\n",
    "\n",
    "display_dark_matter(fish_dark_matter([awuhan6_seed]))"
   ]
  },
  {
   "cell_type": "markdown",
   "metadata": {},
   "source": [
    "If we contract the search to an exact match, we find just six segments."
   ]
  },
  {
   "cell_type": "code",
   "execution_count": 65,
   "metadata": {},
   "outputs": [
    {
     "name": "stdout",
     "output_type": "stream",
     "text": [
      "Found  6  candidate segments.\n",
      "Segment lengths:  [2449, 2442, 2245, 1842, 1534, 869]\n",
      "---\n",
      "Cluster:  23854\n",
      "Rep contig:  CMS002_045c_Rb_S185_L004 NODE_14_length_869_cov_33.226010\n",
      "Rep Length:  869\n",
      "N samples:  15\n",
      "Contig Lengths:  856,857,869,857,857,863,664,534,853,861,857,857,856,857,860\n",
      "---\n",
      "Cluster:  4999\n",
      "Rep contig:  CMS002_045f_Rb_S189_L004 NODE_10_length_1534_cov_13.974605\n",
      "Rep Length:  1534\n",
      "N samples:  15\n",
      "Contig Lengths:  1515,1476,1510,1505,1513,1510,1001,899,1507,1534,1505,1494,1511,1514,1496\n",
      "---\n",
      "Cluster:  2828\n",
      "Rep contig:  CMS002_045e_Rb_S188_L004 NODE_7_length_1842_cov_33.126346\n",
      "Rep Length:  1842\n",
      "N samples:  15\n",
      "Contig Lengths:  1838,1819,1835,1817,1827,1832,1079+689,1804,1839,1841,1823,1838,1842,1815,1830\n",
      "---\n",
      "Cluster:  1513\n",
      "Rep contig:  CMS002_026c_Rb_S148_L004 NODE_4_length_2245_cov_17.264299\n",
      "Rep Length:  2245\n",
      "N samples:  15\n",
      "Contig Lengths:  2237,2185,2243,2234,2236,2245,828+753+585,1313,2239,2230,2232,2235,2229,2245,2229\n",
      "---\n",
      "Cluster:  1168\n",
      "Rep contig:  CMS002_026a_Rb_S146_L004 NODE_2_length_2442_cov_5.123890\n",
      "Rep Length:  2442\n",
      "N samples:  15\n",
      "Contig Lengths:  2435,1386,2416,2436,2424,2440,757,525,2417,2425,2434,2442,2431,2431,2421\n",
      "---\n",
      "Cluster:  1158\n",
      "Rep contig:  CMS002_045c_Rb_S185_L004 NODE_3_length_2449_cov_17.910624\n",
      "Rep Length:  2449\n",
      "N samples:  15\n",
      "Contig Lengths:  2437,2366,2449,2446,2443,2446,1037,771,2441,2437,2437,2440,2442,2437,2445\n"
     ]
    }
   ],
   "source": [
    "display_dark_matter(fish_dark_matter([awuhan6_seed], 1.0))"
   ]
  },
  {
   "cell_type": "markdown",
   "metadata": {},
   "source": [
    "# Adding Species"
   ]
  },
  {
   "cell_type": "code",
   "execution_count": 156,
   "metadata": {},
   "outputs": [
    {
     "data": {
      "text/html": [
       "<div>\n",
       "<style scoped>\n",
       "    .dataframe tbody tr th:only-of-type {\n",
       "        vertical-align: middle;\n",
       "    }\n",
       "\n",
       "    .dataframe tbody tr th {\n",
       "        vertical-align: top;\n",
       "    }\n",
       "\n",
       "    .dataframe thead th {\n",
       "        text-align: right;\n",
       "    }\n",
       "</style>\n",
       "<table border=\"1\" class=\"dataframe\">\n",
       "  <thead>\n",
       "    <tr style=\"text-align: right;\">\n",
       "      <th></th>\n",
       "      <th>NewIDseqName</th>\n",
       "      <th>OldIDseqName</th>\n",
       "      <th>czbiohub-mosquito_sequences_id</th>\n",
       "      <th>raw_sequence_run_directory</th>\n",
       "      <th>host</th>\n",
       "      <th>sample_type</th>\n",
       "      <th>nucleotide_type</th>\n",
       "      <th>collection_date</th>\n",
       "      <th>collection_lat</th>\n",
       "      <th>collection_long</th>\n",
       "      <th>...</th>\n",
       "      <th>blood_fed</th>\n",
       "      <th>sample_unit</th>\n",
       "      <th>known_organism</th>\n",
       "      <th>detection_method</th>\n",
       "      <th>library_prep</th>\n",
       "      <th>sequencer</th>\n",
       "      <th>rna_dna_input_ng</th>\n",
       "      <th>library_prep_batch</th>\n",
       "      <th>extraction_batch</th>\n",
       "      <th>Notes:</th>\n",
       "    </tr>\n",
       "  </thead>\n",
       "  <tbody>\n",
       "    <tr>\n",
       "      <th>0</th>\n",
       "      <td>CMS001_001_Ra_S1</td>\n",
       "      <td>CMS_001_RNA_A_S1</td>\n",
       "      <td>CMS_001_RNA_A_S1</td>\n",
       "      <td>czbiohub-seqbot/fastqs/180323_NB501961_0089_AH...</td>\n",
       "      <td>mosquito</td>\n",
       "      <td>whole</td>\n",
       "      <td>RNA</td>\n",
       "      <td>2017-10-03T00:00:00Z</td>\n",
       "      <td>37.55697</td>\n",
       "      <td>-122.07938</td>\n",
       "      <td>...</td>\n",
       "      <td>blood fed</td>\n",
       "      <td>1</td>\n",
       "      <td>NaN</td>\n",
       "      <td>NaN</td>\n",
       "      <td>NEBNext Ultra II Directional RNA Library Prep Kit</td>\n",
       "      <td>NextSeq</td>\n",
       "      <td>27.3</td>\n",
       "      <td>NaN</td>\n",
       "      <td>NaN</td>\n",
       "      <td>NaN</td>\n",
       "    </tr>\n",
       "    <tr>\n",
       "      <th>1</th>\n",
       "      <td>CMS001_002_Ra_S1</td>\n",
       "      <td>CMS_002_RNA_A_S1</td>\n",
       "      <td>CMS_002_RNA_A_S1</td>\n",
       "      <td>czbiohub-seqbot/fastqs/180412_NB501961_0097_AH...</td>\n",
       "      <td>mosquito</td>\n",
       "      <td>whole</td>\n",
       "      <td>RNA</td>\n",
       "      <td>2017-09-21T00:00:00Z</td>\n",
       "      <td>37.55697</td>\n",
       "      <td>-122.07938</td>\n",
       "      <td>...</td>\n",
       "      <td>blood fed</td>\n",
       "      <td>1</td>\n",
       "      <td>NaN</td>\n",
       "      <td>NaN</td>\n",
       "      <td>NEBNext Ultra II Directional RNA Library Prep Kit</td>\n",
       "      <td>NextSeq</td>\n",
       "      <td>59.8</td>\n",
       "      <td>NaN</td>\n",
       "      <td>NaN</td>\n",
       "      <td>NaN</td>\n",
       "    </tr>\n",
       "    <tr>\n",
       "      <th>2</th>\n",
       "      <td>CMS001_003_Ra_S2</td>\n",
       "      <td>CMS_003_RNA_A_S2</td>\n",
       "      <td>CMS_003_RNA_A_S2</td>\n",
       "      <td>czbiohub-seqbot/fastqs/180323_NB501961_0089_AH...</td>\n",
       "      <td>mosquito</td>\n",
       "      <td>whole</td>\n",
       "      <td>RNA</td>\n",
       "      <td>2017-09-19T00:00:00Z</td>\n",
       "      <td>37.55697</td>\n",
       "      <td>-122.07938</td>\n",
       "      <td>...</td>\n",
       "      <td>blood fed</td>\n",
       "      <td>1</td>\n",
       "      <td>NaN</td>\n",
       "      <td>NaN</td>\n",
       "      <td>NEBNext Ultra II Directional RNA Library Prep Kit</td>\n",
       "      <td>NextSeq</td>\n",
       "      <td>88.9</td>\n",
       "      <td>NaN</td>\n",
       "      <td>NaN</td>\n",
       "      <td>NaN</td>\n",
       "    </tr>\n",
       "    <tr>\n",
       "      <th>3</th>\n",
       "      <td>CMS001_004_Ra_S2</td>\n",
       "      <td>CMS_004_RNA_A_S2</td>\n",
       "      <td>CMS_004_RNA_A_S2</td>\n",
       "      <td>czbiohub-seqbot/fastqs/180412_NB501961_0097_AH...</td>\n",
       "      <td>mosquito</td>\n",
       "      <td>whole</td>\n",
       "      <td>RNA</td>\n",
       "      <td>2017-09-12T00:00:00Z</td>\n",
       "      <td>37.71520</td>\n",
       "      <td>-122.19431</td>\n",
       "      <td>...</td>\n",
       "      <td>blood fed</td>\n",
       "      <td>1</td>\n",
       "      <td>NaN</td>\n",
       "      <td>NaN</td>\n",
       "      <td>NEBNext Ultra II Directional RNA Library Prep Kit</td>\n",
       "      <td>NextSeq</td>\n",
       "      <td>88.4</td>\n",
       "      <td>NaN</td>\n",
       "      <td>NaN</td>\n",
       "      <td>NaN</td>\n",
       "    </tr>\n",
       "    <tr>\n",
       "      <th>4</th>\n",
       "      <td>CMS001_005_Ra_S3</td>\n",
       "      <td>CMS_005_RNA_A_S3</td>\n",
       "      <td>CMS_005_RNA_A_S3</td>\n",
       "      <td>czbiohub-seqbot/fastqs/180323_NB501961_0089_AH...</td>\n",
       "      <td>mosquito</td>\n",
       "      <td>whole</td>\n",
       "      <td>RNA</td>\n",
       "      <td>2017-09-29T00:00:00Z</td>\n",
       "      <td>37.78886</td>\n",
       "      <td>-122.29903</td>\n",
       "      <td>...</td>\n",
       "      <td>blood fed</td>\n",
       "      <td>1</td>\n",
       "      <td>NaN</td>\n",
       "      <td>NaN</td>\n",
       "      <td>NEBNext Ultra II Directional RNA Library Prep Kit</td>\n",
       "      <td>NextSeq</td>\n",
       "      <td>240.7</td>\n",
       "      <td>NaN</td>\n",
       "      <td>NaN</td>\n",
       "      <td>NaN</td>\n",
       "    </tr>\n",
       "  </tbody>\n",
       "</table>\n",
       "<p>5 rows × 30 columns</p>\n",
       "</div>"
      ],
      "text/plain": [
       "       NewIDseqName      OldIDseqName czbiohub-mosquito_sequences_id  \\\n",
       "0  CMS001_001_Ra_S1  CMS_001_RNA_A_S1               CMS_001_RNA_A_S1   \n",
       "1  CMS001_002_Ra_S1  CMS_002_RNA_A_S1               CMS_002_RNA_A_S1   \n",
       "2  CMS001_003_Ra_S2  CMS_003_RNA_A_S2               CMS_003_RNA_A_S2   \n",
       "3  CMS001_004_Ra_S2  CMS_004_RNA_A_S2               CMS_004_RNA_A_S2   \n",
       "4  CMS001_005_Ra_S3  CMS_005_RNA_A_S3               CMS_005_RNA_A_S3   \n",
       "\n",
       "                          raw_sequence_run_directory      host sample_type  \\\n",
       "0  czbiohub-seqbot/fastqs/180323_NB501961_0089_AH...  mosquito       whole   \n",
       "1  czbiohub-seqbot/fastqs/180412_NB501961_0097_AH...  mosquito       whole   \n",
       "2  czbiohub-seqbot/fastqs/180323_NB501961_0089_AH...  mosquito       whole   \n",
       "3  czbiohub-seqbot/fastqs/180412_NB501961_0097_AH...  mosquito       whole   \n",
       "4  czbiohub-seqbot/fastqs/180323_NB501961_0089_AH...  mosquito       whole   \n",
       "\n",
       "  nucleotide_type       collection_date  collection_lat  collection_long  \\\n",
       "0             RNA  2017-10-03T00:00:00Z        37.55697       -122.07938   \n",
       "1             RNA  2017-09-21T00:00:00Z        37.55697       -122.07938   \n",
       "2             RNA  2017-09-19T00:00:00Z        37.55697       -122.07938   \n",
       "3             RNA  2017-09-12T00:00:00Z        37.71520       -122.19431   \n",
       "4             RNA  2017-09-29T00:00:00Z        37.78886       -122.29903   \n",
       "\n",
       "   ...    blood_fed sample_unit known_organism detection_method  \\\n",
       "0  ...    blood fed           1            NaN              NaN   \n",
       "1  ...    blood fed           1            NaN              NaN   \n",
       "2  ...    blood fed           1            NaN              NaN   \n",
       "3  ...    blood fed           1            NaN              NaN   \n",
       "4  ...    blood fed           1            NaN              NaN   \n",
       "\n",
       "                                        library_prep  sequencer  \\\n",
       "0  NEBNext Ultra II Directional RNA Library Prep Kit   NextSeq    \n",
       "1  NEBNext Ultra II Directional RNA Library Prep Kit   NextSeq    \n",
       "2  NEBNext Ultra II Directional RNA Library Prep Kit   NextSeq    \n",
       "3  NEBNext Ultra II Directional RNA Library Prep Kit   NextSeq    \n",
       "4  NEBNext Ultra II Directional RNA Library Prep Kit   NextSeq    \n",
       "\n",
       "  rna_dna_input_ng library_prep_batch extraction_batch Notes:  \n",
       "0             27.3                NaN              NaN    NaN  \n",
       "1             59.8                NaN              NaN    NaN  \n",
       "2             88.9                NaN              NaN    NaN  \n",
       "3             88.4                NaN              NaN    NaN  \n",
       "4            240.7                NaN              NaN    NaN  \n",
       "\n",
       "[5 rows x 30 columns]"
      ]
     },
     "execution_count": 156,
     "metadata": {},
     "output_type": "execute_result"
    }
   ],
   "source": [
    "metadata = pd.read_csv('../data/CMS001_CMS002_MergedAnnotations_190325.csv')\n",
    "metadata.head()"
   ]
  },
  {
   "cell_type": "code",
   "execution_count": 157,
   "metadata": {},
   "outputs": [
    {
     "data": {
      "text/plain": [
       "Index(['NewIDseqName', 'OldIDseqName', 'czbiohub-mosquito_sequences_id',\n",
       "       'raw_sequence_run_directory', 'host', 'sample_type', 'nucleotide_type',\n",
       "       'collection_date', 'collection_lat', 'collection_long', 'Habitat',\n",
       "       'Population', 'collected_by', 'preservation_method', 'sex',\n",
       "       'life_stage', 'visual_genus', 'visual_species', 'compute_genus',\n",
       "       'compute_species', 'blood_fed', 'sample_unit', 'known_organism',\n",
       "       'detection_method', 'library_prep', 'sequencer', 'rna_dna_input_ng',\n",
       "       'library_prep_batch', 'extraction_batch', 'Notes:'],\n",
       "      dtype='object')"
      ]
     },
     "execution_count": 157,
     "metadata": {},
     "output_type": "execute_result"
    }
   ],
   "source": [
    "metadata.columns"
   ]
  },
  {
   "cell_type": "code",
   "execution_count": 158,
   "metadata": {},
   "outputs": [],
   "source": [
    "species = {sample: species for sample, species in zip(metadata['NewIDseqName'], metadata['compute_species'])}\n",
    "genus = {sample: species for sample, species in zip(metadata['NewIDseqName'], metadata['compute_genus'])}"
   ]
  },
  {
   "cell_type": "markdown",
   "metadata": {},
   "source": [
    "Likely, many of the Culex contigs are host which made it through filtering, because the genomes for the Culex species is much worse than that for Aedes."
   ]
  },
  {
   "cell_type": "code",
   "execution_count": 168,
   "metadata": {},
   "outputs": [
    {
     "data": {
      "text/plain": [
       "<matplotlib.axes._subplots.AxesSubplot at 0x1178b6160>"
      ]
     },
     "execution_count": 168,
     "metadata": {},
     "output_type": "execute_result"
    },
    {
     "data": {
      "image/png": "[encoded data removed]",
      "text/plain": [
       "<Figure size 432x288 with 1 Axes>"
      ]
     },
     "metadata": {
      "needs_background": "light"
     },
     "output_type": "display_data"
    }
   ],
   "source": [
    "genus_combo = pd.Series([\"-\".join(set([genus[member.sample] for member in clusters[cluster_id]]))\n",
    "                      for cluster_id in clusters]).value_counts()\n",
    "genus_combo.plot.bar(color='C0')"
   ]
  },
  {
   "cell_type": "code",
   "execution_count": null,
   "metadata": {},
   "outputs": [],
   "source": [
    "species_combo = pd.Series([\"-\".join(set([species[member.sample] for member in clusters[cluster_id]]))\n",
    "                      for cluster_id in clusters]).value_counts()\n",
    "species_combo.plot.bar(color='C0', figsize=(20,5))"
   ]
  },
  {
   "cell_type": "markdown",
   "metadata": {},
   "source": [
    "## Graph"
   ]
  },
  {
   "cell_type": "code",
   "execution_count": null,
   "metadata": {},
   "outputs": [],
   "source": [
    "from cyjupyter import Cytoscape\n",
    "from networkx.readwrite.json_graph import cytoscape_data"
   ]
  },
  {
   "cell_type": "code",
   "execution_count": null,
   "metadata": {},
   "outputs": [],
   "source": [
    "components = [G.subgraph(c) for c in nx.connected_components(G)]"
   ]
  },
  {
   "cell_type": "code",
   "execution_count": null,
   "metadata": {},
   "outputs": [],
   "source": [
    "subset = nbhd(wuhan6_exemplar_clusters, 1)\n",
    "subg = G.subgraph(subset)"
   ]
  },
  {
   "cell_type": "code",
   "execution_count": null,
   "metadata": {},
   "outputs": [],
   "source": [
    "nx.draw(subg)"
   ]
  },
  {
   "cell_type": "code",
   "execution_count": null,
   "metadata": {},
   "outputs": [],
   "source": [
    "Cytoscape(data=cytoscape_data(subg))"
   ]
  },
  {
   "cell_type": "code",
   "execution_count": null,
   "metadata": {},
   "outputs": [],
   "source": [
    "def is_sample(node):\n",
    "    return 1 if node.startswith('CMS') else 0"
   ]
  },
  {
   "cell_type": "code",
   "execution_count": null,
   "metadata": {},
   "outputs": [],
   "source": [
    "nx.draw(subg, node_size=50, node_color = [is_sample(node) for node in subg.nodes()])"
   ]
  },
  {
   "cell_type": "code",
   "execution_count": null,
   "metadata": {
    "scrolled": true
   },
   "outputs": [],
   "source": [
    "Cytoscape(data=cytoscape_data(aw6_subgraph), layout_name='circle')"
   ]
  }
 ],
 "metadata": {
  "kernelspec": {
   "display_name": "flash",
   "language": "python",
   "name": "flash"
  },
  "language_info": {
   "codemirror_mode": {
    "name": "ipython",
    "version": 3
   },
   "file_extension": ".py",
   "mimetype": "text/x-python",
   "name": "python",
   "nbconvert_exporter": "python",
   "pygments_lexer": "ipython3",
   "version": "3.5.3"
  }
 },
 "nbformat": 4,
 "nbformat_minor": 2
}
