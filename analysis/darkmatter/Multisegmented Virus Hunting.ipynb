{
 "cells": [
  {
   "cell_type": "code",
   "execution_count": 1,
   "metadata": {
    "ExecuteTime": {
     "end_time": "2019-11-06T22:44:52.963907Z",
     "start_time": "2019-11-06T22:44:51.910490Z"
    }
   },
   "outputs": [],
   "source": [
    "import pandas as pd\n",
    "import numpy as np\n",
    "import matplotlib.pyplot as plt\n",
    "import networkx as nx\n",
    "%matplotlib inline"
   ]
  },
  {
   "cell_type": "code",
   "execution_count": 2,
   "metadata": {
    "ExecuteTime": {
     "end_time": "2019-11-06T22:44:52.976269Z",
     "start_time": "2019-11-06T22:44:52.966898Z"
    }
   },
   "outputs": [],
   "source": [
    "from collections import Counter, defaultdict\n",
    "# import seaborn as sns"
   ]
  },
  {
   "cell_type": "code",
   "execution_count": 3,
   "metadata": {
    "ExecuteTime": {
     "end_time": "2019-11-06T22:44:52.988168Z",
     "start_time": "2019-11-06T22:44:52.984732Z"
    }
   },
   "outputs": [],
   "source": [
    "# !/Users/josh/packages/cd-hit-v4.8.1-2019-0228/cd-hit-est -M 2000 -T 3 -d 0  \\\n",
    "#     -i ~/src/skeeters/data/500_contigs.fasta \\\n",
    "#     -o ~/src/skeeters/data/500_contigs_cluster"
   ]
  },
  {
   "cell_type": "code",
   "execution_count": 4,
   "metadata": {
    "ExecuteTime": {
     "end_time": "2019-11-06T22:44:53.011442Z",
     "start_time": "2019-11-06T22:44:52.993460Z"
    }
   },
   "outputs": [],
   "source": [
    "from collections import defaultdict, namedtuple\n",
    "Member = namedtuple('Member', ['contig', 'length', 'percent_id', 'percent_id_sign', 'sample', 'coverage'])"
   ]
  },
  {
   "cell_type": "code",
   "execution_count": 5,
   "metadata": {
    "ExecuteTime": {
     "end_time": "2019-11-06T22:44:53.127359Z",
     "start_time": "2019-11-06T22:44:53.059693Z"
    }
   },
   "outputs": [],
   "source": [
    "def parse_cdhit_row(row):\n",
    "    if '*' in row:\n",
    "        index, length, name, percent_id = row.split()\n",
    "        percent_id_sign, percent_id = '0', 100\n",
    "    else:\n",
    "        index, length, name, _, percent_id = row.split()\n",
    "    length = int(length.strip(',nt'))\n",
    "    name = name.strip('>').strip('.')\n",
    "    sample, contig = name.split('~')\n",
    "    coverage = float(contig.split('_')[-1])\n",
    "    \n",
    "    if percent_id != 100:\n",
    "        percent_id_sign, percent_id = percent_id.strip('%').split('/')\n",
    "        percent_id = float(percent_id)\n",
    "    return Member(contig=contig, sample=sample, length=length,\n",
    "                  percent_id=percent_id, percent_id_sign=percent_id_sign, coverage=coverage)"
   ]
  },
  {
   "cell_type": "code",
   "execution_count": 6,
   "metadata": {
    "ExecuteTime": {
     "end_time": "2019-11-06T22:44:53.138342Z",
     "start_time": "2019-11-06T22:44:53.129401Z"
    }
   },
   "outputs": [
    {
     "data": {
      "text/plain": [
       "Member(contig='NODE_2_length_2441_cov_25.388748', length=2441, percent_id=99.8, percent_id_sign='-', sample='CMS002_026d_Rb_S149_L004', coverage=25.388748)"
      ]
     },
     "execution_count": 6,
     "metadata": {},
     "output_type": "execute_result"
    }
   ],
   "source": [
    "example_row = '3\t2441nt, >CMS002_026d_Rb_S149_L004~NODE_2_length_2441_cov_25.388748... at -/99.80%'\n",
    "parse_cdhit_row(example_row)"
   ]
  },
  {
   "cell_type": "code",
   "execution_count": 7,
   "metadata": {
    "ExecuteTime": {
     "end_time": "2019-11-06T22:44:55.763656Z",
     "start_time": "2019-11-06T22:44:53.141087Z"
    }
   },
   "outputs": [],
   "source": [
    "clusters = defaultdict(list)\n",
    "with open('/Users/evogytis/Documents/manuscripts/skeeters/data/500_contigs_cluster.clstr', 'r') as file:\n",
    "    for line in file:\n",
    "        if line.startswith('>Cluster'):\n",
    "            cluster_id = line.split()[-1]\n",
    "        else:\n",
    "            member = parse_cdhit_row(line)\n",
    "            if 'water' in member.sample.lower():\n",
    "                continue\n",
    "            clusters[cluster_id].append(member)"
   ]
  },
  {
   "cell_type": "code",
   "execution_count": 8,
   "metadata": {
    "ExecuteTime": {
     "end_time": "2019-11-06T22:44:55.793062Z",
     "start_time": "2019-11-06T22:44:55.768499Z"
    }
   },
   "outputs": [
    {
     "data": {
      "text/plain": [
       "82003"
      ]
     },
     "execution_count": 8,
     "metadata": {},
     "output_type": "execute_result"
    }
   ],
   "source": [
    "len(clusters)"
   ]
  },
  {
   "cell_type": "code",
   "execution_count": 9,
   "metadata": {
    "ExecuteTime": {
     "end_time": "2019-11-06T22:44:56.122111Z",
     "start_time": "2019-11-06T22:44:55.796317Z"
    }
   },
   "outputs": [],
   "source": [
    "# remove singletons\n",
    "clusters = {cluster_id: clusters[cluster_id] for cluster_id in clusters if len(clusters[cluster_id]) > 1}\n",
    "samples = list(set([member.sample for cluster_id in clusters for member in clusters[cluster_id]]))"
   ]
  },
  {
   "cell_type": "code",
   "execution_count": 10,
   "metadata": {
    "ExecuteTime": {
     "end_time": "2019-11-06T22:44:56.144860Z",
     "start_time": "2019-11-06T22:44:56.128677Z"
    }
   },
   "outputs": [],
   "source": [
    "def get_representative(cluster):\n",
    "    representative = [member for member in cluster if member.percent_id_sign == '0'][0]\n",
    "    return representative\n",
    "def print_cluster(cluster_id):\n",
    "    cluster = clusters[cluster_id]\n",
    "    representative = get_representative(cluster)\n",
    "    samples = defaultdict(list)\n",
    "    for member in cluster:\n",
    "        samples[member.sample].append(str(member.length))\n",
    "    lengths_list = ','.join(['+'.join(lengths) for lengths in samples.values()])\n",
    "    \n",
    "    print('Cluster: ', cluster_id)\n",
    "    print('Rep contig: ', representative.sample, representative.contig)\n",
    "    print('Rep Length: ', representative.length)\n",
    "    print('N samples: ', len(samples))\n",
    "    print('Contig Lengths: ', lengths_list)"
   ]
  },
  {
   "cell_type": "code",
   "execution_count": 11,
   "metadata": {
    "ExecuteTime": {
     "end_time": "2019-11-06T22:44:56.171488Z",
     "start_time": "2019-11-06T22:44:56.151375Z"
    }
   },
   "outputs": [
    {
     "name": "stdout",
     "output_type": "stream",
     "text": [
      "Cluster:  100\n",
      "Rep contig:  CMS002_053a_Rb_S7_L004 NODE_14_length_5720_cov_8.857700\n",
      "Rep Length:  5720\n",
      "N samples:  29\n",
      "Contig Lengths:  1585+1244+1034,1158,695+628+507,1922+987+940,619+520,1315,975,963,1050+707+524,1037+615+580+570,917+587,575,761,953+908,757,858+502,542,876,809+574,670,858,1253+1025,908+562+523,535,746,521,863+549,1096+820,5720\n"
     ]
    }
   ],
   "source": [
    "print_cluster('100')"
   ]
  },
  {
   "cell_type": "code",
   "execution_count": 12,
   "metadata": {
    "ExecuteTime": {
     "end_time": "2019-11-06T22:44:56.286758Z",
     "start_time": "2019-11-06T22:44:56.178054Z"
    }
   },
   "outputs": [],
   "source": [
    "contig_to_cluster = {member.contig: cluster_id for cluster_id in clusters for member in clusters[cluster_id]}"
   ]
  },
  {
   "cell_type": "code",
   "execution_count": 13,
   "metadata": {
    "ExecuteTime": {
     "end_time": "2019-11-06T22:44:56.325820Z",
     "start_time": "2019-11-06T22:44:56.295160Z"
    }
   },
   "outputs": [],
   "source": [
    "def graph_from_clusters(clusters):\n",
    "    G = nx.Graph()\n",
    "    for cluster_id in clusters:\n",
    "        for member in clusters[cluster_id]:\n",
    "            if member.length > 700:\n",
    "                G.add_edge(cluster_id, member.sample, attr_dict=member._asdict())\n",
    "    return G"
   ]
  },
  {
   "cell_type": "code",
   "execution_count": 14,
   "metadata": {
    "ExecuteTime": {
     "end_time": "2019-11-06T22:44:56.633063Z",
     "start_time": "2019-11-06T22:44:56.332497Z"
    }
   },
   "outputs": [],
   "source": [
    "G = graph_from_clusters(clusters)"
   ]
  },
  {
   "cell_type": "code",
   "execution_count": 15,
   "metadata": {
    "ExecuteTime": {
     "end_time": "2019-11-06T22:44:56.647601Z",
     "start_time": "2019-11-06T22:44:56.635590Z"
    }
   },
   "outputs": [],
   "source": [
    "def df_from_subset(subset, aggregation = None):\n",
    "    df = pd.DataFrame(columns = [cluster_id for cluster_id in clusters if cluster_id in subset], \n",
    "                      index = [sample for sample in samples if sample in subset], dtype=int).fillna(0)\n",
    "    # make a heatmap\n",
    "    for cluster_id in clusters:\n",
    "        if cluster_id not in subset:\n",
    "            continue\n",
    "        for member in clusters[cluster_id]:\n",
    "            if member.sample not in subset:\n",
    "                continue\n",
    "            if aggregation == None:\n",
    "                df.loc[member.sample, cluster_id] = 1\n",
    "            if aggregation == 'coverage':\n",
    "                df.loc[member.sample, cluster_id] += member.coverage\n",
    "            if aggregation == 'length':\n",
    "                df.loc[member.sample, cluster_id] += member.length\n",
    "    return df"
   ]
  },
  {
   "cell_type": "code",
   "execution_count": 16,
   "metadata": {
    "ExecuteTime": {
     "end_time": "2019-11-06T22:44:56.657279Z",
     "start_time": "2019-11-06T22:44:56.651484Z"
    }
   },
   "outputs": [],
   "source": [
    "def walk(nodes, G=G):\n",
    "    if not isinstance(nodes, list):\n",
    "        nodes = [nodes]\n",
    "    return [nbr for node in nodes for nbr in G.neighbors(node) ]"
   ]
  },
  {
   "cell_type": "code",
   "execution_count": 17,
   "metadata": {
    "ExecuteTime": {
     "end_time": "2019-11-06T22:44:56.664628Z",
     "start_time": "2019-11-06T22:44:56.659676Z"
    }
   },
   "outputs": [],
   "source": [
    "def nbhd(start, depth=1):\n",
    "    if isinstance(start, str):\n",
    "        start = [start]\n",
    "    n = start\n",
    "    for i in range(depth):\n",
    "        n = n + walk(n)\n",
    "    return set(n)"
   ]
  },
  {
   "cell_type": "code",
   "execution_count": 18,
   "metadata": {
    "ExecuteTime": {
     "end_time": "2019-11-06T22:44:56.686063Z",
     "start_time": "2019-11-06T22:44:56.673443Z"
    }
   },
   "outputs": [
    {
     "data": {
      "text/plain": [
       "[1, 16, 50, 135]"
      ]
     },
     "execution_count": 18,
     "metadata": {},
     "output_type": "execute_result"
    }
   ],
   "source": [
    "# Test that neighborhoods grow\n",
    "[len(nbhd(contig_to_cluster['NODE_2_length_2441_cov_25.388748'], i)) for i in range(4)]"
   ]
  },
  {
   "cell_type": "markdown",
   "metadata": {},
   "source": [
    "## Examples"
   ]
  },
  {
   "cell_type": "code",
   "execution_count": 19,
   "metadata": {
    "ExecuteTime": {
     "end_time": "2019-11-06T22:44:56.729886Z",
     "start_time": "2019-11-06T22:44:56.720877Z"
    }
   },
   "outputs": [],
   "source": [
    "def split_hannah(input):\n",
    "    return [line.split('\\t')[2] for line in input.split('\\n')]\n",
    "wuhan6 = \"\"\"CMS001_042_Ra_S23\tbin10\tNODE_10_length_2444_cov_49.183354\t1702\t36384680\t46.77792961 seg1=PB2\n",
    "CMS001_042_Ra_S23\tbin11\tNODE_11_length_2437_cov_68.228814\t2361\t36384680\t64.88994819 seg2=PB1\n",
    "CMS001_042_Ra_S23\tbin12\tNODE_12_length_2238_cov_65.551134\t2072\t36384680\t56.94704475 seg3=PA\n",
    "CMS001_042_Ra_S23\tbin13\tNODE_15_length_1855_cov_99.279528\t2584\t36384680\t71.01890136 seg4=NP\n",
    "CMS001_042_Ra_S23\tbin3\tNODE_28_length_1501_cov_37.367978\t787\t36384680\t21.62998273 seg5=gp\n",
    "CMS001_042_Ra_S23\tbin4\tNODE_131_length_861_cov_90.163265\t1027\t36384680\t28.22616552 seg6=hypoth\"\"\"\n",
    "\n",
    "wuhan6_ish_contigs = split_hannah(wuhan6)\n",
    "\n"
   ]
  },
  {
   "cell_type": "code",
   "execution_count": 20,
   "metadata": {
    "ExecuteTime": {
     "end_time": "2019-11-06T22:44:56.741725Z",
     "start_time": "2019-11-06T22:44:56.733775Z"
    }
   },
   "outputs": [],
   "source": [
    "whidbey_ish = \"\"\"CMS002_018b_Rb_S129_L004\tbin1\tNODE_4_length_2203_cov_29.747883\t906\t89837146\t10.08491521 PA\n",
    "CMS002_018b_Rb_S129_L004\tbin15\tNODE_10_length_884_cov_107.267658\t1237\t89837146\t13.76935995 NP\n",
    "CMS002_018b_Rb_S129_L004\tbin15\tNODE_9_length_939_cov_28.932715\t361\t89837146\t4.018382329 NP\n",
    "CMS002_018b_Rb_S129_L004\tbin2\tNODE_2_length_2430_cov_26.274968\t876\t89837146\t9.750977619 PB1\"\"\"\n",
    "\n",
    "whidbey_ish_contigs = split_hannah(whidbey_ish)\n",
    "\n"
   ]
  },
  {
   "cell_type": "code",
   "execution_count": 21,
   "metadata": {
    "ExecuteTime": {
     "end_time": "2019-11-06T22:44:56.752073Z",
     "start_time": "2019-11-06T22:44:56.746230Z"
    }
   },
   "outputs": [],
   "source": [
    "wm3_ish = \"\"\"CMS001_027_Ra_S16\tbin14\tNODE_6_length_2203_cov_26.203669\t930\t29422908\t31.6080246 PA\n",
    "CMS001_027_Ra_S16\tbin16\tNODE_16_length_1779_cov_20.285546\t605\t29422908\t20.56220955 NP\n",
    "CMS001_027_Ra_S16\tbin17\tNODE_3_length_2447_cov_21.006751\t882\t29422908\t29.97664269 PB1\n",
    "CMS001_027_Ra_S16\tbin7\tNODE_4_length_2420_cov_26.034571\t1026\t29422908\t34.87078843 PB2\"\"\"\n",
    "\n",
    "wm3_ish_contigs = split_hannah(wm3_ish)\n",
    "\n"
   ]
  },
  {
   "cell_type": "code",
   "execution_count": 22,
   "metadata": {
    "ExecuteTime": {
     "end_time": "2019-11-06T22:44:56.768918Z",
     "start_time": "2019-11-06T22:44:56.757116Z"
    }
   },
   "outputs": [],
   "source": [
    "def sort_by(x_list, idx_list):\n",
    "     return [x for (idx,x) in sorted(zip(idx_list,x_list), key=lambda pair: pair[0])]"
   ]
  },
  {
   "cell_type": "code",
   "execution_count": 23,
   "metadata": {
    "ExecuteTime": {
     "end_time": "2019-11-06T22:44:57.021205Z",
     "start_time": "2019-11-06T22:44:56.776430Z"
    }
   },
   "outputs": [],
   "source": [
    "def fish_dark_matter(bait_contigs, overlap_cutoff=0.9, aggregation=None):\n",
    "    bait_clusters = [contig_to_cluster[c] for c in bait_contigs]\n",
    "    neighborhood = nbhd(bait_clusters, 3)\n",
    "    df = df_from_subset(neighborhood)\n",
    "    samples_with_bait = df.loc[:, bait_clusters].sum(axis = 1) == len(bait_clusters)\n",
    "    n_samples_with_bait = df.loc[:, bait_clusters].sum().mean()\n",
    "    clusters_containing_bait = df.loc[samples_with_bait].sum() >= (overlap_cutoff * n_samples_with_bait)\n",
    "    clusters_not_overflowing_bait = (df.sum() * overlap_cutoff) <= n_samples_with_bait\n",
    "\n",
    "    overlapping_clusters = df.columns[clusters_containing_bait & clusters_not_overflowing_bait]\n",
    "    \n",
    "    if aggregation:\n",
    "        df = df_from_subset(neighborhood, aggregation=aggregation)\n",
    "    df = df[overlapping_clusters]\n",
    "    df = df.loc[df.sum(axis = 1) > 0,:]\n",
    "    \n",
    "    return df\n",
    "\n",
    "base_path='/Users/evogytis/Dropbox/Jupyter_notebooks/Biohub/California_mosquitoes/s3_bucket/contigs/'\n",
    "\n",
    "import os,glob\n",
    "from Bio import SeqIO\n",
    "def printContigs(marked):\n",
    "    base_path='/Users/evogytis/Dropbox/Jupyter_notebooks/Biohub/California_mosquitoes/s3_bucket/contigs/'\n",
    "    output=[]\n",
    "    for fpath in glob.glob(os.path.join(base_path,'*','*.fasta')):\n",
    "        sname=os.path.basename(fpath)\n",
    "        \n",
    "        contigs=SeqIO.parse(open(fpath,'r'),'fasta')\n",
    "        for seq in contigs:\n",
    "#             print(marked,seq.id)\n",
    "            if seq.id in marked:\n",
    "                output.append('>%s|%s\\n%s'%(os.path.basename(os.path.dirname(fpath)),seq.id,seq.seq))\n",
    "    return '\\n'.join(output)+'\\n'\n",
    "#     print('>%s|%s\\n%s'%(os.path.basename(os.path.dirname(fpath)),seq.id,seq.seq))\n",
    "\n",
    "def fast_fish(bait_contigs, overlap_cutoff=0.9, aggregation=None):\n",
    "    bait_clusters = [contig_to_cluster[c] for c in bait_contigs]\n",
    "    neighborhood = nbhd(bait_clusters, 3)\n",
    "    df = df_from_subset(neighborhood)\n",
    "    samples_with_bait = df.loc[:, bait_clusters].sum(axis = 1) == len(bait_clusters)\n",
    "    n_samples_with_bait = df.loc[:, bait_clusters].sum().mean()\n",
    "    clusters_containing_bait = df.loc[samples_with_bait].sum() >= (overlap_cutoff * n_samples_with_bait)\n",
    "    clusters_not_overflowing_bait = (df.sum() * overlap_cutoff) <= n_samples_with_bait\n",
    "\n",
    "    overlapping_clusters = df.columns[clusters_containing_bait & clusters_not_overflowing_bait]\n",
    "    \n",
    "    if aggregation:\n",
    "        df = df_from_subset(neighborhood, aggregation=aggregation)\n",
    "    df = df[overlapping_clusters]\n",
    "    df = df.loc[df.sum(axis = 1) > 0,:]\n",
    "    \n",
    "    return [cid for cid in df]\n",
    "            \n",
    "def display_dark_matter(df,report_seq=False,fltr=None,toFile=None):\n",
    "    overlapping_clusters = df.columns\n",
    "    \n",
    "    if fltr==None:\n",
    "        fltr=lambda x: True\n",
    "    \n",
    "    print('Found ', len(overlapping_clusters), ' candidate segments.')\n",
    "    lengths = [get_representative(clusters[cluster_id]).length for cluster_id in overlapping_clusters]\n",
    "    print('Segment lengths: ', sorted(lengths, reverse=True))\n",
    "    \n",
    "    if report_seq==True:\n",
    "        for cluster_id in overlapping_clusters:\n",
    "#             if toFile:\n",
    "#                 toFile.write('%s\\n'%('>%s\\n%s'%(contig.contig,contig.)))\n",
    "            out=printContigs([contig.contig for contig in clusters[cluster_id] if fltr(contig)])\n",
    "            if toFile:\n",
    "                toFile.write(out)\n",
    "            else:\n",
    "                print(out)\n",
    "    \n",
    "    for cluster in sort_by(overlapping_clusters, lengths):\n",
    "        print('---')\n",
    "        print_cluster(cluster)\n",
    "#     if (df > 0).mean().mean() < 1:\n",
    "#         sns.clustermap(df)\n",
    "\n",
    "def segment_correlations(abundances):\n",
    "    df = pd.DataFrame(np.corrcoef(abundances.T), columns=abundances.columns, index=abundances.columns)\n",
    "    sns.clustermap(df)"
   ]
  },
  {
   "cell_type": "code",
   "execution_count": 24,
   "metadata": {
    "ExecuteTime": {
     "end_time": "2019-11-06T22:44:58.464265Z",
     "start_time": "2019-11-06T22:44:57.025224Z"
    }
   },
   "outputs": [
    {
     "name": "stdout",
     "output_type": "stream",
     "text": [
      "Found  6  candidate segments.\n",
      "Segment lengths:  [2444, 2441, 2239, 1871, 1532, 866]\n",
      "---\n",
      "Cluster:  24013\n",
      "Rep contig:  CMS001_038_Ra_S22 NODE_80_length_866_cov_105.239544\n",
      "Rep Length:  866\n",
      "N samples:  13\n",
      "Contig Lengths:  852,862,863,861,854,866,857,861,851,861,862,853,858\n",
      "---\n",
      "Cluster:  5024\n",
      "Rep contig:  CMS002_029e_Rb_S164_L004 NODE_27_length_1532_cov_20.452921\n",
      "Rep Length:  1532\n",
      "N samples:  13\n",
      "Contig Lengths:  1491,1500,1515,1496,1501,1495,1496,1501,1497,1496,1504,1532,1500\n",
      "---\n",
      "Cluster:  2693\n",
      "Rep contig:  CMS002_056a_Rb_S9_L004 NODE_23_length_1871_cov_203.951505\n",
      "Rep Length:  1871\n",
      "N samples:  13\n",
      "Contig Lengths:  1860,1867,1865,1850,1859,1858,1856,1855,1845,1865,1860,1868,1871\n",
      "---\n",
      "Cluster:  1525\n",
      "Rep contig:  CMS002_029e_Rb_S164_L004 NODE_13_length_2239_cov_35.559667\n",
      "Rep Length:  2239\n",
      "N samples:  13\n",
      "Contig Lengths:  2225,2228,2227,2221,2238,2223,2222,2238,2228,2228,2234,2239,2235\n",
      "---\n",
      "Cluster:  1170\n",
      "Rep contig:  CMS002_029c_Rb_S161_L004 NODE_9_length_2441_cov_36.508037\n",
      "Rep Length:  2441\n",
      "N samples:  13\n",
      "Contig Lengths:  2431,2437,2434,2434,2436,2437,2436,2437,2438,2441,2438,2433,2441\n",
      "---\n",
      "Cluster:  1163\n",
      "Rep contig:  CMS001_042_Ra_S23 NODE_10_length_2444_cov_49.183354\n",
      "Rep Length:  2444\n",
      "N samples:  13\n",
      "Contig Lengths:  2417,2443,2440,2437,2438,2439,2437,2444,2431,2437,2441,2436,2441\n"
     ]
    }
   ],
   "source": [
    "# From one wuhan 6 contig\n",
    "display_dark_matter(fish_dark_matter(wuhan6_ish_contigs[:1], 0.8))"
   ]
  },
  {
   "cell_type": "code",
   "execution_count": 25,
   "metadata": {
    "ExecuteTime": {
     "end_time": "2019-11-06T22:44:59.348391Z",
     "start_time": "2019-11-06T22:44:58.471188Z"
    }
   },
   "outputs": [
    {
     "name": "stdout",
     "output_type": "stream",
     "text": [
      "Found  6  candidate segments.\n",
      "Segment lengths:  [2447, 2420, 2203, 1779, 1449, 813]\n",
      "---\n",
      "Cluster:  27844\n",
      "Rep contig:  CMS001_046_Ra_S3 NODE_46_length_813_cov_29.523098\n",
      "Rep Length:  813\n",
      "N samples:  2\n",
      "Contig Lengths:  803,813\n",
      "---\n",
      "Cluster:  5942\n",
      "Rep contig:  CMS001_046_Ra_S3 NODE_15_length_1449_cov_6.100583\n",
      "Rep Length:  1449\n",
      "N samples:  2\n",
      "Contig Lengths:  1443,1449\n",
      "---\n",
      "Cluster:  3153\n",
      "Rep contig:  CMS001_027_Ra_S16 NODE_16_length_1779_cov_20.285546\n",
      "Rep Length:  1779\n",
      "N samples:  2\n",
      "Contig Lengths:  1779,1765\n",
      "---\n",
      "Cluster:  1610\n",
      "Rep contig:  CMS001_027_Ra_S16 NODE_6_length_2203_cov_26.203669\n",
      "Rep Length:  2203\n",
      "N samples:  2\n",
      "Contig Lengths:  2203,2196\n",
      "---\n",
      "Cluster:  1204\n",
      "Rep contig:  CMS001_027_Ra_S16 NODE_4_length_2420_cov_26.034571\n",
      "Rep Length:  2420\n",
      "N samples:  2\n",
      "Contig Lengths:  2420,2418\n",
      "---\n",
      "Cluster:  1160\n",
      "Rep contig:  CMS001_027_Ra_S16 NODE_3_length_2447_cov_21.006751\n",
      "Rep Length:  2447\n",
      "N samples:  2\n",
      "Contig Lengths:  2447,2447\n"
     ]
    }
   ],
   "source": [
    "# wm3 candidates\n",
    "display_dark_matter(fish_dark_matter(wm3_ish_contigs))"
   ]
  },
  {
   "cell_type": "code",
   "execution_count": 27,
   "metadata": {
    "ExecuteTime": {
     "end_time": "2019-11-06T22:45:55.196824Z",
     "start_time": "2019-11-06T22:45:54.641444Z"
    }
   },
   "outputs": [
    {
     "name": "stdout",
     "output_type": "stream",
     "text": [
      "Found  9  candidate segments.\n",
      "Segment lengths:  [6634, 2449, 2442, 2301, 2245, 2123, 1842, 1534, 869]\n",
      "---\n",
      "Cluster:  23854\n",
      "Rep contig:  CMS002_045c_Rb_S185_L004 NODE_14_length_869_cov_33.226010\n",
      "Rep Length:  869\n",
      "N samples:  15\n",
      "Contig Lengths:  857,857,857,853,860,664,857,534,857,863,869,856,856,861,857\n",
      "---\n",
      "Cluster:  4999\n",
      "Rep contig:  CMS002_045f_Rb_S189_L004 NODE_10_length_1534_cov_13.974605\n",
      "Rep Length:  1534\n",
      "N samples:  15\n",
      "Contig Lengths:  1494,1505,1514,1507,1496,1001,1476,899,1505,1510,1510,1515,1511,1534,1513\n",
      "---\n",
      "Cluster:  2828\n",
      "Rep contig:  CMS002_045e_Rb_S188_L004 NODE_7_length_1842_cov_33.126346\n",
      "Rep Length:  1842\n",
      "N samples:  15\n",
      "Contig Lengths:  1838,1823,1815,1839,1830,1079+689,1819,1804,1817,1832,1835,1838,1842,1841,1827\n",
      "---\n",
      "Cluster:  1813\n",
      "Rep contig:  CMS002_026e_Rb_S150_L004 NODE_5_length_2123_cov_21.675953\n",
      "Rep Length:  2123\n",
      "N samples:  16\n",
      "Contig Lengths:  2091,2085,2107,2093,2123,1404,793,2056,2040,2087,2084,2093,2093,2089,2079,2096\n",
      "---\n",
      "Cluster:  1513\n",
      "Rep contig:  CMS002_026c_Rb_S148_L004 NODE_4_length_2245_cov_17.264299\n",
      "Rep Length:  2245\n",
      "N samples:  15\n",
      "Contig Lengths:  2235,2232,2245,2239,2229,828+753+585,2185,1313,2234,2245,2243,2237,2229,2230,2236\n",
      "---\n",
      "Cluster:  1392\n",
      "Rep contig:  CMS002_045g_Rb_S190_L004 NODE_5_length_2301_cov_72.350270\n",
      "Rep Length:  2301\n",
      "N samples:  16\n",
      "Contig Lengths:  2045,2041,2095,2041,2066,1441,991+547,2030,2026,2035,2140,2049,2044,2037,2042,2301\n",
      "---\n",
      "Cluster:  1168\n",
      "Rep contig:  CMS002_026a_Rb_S146_L004 NODE_2_length_2442_cov_5.123890\n",
      "Rep Length:  2442\n",
      "N samples:  15\n",
      "Contig Lengths:  2442,2434,2431,2417,2421,757,1386,525,2436,2440,2416,2435,2431,2425,2424\n",
      "---\n",
      "Cluster:  1158\n",
      "Rep contig:  CMS002_045c_Rb_S185_L004 NODE_3_length_2449_cov_17.910624\n",
      "Rep Length:  2449\n",
      "N samples:  15\n",
      "Contig Lengths:  2440,2437,2437,2441,2445,1037,2366,771,2446,2446,2449,2437,2442,2437,2443\n",
      "---\n",
      "Cluster:  70\n",
      "Rep contig:  CMS002_045b_Rb_S184_L004 NODE_1_length_6634_cov_114.513192\n",
      "Rep Length:  6634\n",
      "N samples:  16\n",
      "Contig Lengths:  6613,6620,6612,6612,6618,2581+1484+1392,580,6606,3265+2955,6611,6634,6614,6614,6614,6613,6613\n"
     ]
    },
    {
     "ename": "AttributeError",
     "evalue": "'NoneType' object has no attribute 'close'",
     "output_type": "error",
     "traceback": [
      "\u001b[0;31m---------------------------------------------------------------------------\u001b[0m",
      "\u001b[0;31mAttributeError\u001b[0m                            Traceback (most recent call last)",
      "\u001b[0;32m<ipython-input-27-1e73a79f0bb4>\u001b[0m in \u001b[0;36m<module>\u001b[0;34m\u001b[0m\n\u001b[1;32m      7\u001b[0m \u001b[0;34m\u001b[0m\u001b[0m\n\u001b[1;32m      8\u001b[0m \u001b[0mdisplay_dark_matter\u001b[0m\u001b[0;34m(\u001b[0m\u001b[0mfish_dark_matter\u001b[0m\u001b[0;34m(\u001b[0m\u001b[0;34m[\u001b[0m\u001b[0mawuhan6_seed\u001b[0m\u001b[0;34m]\u001b[0m\u001b[0;34m)\u001b[0m\u001b[0;34m,\u001b[0m\u001b[0mreport_seq\u001b[0m\u001b[0;34m=\u001b[0m\u001b[0mrep_seq\u001b[0m\u001b[0;34m,\u001b[0m\u001b[0mfltr\u001b[0m\u001b[0;34m=\u001b[0m\u001b[0mfltr\u001b[0m\u001b[0;34m,\u001b[0m\u001b[0mtoFile\u001b[0m\u001b[0;34m=\u001b[0m\u001b[0mtoFile\u001b[0m\u001b[0;34m)\u001b[0m\u001b[0;34m\u001b[0m\u001b[0;34m\u001b[0m\u001b[0m\n\u001b[0;32m----> 9\u001b[0;31m \u001b[0mtoFile\u001b[0m\u001b[0;34m.\u001b[0m\u001b[0mclose\u001b[0m\u001b[0;34m(\u001b[0m\u001b[0;34m)\u001b[0m\u001b[0;34m\u001b[0m\u001b[0;34m\u001b[0m\u001b[0m\n\u001b[0m",
      "\u001b[0;31mAttributeError\u001b[0m: 'NoneType' object has no attribute 'close'"
     ]
    }
   ],
   "source": [
    "awuhan6_seed = 'NODE_4_length_2235_cov_10.352641'\n",
    "\n",
    "rep_seq=False\n",
    "fltr=None\n",
    "toFile=None\n",
    "# toFile=open('/Users/evogytis/Downloads/your_fasta.fasta','w')\n",
    "\n",
    "display_dark_matter(fish_dark_matter([awuhan6_seed]),report_seq=rep_seq,fltr=fltr,toFile=toFile)\n",
    "toFile.close()"
   ]
  },
  {
   "cell_type": "markdown",
   "metadata": {},
   "source": [
    "If we contract the search to an exact match, we find just six segments."
   ]
  },
  {
   "cell_type": "code",
   "execution_count": null,
   "metadata": {
    "ExecuteTime": {
     "end_time": "2019-11-06T22:45:13.943924Z",
     "start_time": "2019-11-06T22:44:51.990Z"
    }
   },
   "outputs": [],
   "source": [
    "display_dark_matter(fish_dark_matter([awuhan6_seed], 1.0))"
   ]
  },
  {
   "cell_type": "markdown",
   "metadata": {},
   "source": [
    "# Adding Species"
   ]
  },
  {
   "cell_type": "code",
   "execution_count": null,
   "metadata": {
    "ExecuteTime": {
     "end_time": "2019-11-06T22:45:13.945718Z",
     "start_time": "2019-11-06T22:44:51.993Z"
    }
   },
   "outputs": [],
   "source": [
    "metadata = pd.read_csv('../data/CMS001_CMS002_MergedAnnotations_190325.csv')\n",
    "metadata.head()"
   ]
  },
  {
   "cell_type": "code",
   "execution_count": null,
   "metadata": {
    "ExecuteTime": {
     "end_time": "2019-11-06T22:45:13.947541Z",
     "start_time": "2019-11-06T22:44:51.996Z"
    }
   },
   "outputs": [],
   "source": [
    "metadata.columns"
   ]
  },
  {
   "cell_type": "code",
   "execution_count": null,
   "metadata": {
    "ExecuteTime": {
     "end_time": "2019-11-06T22:45:13.949270Z",
     "start_time": "2019-11-06T22:44:51.998Z"
    }
   },
   "outputs": [],
   "source": [
    "species = {sample: species for sample, species in zip(metadata['NewIDseqName'], metadata['compute_species'])}\n",
    "genus = {sample: species for sample, species in zip(metadata['NewIDseqName'], metadata['compute_genus'])}"
   ]
  },
  {
   "cell_type": "markdown",
   "metadata": {},
   "source": [
    "Likely, many of the Culex contigs are host which made it through filtering, because the genomes for the Culex species is much worse than that for Aedes."
   ]
  },
  {
   "cell_type": "code",
   "execution_count": null,
   "metadata": {
    "ExecuteTime": {
     "end_time": "2019-11-06T22:45:13.952748Z",
     "start_time": "2019-11-06T22:44:52.004Z"
    }
   },
   "outputs": [],
   "source": [
    "genus_combo = pd.Series([\"-\".join(set([genus[member.sample] for member in clusters[cluster_id]]))\n",
    "                      for cluster_id in clusters]).value_counts()\n",
    "genus_combo.plot.bar(color='C0')"
   ]
  },
  {
   "cell_type": "code",
   "execution_count": null,
   "metadata": {
    "ExecuteTime": {
     "end_time": "2019-11-06T22:45:13.957662Z",
     "start_time": "2019-11-06T22:44:52.013Z"
    }
   },
   "outputs": [],
   "source": [
    "species_combo = pd.Series([\"-\".join(set([species[member.sample] for member in clusters[cluster_id]]))\n",
    "                      for cluster_id in clusters]).value_counts()\n",
    "species_combo.plot.bar(color='C0', figsize=(20,5))"
   ]
  },
  {
   "cell_type": "markdown",
   "metadata": {},
   "source": [
    "## Graph"
   ]
  },
  {
   "cell_type": "code",
   "execution_count": null,
   "metadata": {
    "ExecuteTime": {
     "end_time": "2019-11-06T22:45:13.959457Z",
     "start_time": "2019-11-06T22:44:52.017Z"
    }
   },
   "outputs": [],
   "source": [
    "from cyjupyter import Cytoscape\n",
    "from networkx.readwrite.json_graph import cytoscape_data"
   ]
  },
  {
   "cell_type": "code",
   "execution_count": null,
   "metadata": {
    "ExecuteTime": {
     "end_time": "2019-11-06T22:45:13.962020Z",
     "start_time": "2019-11-06T22:44:52.021Z"
    }
   },
   "outputs": [],
   "source": [
    "components = [G.subgraph(c) for c in nx.connected_components(G)]"
   ]
  },
  {
   "cell_type": "code",
   "execution_count": null,
   "metadata": {
    "ExecuteTime": {
     "end_time": "2019-11-06T22:45:13.963648Z",
     "start_time": "2019-11-06T22:44:52.025Z"
    }
   },
   "outputs": [],
   "source": [
    "subset = nbhd(wuhan6_exemplar_clusters, 1)\n",
    "subg = G.subgraph(subset)"
   ]
  },
  {
   "cell_type": "code",
   "execution_count": null,
   "metadata": {
    "ExecuteTime": {
     "end_time": "2019-11-06T22:45:13.964836Z",
     "start_time": "2019-11-06T22:44:52.028Z"
    }
   },
   "outputs": [],
   "source": [
    "nx.draw(subg)"
   ]
  },
  {
   "cell_type": "code",
   "execution_count": null,
   "metadata": {
    "ExecuteTime": {
     "end_time": "2019-11-06T22:45:13.967294Z",
     "start_time": "2019-11-06T22:44:52.031Z"
    }
   },
   "outputs": [],
   "source": [
    "Cytoscape(data=cytoscape_data(subg))"
   ]
  },
  {
   "cell_type": "code",
   "execution_count": null,
   "metadata": {
    "ExecuteTime": {
     "end_time": "2019-11-06T22:45:13.973557Z",
     "start_time": "2019-11-06T22:44:52.033Z"
    }
   },
   "outputs": [],
   "source": [
    "def is_sample(node):\n",
    "    return 1 if node.startswith('CMS') else 0"
   ]
  },
  {
   "cell_type": "code",
   "execution_count": null,
   "metadata": {
    "ExecuteTime": {
     "end_time": "2019-11-06T22:45:13.974838Z",
     "start_time": "2019-11-06T22:44:52.036Z"
    }
   },
   "outputs": [],
   "source": [
    "nx.draw(subg, node_size=50, node_color = [is_sample(node) for node in subg.nodes()])"
   ]
  },
  {
   "cell_type": "code",
   "execution_count": null,
   "metadata": {
    "ExecuteTime": {
     "end_time": "2019-11-06T22:45:13.978601Z",
     "start_time": "2019-11-06T22:44:52.038Z"
    },
    "scrolled": true
   },
   "outputs": [],
   "source": [
    "Cytoscape(data=cytoscape_data(aw6_subgraph), layout_name='circle')"
   ]
  }
 ],
 "metadata": {
  "kernelspec": {
   "display_name": "Python 3",
   "language": "python",
   "name": "python3"
  },
  "language_info": {
   "codemirror_mode": {
    "name": "ipython",
    "version": 3
   },
   "file_extension": ".py",
   "mimetype": "text/x-python",
   "name": "python",
   "nbconvert_exporter": "python",
   "pygments_lexer": "ipython3",
   "version": "3.7.1"
  }
 },
 "nbformat": 4,
 "nbformat_minor": 2
}
