{
 "cells": [
  {
   "cell_type": "markdown",
   "metadata": {},
   "source": [
    "# Merge LCA and Curated virus calls"
   ]
  },
  {
   "cell_type": "code",
   "execution_count": 1,
   "metadata": {},
   "outputs": [],
   "source": [
    "import pandas as pd"
   ]
  },
  {
   "cell_type": "code",
   "execution_count": 2,
   "metadata": {},
   "outputs": [],
   "source": [
    "lca = pd.read_csv('../data/s3/contig_quality_concat/contig_stats_lca.tsv', sep='\\t')\n",
    "lca['blasted'] = True\n",
    "lca.rename({'taxid': 'taxid_blast', 'taxon_group': 'taxon_group_blast'}, axis = 1, inplace = True)\n",
    "lca['taxon_group_blast'] = lca.apply(lambda x: 'Hexapoda' if x.hexapoda else x.taxon_group_blast, axis = 1)\n",
    "\n",
    "read_counts = pd.read_csv('../data/s3/contig_quality_concat/contig_stats_all.tsv', sep='\\t')"
   ]
  },
  {
   "cell_type": "code",
   "execution_count": 3,
   "metadata": {},
   "outputs": [
    {
     "data": {
      "text/html": [
       "<div>\n",
       "<style scoped>\n",
       "    .dataframe tbody tr th:only-of-type {\n",
       "        vertical-align: middle;\n",
       "    }\n",
       "\n",
       "    .dataframe tbody tr th {\n",
       "        vertical-align: top;\n",
       "    }\n",
       "\n",
       "    .dataframe thead th {\n",
       "        text-align: right;\n",
       "    }\n",
       "</style>\n",
       "<table border=\"1\" class=\"dataframe\">\n",
       "  <thead>\n",
       "    <tr style=\"text-align: right;\">\n",
       "      <th></th>\n",
       "      <th>sample</th>\n",
       "      <th>contig_name</th>\n",
       "      <th>contig_length</th>\n",
       "      <th>read_count</th>\n",
       "      <th>nt</th>\n",
       "      <th>nr</th>\n",
       "      <th>hexapoda</th>\n",
       "      <th>nt_or_nr</th>\n",
       "      <th>taxid_blast</th>\n",
       "      <th>bitscore</th>\n",
       "      <th>identity</th>\n",
       "      <th>align_length</th>\n",
       "      <th>taxon_group_blast</th>\n",
       "      <th>blasted</th>\n",
       "    </tr>\n",
       "  </thead>\n",
       "  <tbody>\n",
       "    <tr>\n",
       "      <th>0</th>\n",
       "      <td>CMS001_001_Ra_S1</td>\n",
       "      <td>NODE_5_length_5116_cov_2209.828736</td>\n",
       "      <td>5116</td>\n",
       "      <td>186698</td>\n",
       "      <td>True</td>\n",
       "      <td>True</td>\n",
       "      <td>False</td>\n",
       "      <td>nt</td>\n",
       "      <td>2559587.0</td>\n",
       "      <td>5016.0</td>\n",
       "      <td>89.666000</td>\n",
       "      <td>3948.0</td>\n",
       "      <td>Viruses</td>\n",
       "      <td>True</td>\n",
       "    </tr>\n",
       "    <tr>\n",
       "      <th>1</th>\n",
       "      <td>CMS001_001_Ra_S1</td>\n",
       "      <td>NODE_2_length_6399_cov_55.991142</td>\n",
       "      <td>6399</td>\n",
       "      <td>6127</td>\n",
       "      <td>False</td>\n",
       "      <td>True</td>\n",
       "      <td>False</td>\n",
       "      <td>nr</td>\n",
       "      <td>10239.0</td>\n",
       "      <td>1869.7</td>\n",
       "      <td>45.480000</td>\n",
       "      <td>2137.0</td>\n",
       "      <td>Viruses</td>\n",
       "      <td>True</td>\n",
       "    </tr>\n",
       "    <tr>\n",
       "      <th>2</th>\n",
       "      <td>CMS001_001_Ra_S1</td>\n",
       "      <td>NODE_304_length_858_cov_335.376440</td>\n",
       "      <td>858</td>\n",
       "      <td>5024</td>\n",
       "      <td>True</td>\n",
       "      <td>False</td>\n",
       "      <td>False</td>\n",
       "      <td>nt</td>\n",
       "      <td>5654.0</td>\n",
       "      <td>944.0</td>\n",
       "      <td>91.180835</td>\n",
       "      <td>703.0</td>\n",
       "      <td>Eukaryota</td>\n",
       "      <td>True</td>\n",
       "    </tr>\n",
       "    <tr>\n",
       "      <th>3</th>\n",
       "      <td>CMS001_001_Ra_S1</td>\n",
       "      <td>NODE_11_length_3224_cov_1346.461710</td>\n",
       "      <td>3224</td>\n",
       "      <td>74963</td>\n",
       "      <td>True</td>\n",
       "      <td>True</td>\n",
       "      <td>False</td>\n",
       "      <td>nt</td>\n",
       "      <td>131567.0</td>\n",
       "      <td>2052.0</td>\n",
       "      <td>79.313000</td>\n",
       "      <td>3055.0</td>\n",
       "      <td>Ambiguous</td>\n",
       "      <td>True</td>\n",
       "    </tr>\n",
       "    <tr>\n",
       "      <th>4</th>\n",
       "      <td>CMS001_001_Ra_S1</td>\n",
       "      <td>NODE_1088_length_508_cov_3732.148492</td>\n",
       "      <td>508</td>\n",
       "      <td>25176</td>\n",
       "      <td>True</td>\n",
       "      <td>False</td>\n",
       "      <td>False</td>\n",
       "      <td>nt</td>\n",
       "      <td>2304480.0</td>\n",
       "      <td>871.0</td>\n",
       "      <td>98.971019</td>\n",
       "      <td>486.0</td>\n",
       "      <td>Viruses</td>\n",
       "      <td>True</td>\n",
       "    </tr>\n",
       "  </tbody>\n",
       "</table>\n",
       "</div>"
      ],
      "text/plain": [
       "             sample                           contig_name  contig_length  \\\n",
       "0  CMS001_001_Ra_S1    NODE_5_length_5116_cov_2209.828736           5116   \n",
       "1  CMS001_001_Ra_S1      NODE_2_length_6399_cov_55.991142           6399   \n",
       "2  CMS001_001_Ra_S1    NODE_304_length_858_cov_335.376440            858   \n",
       "3  CMS001_001_Ra_S1   NODE_11_length_3224_cov_1346.461710           3224   \n",
       "4  CMS001_001_Ra_S1  NODE_1088_length_508_cov_3732.148492            508   \n",
       "\n",
       "   read_count     nt     nr  hexapoda nt_or_nr  taxid_blast  bitscore  \\\n",
       "0      186698   True   True     False       nt    2559587.0    5016.0   \n",
       "1        6127  False   True     False       nr      10239.0    1869.7   \n",
       "2        5024   True  False     False       nt       5654.0     944.0   \n",
       "3       74963   True   True     False       nt     131567.0    2052.0   \n",
       "4       25176   True  False     False       nt    2304480.0     871.0   \n",
       "\n",
       "    identity  align_length taxon_group_blast  blasted  \n",
       "0  89.666000        3948.0           Viruses     True  \n",
       "1  45.480000        2137.0           Viruses     True  \n",
       "2  91.180835         703.0         Eukaryota     True  \n",
       "3  79.313000        3055.0         Ambiguous     True  \n",
       "4  98.971019         486.0           Viruses     True  "
      ]
     },
     "execution_count": 3,
     "metadata": {},
     "output_type": "execute_result"
    }
   ],
   "source": [
    "lca.head()"
   ]
  },
  {
   "cell_type": "code",
   "execution_count": 4,
   "metadata": {},
   "outputs": [],
   "source": [
    "cluster_to_virus = pd.read_csv('../data/darkmatter/clusters_to_virus.csv')"
   ]
  },
  {
   "cell_type": "code",
   "execution_count": 5,
   "metadata": {},
   "outputs": [],
   "source": [
    "cluster_to_contigs = pd.read_csv('../data/darkmatter/cluster_contig.csv')\n",
    "cluster_to_contigs.rename({'contig': 'contig_name'}, axis = 1, inplace=True)"
   ]
  },
  {
   "cell_type": "code",
   "execution_count": 6,
   "metadata": {},
   "outputs": [],
   "source": [
    "curated_viruses = (cluster_to_contigs\n",
    "                       .merge(cluster_to_virus, on='cluster', how = 'right', validate = 'many_to_one')\n",
    "                       .merge(read_counts, on=['sample', 'contig_name'], how = 'left', validate = 'one_to_one'))\n",
    "curated_viruses['curated'] = True\n",
    "curated_viruses['rdrp'] = curated_viruses['segment'].str.lower().str.contains('rdrp')\n",
    "curated_viruses['rdrp'] |= (curated_viruses['segment'] == 'genome')\n",
    "\n",
    "curated_viruses.rename({'submission_taxid': 'taxid_curated'}, axis = 1, inplace = True)"
   ]
  },
  {
   "cell_type": "code",
   "execution_count": 7,
   "metadata": {},
   "outputs": [
    {
     "data": {
      "text/plain": [
       "663"
      ]
     },
     "execution_count": 7,
     "metadata": {},
     "output_type": "execute_result"
    }
   ],
   "source": [
    "curated_viruses['rdrp'].sum()"
   ]
  },
  {
   "cell_type": "code",
   "execution_count": 8,
   "metadata": {},
   "outputs": [],
   "source": [
    "contig_calls = lca.merge(curated_viruses,\n",
    "                         on = ['sample', 'contig_name', 'contig_length', 'read_count'],\n",
    "                         how = 'outer')\n",
    "contig_calls.fillna({'blasted': False,\n",
    "                     'curated': False,\n",
    "                     'taxon_group_blast': 'Dark',\n",
    "                     'rdrp': False}, inplace=True)"
   ]
  },
  {
   "cell_type": "code",
   "execution_count": 9,
   "metadata": {},
   "outputs": [],
   "source": [
    "contig_calls['taxon_group'] = contig_calls.apply(lambda x: ('Viruses' if x['curated'] else x['taxon_group_blast']), axis = 1)\n",
    "contig_calls['taxid'] = contig_calls.apply(lambda x: x['taxid_curated'] if x['curated'] else x['taxid_blast'], axis = 1)"
   ]
  },
  {
   "cell_type": "code",
   "execution_count": 10,
   "metadata": {},
   "outputs": [
    {
     "data": {
      "text/html": [
       "<div>\n",
       "<style scoped>\n",
       "    .dataframe tbody tr th:only-of-type {\n",
       "        vertical-align: middle;\n",
       "    }\n",
       "\n",
       "    .dataframe tbody tr th {\n",
       "        vertical-align: top;\n",
       "    }\n",
       "\n",
       "    .dataframe thead th {\n",
       "        text-align: right;\n",
       "    }\n",
       "</style>\n",
       "<table border=\"1\" class=\"dataframe\">\n",
       "  <thead>\n",
       "    <tr style=\"text-align: right;\">\n",
       "      <th></th>\n",
       "      <th>sample</th>\n",
       "      <th>contig_name</th>\n",
       "      <th>contig_length</th>\n",
       "      <th>read_count</th>\n",
       "      <th>nt</th>\n",
       "      <th>nr</th>\n",
       "      <th>hexapoda</th>\n",
       "      <th>nt_or_nr</th>\n",
       "      <th>taxid_blast</th>\n",
       "      <th>bitscore</th>\n",
       "      <th>...</th>\n",
       "      <th>cluster</th>\n",
       "      <th>name</th>\n",
       "      <th>poly_group</th>\n",
       "      <th>provisional_name</th>\n",
       "      <th>segment</th>\n",
       "      <th>taxid_curated</th>\n",
       "      <th>curated</th>\n",
       "      <th>rdrp</th>\n",
       "      <th>taxon_group</th>\n",
       "      <th>taxid</th>\n",
       "    </tr>\n",
       "  </thead>\n",
       "  <tbody>\n",
       "    <tr>\n",
       "      <th>0</th>\n",
       "      <td>CMS001_001_Ra_S1</td>\n",
       "      <td>NODE_5_length_5116_cov_2209.828736</td>\n",
       "      <td>5116</td>\n",
       "      <td>186698</td>\n",
       "      <td>True</td>\n",
       "      <td>True</td>\n",
       "      <td>False</td>\n",
       "      <td>nt</td>\n",
       "      <td>2559587.0</td>\n",
       "      <td>5016.0</td>\n",
       "      <td>...</td>\n",
       "      <td>128.0</td>\n",
       "      <td>Hubei mosquito virus 4</td>\n",
       "      <td>128.0</td>\n",
       "      <td>Hubei mosquito virus 4</td>\n",
       "      <td>genome</td>\n",
       "      <td>1922928.0</td>\n",
       "      <td>True</td>\n",
       "      <td>True</td>\n",
       "      <td>Viruses</td>\n",
       "      <td>1922928.0</td>\n",
       "    </tr>\n",
       "    <tr>\n",
       "      <th>1</th>\n",
       "      <td>CMS001_001_Ra_S1</td>\n",
       "      <td>NODE_2_length_6399_cov_55.991142</td>\n",
       "      <td>6399</td>\n",
       "      <td>6127</td>\n",
       "      <td>False</td>\n",
       "      <td>True</td>\n",
       "      <td>False</td>\n",
       "      <td>nr</td>\n",
       "      <td>10239.0</td>\n",
       "      <td>1869.7</td>\n",
       "      <td>...</td>\n",
       "      <td>76.0</td>\n",
       "      <td>TBD</td>\n",
       "      <td>76.0</td>\n",
       "      <td>76|Phasma-like</td>\n",
       "      <td>RdRp_L</td>\n",
       "      <td>2546221.0</td>\n",
       "      <td>True</td>\n",
       "      <td>True</td>\n",
       "      <td>Viruses</td>\n",
       "      <td>2546221.0</td>\n",
       "    </tr>\n",
       "    <tr>\n",
       "      <th>2</th>\n",
       "      <td>CMS001_001_Ra_S1</td>\n",
       "      <td>NODE_304_length_858_cov_335.376440</td>\n",
       "      <td>858</td>\n",
       "      <td>5024</td>\n",
       "      <td>True</td>\n",
       "      <td>False</td>\n",
       "      <td>False</td>\n",
       "      <td>nt</td>\n",
       "      <td>5654.0</td>\n",
       "      <td>944.0</td>\n",
       "      <td>...</td>\n",
       "      <td>NaN</td>\n",
       "      <td>NaN</td>\n",
       "      <td>NaN</td>\n",
       "      <td>NaN</td>\n",
       "      <td>NaN</td>\n",
       "      <td>NaN</td>\n",
       "      <td>False</td>\n",
       "      <td>False</td>\n",
       "      <td>Eukaryota</td>\n",
       "      <td>5654.0</td>\n",
       "    </tr>\n",
       "    <tr>\n",
       "      <th>3</th>\n",
       "      <td>CMS001_001_Ra_S1</td>\n",
       "      <td>NODE_11_length_3224_cov_1346.461710</td>\n",
       "      <td>3224</td>\n",
       "      <td>74963</td>\n",
       "      <td>True</td>\n",
       "      <td>True</td>\n",
       "      <td>False</td>\n",
       "      <td>nt</td>\n",
       "      <td>131567.0</td>\n",
       "      <td>2052.0</td>\n",
       "      <td>...</td>\n",
       "      <td>NaN</td>\n",
       "      <td>NaN</td>\n",
       "      <td>NaN</td>\n",
       "      <td>NaN</td>\n",
       "      <td>NaN</td>\n",
       "      <td>NaN</td>\n",
       "      <td>False</td>\n",
       "      <td>False</td>\n",
       "      <td>Ambiguous</td>\n",
       "      <td>131567.0</td>\n",
       "    </tr>\n",
       "    <tr>\n",
       "      <th>4</th>\n",
       "      <td>CMS001_001_Ra_S1</td>\n",
       "      <td>NODE_1088_length_508_cov_3732.148492</td>\n",
       "      <td>508</td>\n",
       "      <td>25176</td>\n",
       "      <td>True</td>\n",
       "      <td>False</td>\n",
       "      <td>False</td>\n",
       "      <td>nt</td>\n",
       "      <td>2304480.0</td>\n",
       "      <td>871.0</td>\n",
       "      <td>...</td>\n",
       "      <td>NaN</td>\n",
       "      <td>NaN</td>\n",
       "      <td>NaN</td>\n",
       "      <td>NaN</td>\n",
       "      <td>NaN</td>\n",
       "      <td>NaN</td>\n",
       "      <td>False</td>\n",
       "      <td>False</td>\n",
       "      <td>Viruses</td>\n",
       "      <td>2304480.0</td>\n",
       "    </tr>\n",
       "  </tbody>\n",
       "</table>\n",
       "<p>5 rows × 24 columns</p>\n",
       "</div>"
      ],
      "text/plain": [
       "             sample                           contig_name  contig_length  \\\n",
       "0  CMS001_001_Ra_S1    NODE_5_length_5116_cov_2209.828736           5116   \n",
       "1  CMS001_001_Ra_S1      NODE_2_length_6399_cov_55.991142           6399   \n",
       "2  CMS001_001_Ra_S1    NODE_304_length_858_cov_335.376440            858   \n",
       "3  CMS001_001_Ra_S1   NODE_11_length_3224_cov_1346.461710           3224   \n",
       "4  CMS001_001_Ra_S1  NODE_1088_length_508_cov_3732.148492            508   \n",
       "\n",
       "   read_count     nt     nr hexapoda nt_or_nr  taxid_blast  bitscore  ...  \\\n",
       "0      186698   True   True    False       nt    2559587.0    5016.0  ...   \n",
       "1        6127  False   True    False       nr      10239.0    1869.7  ...   \n",
       "2        5024   True  False    False       nt       5654.0     944.0  ...   \n",
       "3       74963   True   True    False       nt     131567.0    2052.0  ...   \n",
       "4       25176   True  False    False       nt    2304480.0     871.0  ...   \n",
       "\n",
       "   cluster                    name poly_group        provisional_name  \\\n",
       "0    128.0  Hubei mosquito virus 4      128.0  Hubei mosquito virus 4   \n",
       "1     76.0                     TBD       76.0          76|Phasma-like   \n",
       "2      NaN                     NaN        NaN                     NaN   \n",
       "3      NaN                     NaN        NaN                     NaN   \n",
       "4      NaN                     NaN        NaN                     NaN   \n",
       "\n",
       "   segment taxid_curated  curated   rdrp taxon_group      taxid  \n",
       "0   genome     1922928.0     True   True     Viruses  1922928.0  \n",
       "1   RdRp_L     2546221.0     True   True     Viruses  2546221.0  \n",
       "2      NaN           NaN    False  False   Eukaryota     5654.0  \n",
       "3      NaN           NaN    False  False   Ambiguous   131567.0  \n",
       "4      NaN           NaN    False  False     Viruses  2304480.0  \n",
       "\n",
       "[5 rows x 24 columns]"
      ]
     },
     "execution_count": 10,
     "metadata": {},
     "output_type": "execute_result"
    }
   ],
   "source": [
    "contig_calls.head()"
   ]
  },
  {
   "cell_type": "markdown",
   "metadata": {},
   "source": [
    "Total reads per taxonomic group"
   ]
  },
  {
   "cell_type": "code",
   "execution_count": 11,
   "metadata": {},
   "outputs": [
    {
     "data": {
      "text/plain": [
       "taxon_group\n",
       "Ambiguous      572414\n",
       "Archaea           168\n",
       "Bacteria       690251\n",
       "Eukaryota      641345\n",
       "Hexapoda      4090187\n",
       "Metazoa        219258\n",
       "Viruses      10938605\n",
       "Name: read_count, dtype: int64"
      ]
     },
     "execution_count": 11,
     "metadata": {},
     "output_type": "execute_result"
    }
   ],
   "source": [
    "contig_calls.groupby('taxon_group')['read_count'].sum()"
   ]
  },
  {
   "cell_type": "markdown",
   "metadata": {},
   "source": [
    "Sources of curated reads."
   ]
  },
  {
   "cell_type": "code",
   "execution_count": 12,
   "metadata": {},
   "outputs": [
    {
     "data": {
      "text/plain": [
       "taxon_group_blast\n",
       "Ambiguous     595798\n",
       "Bacteria       95171\n",
       "Dark          384433\n",
       "Eukaryota      37772\n",
       "Hexapoda      547910\n",
       "Viruses      8902247\n",
       "Name: read_count, dtype: int64"
      ]
     },
     "execution_count": 12,
     "metadata": {},
     "output_type": "execute_result"
    }
   ],
   "source": [
    "contig_calls[contig_calls['curated']].groupby(['taxon_group_blast'])['read_count'].sum()"
   ]
  },
  {
   "cell_type": "markdown",
   "metadata": {},
   "source": [
    "Dark matter reads reclassified as virus: some are polymerase, some are other segments."
   ]
  },
  {
   "cell_type": "code",
   "execution_count": 13,
   "metadata": {},
   "outputs": [
    {
     "data": {
      "text/plain": [
       "rdrp\n",
       "False    338472\n",
       "True      45961\n",
       "Name: read_count, dtype: int64"
      ]
     },
     "execution_count": 13,
     "metadata": {},
     "output_type": "execute_result"
    }
   ],
   "source": [
    "contig_calls[contig_calls['taxon_group_blast'] == 'Dark'].groupby(['rdrp'])['read_count'].sum()"
   ]
  },
  {
   "cell_type": "code",
   "execution_count": 14,
   "metadata": {},
   "outputs": [],
   "source": [
    "contig_calls.to_csv('../data/s3/contig_quality_concat/contig_calls.tsv',\n",
    "                    sep='\\t', index = False)"
   ]
  },
  {
   "cell_type": "markdown",
   "metadata": {},
   "source": [
    "# Decontamination"
   ]
  },
  {
   "cell_type": "markdown",
   "metadata": {},
   "source": [
    "We compute the average concentration of each taxon in the water. Markov's inequality says that for any nonnegative random variable $X$, the probability that $X$ is greater $k$ is less than $\\mathbb{E}X/k$. Thus for any false-discovery rate $r$, the probability that $X > \\mathbb{E}X/r$ is less than $\\mathbb{E}X/(\\mathbb{E}X/r) = r$. If we treat concentrations of contaminating taxa in each well as a random variable, we can estimate the mean from the water, and use that estimate to bound (using Markov's inequality), the amount of that taxon contained in another sample can be explained by contamination."
   ]
  },
  {
   "cell_type": "code",
   "execution_count": 15,
   "metadata": {},
   "outputs": [],
   "source": [
    "sample_table = pd.read_csv('../data/metadata/idseq_metadata.csv')"
   ]
  },
  {
   "cell_type": "code",
   "execution_count": 16,
   "metadata": {},
   "outputs": [],
   "source": [
    "sample_table['water'] = sample_table['sample'].str.contains('ater')\n",
    "sample_table = sample_table[['sample',\n",
    "                              'total_reads',\n",
    "                              'nonhost_reads',\n",
    "                              'total_ercc_reads',\n",
    "                              'compression_ratio',\n",
    "                              'water']]\n",
    "sample_table['input_conc'] = sample_table.eval('(total_reads - total_ercc_reads)/total_ercc_reads')\n",
    "sample_table['nonhost_frac'] = sample_table.eval('nonhost_reads*compression_ratio/total_reads')\n",
    "n_water = sum(sample_table['water'])"
   ]
  },
  {
   "cell_type": "code",
   "execution_count": 17,
   "metadata": {},
   "outputs": [],
   "source": [
    "def sum_over(df, category):\n",
    "    return df[[category, 'sample', 'read_count']].groupby([category, 'sample']).sum().reset_index()"
   ]
  },
  {
   "cell_type": "code",
   "execution_count": 18,
   "metadata": {},
   "outputs": [],
   "source": [
    "read_counts = sum_over(contig_calls, 'poly_group')"
   ]
  },
  {
   "cell_type": "code",
   "execution_count": 19,
   "metadata": {},
   "outputs": [],
   "source": [
    "def decontam(read_counts, category, fdr):\n",
    "    background_levels = (read_counts.merge(sample_table[sample_table['water']],\n",
    "                                          on='sample', validate='many_to_one')\n",
    "                         .eval('r_per_ercc = read_count*compression_ratio/total_ercc_reads')\n",
    "                         [['r_per_ercc', category]]\n",
    "                         .groupby(category).sum()/n_water)\n",
    "    \n",
    "    df = read_counts.merge(sample_table, on = 'sample', how = 'left')\n",
    "    df = df[~df['water']]\n",
    "    df = df.merge(background_levels, on=category, how = 'left').fillna({'r_per_ercc': 0}).eval(\n",
    "    'background_reads = total_ercc_reads*r_per_ercc/compression_ratio')\n",
    "    df['is_contam'] = df['read_count'] < df['background_reads']/fdr\n",
    "    \n",
    "    return df[['sample', category, 'is_contam', 'read_count']]"
   ]
  },
  {
   "cell_type": "markdown",
   "metadata": {},
   "source": [
    "## Curated Viruses"
   ]
  },
  {
   "cell_type": "code",
   "execution_count": 20,
   "metadata": {},
   "outputs": [],
   "source": [
    "viral_df = sum_over(contig_calls[contig_calls['curated']], 'poly_group')\n",
    "viral_df = decontam(viral_df, 'poly_group', 0.01)"
   ]
  },
  {
   "cell_type": "code",
   "execution_count": 21,
   "metadata": {},
   "outputs": [
    {
     "data": {
      "text/plain": [
       "is_contam\n",
       "False    10555472\n",
       "True         1417\n",
       "Name: read_count, dtype: int64"
      ]
     },
     "execution_count": 21,
     "metadata": {},
     "output_type": "execute_result"
    }
   ],
   "source": [
    "viral_df.groupby('is_contam')['read_count'].sum()"
   ]
  },
  {
   "cell_type": "markdown",
   "metadata": {},
   "source": [
    "Viral contamination: 2757 reads."
   ]
  },
  {
   "cell_type": "code",
   "execution_count": 22,
   "metadata": {},
   "outputs": [],
   "source": [
    "# Write contam and decontam files\n",
    "viral_decontam = viral_df[~viral_df['is_contam']].filter(['sample', 'poly_group', 'read_count']).rename(\n",
    "{'read_count': 'reads'}, axis = 1)\n",
    "viral_decontam.to_csv('../data/s3/contig_quality_concat/viral_decontam.tsv',\n",
    "                      sep='\\t', index = False)\n",
    "\n",
    "viral_contamination =  viral_df[viral_df['is_contam']].filter(['sample', 'poly_group', 'read_count']).rename(\n",
    "{'read_count': 'reads'}, axis = 1)\n",
    "viral_contamination.to_csv('../data/s3/contig_quality_concat/viral_decontam.tsv',\n",
    "                           sep='\\t', index = False)"
   ]
  },
  {
   "cell_type": "code",
   "execution_count": 23,
   "metadata": {},
   "outputs": [
    {
     "data": {
      "text/html": [
       "<div>\n",
       "<style scoped>\n",
       "    .dataframe tbody tr th:only-of-type {\n",
       "        vertical-align: middle;\n",
       "    }\n",
       "\n",
       "    .dataframe tbody tr th {\n",
       "        vertical-align: top;\n",
       "    }\n",
       "\n",
       "    .dataframe thead th {\n",
       "        text-align: right;\n",
       "    }\n",
       "</style>\n",
       "<table border=\"1\" class=\"dataframe\">\n",
       "  <thead>\n",
       "    <tr style=\"text-align: right;\">\n",
       "      <th></th>\n",
       "      <th>reads</th>\n",
       "    </tr>\n",
       "    <tr>\n",
       "      <th>poly_group</th>\n",
       "      <th></th>\n",
       "    </tr>\n",
       "  </thead>\n",
       "  <tbody>\n",
       "    <tr>\n",
       "      <th>44.0</th>\n",
       "      <td>706</td>\n",
       "    </tr>\n",
       "    <tr>\n",
       "      <th>458.0</th>\n",
       "      <td>544</td>\n",
       "    </tr>\n",
       "    <tr>\n",
       "      <th>493.0</th>\n",
       "      <td>167</td>\n",
       "    </tr>\n",
       "  </tbody>\n",
       "</table>\n",
       "</div>"
      ],
      "text/plain": [
       "            reads\n",
       "poly_group       \n",
       "44.0          706\n",
       "458.0         544\n",
       "493.0         167"
      ]
     },
     "execution_count": 23,
     "metadata": {},
     "output_type": "execute_result"
    }
   ],
   "source": [
    "viral_contamination.groupby('poly_group').sum()"
   ]
  },
  {
   "cell_type": "markdown",
   "metadata": {},
   "source": [
    "# Other Taxa"
   ]
  },
  {
   "cell_type": "markdown",
   "metadata": {},
   "source": [
    "Compute contaminants for all taxa, but only use for uncurated counts."
   ]
  },
  {
   "cell_type": "code",
   "execution_count": 24,
   "metadata": {},
   "outputs": [],
   "source": [
    "contig_calls_no_hex = contig_calls[(contig_calls['hexapoda'] != True) | (contig_calls['curated'])]\n",
    "\n",
    "# Reset index\n",
    "contig_calls_no_hex = contig_calls_no_hex.reset_index().drop('index', axis = 1)"
   ]
  },
  {
   "cell_type": "code",
   "execution_count": 25,
   "metadata": {},
   "outputs": [],
   "source": [
    "all_decontam = decontam(sum_over(contig_calls_no_hex, 'taxid'), 'taxid', 0.01)"
   ]
  },
  {
   "cell_type": "code",
   "execution_count": 26,
   "metadata": {},
   "outputs": [],
   "source": [
    "lca_df = contig_calls_no_hex[~contig_calls_no_hex['curated']]\n",
    "lca_df = lca_df[~lca_df['sample'].str.contains('ater')]\n",
    "lca_df = (sum_over(lca_df, 'taxid')\n",
    "                          .merge(all_decontam.filter(['sample', 'taxid', 'is_contam']),\n",
    "                                                                      on = ['sample', 'taxid'],\n",
    "                                                                      how = 'left'))"
   ]
  },
  {
   "cell_type": "code",
   "execution_count": 27,
   "metadata": {},
   "outputs": [
    {
     "data": {
      "text/plain": [
       "is_contam\n",
       "False    2459342\n",
       "True       27720\n",
       "Name: read_count, dtype: int64"
      ]
     },
     "execution_count": 27,
     "metadata": {},
     "output_type": "execute_result"
    }
   ],
   "source": [
    "lca_df.groupby('is_contam')['read_count'].sum()"
   ]
  },
  {
   "cell_type": "code",
   "execution_count": 28,
   "metadata": {},
   "outputs": [],
   "source": [
    "# Write contam and decontam files\n",
    "lca_decontam = lca_df[~lca_df['is_contam']].filter(['sample', 'taxid', 'read_count']).rename(\n",
    "{'read_count': 'reads'}, axis = 1)\n",
    "lca_decontam.to_csv('../data/s3/contig_quality_concat/lca_decontam.tsv',\n",
    "                    sep='\\t', index = False)\n",
    "\n",
    "lca_contamination =  lca_df[lca_df['is_contam']].filter(['sample', 'taxid', 'read_count']).rename(\n",
    "{'read_count': 'reads'}, axis = 1)\n",
    "lca_contamination.to_csv('../data/s3/contig_quality_concat/lca_decontam.tsv',\n",
    "                         sep='\\t', index = False)"
   ]
  },
  {
   "cell_type": "markdown",
   "metadata": {},
   "source": [
    "Output all contigs not part of contamination."
   ]
  },
  {
   "cell_type": "code",
   "execution_count": 29,
   "metadata": {},
   "outputs": [
    {
     "data": {
      "text/html": [
       "<div>\n",
       "<style scoped>\n",
       "    .dataframe tbody tr th:only-of-type {\n",
       "        vertical-align: middle;\n",
       "    }\n",
       "\n",
       "    .dataframe tbody tr th {\n",
       "        vertical-align: top;\n",
       "    }\n",
       "\n",
       "    .dataframe thead th {\n",
       "        text-align: right;\n",
       "    }\n",
       "</style>\n",
       "<table border=\"1\" class=\"dataframe\">\n",
       "  <thead>\n",
       "    <tr style=\"text-align: right;\">\n",
       "      <th></th>\n",
       "      <th>reads</th>\n",
       "    </tr>\n",
       "    <tr>\n",
       "      <th>taxid</th>\n",
       "      <th></th>\n",
       "    </tr>\n",
       "  </thead>\n",
       "  <tbody>\n",
       "    <tr>\n",
       "      <th>1.0</th>\n",
       "      <td>13316</td>\n",
       "    </tr>\n",
       "    <tr>\n",
       "      <th>2.0</th>\n",
       "      <td>4134</td>\n",
       "    </tr>\n",
       "    <tr>\n",
       "      <th>137.0</th>\n",
       "      <td>7</td>\n",
       "    </tr>\n",
       "    <tr>\n",
       "      <th>469.0</th>\n",
       "      <td>7</td>\n",
       "    </tr>\n",
       "    <tr>\n",
       "      <th>953.0</th>\n",
       "      <td>197</td>\n",
       "    </tr>\n",
       "    <tr>\n",
       "      <th>...</th>\n",
       "      <td>...</td>\n",
       "    </tr>\n",
       "    <tr>\n",
       "      <th>1783272.0</th>\n",
       "      <td>8</td>\n",
       "    </tr>\n",
       "    <tr>\n",
       "      <th>1925501.0</th>\n",
       "      <td>128</td>\n",
       "    </tr>\n",
       "    <tr>\n",
       "      <th>2057741.0</th>\n",
       "      <td>4</td>\n",
       "    </tr>\n",
       "    <tr>\n",
       "      <th>2304480.0</th>\n",
       "      <td>5</td>\n",
       "    </tr>\n",
       "    <tr>\n",
       "      <th>2304499.0</th>\n",
       "      <td>8</td>\n",
       "    </tr>\n",
       "  </tbody>\n",
       "</table>\n",
       "<p>65 rows × 1 columns</p>\n",
       "</div>"
      ],
      "text/plain": [
       "           reads\n",
       "taxid           \n",
       "1.0        13316\n",
       "2.0         4134\n",
       "137.0          7\n",
       "469.0          7\n",
       "953.0        197\n",
       "...          ...\n",
       "1783272.0      8\n",
       "1925501.0    128\n",
       "2057741.0      4\n",
       "2304480.0      5\n",
       "2304499.0      8\n",
       "\n",
       "[65 rows x 1 columns]"
      ]
     },
     "execution_count": 29,
     "metadata": {},
     "output_type": "execute_result"
    }
   ],
   "source": [
    "lca_contamination.groupby('taxid').sum()"
   ]
  },
  {
   "cell_type": "markdown",
   "metadata": {},
   "source": [
    "## Final decontam contigs"
   ]
  },
  {
   "cell_type": "markdown",
   "metadata": {},
   "source": [
    "Strip contigs with taxa removed during decontam, and hexapoda."
   ]
  },
  {
   "cell_type": "code",
   "execution_count": 30,
   "metadata": {},
   "outputs": [],
   "source": [
    "viral_contam_idx = (contig_calls_no_hex.merge(viral_df[['sample', 'poly_group', 'is_contam']],\n",
    "                          on = ['sample', 'poly_group'], how = 'left')['is_contam'] == True)"
   ]
  },
  {
   "cell_type": "code",
   "execution_count": 31,
   "metadata": {},
   "outputs": [],
   "source": [
    "lca_contam_loaded = contig_calls_no_hex.merge(lca_df[['sample', 'taxid', 'is_contam']],\n",
    "                          on = ['sample', 'taxid'], how = 'left')\n",
    "\n",
    "lca_contam_idx = (lca_contam_loaded['is_contam'] == True) & (lca_contam_loaded['curated'] == False)"
   ]
  },
  {
   "cell_type": "code",
   "execution_count": 32,
   "metadata": {},
   "outputs": [],
   "source": [
    "not_contam_idx = ~(viral_contam_idx | lca_contam_idx)"
   ]
  },
  {
   "cell_type": "code",
   "execution_count": 33,
   "metadata": {},
   "outputs": [],
   "source": [
    "contig_calls_decontam = contig_calls_no_hex.loc[~(viral_contam_idx | lca_contam_idx)]"
   ]
  },
  {
   "cell_type": "code",
   "execution_count": 34,
   "metadata": {},
   "outputs": [],
   "source": [
    "contig_calls_decontam = contig_calls_decontam[\n",
    "    ~contig_calls_decontam['sample'].str.contains('ater')]"
   ]
  },
  {
   "cell_type": "code",
   "execution_count": 35,
   "metadata": {},
   "outputs": [],
   "source": [
    "contig_calls_decontam.to_csv('../data/s3/contig_quality_concat/contig_calls_decontam.tsv',\n",
    "                             sep='\\t', index = False)"
   ]
  },
  {
   "cell_type": "code",
   "execution_count": 36,
   "metadata": {},
   "outputs": [
    {
     "data": {
      "text/plain": [
       "taxon_group\n",
       "Ambiguous      572414\n",
       "Archaea           168\n",
       "Bacteria       690251\n",
       "Eukaryota      641345\n",
       "Hexapoda      4090187\n",
       "Metazoa        219258\n",
       "Viruses      10938605\n",
       "Name: read_count, dtype: int64"
      ]
     },
     "execution_count": 36,
     "metadata": {},
     "output_type": "execute_result"
    }
   ],
   "source": [
    "contig_calls.groupby('taxon_group')['read_count'].sum()"
   ]
  },
  {
   "cell_type": "code",
   "execution_count": 37,
   "metadata": {},
   "outputs": [
    {
     "data": {
      "text/plain": [
       "taxon_group\n",
       "Ambiguous      553300\n",
       "Archaea           138\n",
       "Bacteria       680711\n",
       "Eukaryota      636288\n",
       "Metazoa        214209\n",
       "Viruses      10930168\n",
       "Name: read_count, dtype: int64"
      ]
     },
     "execution_count": 37,
     "metadata": {},
     "output_type": "execute_result"
    }
   ],
   "source": [
    "contig_calls_decontam.groupby('taxon_group')['read_count'].sum()"
   ]
  },
  {
   "cell_type": "markdown",
   "metadata": {},
   "source": [
    "Contamination"
   ]
  },
  {
   "cell_type": "code",
   "execution_count": 38,
   "metadata": {},
   "outputs": [
    {
     "data": {
      "text/plain": [
       "taxon_group\n",
       "Ambiguous    15679\n",
       "Bacteria      4820\n",
       "Eukaryota     4383\n",
       "Metazoa       2623\n",
       "Viruses       1632\n",
       "Name: read_count, dtype: int64"
      ]
     },
     "execution_count": 38,
     "metadata": {},
     "output_type": "execute_result"
    }
   ],
   "source": [
    " contig_calls_no_hex.loc[(viral_contam_idx | lca_contam_idx)].groupby('taxon_group')['read_count'].sum()"
   ]
  },
  {
   "cell_type": "markdown",
   "metadata": {},
   "source": [
    "# Validation"
   ]
  },
  {
   "cell_type": "code",
   "execution_count": 39,
   "metadata": {},
   "outputs": [],
   "source": [
    "from ete3 import NCBITaxa\n",
    "ncbi = NCBITaxa()\n",
    "def taxid2name(taxid):\n",
    "    return ncbi.get_taxid_translator([taxid])[taxid]"
   ]
  },
  {
   "cell_type": "code",
   "execution_count": 40,
   "metadata": {},
   "outputs": [],
   "source": [
    "contig_calls_decontam = pd.read_csv('../data/s3/contig_quality_concat/contig_calls_decontam.tsv',\n",
    "                                    sep='\\t')"
   ]
  },
  {
   "cell_type": "code",
   "execution_count": 41,
   "metadata": {},
   "outputs": [
    {
     "data": {
      "text/html": [
       "<div>\n",
       "<style scoped>\n",
       "    .dataframe tbody tr th:only-of-type {\n",
       "        vertical-align: middle;\n",
       "    }\n",
       "\n",
       "    .dataframe tbody tr th {\n",
       "        vertical-align: top;\n",
       "    }\n",
       "\n",
       "    .dataframe thead th {\n",
       "        text-align: right;\n",
       "    }\n",
       "</style>\n",
       "<table border=\"1\" class=\"dataframe\">\n",
       "  <thead>\n",
       "    <tr style=\"text-align: right;\">\n",
       "      <th></th>\n",
       "      <th>sample</th>\n",
       "      <th>contig_name</th>\n",
       "      <th>contig_length</th>\n",
       "      <th>read_count</th>\n",
       "      <th>nt</th>\n",
       "      <th>nr</th>\n",
       "      <th>hexapoda</th>\n",
       "      <th>nt_or_nr</th>\n",
       "      <th>taxid_blast</th>\n",
       "      <th>bitscore</th>\n",
       "      <th>...</th>\n",
       "      <th>cluster</th>\n",
       "      <th>name</th>\n",
       "      <th>poly_group</th>\n",
       "      <th>provisional_name</th>\n",
       "      <th>segment</th>\n",
       "      <th>taxid_curated</th>\n",
       "      <th>curated</th>\n",
       "      <th>rdrp</th>\n",
       "      <th>taxon_group</th>\n",
       "      <th>taxid</th>\n",
       "    </tr>\n",
       "  </thead>\n",
       "  <tbody>\n",
       "    <tr>\n",
       "      <th>0</th>\n",
       "      <td>CMS001_001_Ra_S1</td>\n",
       "      <td>NODE_5_length_5116_cov_2209.828736</td>\n",
       "      <td>5116</td>\n",
       "      <td>186698</td>\n",
       "      <td>True</td>\n",
       "      <td>True</td>\n",
       "      <td>False</td>\n",
       "      <td>nt</td>\n",
       "      <td>2559587.0</td>\n",
       "      <td>5016.0</td>\n",
       "      <td>...</td>\n",
       "      <td>128.0</td>\n",
       "      <td>Hubei mosquito virus 4</td>\n",
       "      <td>128.0</td>\n",
       "      <td>Hubei mosquito virus 4</td>\n",
       "      <td>genome</td>\n",
       "      <td>1922928.0</td>\n",
       "      <td>True</td>\n",
       "      <td>True</td>\n",
       "      <td>Viruses</td>\n",
       "      <td>1922928.0</td>\n",
       "    </tr>\n",
       "    <tr>\n",
       "      <th>1</th>\n",
       "      <td>CMS001_001_Ra_S1</td>\n",
       "      <td>NODE_2_length_6399_cov_55.991142</td>\n",
       "      <td>6399</td>\n",
       "      <td>6127</td>\n",
       "      <td>False</td>\n",
       "      <td>True</td>\n",
       "      <td>False</td>\n",
       "      <td>nr</td>\n",
       "      <td>10239.0</td>\n",
       "      <td>1869.7</td>\n",
       "      <td>...</td>\n",
       "      <td>76.0</td>\n",
       "      <td>TBD</td>\n",
       "      <td>76.0</td>\n",
       "      <td>76|Phasma-like</td>\n",
       "      <td>RdRp_L</td>\n",
       "      <td>2546221.0</td>\n",
       "      <td>True</td>\n",
       "      <td>True</td>\n",
       "      <td>Viruses</td>\n",
       "      <td>2546221.0</td>\n",
       "    </tr>\n",
       "    <tr>\n",
       "      <th>2</th>\n",
       "      <td>CMS001_001_Ra_S1</td>\n",
       "      <td>NODE_304_length_858_cov_335.376440</td>\n",
       "      <td>858</td>\n",
       "      <td>5024</td>\n",
       "      <td>True</td>\n",
       "      <td>False</td>\n",
       "      <td>False</td>\n",
       "      <td>nt</td>\n",
       "      <td>5654.0</td>\n",
       "      <td>944.0</td>\n",
       "      <td>...</td>\n",
       "      <td>NaN</td>\n",
       "      <td>NaN</td>\n",
       "      <td>NaN</td>\n",
       "      <td>NaN</td>\n",
       "      <td>NaN</td>\n",
       "      <td>NaN</td>\n",
       "      <td>False</td>\n",
       "      <td>False</td>\n",
       "      <td>Eukaryota</td>\n",
       "      <td>5654.0</td>\n",
       "    </tr>\n",
       "    <tr>\n",
       "      <th>3</th>\n",
       "      <td>CMS001_001_Ra_S1</td>\n",
       "      <td>NODE_11_length_3224_cov_1346.461710</td>\n",
       "      <td>3224</td>\n",
       "      <td>74963</td>\n",
       "      <td>True</td>\n",
       "      <td>True</td>\n",
       "      <td>False</td>\n",
       "      <td>nt</td>\n",
       "      <td>131567.0</td>\n",
       "      <td>2052.0</td>\n",
       "      <td>...</td>\n",
       "      <td>NaN</td>\n",
       "      <td>NaN</td>\n",
       "      <td>NaN</td>\n",
       "      <td>NaN</td>\n",
       "      <td>NaN</td>\n",
       "      <td>NaN</td>\n",
       "      <td>False</td>\n",
       "      <td>False</td>\n",
       "      <td>Ambiguous</td>\n",
       "      <td>131567.0</td>\n",
       "    </tr>\n",
       "    <tr>\n",
       "      <th>4</th>\n",
       "      <td>CMS001_001_Ra_S1</td>\n",
       "      <td>NODE_1088_length_508_cov_3732.148492</td>\n",
       "      <td>508</td>\n",
       "      <td>25176</td>\n",
       "      <td>True</td>\n",
       "      <td>False</td>\n",
       "      <td>False</td>\n",
       "      <td>nt</td>\n",
       "      <td>2304480.0</td>\n",
       "      <td>871.0</td>\n",
       "      <td>...</td>\n",
       "      <td>NaN</td>\n",
       "      <td>NaN</td>\n",
       "      <td>NaN</td>\n",
       "      <td>NaN</td>\n",
       "      <td>NaN</td>\n",
       "      <td>NaN</td>\n",
       "      <td>False</td>\n",
       "      <td>False</td>\n",
       "      <td>Viruses</td>\n",
       "      <td>2304480.0</td>\n",
       "    </tr>\n",
       "  </tbody>\n",
       "</table>\n",
       "<p>5 rows × 24 columns</p>\n",
       "</div>"
      ],
      "text/plain": [
       "             sample                           contig_name  contig_length  \\\n",
       "0  CMS001_001_Ra_S1    NODE_5_length_5116_cov_2209.828736           5116   \n",
       "1  CMS001_001_Ra_S1      NODE_2_length_6399_cov_55.991142           6399   \n",
       "2  CMS001_001_Ra_S1    NODE_304_length_858_cov_335.376440            858   \n",
       "3  CMS001_001_Ra_S1   NODE_11_length_3224_cov_1346.461710           3224   \n",
       "4  CMS001_001_Ra_S1  NODE_1088_length_508_cov_3732.148492            508   \n",
       "\n",
       "   read_count     nt     nr hexapoda nt_or_nr  taxid_blast  bitscore  ...  \\\n",
       "0      186698   True   True    False       nt    2559587.0    5016.0  ...   \n",
       "1        6127  False   True    False       nr      10239.0    1869.7  ...   \n",
       "2        5024   True  False    False       nt       5654.0     944.0  ...   \n",
       "3       74963   True   True    False       nt     131567.0    2052.0  ...   \n",
       "4       25176   True  False    False       nt    2304480.0     871.0  ...   \n",
       "\n",
       "   cluster                    name poly_group        provisional_name  \\\n",
       "0    128.0  Hubei mosquito virus 4      128.0  Hubei mosquito virus 4   \n",
       "1     76.0                     TBD       76.0          76|Phasma-like   \n",
       "2      NaN                     NaN        NaN                     NaN   \n",
       "3      NaN                     NaN        NaN                     NaN   \n",
       "4      NaN                     NaN        NaN                     NaN   \n",
       "\n",
       "   segment taxid_curated  curated   rdrp taxon_group      taxid  \n",
       "0   genome     1922928.0     True   True     Viruses  1922928.0  \n",
       "1   RdRp_L     2546221.0     True   True     Viruses  2546221.0  \n",
       "2      NaN           NaN    False  False   Eukaryota     5654.0  \n",
       "3      NaN           NaN    False  False   Ambiguous   131567.0  \n",
       "4      NaN           NaN    False  False     Viruses  2304480.0  \n",
       "\n",
       "[5 rows x 24 columns]"
      ]
     },
     "execution_count": 41,
     "metadata": {},
     "output_type": "execute_result"
    }
   ],
   "source": [
    "contig_calls_decontam.head()"
   ]
  },
  {
   "cell_type": "code",
   "execution_count": 42,
   "metadata": {},
   "outputs": [],
   "source": [
    "partition = \"Apicomplexa Crithidia Pecora Carnivora Homininae Rodentia Leporidae Aves\".split()\n",
    "partition = ncbi.get_name_translator(partition)\n",
    "partition = {v[0]: k for k, v in partition.items()}\n",
    "\n",
    "def get_category(taxid):\n",
    "    if not taxid:\n",
    "        return None\n",
    "    try:\n",
    "        lineage = ncbi.get_lineage(taxid)\n",
    "    except:\n",
    "        return 'NA'\n",
    "    for k in partition:\n",
    "        if k in lineage:\n",
    "            return partition[k]\n",
    "    else:\n",
    "        return 'NA'"
   ]
  },
  {
   "cell_type": "code",
   "execution_count": 43,
   "metadata": {},
   "outputs": [
    {
     "data": {
      "text/plain": [
       "{5655: 'Crithidia',\n",
       " 5794: 'Apicomplexa',\n",
       " 8782: 'Aves',\n",
       " 9979: 'Leporidae',\n",
       " 9989: 'Rodentia',\n",
       " 33554: 'Carnivora',\n",
       " 35500: 'Pecora',\n",
       " 207598: 'Homininae'}"
      ]
     },
     "execution_count": 43,
     "metadata": {},
     "output_type": "execute_result"
    }
   ],
   "source": [
    "partition"
   ]
  },
  {
   "cell_type": "code",
   "execution_count": 44,
   "metadata": {},
   "outputs": [
    {
     "name": "stderr",
     "output_type": "stream",
     "text": [
      "/Users/josh/anaconda3/envs/flash/lib/python3.5/site-packages/ete3/ncbi_taxonomy/ncbiquery.py:240: UserWarning: taxid 6915.0 was translated into 2585209\n",
      "  warnings.warn(\"taxid %s was translated into %s\" %(taxid, merged_conversion[taxid]))\n",
      "/Users/josh/anaconda3/envs/flash/lib/python3.5/site-packages/ete3/ncbi_taxonomy/ncbiquery.py:240: UserWarning: taxid 2267872.0 was translated into 1653778\n",
      "  warnings.warn(\"taxid %s was translated into %s\" %(taxid, merged_conversion[taxid]))\n"
     ]
    }
   ],
   "source": [
    "category = contig_calls_decontam['taxid'].apply(get_category)\n",
    "contig_calls_decontam['category'] = category"
   ]
  },
  {
   "cell_type": "code",
   "execution_count": 45,
   "metadata": {},
   "outputs": [
    {
     "data": {
      "text/html": [
       "<div>\n",
       "<style scoped>\n",
       "    .dataframe tbody tr th:only-of-type {\n",
       "        vertical-align: middle;\n",
       "    }\n",
       "\n",
       "    .dataframe tbody tr th {\n",
       "        vertical-align: top;\n",
       "    }\n",
       "\n",
       "    .dataframe thead th {\n",
       "        text-align: right;\n",
       "    }\n",
       "</style>\n",
       "<table border=\"1\" class=\"dataframe\">\n",
       "  <thead>\n",
       "    <tr style=\"text-align: right;\">\n",
       "      <th></th>\n",
       "      <th>read_count</th>\n",
       "    </tr>\n",
       "    <tr>\n",
       "      <th>category</th>\n",
       "      <th></th>\n",
       "    </tr>\n",
       "  </thead>\n",
       "  <tbody>\n",
       "    <tr>\n",
       "      <th>Apicomplexa</th>\n",
       "      <td>6022</td>\n",
       "    </tr>\n",
       "    <tr>\n",
       "      <th>Aves</th>\n",
       "      <td>50572</td>\n",
       "    </tr>\n",
       "    <tr>\n",
       "      <th>Carnivora</th>\n",
       "      <td>5304</td>\n",
       "    </tr>\n",
       "    <tr>\n",
       "      <th>Crithidia</th>\n",
       "      <td>144563</td>\n",
       "    </tr>\n",
       "    <tr>\n",
       "      <th>Homininae</th>\n",
       "      <td>6313</td>\n",
       "    </tr>\n",
       "    <tr>\n",
       "      <th>Leporidae</th>\n",
       "      <td>903</td>\n",
       "    </tr>\n",
       "    <tr>\n",
       "      <th>NA</th>\n",
       "      <td>12771133</td>\n",
       "    </tr>\n",
       "    <tr>\n",
       "      <th>Pecora</th>\n",
       "      <td>17306</td>\n",
       "    </tr>\n",
       "    <tr>\n",
       "      <th>Rodentia</th>\n",
       "      <td>12698</td>\n",
       "    </tr>\n",
       "  </tbody>\n",
       "</table>\n",
       "</div>"
      ],
      "text/plain": [
       "             read_count\n",
       "category               \n",
       "Apicomplexa        6022\n",
       "Aves              50572\n",
       "Carnivora          5304\n",
       "Crithidia        144563\n",
       "Homininae          6313\n",
       "Leporidae           903\n",
       "NA             12771133\n",
       "Pecora            17306\n",
       "Rodentia          12698"
      ]
     },
     "execution_count": 45,
     "metadata": {},
     "output_type": "execute_result"
    }
   ],
   "source": [
    "contig_calls_decontam[['category', 'read_count']].groupby('category').sum()"
   ]
  },
  {
   "cell_type": "code",
   "execution_count": 46,
   "metadata": {},
   "outputs": [
    {
     "name": "stderr",
     "output_type": "stream",
     "text": [
      "/Users/josh/anaconda3/envs/flash/lib/python3.5/site-packages/ete3/ncbi_taxonomy/ncbiquery.py:240: UserWarning: taxid 197514.0 was translated into 2555385\n",
      "  warnings.warn(\"taxid %s was translated into %s\" %(taxid, merged_conversion[taxid]))\n",
      "/Users/josh/anaconda3/envs/flash/lib/python3.5/site-packages/ete3/ncbi_taxonomy/ncbiquery.py:240: UserWarning: taxid 6915.0 was translated into 2585209\n",
      "  warnings.warn(\"taxid %s was translated into %s\" %(taxid, merged_conversion[taxid]))\n",
      "/Users/josh/anaconda3/envs/flash/lib/python3.5/site-packages/ete3/ncbi_taxonomy/ncbiquery.py:240: UserWarning: taxid 2267872.0 was translated into 1653778\n",
      "  warnings.warn(\"taxid %s was translated into %s\" %(taxid, merged_conversion[taxid]))\n"
     ]
    },
    {
     "data": {
      "text/html": [
       "<div>\n",
       "<style scoped>\n",
       "    .dataframe tbody tr th:only-of-type {\n",
       "        vertical-align: middle;\n",
       "    }\n",
       "\n",
       "    .dataframe tbody tr th {\n",
       "        vertical-align: top;\n",
       "    }\n",
       "\n",
       "    .dataframe thead th {\n",
       "        text-align: right;\n",
       "    }\n",
       "</style>\n",
       "<table border=\"1\" class=\"dataframe\">\n",
       "  <thead>\n",
       "    <tr style=\"text-align: right;\">\n",
       "      <th></th>\n",
       "      <th>read_count</th>\n",
       "    </tr>\n",
       "    <tr>\n",
       "      <th>category</th>\n",
       "      <th></th>\n",
       "    </tr>\n",
       "  </thead>\n",
       "  <tbody>\n",
       "    <tr>\n",
       "      <th>Apicomplexa</th>\n",
       "      <td>6047</td>\n",
       "    </tr>\n",
       "    <tr>\n",
       "      <th>Aves</th>\n",
       "      <td>52469</td>\n",
       "    </tr>\n",
       "    <tr>\n",
       "      <th>Carnivora</th>\n",
       "      <td>5310</td>\n",
       "    </tr>\n",
       "    <tr>\n",
       "      <th>Crithidia</th>\n",
       "      <td>144563</td>\n",
       "    </tr>\n",
       "    <tr>\n",
       "      <th>Homininae</th>\n",
       "      <td>8255</td>\n",
       "    </tr>\n",
       "    <tr>\n",
       "      <th>Leporidae</th>\n",
       "      <td>903</td>\n",
       "    </tr>\n",
       "    <tr>\n",
       "      <th>NA</th>\n",
       "      <td>16519487</td>\n",
       "    </tr>\n",
       "    <tr>\n",
       "      <th>Pecora</th>\n",
       "      <td>17306</td>\n",
       "    </tr>\n",
       "    <tr>\n",
       "      <th>Rodentia</th>\n",
       "      <td>13455</td>\n",
       "    </tr>\n",
       "  </tbody>\n",
       "</table>\n",
       "</div>"
      ],
      "text/plain": [
       "             read_count\n",
       "category               \n",
       "Apicomplexa        6047\n",
       "Aves              52469\n",
       "Carnivora          5310\n",
       "Crithidia        144563\n",
       "Homininae          8255\n",
       "Leporidae           903\n",
       "NA             16519487\n",
       "Pecora            17306\n",
       "Rodentia          13455"
      ]
     },
     "execution_count": 46,
     "metadata": {},
     "output_type": "execute_result"
    }
   ],
   "source": [
    "lca = pd.read_csv('../data/s3/contig_quality_concat/contig_stats_lca.tsv', sep='\\t')\n",
    "category = lca['taxid'].apply(get_category)\n",
    "lca['category'] = category\n",
    "lca[['category', 'read_count']].groupby('category').sum()"
   ]
  },
  {
   "cell_type": "code",
   "execution_count": 57,
   "metadata": {},
   "outputs": [],
   "source": [
    "apicomplexa = contig_calls_decontam[contig_calls_decontam['category'] == 'Apicomplexa'].copy()"
   ]
  },
  {
   "cell_type": "code",
   "execution_count": 58,
   "metadata": {},
   "outputs": [],
   "source": [
    "apicomplexa['name'] = apicomplexa['taxid'].apply(taxid2name)"
   ]
  },
  {
   "cell_type": "code",
   "execution_count": 60,
   "metadata": {},
   "outputs": [
    {
     "data": {
      "text/plain": [
       "sample                  name                           \n",
       "CMS001_001_Ra_S1        Eimeria maxima                     12\n",
       "                        Plasmodium chabaudi chabaudi       20\n",
       "                        Plasmodium cynomolgi               14\n",
       "                        Plasmodium ovale                   22\n",
       "CMS001_003_Ra_S2        Eimeria acervulina                  4\n",
       "                                                           ..\n",
       "CMS002_053a_Rb_S7_L004  Plasmodium ovale                   10\n",
       "                        Plasmodium sp. gorilla clade G2     4\n",
       "                        Plasmodium vivax                    9\n",
       "                        Plasmodium yoelii killicki          3\n",
       "CMS002_056a_Rb_S9_L004  Plasmodium yoelii                   6\n",
       "Name: read_count, Length: 223, dtype: int64"
      ]
     },
     "execution_count": 60,
     "metadata": {},
     "output_type": "execute_result"
    }
   ],
   "source": [
    "apicomplexa.groupby(['sample', 'name'])['read_count'].sum()"
   ]
  },
  {
   "cell_type": "code",
   "execution_count": null,
   "metadata": {},
   "outputs": [],
   "source": []
  }
 ],
 "metadata": {
  "kernelspec": {
   "display_name": "flash",
   "language": "python",
   "name": "flash"
  },
  "language_info": {
   "codemirror_mode": {
    "name": "ipython",
    "version": 3
   },
   "file_extension": ".py",
   "mimetype": "text/x-python",
   "name": "python",
   "nbconvert_exporter": "python",
   "pygments_lexer": "ipython3",
   "version": "3.5.3"
  }
 },
 "nbformat": 4,
 "nbformat_minor": 2
}
