{
 "cells": [
  {
   "cell_type": "code",
   "execution_count": 1,
   "metadata": {},
   "outputs": [],
   "source": [
    "import pandas as pd\n",
    "import seaborn as sns\n",
    "import numpy as np\n",
    "import matplotlib.pyplot as plt\n",
    "\n",
    "import json\n",
    "import csv\n",
    "from scipy import stats\n",
    "\n",
    "import rpy2.rinterface"
   ]
  },
  {
   "cell_type": "code",
   "execution_count": 2,
   "metadata": {},
   "outputs": [],
   "source": [
    "#github repo\n",
    "mydir = \"/Users/hanna/Desktop/MyBox/aa_DeRisi/mosquito/skeeters/\""
   ]
  },
  {
   "cell_type": "code",
   "execution_count": 3,
   "metadata": {},
   "outputs": [],
   "source": [
    "# read in json file\n",
    "\n",
    "mypath = mydir + \"/data/darkmatter/\"\n",
    "infile = mypath + \"virus.json\"\n",
    "with open(infile, 'r') as in_file:\n",
    "    df_viruses = pd.read_json(in_file).T"
   ]
  },
  {
   "cell_type": "code",
   "execution_count": 4,
   "metadata": {},
   "outputs": [],
   "source": [
    "with open(infile, 'r') as in_file:\n",
    "    data_viruses = json.load(in_file)"
   ]
  },
  {
   "cell_type": "code",
   "execution_count": 5,
   "metadata": {},
   "outputs": [],
   "source": [
    "# snippet for handling cdhit output from Multisegmented Virus Hunting notebook\n",
    "\n",
    "from collections import defaultdict, namedtuple\n",
    "Member = namedtuple('Member', ['contig', 'length', 'percent_id', 'percent_id_sign', 'sample', 'coverage'])\n",
    "\n",
    "def parse_cdhit_row(row):\n",
    "    if '*' in row:\n",
    "        index, length, name, percent_id = row.split()\n",
    "        percent_id_sign, percent_id = '0', 100\n",
    "    else:\n",
    "        index, length, name, _, percent_id = row.split()\n",
    "    length = int(length.strip(',nt'))\n",
    "    name = name.strip('>').strip('.')\n",
    "    sample, contig = name.split('~')\n",
    "    coverage = float(contig.split('_')[-1])\n",
    "    \n",
    "    if percent_id != 100:\n",
    "        percent_id_sign, percent_id = percent_id.strip('%').split('/')\n",
    "        percent_id = float(percent_id)\n",
    "    return Member(contig=contig, sample=sample, length=length,\n",
    "                  percent_id=percent_id, percent_id_sign=percent_id_sign, coverage=coverage)\n",
    "\n",
    "\n",
    "clusters = defaultdict(list)\n",
    "with open(mydir+'/data/500_contigs_cluster.clstr', 'r') as file:\n",
    "    for line in file:\n",
    "        if line.startswith('>Cluster'):\n",
    "            cluster_id = line.split()[-1]\n",
    "        else:\n",
    "            member = parse_cdhit_row(line)\n",
    "            if 'water' in member.sample.lower():\n",
    "                continue\n",
    "            clusters[cluster_id].append(member)\n",
    "\n",
    "def get_representative(cluster):\n",
    "    representative = [member for member in cluster if member.percent_id_sign == '0'][0]\n",
    "    return representative\n",
    "\n",
    "def print_cluster(cluster_id):\n",
    "    cluster = clusters[cluster_id]\n",
    "    representative = get_representative(cluster)\n",
    "    samples = defaultdict(list)\n",
    "    for member in cluster:\n",
    "        samples[member.sample].append(str(member.length))\n",
    "    lengths_list = ','.join(['+'.join(lengths) for lengths in samples.values()])\n",
    "    \n",
    "    print('Cluster: ', cluster_id)\n",
    "    print('Rep contig: ', representative.sample, representative.contig)\n",
    "    print('Rep Length: ', representative.length)\n",
    "    print('N samples: ', len(samples))\n",
    "    print('Contig Lengths: ', lengths_list)\n",
    "\n",
    "contig_to_cluster = {member.contig: cluster_id for cluster_id in clusters for member in clusters[cluster_id]}\n"
   ]
  },
  {
   "cell_type": "code",
   "execution_count": 6,
   "metadata": {},
   "outputs": [],
   "source": [
    "# HR\n",
    "def get_samples(cluster):\n",
    "    samples_list = [member.sample for member in clusters[cluster]]\n",
    "    return samples_list"
   ]
  },
  {
   "cell_type": "markdown",
   "metadata": {},
   "source": [
    "# Determine whether virus.json contains all relevant narna contigs"
   ]
  },
  {
   "cell_type": "markdown",
   "metadata": {},
   "source": [
    "HR's pull of clusters that contain narna RdRp or Robin\n",
    "Based on minimapping representative contigs from '500_contigs_cluster.clstr' to known narna sequences\n",
    "\n",
    "Cluster 493\n",
    "Cluster 509\n",
    "Cluster 516\n",
    "Cluster 6465\n",
    "Cluster 10146\n",
    "Cluster 18824\n",
    "Cluster 20071\n",
    "Cluster 20247\n",
    "Cluster 20274\n",
    "Cluster 24617\n",
    "Cluster 25004"
   ]
  },
  {
   "cell_type": "code",
   "execution_count": 22,
   "metadata": {},
   "outputs": [],
   "source": [
    "clusters_narnaRdRp = ['493',\n",
    "'509',\n",
    "'516',\n",
    "'10146']\n",
    "\n",
    "clusters_narnaRobin = ['6465',\n",
    "'18824',\n",
    "'20071',\n",
    "'20247',\n",
    "'20274',\n",
    "'24617',\n",
    "'25004']"
   ]
  },
  {
   "cell_type": "code",
   "execution_count": 23,
   "metadata": {},
   "outputs": [],
   "source": [
    "l = []\n",
    "for cluster in clusters_narnaRdRp + clusters_narnaRobin:\n",
    "    l.append(get_samples(cluster))\n",
    "flat_list = [item for sublist in l for item in sublist]\n",
    "samples_narna = sorted(list(set(flat_list)))"
   ]
  },
  {
   "cell_type": "code",
   "execution_count": 24,
   "metadata": {},
   "outputs": [],
   "source": [
    "# read in narna samples from previous cataloguing\n",
    "\n",
    "infile='/Users/Hanna/Desktop/MyBox/aa_DeRisi/mosquito/november2019/narna_sample_names_n54n47.csv'\n",
    "with open(infile, 'r') as in_file:\n",
    "    samples_narna_n54n47 = sorted(list(csv.reader(in_file))[0])"
   ]
  },
  {
   "cell_type": "code",
   "execution_count": 25,
   "metadata": {},
   "outputs": [
    {
     "data": {
      "text/plain": [
       "True"
      ]
     },
     "execution_count": 25,
     "metadata": {},
     "output_type": "execute_result"
    }
   ],
   "source": [
    "# using dataframe below (from reanalysis 11/14/19), df_narna\n",
    "samples_uptodate = sorted(list(df_narna['sample_trunc'].unique()))\n",
    "samples_uptodate == samples_narna_n54n47"
   ]
  },
  {
   "cell_type": "code",
   "execution_count": 26,
   "metadata": {
    "scrolled": true
   },
   "outputs": [
    {
     "name": "stdout",
     "output_type": "stream",
     "text": [
      "set()\n",
      "{'CMS002_028b', 'CMS002_028c', 'CMS002_047e', 'CMS001_009', 'CMS001_006', 'CMS002_036a', 'CMS002_025c', 'CMS002_040a', 'CMS001_water3_Qiagen_S26', 'CMS002_056a', 'CMS002_025e'}\n"
     ]
    }
   ],
   "source": [
    "# compare samples from each method\n",
    "samples_narna_500cluster = ['_'.join(s.split('_')[0:2]) for s in samples_narna]\n",
    "print(set(samples_narna_500cluster) - set(samples_narna_n54n47)) \n",
    "print(set(samples_narna_n54n47) - set(samples_narna_500cluster))"
   ]
  },
  {
   "cell_type": "markdown",
   "metadata": {},
   "source": [
    "Conclusion: virus.json is missing 10 samples that have narna contigs between 200-500nt.\n",
    "So, for these analyses, will use previous pull of narna contigs based on minimapping"
   ]
  },
  {
   "cell_type": "markdown",
   "metadata": {},
   "source": [
    "# Abundance correlation plot"
   ]
  },
  {
   "cell_type": "markdown",
   "metadata": {},
   "source": [
    "Input files needed:\n",
    "Manually curated list of contigs (>200nt) for narna_RdRp:'narnaRdRp_samplecontig.csv'\n",
    "Manually curated list of contigs (>200nt) for narna_Robin: 'narnaRobin_samplecontig.csv'\n",
    "Read counts for contigs: s3://czbiohub-mosquito/contig_quality_concat/contig_stats_all.tsv\n",
    "IDSeq metadata: https://github.com/czbiohub/skeeters/tree/master/data/metadata/idseq_metadata.csv     "
   ]
  },
  {
   "cell_type": "code",
   "execution_count": 7,
   "metadata": {},
   "outputs": [],
   "source": [
    "# read in csv to get sample and contig names for all narna contigs\n",
    "mydir = \"/Users/Hanna/Desktop/MyBox/aa_DeRisi/mosquito/november2019/\""
   ]
  },
  {
   "cell_type": "code",
   "execution_count": 8,
   "metadata": {},
   "outputs": [],
   "source": [
    "infile = 'narnaRdRp_samplecontig.csv'\n",
    "with open(mydir + infile, 'r') as in_file:\n",
    "    df = pd.read_csv(in_file, header=None)\n",
    "    df.columns = ['sample_trunc','contig_name']\n",
    "    df['segment'] = 'rdrp'\n",
    "    df_rdrp = df"
   ]
  },
  {
   "cell_type": "code",
   "execution_count": 9,
   "metadata": {},
   "outputs": [],
   "source": [
    "infile = 'narnaRobin_samplecontig.csv'\n",
    "with open(mydir + infile, 'r') as in_file:\n",
    "    df = pd.read_csv(in_file, header=None)\n",
    "    df.columns = ['sample_trunc','contig_name']\n",
    "    df['segment'] = 'robin'\n",
    "    df_robin = df"
   ]
  },
  {
   "cell_type": "code",
   "execution_count": 10,
   "metadata": {},
   "outputs": [],
   "source": [
    "df_narna = pd.concat([df_rdrp, df_robin])\n",
    "df_narna_nowater = df_narna[~df_narna.sample_trunc.str.contains(\"ater\")]"
   ]
  },
  {
   "cell_type": "code",
   "execution_count": 11,
   "metadata": {},
   "outputs": [
    {
     "name": "stdout",
     "output_type": "stream",
     "text": [
      "N samples with rdrp: 46\n",
      "N samples with robin: 53\n",
      "N samples with rdrp and/or robin: 56\n",
      "N samples with both: 43\n",
      "rdrp but no robin: {'CMS002_051a', 'CMS001_009', 'CMS002_025e'}\n",
      "robin but no rdrp: {'CMS002_028b', 'CMS002_031a', 'CMS002_028c', 'CMS002_047e', 'CMS001_006', 'CMS002_038a', 'CMS002_036a', 'CMS002_025c', 'CMS002_040a', 'CMS002_056a'}\n"
     ]
    }
   ],
   "source": [
    "A = list(df_narna_nowater[df_narna_nowater['segment']=='rdrp']['sample_trunc'].unique())\n",
    "B = list(df_narna_nowater[df_narna_nowater['segment']=='robin']['sample_trunc'].unique())\n",
    "C = list(df_narna_nowater['sample_trunc'].unique())\n",
    "print('N samples with rdrp: ' + str(len(A)))\n",
    "print('N samples with robin: ' + str(len(B)))\n",
    "print('N samples with rdrp and/or robin: ' + str(len(C)))\n",
    "print('N samples with both: ' + str(len(set(A)-(set(A) - set(B)))))\n",
    "print('rdrp but no robin: ' + str((set(A) - set(B))))\n",
    "print('robin but no rdrp: ' + str((set(B) - set(A))))"
   ]
  },
  {
   "cell_type": "code",
   "execution_count": 12,
   "metadata": {},
   "outputs": [],
   "source": [
    "# read in Read counts for contigs: s3://czbiohub-mosquito/contig_quality_concat/contig_stats_all.tsv\n",
    "mydir = \"/Users/Hanna/Desktop/MyBox/aa_DeRisi/mosquito/november2019/\"\n",
    "infile = 'contig_stats_all.tsv'\n",
    "with open(mydir + infile, 'r') as in_file:\n",
    "    df_counts = pd.read_csv(in_file, header=0, delimiter='\\t')\n",
    "\n",
    "df_counts['sample_trunc'] = ['_'.join(x.split('_')[0:2]) for x in df_counts['sample'] ]"
   ]
  },
  {
   "cell_type": "code",
   "execution_count": 13,
   "metadata": {},
   "outputs": [],
   "source": [
    "# read in IDSeq metadata: idseq_metadata.csv for denominator for rpM\n",
    "mydir = \"/Users/hanna/Desktop/MyBox/aa_DeRisi/mosquito/skeeters/\"\n",
    "infile = 'idseq_metadata.csv'\n",
    "with open(mydir + 'data/metadata/' + infile, 'r') as in_file:\n",
    "    idseq_metadata = pd.read_csv(in_file, header=0)\n",
    "\n",
    "idseq_metadata['sample_trunc'] = ['_'.join(x.split('_')[0:2]) \n",
    "                                  for x in idseq_metadata['sample'] ]"
   ]
  },
  {
   "cell_type": "code",
   "execution_count": 14,
   "metadata": {},
   "outputs": [
    {
     "name": "stdout",
     "output_type": "stream",
     "text": [
      "True\n"
     ]
    }
   ],
   "source": [
    "# check that truncated sample names doesn't create duplicates\n",
    "print(len(df_counts['sample_trunc'].unique()) == len(df_counts['sample'].unique()) )"
   ]
  },
  {
   "cell_type": "code",
   "execution_count": 15,
   "metadata": {},
   "outputs": [],
   "source": [
    "# merge dataframes\n",
    "df_summary = pd.merge(df_narna, df_counts, on=['sample_trunc','contig_name'])\n",
    "df_summary = pd.merge(df_summary, idseq_metadata, on=['sample_trunc'])\n",
    "df_summary['rpm'] = df_summary['read_count'] / df_summary['total_reads'] *1e6"
   ]
  },
  {
   "cell_type": "code",
   "execution_count": 16,
   "metadata": {},
   "outputs": [
    {
     "data": {
      "text/html": [
       "<div>\n",
       "<style scoped>\n",
       "    .dataframe tbody tr th:only-of-type {\n",
       "        vertical-align: middle;\n",
       "    }\n",
       "\n",
       "    .dataframe tbody tr th {\n",
       "        vertical-align: top;\n",
       "    }\n",
       "\n",
       "    .dataframe thead th {\n",
       "        text-align: right;\n",
       "    }\n",
       "</style>\n",
       "<table border=\"1\" class=\"dataframe\">\n",
       "  <thead>\n",
       "    <tr style=\"text-align: right;\">\n",
       "      <th></th>\n",
       "      <th>sample_trunc</th>\n",
       "      <th>contig_name</th>\n",
       "      <th>segment</th>\n",
       "      <th>sample_x</th>\n",
       "      <th>contig_length</th>\n",
       "      <th>read_count</th>\n",
       "      <th>sample_y</th>\n",
       "      <th>total_reads</th>\n",
       "      <th>nonhost_reads</th>\n",
       "      <th>total_ercc_reads</th>\n",
       "      <th>compression_ratio</th>\n",
       "      <th>water</th>\n",
       "      <th>input_conc</th>\n",
       "      <th>rpm</th>\n",
       "    </tr>\n",
       "  </thead>\n",
       "  <tbody>\n",
       "    <tr>\n",
       "      <th>0</th>\n",
       "      <td>CMS001_009</td>\n",
       "      <td>NODE_19969_length_232_cov_0.741935</td>\n",
       "      <td>rdrp</td>\n",
       "      <td>CMS001_009_Ra_S13</td>\n",
       "      <td>232</td>\n",
       "      <td>2</td>\n",
       "      <td>CMS001_009_Ra_S13</td>\n",
       "      <td>62306790</td>\n",
       "      <td>813290</td>\n",
       "      <td>2678</td>\n",
       "      <td>2.28</td>\n",
       "      <td>False</td>\n",
       "      <td>23265.165049</td>\n",
       "      <td>0.032099</td>\n",
       "    </tr>\n",
       "    <tr>\n",
       "      <th>1</th>\n",
       "      <td>CMS001_004</td>\n",
       "      <td>NODE_1_length_3148_cov_123.031911</td>\n",
       "      <td>rdrp</td>\n",
       "      <td>CMS001_004_Ra_S2</td>\n",
       "      <td>3148</td>\n",
       "      <td>5568</td>\n",
       "      <td>CMS001_004_Ra_S2</td>\n",
       "      <td>35584846</td>\n",
       "      <td>46660</td>\n",
       "      <td>2586</td>\n",
       "      <td>1.18</td>\n",
       "      <td>False</td>\n",
       "      <td>13759.574633</td>\n",
       "      <td>156.471100</td>\n",
       "    </tr>\n",
       "    <tr>\n",
       "      <th>2</th>\n",
       "      <td>CMS001_004</td>\n",
       "      <td>NODE_17_length_847_cov_664.774026</td>\n",
       "      <td>robin</td>\n",
       "      <td>CMS001_004_Ra_S2</td>\n",
       "      <td>847</td>\n",
       "      <td>7771</td>\n",
       "      <td>CMS001_004_Ra_S2</td>\n",
       "      <td>35584846</td>\n",
       "      <td>46660</td>\n",
       "      <td>2586</td>\n",
       "      <td>1.18</td>\n",
       "      <td>False</td>\n",
       "      <td>13759.574633</td>\n",
       "      <td>218.379475</td>\n",
       "    </tr>\n",
       "    <tr>\n",
       "      <th>3</th>\n",
       "      <td>CMS001_002</td>\n",
       "      <td>NODE_7_length_3150_cov_193.138301</td>\n",
       "      <td>rdrp</td>\n",
       "      <td>CMS001_002_Ra_S1</td>\n",
       "      <td>3150</td>\n",
       "      <td>8757</td>\n",
       "      <td>CMS001_002_Ra_S1</td>\n",
       "      <td>31503742</td>\n",
       "      <td>369628</td>\n",
       "      <td>3080</td>\n",
       "      <td>1.25</td>\n",
       "      <td>False</td>\n",
       "      <td>10227.487662</td>\n",
       "      <td>277.966979</td>\n",
       "    </tr>\n",
       "    <tr>\n",
       "      <th>4</th>\n",
       "      <td>CMS001_002</td>\n",
       "      <td>NODE_113_length_849_cov_354.167098</td>\n",
       "      <td>robin</td>\n",
       "      <td>CMS001_002_Ra_S1</td>\n",
       "      <td>849</td>\n",
       "      <td>4052</td>\n",
       "      <td>CMS001_002_Ra_S1</td>\n",
       "      <td>31503742</td>\n",
       "      <td>369628</td>\n",
       "      <td>3080</td>\n",
       "      <td>1.25</td>\n",
       "      <td>False</td>\n",
       "      <td>10227.487662</td>\n",
       "      <td>128.619641</td>\n",
       "    </tr>\n",
       "  </tbody>\n",
       "</table>\n",
       "</div>"
      ],
      "text/plain": [
       "  sample_trunc                         contig_name segment           sample_x  \\\n",
       "0   CMS001_009  NODE_19969_length_232_cov_0.741935    rdrp  CMS001_009_Ra_S13   \n",
       "1   CMS001_004   NODE_1_length_3148_cov_123.031911    rdrp   CMS001_004_Ra_S2   \n",
       "2   CMS001_004   NODE_17_length_847_cov_664.774026   robin   CMS001_004_Ra_S2   \n",
       "3   CMS001_002   NODE_7_length_3150_cov_193.138301    rdrp   CMS001_002_Ra_S1   \n",
       "4   CMS001_002  NODE_113_length_849_cov_354.167098   robin   CMS001_002_Ra_S1   \n",
       "\n",
       "   contig_length  read_count           sample_y  total_reads  nonhost_reads  \\\n",
       "0            232           2  CMS001_009_Ra_S13     62306790         813290   \n",
       "1           3148        5568   CMS001_004_Ra_S2     35584846          46660   \n",
       "2            847        7771   CMS001_004_Ra_S2     35584846          46660   \n",
       "3           3150        8757   CMS001_002_Ra_S1     31503742         369628   \n",
       "4            849        4052   CMS001_002_Ra_S1     31503742         369628   \n",
       "\n",
       "   total_ercc_reads  compression_ratio  water    input_conc         rpm  \n",
       "0              2678               2.28  False  23265.165049    0.032099  \n",
       "1              2586               1.18  False  13759.574633  156.471100  \n",
       "2              2586               1.18  False  13759.574633  218.379475  \n",
       "3              3080               1.25  False  10227.487662  277.966979  \n",
       "4              3080               1.25  False  10227.487662  128.619641  "
      ]
     },
     "execution_count": 16,
     "metadata": {},
     "output_type": "execute_result"
    }
   ],
   "source": [
    "df_summary.head()"
   ]
  },
  {
   "cell_type": "code",
   "execution_count": 17,
   "metadata": {},
   "outputs": [
    {
     "data": {
      "text/html": [
       "<div>\n",
       "<style scoped>\n",
       "    .dataframe tbody tr th:only-of-type {\n",
       "        vertical-align: middle;\n",
       "    }\n",
       "\n",
       "    .dataframe tbody tr th {\n",
       "        vertical-align: top;\n",
       "    }\n",
       "\n",
       "    .dataframe thead th {\n",
       "        text-align: right;\n",
       "    }\n",
       "</style>\n",
       "<table border=\"1\" class=\"dataframe\">\n",
       "  <thead>\n",
       "    <tr style=\"text-align: right;\">\n",
       "      <th></th>\n",
       "      <th>sample_trunc</th>\n",
       "      <th>segment</th>\n",
       "      <th>contig_length</th>\n",
       "      <th>rpm</th>\n",
       "    </tr>\n",
       "  </thead>\n",
       "  <tbody>\n",
       "    <tr>\n",
       "      <th>0</th>\n",
       "      <td>CMS001_002</td>\n",
       "      <td>rdrp</td>\n",
       "      <td>3150</td>\n",
       "      <td>277.966979</td>\n",
       "    </tr>\n",
       "    <tr>\n",
       "      <th>1</th>\n",
       "      <td>CMS001_002</td>\n",
       "      <td>robin</td>\n",
       "      <td>849</td>\n",
       "      <td>128.619641</td>\n",
       "    </tr>\n",
       "    <tr>\n",
       "      <th>2</th>\n",
       "      <td>CMS001_004</td>\n",
       "      <td>rdrp</td>\n",
       "      <td>3148</td>\n",
       "      <td>156.471100</td>\n",
       "    </tr>\n",
       "    <tr>\n",
       "      <th>3</th>\n",
       "      <td>CMS001_004</td>\n",
       "      <td>robin</td>\n",
       "      <td>847</td>\n",
       "      <td>218.379475</td>\n",
       "    </tr>\n",
       "    <tr>\n",
       "      <th>4</th>\n",
       "      <td>CMS001_006</td>\n",
       "      <td>robin</td>\n",
       "      <td>344</td>\n",
       "      <td>0.094424</td>\n",
       "    </tr>\n",
       "  </tbody>\n",
       "</table>\n",
       "</div>"
      ],
      "text/plain": [
       "  sample_trunc segment  contig_length         rpm\n",
       "0   CMS001_002    rdrp           3150  277.966979\n",
       "1   CMS001_002   robin            849  128.619641\n",
       "2   CMS001_004    rdrp           3148  156.471100\n",
       "3   CMS001_004   robin            847  218.379475\n",
       "4   CMS001_006   robin            344    0.094424"
      ]
     },
     "execution_count": 17,
     "metadata": {},
     "output_type": "execute_result"
    }
   ],
   "source": [
    "df = df_summary.groupby(['sample_trunc','segment'], as_index=False).agg(\n",
    "    {'contig_length': 'max', 'rpm': 'sum'} )\n",
    "df.head()"
   ]
  },
  {
   "cell_type": "code",
   "execution_count": 18,
   "metadata": {},
   "outputs": [
    {
     "data": {
      "text/html": [
       "<div>\n",
       "<style scoped>\n",
       "    .dataframe tbody tr th:only-of-type {\n",
       "        vertical-align: middle;\n",
       "    }\n",
       "\n",
       "    .dataframe tbody tr th {\n",
       "        vertical-align: top;\n",
       "    }\n",
       "\n",
       "    .dataframe thead th {\n",
       "        text-align: right;\n",
       "    }\n",
       "</style>\n",
       "<table border=\"1\" class=\"dataframe\">\n",
       "  <thead>\n",
       "    <tr style=\"text-align: right;\">\n",
       "      <th>segment</th>\n",
       "      <th>rdrp</th>\n",
       "      <th>robin</th>\n",
       "    </tr>\n",
       "    <tr>\n",
       "      <th>sample_trunc</th>\n",
       "      <th></th>\n",
       "      <th></th>\n",
       "    </tr>\n",
       "  </thead>\n",
       "  <tbody>\n",
       "    <tr>\n",
       "      <th>CMS001_002</th>\n",
       "      <td>277.966979</td>\n",
       "      <td>128.619641</td>\n",
       "    </tr>\n",
       "    <tr>\n",
       "      <th>CMS001_004</th>\n",
       "      <td>156.471100</td>\n",
       "      <td>218.379475</td>\n",
       "    </tr>\n",
       "    <tr>\n",
       "      <th>CMS001_006</th>\n",
       "      <td>NaN</td>\n",
       "      <td>0.094424</td>\n",
       "    </tr>\n",
       "    <tr>\n",
       "      <th>CMS001_009</th>\n",
       "      <td>0.032099</td>\n",
       "      <td>NaN</td>\n",
       "    </tr>\n",
       "    <tr>\n",
       "      <th>CMS001_011</th>\n",
       "      <td>183.880761</td>\n",
       "      <td>227.316822</td>\n",
       "    </tr>\n",
       "  </tbody>\n",
       "</table>\n",
       "</div>"
      ],
      "text/plain": [
       "segment             rdrp       robin\n",
       "sample_trunc                        \n",
       "CMS001_002    277.966979  128.619641\n",
       "CMS001_004    156.471100  218.379475\n",
       "CMS001_006           NaN    0.094424\n",
       "CMS001_009      0.032099         NaN\n",
       "CMS001_011    183.880761  227.316822"
      ]
     },
     "execution_count": 18,
     "metadata": {},
     "output_type": "execute_result"
    }
   ],
   "source": [
    "df_out = df.pivot(index='sample_trunc', columns='segment', values='rpm')\n",
    "df_out.head()"
   ]
  },
  {
   "cell_type": "code",
   "execution_count": 19,
   "metadata": {},
   "outputs": [],
   "source": [
    "mydata = df_out.fillna(0)\n",
    "X = mydata['rdrp']\n",
    "Y = mydata['robin']"
   ]
  },
  {
   "cell_type": "code",
   "execution_count": 20,
   "metadata": {},
   "outputs": [
    {
     "name": "stdout",
     "output_type": "stream",
     "text": [
      "slope: 0.864032    intercept: 4.904146\n",
      "R-squared: 0.878726\n"
     ]
    }
   ],
   "source": [
    "slope, intercept, r_value, p_value, std_err = stats.linregress(X, Y)\n",
    "print(\"slope: %f    intercept: %f\" % (slope, intercept))\n",
    "print(\"R-squared: %f\" % r_value**2)"
   ]
  },
  {
   "cell_type": "code",
   "execution_count": 21,
   "metadata": {},
   "outputs": [
    {
     "data": {
      "image/png": "[encoded data removed]",
      "text/plain": [
       "<Figure size 360x360 with 1 Axes>"
      ]
     },
     "metadata": {},
     "output_type": "display_data"
    }
   ],
   "source": [
    "f1, ax = plt.subplots(1,1, figsize=(5,5))\n",
    "ax = sns.scatterplot(x='rdrp', y='robin', data = mydata)\n",
    "plt.plot(X, intercept + slope*X, 'r', linewidth=0.5)\n",
    "\n",
    "plt.xlabel('narna_RdRp rpm');\n",
    "plt.ylabel('narna_Robin rpm');\n",
    "plt.title('Abundance of narnavirus RdRp vs. Robin');\n",
    "\n",
    "outdir = \"/Users/Hanna/Desktop/MyBox/aa_DeRisi/mosquito/november2019/\"\n",
    "plt.savefig(outdir+\"fig_narna_Robin_vs_RdRp_rpm_v2.pdf\",bbox_inches='tight')\n",
    "\n",
    "plt.show()"
   ]
  },
  {
   "cell_type": "markdown",
   "metadata": {},
   "source": [
    "# Tanglegram narna RdRp vs. Robin"
   ]
  },
  {
   "cell_type": "markdown",
   "metadata": {},
   "source": [
    "Input files needed:\n",
    "    RAxML_bipartitionsBranchLabels.T19_narnaRdRp_rooted.newick\n",
    "    RAxML_bipartitionsBranchLabels.T20_narnaRobin_rooted.newick"
   ]
  },
  {
   "cell_type": "code",
   "execution_count": 27,
   "metadata": {},
   "outputs": [],
   "source": [
    "%load_ext rpy2.ipython"
   ]
  },
  {
   "cell_type": "code",
   "execution_count": 29,
   "metadata": {},
   "outputs": [],
   "source": [
    "%%R\n",
    "\n",
    "required_libraries <- c( \"ape\",  \"ggplot2\", \"ggtree\",  \"phylogram\",\"dendextend\")\n",
    "missing_libraries <- required_libraries[!(required_libraries %in% installed.packages())]\n",
    "if (length(missing_libraries) > 0) sapply(missing_libraries, install.packages)\n",
    "invisible(lapply(required_libraries, library, character.only=TRUE))"
   ]
  },
  {
   "cell_type": "code",
   "execution_count": 30,
   "metadata": {},
   "outputs": [],
   "source": [
    "%%R\n",
    "\n",
    "mydir = \"/Users/Hanna/Desktop/MyBox/aa_DeRisi/mosquito/november2019/\"\n",
    "\n",
    "infile=\"RAxML_bipartitionsBranchLabels.T19_narnaRdRp_rooted.newick\"\n",
    "mltree <- ape::read.tree(paste0(mydir, infile))\n",
    "mltree_RdRp <- mltree\n",
    "\n",
    "infile=\"RAxML_bipartitionsBranchLabels.T20_narnaRobin_rooted.newick\"\n",
    "mltree <- ape::read.tree(paste0(mydir, infile))\n",
    "mltree_Robin<- mltree"
   ]
  },
  {
   "cell_type": "code",
   "execution_count": 31,
   "metadata": {},
   "outputs": [
    {
     "data": {
      "image/png": "[encoded data removed]"
     },
     "metadata": {},
     "output_type": "display_data"
    }
   ],
   "source": [
    "%%R\n",
    "\n",
    "dnd1 <- phylogram::as.dendrogram.phylo(mltree_Robin)\n",
    "dnd2 <- phylogram::as.dendrogram.phylo(mltree_RdRp)\n",
    "\n",
    "## rearrange in ladderized fashion\n",
    "dnd1 <- ladder(dnd1)\n",
    "dnd2 <- ladder(dnd2)\n",
    "\n",
    "## plot the tanglegram\n",
    "dndlist <- dendextend::dendlist(dnd2, dnd1)\n",
    "dendextend::tanglegram(dndlist, fast = TRUE, margin_inner=7)\n"
   ]
  },
  {
   "cell_type": "code",
   "execution_count": null,
   "metadata": {},
   "outputs": [],
   "source": []
  }
 ],
 "metadata": {
  "kernelspec": {
   "display_name": "Python 3",
   "language": "python",
   "name": "python3"
  },
  "language_info": {
   "codemirror_mode": {
    "name": "ipython",
    "version": 3
   },
   "file_extension": ".py",
   "mimetype": "text/x-python",
   "name": "python",
   "nbconvert_exporter": "python",
   "pygments_lexer": "ipython3",
   "version": "3.7.4"
  }
 },
 "nbformat": 4,
 "nbformat_minor": 2
}
