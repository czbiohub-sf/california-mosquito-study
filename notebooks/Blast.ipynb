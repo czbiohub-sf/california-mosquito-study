{
 "cells": [
  {
   "cell_type": "markdown",
   "metadata": {},
   "source": [
    "The purpose of this notebook is to download the assembled contigs, blast them against nt and nr, then return those contigs to AWS.\n",
    "\n",
    "1. Set up an m5a.12xlarge instance, with keys and ports for jupyter from the `czbiohub-miniconda` AMI. Storage is at `/mnt/data`.\n",
    "\n",
    "`aegea launch --iam-role S3fromEC2 --ami-tags Name=czbiohub-jupyter -t m5a.12xlarge  batson-blast`\n",
    "\n",
    "Setup jupyter on the remote\n",
    "\n",
    "`aegea ssh batson@batson-blast`\n",
    "`tmux`\n",
    "`jupyter notebook`\n",
    "\n",
    "Port forwarding from laptop\n",
    "\n",
    "`aegea ssh batson@batson-blast -NL localhost:8899:localhost:8888`\n",
    "\n",
    "2. Download contigs\n",
    "\n",
    "`mkdir /mnt/data/contigs`\n",
    "`aws s3 sync s3://czbiohub-mosquito/contigs/ /mnt/data/contigs --exclude \"*\" --include \"*.fasta\" --dryrun`\n",
    "\n",
    "3. Install requirements\n",
    "\n",
    "conda install -c bioconda -c conda-forge blast\n",
    "\n",
    "mkdir /mnt/data/blast\n",
    "cd /mnt/data/blast\n",
    "update_blastdb.pl --decompress nt nr taxdb\n",
    "\n",
    "4. Run BLAST\n",
    "\n",
    "Loop over all contigs, and run for each sample\n",
    "\n",
    "`BLASTDB=/mnt/data/blast blastn -db nt -num_threads 48 -query /mnt/data/contigs/{SAMPLE}/contigs.fasta -outfmt 7 -out /mnt/data/contigs/{SAMPLE}/blastn_nt.m9 -evalue 1e-1`\n",
    "\n",
    "`BLASTDB=/mnt/data/blast blastx -db nr -num_threads 48 -query /mnt/data/contigs/{SAMPLE}/contigs.fasta -outfmt 7 -out /mnt/data/contigs/{SAMPLE}/blastx_nr.m9 -evalue 1e-1`\n",
    "\n",
    "5. Upload samples\n",
    "\n",
    "`aws s3 sync /mnt/data/contigs/ s3://czbiohub-mosquito/contigs/ --exclude \"*\" --include \"*.m9\" --dryrun`"
   ]
  },
  {
   "cell_type": "code",
   "execution_count": null,
   "metadata": {
    "collapsed": true
   },
   "outputs": [],
   "source": []
  },
  {
   "cell_type": "markdown",
   "metadata": {},
   "source": [
    "To download the contigs, we will sync to\n",
    "\n",
    "`s3://czbiohub-mosquito/contigs/SAMPLE/contigs.fasta`"
   ]
  },
  {
   "cell_type": "markdown",
   "metadata": {},
   "source": [
    "To setup blast db, follow https://czbiohub.atlassian.net/wiki/spaces/DS/pages/903905690/nt+nr+BLAST+etc+on+EC2\n"
   ]
  },
  {
   "cell_type": "markdown",
   "metadata": {},
   "source": [
    "1. Download blast db\n",
    "\n",
    "\n",
    "3. To setup BLAST, we follow the instructions in "
   ]
  },
  {
   "cell_type": "code",
   "execution_count": null,
   "metadata": {
    "collapsed": true
   },
   "outputs": [],
   "source": []
  }
 ],
 "metadata": {
  "kernelspec": {
   "display_name": "Python 3",
   "language": "python",
   "name": "python3"
  },
  "language_info": {
   "codemirror_mode": {
    "name": "ipython",
    "version": 3
   },
   "file_extension": ".py",
   "mimetype": "text/x-python",
   "name": "python",
   "nbconvert_exporter": "python",
   "pygments_lexer": "ipython3",
   "version": "3.5.3"
  }
 },
 "nbformat": 4,
 "nbformat_minor": 2
}
