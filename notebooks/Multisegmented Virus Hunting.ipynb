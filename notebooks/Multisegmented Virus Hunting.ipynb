{
 "cells": [
  {
   "cell_type": "code",
   "execution_count": 9,
   "metadata": {},
   "outputs": [],
   "source": [
    "import pandas as pd\n",
    "import numpy as np\n",
    "import matplotlib.pyplot as plt\n",
    "import networkx as nx\n",
    "%matplotlib inline"
   ]
  },
  {
   "cell_type": "code",
   "execution_count": 10,
   "metadata": {},
   "outputs": [],
   "source": [
    "from collections import Counter, defaultdict\n",
    "import seaborn as sns"
   ]
  },
  {
   "cell_type": "code",
   "execution_count": 11,
   "metadata": {},
   "outputs": [],
   "source": [
    "# !/Users/josh/packages/cd-hit-v4.8.1-2019-0228/cd-hit-est -M 2000 -T 3 -d 0  \\\n",
    "#    -i ~/src/skeeters/data/long_contigs.fasta \\\n",
    "#    -o ~/src/skeeters/data/long_contigs_cluster"
   ]
  },
  {
   "cell_type": "code",
   "execution_count": 12,
   "metadata": {},
   "outputs": [],
   "source": [
    "from collections import defaultdict, namedtuple\n",
    "Member = namedtuple('Member', ['contig', 'length', 'percent_id', 'percent_id_sign', 'sample', 'coverage'])"
   ]
  },
  {
   "cell_type": "code",
   "execution_count": 13,
   "metadata": {},
   "outputs": [],
   "source": [
    "def parse_cdhit_row(row):\n",
    "    if '*' in row:\n",
    "        index, length, name, percent_id = row.split()\n",
    "        percent_id_sign, percent_id = '0', 100\n",
    "    else:\n",
    "        index, length, name, _, percent_id = row.split()\n",
    "    length = int(length.strip(',nt'))\n",
    "    name = name.strip('>').strip('.')\n",
    "    sample, contig = name.split('~')\n",
    "    coverage = float(contig.split('_')[-1])\n",
    "    \n",
    "    if percent_id != 100:\n",
    "        percent_id_sign, percent_id = percent_id.strip('%').split('/')\n",
    "        percent_id = float(percent_id)\n",
    "    return Member(contig=contig, sample=sample, length=length,\n",
    "                  percent_id=percent_id, percent_id_sign=percent_id_sign, coverage=coverage)"
   ]
  },
  {
   "cell_type": "code",
   "execution_count": 14,
   "metadata": {},
   "outputs": [
    {
     "data": {
      "text/plain": [
       "Member(contig='NODE_2_length_2441_cov_25.388748', length=2441, percent_id=99.8, percent_id_sign='-', sample='CMS002_026d_Rb_S149_L004', coverage=25.388748)"
      ]
     },
     "execution_count": 14,
     "metadata": {},
     "output_type": "execute_result"
    }
   ],
   "source": [
    "example_row = '3\t2441nt, >CMS002_026d_Rb_S149_L004~NODE_2_length_2441_cov_25.388748... at -/99.80%'\n",
    "parse_cdhit_row(example_row)"
   ]
  },
  {
   "cell_type": "code",
   "execution_count": 15,
   "metadata": {},
   "outputs": [],
   "source": [
    "clusters = defaultdict(list)\n",
    "with open('../data/long_contigs_cluster.clstr', 'r') as file:\n",
    "    for line in file:\n",
    "        if line.startswith('>Cluster'):\n",
    "            cluster_id = line.split()[-1]\n",
    "        else:\n",
    "            clusters[cluster_id].append(parse_cdhit_row(line))"
   ]
  },
  {
   "cell_type": "code",
   "execution_count": 16,
   "metadata": {},
   "outputs": [],
   "source": [
    "# remove singletons\n",
    "clusters = {cluster_id: clusters[cluster_id] for cluster_id in clusters if len(clusters[cluster_id]) > 1}\n",
    "samples = list(set([member.sample for cluster_id in clusters for member in clusters[cluster_id]]))"
   ]
  },
  {
   "cell_type": "code",
   "execution_count": 17,
   "metadata": {},
   "outputs": [],
   "source": [
    "def get_representative(cluster):\n",
    "    representative = [member for member in cluster if member.percent_id_sign == '0'][0]\n",
    "    return representative\n",
    "def print_cluster(cluster_id):\n",
    "    cluster = clusters[cluster_id]\n",
    "    representative = get_representative(cluster)\n",
    "    samples = defaultdict(list)\n",
    "    for member in cluster:\n",
    "        samples[member.sample].append(str(member.length))\n",
    "    lengths_list = ','.join(['+'.join(lengths) for lengths in samples.values()])\n",
    "    \n",
    "    print('Cluster: ', cluster_id)\n",
    "    print('Rep contig: ', representative.sample, representative.contig)\n",
    "    print('Rep Length: ', representative.length)\n",
    "    print('N samples: ', len(cluster))\n",
    "    print('Contig Lengths: ', lengths_list)"
   ]
  },
  {
   "cell_type": "code",
   "execution_count": 18,
   "metadata": {},
   "outputs": [
    {
     "name": "stdout",
     "output_type": "stream",
     "text": [
      "Cluster:  500\n",
      "Rep contig:  CMS002_007a_Rb_S118_L004 NODE_85_length_3006_cov_5.652441\n",
      "Rep Length:  3006\n",
      "N samples:  4\n",
      "Contig Lengths:  2523,1676+1332,3006\n"
     ]
    }
   ],
   "source": [
    "print_cluster('500')"
   ]
  },
  {
   "cell_type": "code",
   "execution_count": 19,
   "metadata": {},
   "outputs": [
    {
     "data": {
      "text/plain": [
       "2992"
      ]
     },
     "execution_count": 19,
     "metadata": {},
     "output_type": "execute_result"
    }
   ],
   "source": [
    "len(clusters)"
   ]
  },
  {
   "cell_type": "code",
   "execution_count": 20,
   "metadata": {},
   "outputs": [],
   "source": [
    "contig_to_cluster = {member.contig: cluster_id for cluster_id in clusters for member in clusters[cluster_id]}"
   ]
  },
  {
   "cell_type": "code",
   "execution_count": 21,
   "metadata": {},
   "outputs": [],
   "source": [
    "def graph_from_clusters(clusters):\n",
    "    G = nx.Graph()\n",
    "    for cluster_id in clusters:\n",
    "        for member in clusters[cluster_id]:\n",
    "            if member.length > 700:\n",
    "                G.add_edge(cluster_id, member.sample, attr_dict=member._asdict())\n",
    "    return G"
   ]
  },
  {
   "cell_type": "code",
   "execution_count": 22,
   "metadata": {},
   "outputs": [],
   "source": [
    "G = graph_from_clusters(clusters)"
   ]
  },
  {
   "cell_type": "code",
   "execution_count": 23,
   "metadata": {},
   "outputs": [],
   "source": [
    "def df_from_subset(subset, aggregation = None):\n",
    "    df = pd.DataFrame(columns = [cluster_id for cluster_id in clusters if cluster_id in subset], \n",
    "                      index = [sample for sample in samples if sample in subset], dtype=int).fillna(0)\n",
    "    # make a heatmap\n",
    "    for cluster_id in clusters:\n",
    "        if cluster_id not in subset:\n",
    "            continue\n",
    "        for member in clusters[cluster_id]:\n",
    "            if member.sample not in subset:\n",
    "                continue\n",
    "            if aggregation == None:\n",
    "                df.loc[member.sample, cluster_id] = 1\n",
    "            if aggregation == 'coverage':\n",
    "                df.loc[member.sample, cluster_id] += member.coverage\n",
    "            if aggregation == 'length':\n",
    "                df.loc[member.sample, cluster_id] += member.length\n",
    "    return df"
   ]
  },
  {
   "cell_type": "code",
   "execution_count": 37,
   "metadata": {},
   "outputs": [],
   "source": [
    "def walk(nodes, G=G):\n",
    "    if not isinstance(nodes, list):\n",
    "        nodes = [nodes]\n",
    "    return [nbr for node in nodes for nbr in G.neighbors(node) ]"
   ]
  },
  {
   "cell_type": "code",
   "execution_count": 38,
   "metadata": {},
   "outputs": [],
   "source": [
    "def nbhd(start, depth=1):\n",
    "    if isinstance(start, str):\n",
    "        start = [start]\n",
    "    n = start\n",
    "    for i in range(depth):\n",
    "        n = n + walk(n)\n",
    "    return set(n)"
   ]
  },
  {
   "cell_type": "code",
   "execution_count": 39,
   "metadata": {},
   "outputs": [
    {
     "data": {
      "text/plain": [
       "[1, 14, 33, 122]"
      ]
     },
     "execution_count": 39,
     "metadata": {},
     "output_type": "execute_result"
    }
   ],
   "source": [
    "# Test that neighborhoods grow\n",
    "[len(nbhd(contig_to_cluster['NODE_2_length_2441_cov_25.388748'], i)) for i in range(4)]"
   ]
  },
  {
   "cell_type": "markdown",
   "metadata": {},
   "source": [
    "## Examples"
   ]
  },
  {
   "cell_type": "code",
   "execution_count": 40,
   "metadata": {},
   "outputs": [],
   "source": [
    "def split_hannah(input):\n",
    "    return [line.split('\\t')[2] for line in input.split('\\n')]\n",
    "wuhan6 = \"\"\"CMS001_042_Ra_S23\tbin10\tNODE_10_length_2444_cov_49.183354\t1702\t36384680\t46.77792961 seg1=PB2\n",
    "CMS001_042_Ra_S23\tbin11\tNODE_11_length_2437_cov_68.228814\t2361\t36384680\t64.88994819 seg2=PB1\n",
    "CMS001_042_Ra_S23\tbin12\tNODE_12_length_2238_cov_65.551134\t2072\t36384680\t56.94704475 seg3=PA\n",
    "CMS001_042_Ra_S23\tbin13\tNODE_15_length_1855_cov_99.279528\t2584\t36384680\t71.01890136 seg4=NP\n",
    "CMS001_042_Ra_S23\tbin3\tNODE_28_length_1501_cov_37.367978\t787\t36384680\t21.62998273 seg5=gp\n",
    "CMS001_042_Ra_S23\tbin4\tNODE_131_length_861_cov_90.163265\t1027\t36384680\t28.22616552 seg6=hypoth\"\"\"\n",
    "\n",
    "wuhan6_ish_contigs = split_hannah(wuhan6)\n",
    "\n"
   ]
  },
  {
   "cell_type": "code",
   "execution_count": 41,
   "metadata": {},
   "outputs": [],
   "source": [
    "whidbey_ish = \"\"\"CMS002_018b_Rb_S129_L004\tbin1\tNODE_4_length_2203_cov_29.747883\t906\t89837146\t10.08491521 PA\n",
    "CMS002_018b_Rb_S129_L004\tbin15\tNODE_10_length_884_cov_107.267658\t1237\t89837146\t13.76935995 NP\n",
    "CMS002_018b_Rb_S129_L004\tbin15\tNODE_9_length_939_cov_28.932715\t361\t89837146\t4.018382329 NP\n",
    "CMS002_018b_Rb_S129_L004\tbin2\tNODE_2_length_2430_cov_26.274968\t876\t89837146\t9.750977619 PB1\"\"\"\n",
    "\n",
    "whidbey_ish_contigs = split_hannah(whidbey_ish)\n",
    "\n"
   ]
  },
  {
   "cell_type": "code",
   "execution_count": 42,
   "metadata": {},
   "outputs": [],
   "source": [
    "wm3_ish = \"\"\"CMS001_027_Ra_S16\tbin14\tNODE_6_length_2203_cov_26.203669\t930\t29422908\t31.6080246 PA\n",
    "CMS001_027_Ra_S16\tbin16\tNODE_16_length_1779_cov_20.285546\t605\t29422908\t20.56220955 NP\n",
    "CMS001_027_Ra_S16\tbin17\tNODE_3_length_2447_cov_21.006751\t882\t29422908\t29.97664269 PB1\n",
    "CMS001_027_Ra_S16\tbin7\tNODE_4_length_2420_cov_26.034571\t1026\t29422908\t34.87078843 PB2\"\"\"\n",
    "\n",
    "wm3_ish_contigs = split_hannah(wm3_ish)\n",
    "\n"
   ]
  },
  {
   "cell_type": "code",
   "execution_count": 43,
   "metadata": {},
   "outputs": [],
   "source": [
    "def sort_by(x_list, idx_list):\n",
    "     return [x for (idx,x) in sorted(zip(idx_list,x_list), key=lambda pair: pair[0])]"
   ]
  },
  {
   "cell_type": "code",
   "execution_count": 44,
   "metadata": {},
   "outputs": [],
   "source": [
    "def fish_dark_matter(bait_contigs, overlap_cutoff=0.9):\n",
    "    bait_clusters = [contig_to_cluster[c] for c in bait_contigs]\n",
    "    df = df_from_subset(nbhd(bait_clusters, 3))\n",
    "    samples_with_bait = df.loc[:, bait_clusters].sum(axis = 1) == len(bait_clusters)\n",
    "    n_samples_with_bait = df.loc[:, bait_clusters].sum().mean()\n",
    "    clusters_containing_bait = df.loc[samples_with_bait].sum() >= (overlap_cutoff * n_samples_with_bait)\n",
    "    clusters_not_overflowing_bait = (df.sum() * overlap_cutoff) <= n_samples_with_bait\n",
    "\n",
    "    overlapping_clusters = df.columns[clusters_containing_bait & clusters_not_overflowing_bait]\n",
    "    df = df[overlapping_clusters]\n",
    "    df = df.loc[df.sum(axis = 1) > 0,:]\n",
    "    \n",
    "    return df\n",
    "\n",
    "def display_dark_matter(df):\n",
    "    overlapping_clusters = df.columns\n",
    "\n",
    "    print('Found ', len(overlapping_clusters), ' candidate segments.')\n",
    "    lengths = [get_representative(clusters[cluster_id]).length for cluster_id in overlapping_clusters]\n",
    "    print('Segment lengths: ', sorted(lengths, reverse=True))\n",
    "    for cluster in sort_by(overlapping_clusters, lengths):\n",
    "        print('---')\n",
    "        print_cluster(cluster)\n",
    "    if (df > 0).mean().mean() < 1:\n",
    "        sns.clustermap(df)\n",
    "\n",
    "# # Add code to return a subset of the dataframe with the candidate overlapping_clusters"
   ]
  },
  {
   "cell_type": "code",
   "execution_count": 45,
   "metadata": {},
   "outputs": [
    {
     "name": "stdout",
     "output_type": "stream",
     "text": [
      "Found  6  candidate segments.\n",
      "Segment lengths:  [2444, 2441, 2239, 1871, 1532, 866]\n",
      "---\n",
      "Cluster:  9896\n",
      "Rep contig:  CMS001_038_Ra_S22 NODE_80_length_866_cov_105.239544\n",
      "Rep Length:  866\n",
      "N samples:  14\n",
      "Contig Lengths:  852,862,861,853,858,850,861,861,851,863,857,854,866,862\n",
      "---\n",
      "Cluster:  3036\n",
      "Rep contig:  CMS002_029e_Rb_S164_L004 NODE_27_length_1532_cov_20.452921\n",
      "Rep Length:  1532\n",
      "N samples:  14\n",
      "Contig Lengths:  1491,1504,1501,1532,1500,1491,1496,1496,1497,1515,1496,1501,1495,1500\n",
      "---\n",
      "Cluster:  1807\n",
      "Rep contig:  CMS002_056a_Rb_S9_L004 NODE_23_length_1871_cov_203.951505\n",
      "Rep Length:  1871\n",
      "N samples:  14\n",
      "Contig Lengths:  1860,1860,1855,1868,1871,1847,1850,1865,1845,1865,1856,1859,1858,1867\n",
      "---\n",
      "Cluster:  1133\n",
      "Rep contig:  CMS002_029e_Rb_S164_L004 NODE_13_length_2239_cov_35.559667\n",
      "Rep Length:  2239\n",
      "N samples:  14\n",
      "Contig Lengths:  2225,2234,2238,2239,2235,2218,2221,2228,2228,2227,2222,2238,2223,2228\n",
      "---\n",
      "Cluster:  899\n",
      "Rep contig:  CMS002_029c_Rb_S161_L004 NODE_9_length_2441_cov_36.508037\n",
      "Rep Length:  2441\n",
      "N samples:  14\n",
      "Contig Lengths:  2431,2438,2437,2433,2441,2433,2434,2441,2438,2434,2436,2436,2437,2437\n",
      "---\n",
      "Cluster:  893\n",
      "Rep contig:  CMS001_042_Ra_S23 NODE_10_length_2444_cov_49.183354\n",
      "Rep Length:  2444\n",
      "N samples:  14\n",
      "Contig Lengths:  2417,2441,2444,2436,2441,2412,2437,2437,2431,2440,2437,2438,2439,2443\n"
     ]
    }
   ],
   "source": [
    "# From one wuhan 6 contig\n",
    "display_dark_matter(fish_dark_matter(wuhan6_ish_contigs[:1], 0.8))"
   ]
  },
  {
   "cell_type": "code",
   "execution_count": 46,
   "metadata": {},
   "outputs": [
    {
     "name": "stdout",
     "output_type": "stream",
     "text": [
      "Found  6  candidate segments.\n",
      "Segment lengths:  [2447, 2420, 2203, 1779, 1449, 813]\n",
      "---\n",
      "Cluster:  11017\n",
      "Rep contig:  CMS001_046_Ra_S3 NODE_46_length_813_cov_29.523098\n",
      "Rep Length:  813\n",
      "N samples:  2\n",
      "Contig Lengths:  803,813\n",
      "---\n",
      "Cluster:  3459\n",
      "Rep contig:  CMS001_046_Ra_S3 NODE_15_length_1449_cov_6.100583\n",
      "Rep Length:  1449\n",
      "N samples:  2\n",
      "Contig Lengths:  1443,1449\n",
      "---\n",
      "Cluster:  2065\n",
      "Rep contig:  CMS001_027_Ra_S16 NODE_16_length_1779_cov_20.285546\n",
      "Rep Length:  1779\n",
      "N samples:  2\n",
      "Contig Lengths:  1779,1765\n",
      "---\n",
      "Cluster:  1185\n",
      "Rep contig:  CMS001_027_Ra_S16 NODE_6_length_2203_cov_26.203669\n",
      "Rep Length:  2203\n",
      "N samples:  2\n",
      "Contig Lengths:  2203,2196\n",
      "---\n",
      "Cluster:  921\n",
      "Rep contig:  CMS001_027_Ra_S16 NODE_4_length_2420_cov_26.034571\n",
      "Rep Length:  2420\n",
      "N samples:  2\n",
      "Contig Lengths:  2420,2418\n",
      "---\n",
      "Cluster:  891\n",
      "Rep contig:  CMS001_027_Ra_S16 NODE_3_length_2447_cov_21.006751\n",
      "Rep Length:  2447\n",
      "N samples:  2\n",
      "Contig Lengths:  2447,2447\n"
     ]
    }
   ],
   "source": [
    "# wm3 candidates\n",
    "display_dark_matter(fish_dark_matter(wm3_ish_contigs))"
   ]
  },
  {
   "cell_type": "code",
   "execution_count": 47,
   "metadata": {},
   "outputs": [
    {
     "name": "stdout",
     "output_type": "stream",
     "text": [
      "Found  5  candidate segments.\n",
      "Segment lengths:  [2449, 2442, 2245, 1534, 869]\n",
      "---\n",
      "Cluster:  9843\n",
      "Rep contig:  CMS002_045c_Rb_S185_L004 NODE_14_length_869_cov_33.226010\n",
      "Rep Length:  869\n",
      "N samples:  13\n",
      "Contig Lengths:  857,857,869,857,857,856,861,857,863,860,857,853,856\n",
      "---\n",
      "Cluster:  3027\n",
      "Rep contig:  CMS002_045f_Rb_S189_L004 NODE_10_length_1534_cov_13.974605\n",
      "Rep Length:  1534\n",
      "N samples:  13\n",
      "Contig Lengths:  1505,1476,1510,1494,1505,1511,1534,1514,1510,1496,1513,1507,1515\n",
      "---\n",
      "Cluster:  1122\n",
      "Rep contig:  CMS002_026c_Rb_S148_L004 NODE_4_length_2245_cov_17.264299\n",
      "Rep Length:  2245\n",
      "N samples:  13\n",
      "Contig Lengths:  2234,2185,2243,2235,2232,2229,2230,2245,2245,2229,2236,2239,2237\n",
      "---\n",
      "Cluster:  898\n",
      "Rep contig:  CMS002_026a_Rb_S146_L004 NODE_2_length_2442_cov_5.123890\n",
      "Rep Length:  2442\n",
      "N samples:  13\n",
      "Contig Lengths:  2436,1386,2416,2442,2434,2431,2425,2431,2440,2421,2424,2417,2435\n",
      "---\n",
      "Cluster:  889\n",
      "Rep contig:  CMS002_045c_Rb_S185_L004 NODE_3_length_2449_cov_17.910624\n",
      "Rep Length:  2449\n",
      "N samples:  13\n",
      "Contig Lengths:  2446,2366,2449,2440,2437,2442,2437,2437,2446,2445,2443,2441,2437\n"
     ]
    }
   ],
   "source": [
    "awuhan6_seed = 'NODE_4_length_2235_cov_10.352641'\n",
    "\n",
    "display_dark_matter(fish_dark_matter([awuhan6_seed]))"
   ]
  },
  {
   "cell_type": "code",
   "execution_count": 88,
   "metadata": {},
   "outputs": [],
   "source": [
    "# Segment lengths\n",
    "wuhan6 = [2444, 2441, 2239, 1871, 1532, 866]\n",
    "wm3 = [2447, 2420, 2203, 1779, 1449, 813]\n",
    "awuhan6 = [2449, 2442, 2245, 1534, 869]"
   ]
  },
  {
   "cell_type": "markdown",
   "metadata": {},
   "source": [
    "likely awuhan6 is missing a segment of length around 1800.\n",
    "\n",
    "a likely candidae appears when we broaden the search..."
   ]
  },
  {
   "cell_type": "code",
   "execution_count": 89,
   "metadata": {},
   "outputs": [
    {
     "name": "stdout",
     "output_type": "stream",
     "text": [
      "Found  9  candidate segments.\n",
      "Segment lengths:  [6634, 2449, 2442, 2301, 2245, 2123, 1842, 1534, 869]\n",
      "---\n",
      "Cluster:  9843\n",
      "Rep contig:  CMS002_045c_Rb_S185_L004 NODE_14_length_869_cov_33.226010\n",
      "Rep Length:  869\n",
      "N samples:  13\n",
      "Contig Lengths:  857,857,853,857,856,856,860,861,857,863,857,857,869\n",
      "---\n",
      "Cluster:  3027\n",
      "Rep contig:  CMS002_045f_Rb_S189_L004 NODE_10_length_1534_cov_13.974605\n",
      "Rep Length:  1534\n",
      "N samples:  13\n",
      "Contig Lengths:  1476,1513,1507,1505,1515,1511,1496,1534,1514,1510,1494,1505,1510\n",
      "---\n",
      "Cluster:  1888\n",
      "Rep contig:  CMS002_045e_Rb_S188_L004 NODE_7_length_1842_cov_33.126346\n",
      "Rep Length:  1842\n",
      "N samples:  15\n",
      "Contig Lengths:  1819,1827,1839,1817,1823,1842,1830,1841,1838,1815,1832,1804,1079,1838,1835\n",
      "---\n",
      "Cluster:  1305\n",
      "Rep contig:  CMS002_026e_Rb_S150_L004 NODE_5_length_2123_cov_21.675953\n",
      "Rep Length:  2123\n",
      "N samples:  15\n",
      "Contig Lengths:  2056,2096,2093,2087,2085,2089,2123,2079,2093,2107,2084,2040,1404,2091,2093\n",
      "---\n",
      "Cluster:  1122\n",
      "Rep contig:  CMS002_026c_Rb_S148_L004 NODE_4_length_2245_cov_17.264299\n",
      "Rep Length:  2245\n",
      "N samples:  13\n",
      "Contig Lengths:  2185,2236,2239,2234,2237,2229,2229,2230,2245,2245,2235,2232,2243\n",
      "---\n",
      "Cluster:  1046\n",
      "Rep contig:  CMS002_045g_Rb_S190_L004 NODE_5_length_2301_cov_72.350270\n",
      "Rep Length:  2301\n",
      "N samples:  15\n",
      "Contig Lengths:  2030,2301,2041,2035,2041,2037,2066,2042,2044,2095,2140,2026,1441,2045,2049\n",
      "---\n",
      "Cluster:  898\n",
      "Rep contig:  CMS002_026a_Rb_S146_L004 NODE_2_length_2442_cov_5.123890\n",
      "Rep Length:  2442\n",
      "N samples:  13\n",
      "Contig Lengths:  1386,2424,2417,2436,2435,2431,2421,2425,2431,2440,2442,2434,2416\n",
      "---\n",
      "Cluster:  889\n",
      "Rep contig:  CMS002_045c_Rb_S185_L004 NODE_3_length_2449_cov_17.910624\n",
      "Rep Length:  2449\n",
      "N samples:  13\n",
      "Contig Lengths:  2366,2443,2441,2446,2437,2442,2445,2437,2437,2446,2440,2437,2449\n",
      "---\n",
      "Cluster:  70\n",
      "Rep contig:  CMS002_045b_Rb_S184_L004 NODE_1_length_6634_cov_114.513192\n",
      "Rep Length:  6634\n",
      "N samples:  16\n",
      "Contig Lengths:  6606,6613,6612,6611,6620,6614,6618,6613,6614,6612,6634,3265+2955,1484,6613,6614\n"
     ]
    },
    {
     "data": {
      "image/png": "[encoded data removed]",
      "text/plain": [
       "<Figure size 720x720 with 4 Axes>"
      ]
     },
     "metadata": {
      "needs_background": "light"
     },
     "output_type": "display_data"
    }
   ],
   "source": [
    "display_dark_matter(fish_dark_matter([awuhan6_seed], 0.8))"
   ]
  },
  {
   "cell_type": "markdown",
   "metadata": {},
   "source": [
    "## Graph"
   ]
  },
  {
   "cell_type": "code",
   "execution_count": null,
   "metadata": {},
   "outputs": [],
   "source": [
    "from cyjupyter import Cytoscape\n",
    "from networkx.readwrite.json_graph import cytoscape_data"
   ]
  },
  {
   "cell_type": "code",
   "execution_count": null,
   "metadata": {},
   "outputs": [],
   "source": [
    "components = [G.subgraph(c) for c in nx.connected_components(G)]"
   ]
  },
  {
   "cell_type": "code",
   "execution_count": null,
   "metadata": {},
   "outputs": [],
   "source": [
    "subset = nbhd(wuhan6_exemplar_clusters, 1)\n",
    "subg = G.subgraph(subset)"
   ]
  },
  {
   "cell_type": "code",
   "execution_count": null,
   "metadata": {},
   "outputs": [],
   "source": [
    "nx.draw(subg)"
   ]
  },
  {
   "cell_type": "code",
   "execution_count": null,
   "metadata": {},
   "outputs": [],
   "source": [
    "Cytoscape(data=cytoscape_data(subg))"
   ]
  },
  {
   "cell_type": "code",
   "execution_count": null,
   "metadata": {},
   "outputs": [],
   "source": [
    "def is_sample(node):\n",
    "    return 1 if node.startswith('CMS') else 0"
   ]
  },
  {
   "cell_type": "code",
   "execution_count": null,
   "metadata": {},
   "outputs": [],
   "source": [
    "nx.draw(subg, node_size=50, node_color = [is_sample(node) for node in subg.nodes()])"
   ]
  },
  {
   "cell_type": "code",
   "execution_count": null,
   "metadata": {
    "scrolled": true
   },
   "outputs": [],
   "source": [
    "Cytoscape(data=cytoscape_data(aw6_subgraph), layout_name='circle')"
   ]
  }
 ],
 "metadata": {
  "kernelspec": {
   "display_name": "flash",
   "language": "python",
   "name": "flash"
  },
  "language_info": {
   "codemirror_mode": {
    "name": "ipython",
    "version": 3
   },
   "file_extension": ".py",
   "mimetype": "text/x-python",
   "name": "python",
   "nbconvert_exporter": "python",
   "pygments_lexer": "ipython3",
   "version": "3.5.3"
  }
 },
 "nbformat": 4,
 "nbformat_minor": 2
}
