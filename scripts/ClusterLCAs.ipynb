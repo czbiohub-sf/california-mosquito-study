{
 "cells": [
  {
   "cell_type": "markdown",
   "metadata": {},
   "source": [
    "This notebook extracts all viral contigs from the CD-HIT-EST hits, and concats them together for domain finding."
   ]
  },
  {
   "cell_type": "code",
   "execution_count": 12,
   "metadata": {},
   "outputs": [],
   "source": [
    "%load_ext autoreload\n",
    "%autoreload 2"
   ]
  },
  {
   "cell_type": "code",
   "execution_count": 13,
   "metadata": {},
   "outputs": [],
   "source": [
    "from glob import glob\n",
    "import pandas as pd\n",
    "from Bio import SeqIO\n",
    "\n",
    "import util"
   ]
  },
  {
   "cell_type": "code",
   "execution_count": 51,
   "metadata": {},
   "outputs": [
    {
     "name": "stderr",
     "output_type": "stream",
     "text": [
      "/Users/josh/anaconda3/envs/flash/lib/python3.5/site-packages/ete3/ncbi_taxonomy/ncbiquery.py:240: UserWarning: taxid 984700 was translated into 2609777\n",
      "  warnings.warn(\"taxid %s was translated into %s\" %(taxid, merged_conversion[taxid]))\n",
      "/Users/josh/anaconda3/envs/flash/lib/python3.5/site-packages/ete3/ncbi_taxonomy/ncbiquery.py:240: UserWarning: taxid 35720 was translated into 2587410\n",
      "  warnings.warn(\"taxid %s was translated into %s\" %(taxid, merged_conversion[taxid]))\n",
      "/Users/josh/anaconda3/envs/flash/lib/python3.5/site-packages/ete3/ncbi_taxonomy/ncbiquery.py:240: UserWarning: taxid 1415176 was translated into 2587831\n",
      "  warnings.warn(\"taxid %s was translated into %s\" %(taxid, merged_conversion[taxid]))\n",
      "/Users/josh/anaconda3/envs/flash/lib/python3.5/site-packages/ete3/ncbi_taxonomy/ncbiquery.py:240: UserWarning: taxid 2267872 was translated into 1653778\n",
      "  warnings.warn(\"taxid %s was translated into %s\" %(taxid, merged_conversion[taxid]))\n",
      "/Users/josh/anaconda3/envs/flash/lib/python3.5/site-packages/ete3/ncbi_taxonomy/ncbiquery.py:240: UserWarning: taxid 6915 was translated into 2585209\n",
      "  warnings.warn(\"taxid %s was translated into %s\" %(taxid, merged_conversion[taxid]))\n",
      "/Users/josh/anaconda3/envs/flash/lib/python3.5/site-packages/ete3/ncbi_taxonomy/ncbiquery.py:240: UserWarning: taxid 2109339 was translated into 231269\n",
      "  warnings.warn(\"taxid %s was translated into %s\" %(taxid, merged_conversion[taxid]))\n",
      "/Users/josh/anaconda3/envs/flash/lib/python3.5/site-packages/ete3/ncbi_taxonomy/ncbiquery.py:240: UserWarning: taxid 47257 was translated into 97331\n",
      "  warnings.warn(\"taxid %s was translated into %s\" %(taxid, merged_conversion[taxid]))\n"
     ]
    }
   ],
   "source": [
    "lca_df = util.load_lca()\n",
    "clusters = util.load_cdhit_clusters('../data/500_contigs_cluster.clstr')"
   ]
  },
  {
   "cell_type": "code",
   "execution_count": 15,
   "metadata": {},
   "outputs": [],
   "source": [
    "df = util.merge_clusters_lca(clusters, lca_df)"
   ]
  },
  {
   "cell_type": "code",
   "execution_count": 16,
   "metadata": {},
   "outputs": [],
   "source": [
    "# Get Counts"
   ]
  },
  {
   "cell_type": "code",
   "execution_count": 17,
   "metadata": {},
   "outputs": [],
   "source": [
    "counts = pd.read_csv('~/src/skeeters/data/contig_quality_concat/bowtie_csp_counts_1000.txt',\n",
    "                     sep = '\\t', header=None)\n",
    "counts.columns = ['contig', 'count', 'sample']\n",
    "counts['contig_key'] = counts['sample'] + '~' + counts['contig']"
   ]
  },
  {
   "cell_type": "markdown",
   "metadata": {},
   "source": [
    "TODO:\n",
    "    * dataframe with each contig and kingdom\n",
    "    * total counts for each cluster"
   ]
  },
  {
   "cell_type": "code",
   "execution_count": 18,
   "metadata": {},
   "outputs": [],
   "source": [
    "clust2kingdom = dict(zip(df['cluster'], df['kingdom']))\n",
    "df[['cluster', 'kingdom']].to_csv('/Users/josh/src/skeeters/data/cluster_kingdoms.csv')"
   ]
  },
  {
   "cell_type": "code",
   "execution_count": 21,
   "metadata": {},
   "outputs": [
    {
     "data": {
      "text/plain": [
       "340"
      ]
     },
     "execution_count": 21,
     "metadata": {},
     "output_type": "execute_result"
    }
   ],
   "source": [
    "viral_df = df[df['kingdom'] == 'Viruses']\n",
    "viral_df.to_csv('../data/annotation/viral_clusters.csv', index=None)\n",
    "len(viral_df)"
   ]
  },
  {
   "cell_type": "code",
   "execution_count": 7,
   "metadata": {},
   "outputs": [
    {
     "data": {
      "text/plain": [
       "1564"
      ]
     },
     "execution_count": 7,
     "metadata": {},
     "output_type": "execute_result"
    }
   ],
   "source": [
    "bacteria_df = df[df['kingdom'] == 'Bacteria']\n",
    "bacteria_df.to_csv('../data/annotation/bacteria_clusters.csv')\n",
    "len(bacteria_df)"
   ]
  },
  {
   "cell_type": "code",
   "execution_count": 8,
   "metadata": {},
   "outputs": [],
   "source": [
    "recs = [record for record in SeqIO.parse(\"../data/s3/contigs/500_contigs_cluster.fasta\", \"fasta\")]"
   ]
  },
  {
   "cell_type": "code",
   "execution_count": 9,
   "metadata": {},
   "outputs": [],
   "source": [
    "from copy import deepcopy\n",
    "key_to_cluster = dict(zip(df.contig_key, df.cluster.map(str)))\n",
    "def clean_rec(record):\n",
    "    record = deepcopy(record)\n",
    "    record.id = key_to_cluster.get(record.id)\n",
    "    record.name = key_to_cluster.get(record.id)\n",
    "    record.description = ''\n",
    "    return record"
   ]
  },
  {
   "cell_type": "code",
   "execution_count": 98,
   "metadata": {},
   "outputs": [
    {
     "name": "stdout",
     "output_type": "stream",
     "text": [
      "There are  340  viral clusters.\n"
     ]
    },
    {
     "data": {
      "text/plain": [
       "340"
      ]
     },
     "execution_count": 98,
     "metadata": {},
     "output_type": "execute_result"
    }
   ],
   "source": [
    "viral_records = [clean_rec(record) for record in recs if record.id in viral_df.contig_key.values]\n",
    "\n",
    "print(\"There are \", len(viral_records), \" viral clusters.\")\n",
    "\n",
    "SeqIO.write(viral_records, open('../data/annotation/viral_clusters.fasta', 'w'), 'fasta')"
   ]
  },
  {
   "cell_type": "code",
   "execution_count": 99,
   "metadata": {},
   "outputs": [
    {
     "name": "stdout",
     "output_type": "stream",
     "text": [
      "There are  1564  bacteria clusters.\n"
     ]
    },
    {
     "data": {
      "text/plain": [
       "1564"
      ]
     },
     "execution_count": 99,
     "metadata": {},
     "output_type": "execute_result"
    }
   ],
   "source": [
    "bacteria_records = [clean_rec(record) for record in recs if record.id in bacteria_df.contig_key.values]\n",
    "\n",
    "print(\"There are \", len(bacteria_records), \" bacteria clusters.\")\n",
    "\n",
    "SeqIO.write(bacteria_records, open('../data/annotation/bacterial_clusters.fasta', 'w'), 'fasta')"
   ]
  },
  {
   "cell_type": "code",
   "execution_count": 100,
   "metadata": {},
   "outputs": [
    {
     "name": "stdout",
     "output_type": "stream",
     "text": [
      "There are  82161   clusters.\n"
     ]
    },
    {
     "data": {
      "text/plain": [
       "340"
      ]
     },
     "execution_count": 100,
     "metadata": {},
     "output_type": "execute_result"
    }
   ],
   "source": [
    "all_records = [clean_rec(record) for record in recs]\n",
    "\n",
    "print(\"There are \", len(all_records), \"  clusters.\")\n",
    "\n",
    "SeqIO.write(viral_records, open('../data/annotation/all_clusters.fasta', 'w'), 'fasta')"
   ]
  },
  {
   "cell_type": "markdown",
   "metadata": {},
   "source": [
    "# Chimera Hunter"
   ]
  },
  {
   "cell_type": "code",
   "execution_count": 32,
   "metadata": {},
   "outputs": [
    {
     "data": {
      "text/plain": [
       "False"
      ]
     },
     "execution_count": 32,
     "metadata": {},
     "output_type": "execute_result"
    }
   ],
   "source": [
    "any(df[df['cluster'] == int(id)].kingdom == \"Viruses\")"
   ]
  },
  {
   "cell_type": "code",
   "execution_count": 33,
   "metadata": {},
   "outputs": [
    {
     "name": "stdout",
     "output_type": "stream",
     "text": [
      "[502, 515, 524, 578, 594, 627, 629, 684, 707, 708, 795, 2245]\n",
      "[505, 523, 544, 603, 612, 612, 617, 626, 647, 654, 712, 765, 778, 1614, 2571]\n",
      "[520, 550, 703, 2273]\n",
      "[525, 1103, 1753]\n",
      "[535, 745, 1511]\n",
      "[561, 577, 992, 2240]\n",
      "[524, 529, 591, 724, 746, 13844]\n",
      "[676, 923, 992, 2041]\n",
      "[650, 739, 2041, 2051, 2116, 3729, 7060]\n",
      "[636, 661, 1843]\n",
      "[3867, 3907, 3909, 3912, 3918, 3931, 3946, 7067]\n",
      "[737, 794, 1408]\n",
      "[559, 568, 3034]\n",
      "[503, 528, 550, 554, 586, 587, 617, 659, 664, 675, 695, 709, 783, 841, 1449, 1486, 1497, 2068, 2197, 3766]\n",
      "[562, 596, 643, 9781]\n",
      "[507, 626, 645, 823, 1504]\n",
      "[509, 519, 535, 568, 623, 698, 905, 988, 1083, 1380, 1772, 7146]\n",
      "[823, 849, 854, 867, 867, 884, 1697]\n",
      "[507, 518, 542, 546, 550, 586, 650, 678, 691, 729, 744, 769, 798, 837, 918, 1119, 1552, 4969]\n",
      "[507, 523, 564, 2052, 3174]\n",
      "[805, 845, 3196]\n",
      "[501, 509, 521, 529, 530, 542, 545, 573, 576, 577, 600, 627, 635, 644, 678, 718, 753, 808, 829, 902, 946, 1102, 1430, 1475, 1532, 1535, 1995, 2059, 2845, 7155]\n"
     ]
    }
   ],
   "source": [
    "for id, cluster in clusters.items():\n",
    "    lengths = sorted([member['length'] for member in cluster])\n",
    "    if len(lengths) > 2:\n",
    "        if lengths[-1] > 1.5*lengths[-2]:\n",
    "            if (df[df['cluster'] == int(id)].kingdom == 'Viruses').any():\n",
    "                print(lengths)"
   ]
  },
  {
   "cell_type": "markdown",
   "metadata": {},
   "source": [
    "# Scratch"
   ]
  },
  {
   "cell_type": "markdown",
   "metadata": {},
   "source": [
    "For each cluster, we want the most specific mapping."
   ]
  },
  {
   "cell_type": "code",
   "execution_count": 466,
   "metadata": {
    "collapsed": true
   },
   "outputs": [],
   "source": [
    "from statistics import mode\n",
    "def mode(lst):\n",
    "    if len(lst) > 0:\n",
    "        return max(set(lst), key=lst.count)\n",
    "    else:\n",
    "        return None\n",
    "def get_cluster_leaf(cluster):\n",
    "    taxid_list = [member.taxid for member in cluster]\n",
    "    if all([taxid is None for taxid in taxid_list]):\n",
    "        return None\n",
    "    leaf = None\n",
    "    lineage = []\n",
    "    for taxid in taxid_list:\n",
    "        if taxid in lineage or taxid is None:\n",
    "            continue\n",
    "        else:\n",
    "            new_lineage = ncbi.get_lineage(taxid)\n",
    "            if leaf is None or leaf in new_lineage:\n",
    "                leaf = taxid\n",
    "                lineage = new_lineage\n",
    "            else:\n",
    "                return -1\n",
    "    return leaf\n",
    "\n",
    "def get_cluster_mode(cluster):\n",
    "    taxid_list = [member.taxid for member in cluster]\n",
    "    return mode(taxid_list)\n",
    "\n",
    "def get_cluster_rep(cluster):\n",
    "    for member in cluster:\n",
    "        if member.is_ref:\n",
    "            return member"
   ]
  },
  {
   "cell_type": "markdown",
   "metadata": {},
   "source": [
    "# Merge Viral DF With Annotations"
   ]
  },
  {
   "cell_type": "code",
   "execution_count": 1,
   "metadata": {},
   "outputs": [],
   "source": [
    "import pandas as pd"
   ]
  },
  {
   "cell_type": "code",
   "execution_count": 43,
   "metadata": {},
   "outputs": [],
   "source": [
    "annotated = pd.read_csv('/Users/josh/src/skeeters/data/annotation/viral_clusters_annotated_amy.csv')"
   ]
  },
  {
   "cell_type": "code",
   "execution_count": 44,
   "metadata": {},
   "outputs": [],
   "source": [
    "annotated = annotated[['cluster', 'manual_blastn', 'manual_blastx', 'manual_blast_notes', 'follow_up_notes']]"
   ]
  },
  {
   "cell_type": "code",
   "execution_count": 46,
   "metadata": {},
   "outputs": [],
   "source": [
    "annotations = annotated[annotated.drop('cluster', axis = 1).isna().sum(axis = 1) < 4]\n",
    "annotations.to_csv('../data/annotation/riboviria_annotations.csv')"
   ]
  },
  {
   "cell_type": "code",
   "execution_count": 47,
   "metadata": {},
   "outputs": [],
   "source": [
    "viral_df = pd.read_csv('../data/annotation/viral_clusters.csv')"
   ]
  },
  {
   "cell_type": "code",
   "execution_count": 50,
   "metadata": {},
   "outputs": [],
   "source": [
    "viral_df_annotated = viral_df.merge(annotations, how='left', on='cluster')\n",
    "viral_df_annotated.to_csv('../data/annotation/viral_clusters_annotated.csv')"
   ]
  },
  {
   "cell_type": "code",
   "execution_count": null,
   "metadata": {},
   "outputs": [],
   "source": []
  }
 ],
 "metadata": {
  "kernelspec": {
   "display_name": "flash",
   "language": "python",
   "name": "flash"
  },
  "language_info": {
   "codemirror_mode": {
    "name": "ipython",
    "version": 3
   },
   "file_extension": ".py",
   "mimetype": "text/x-python",
   "name": "python",
   "nbconvert_exporter": "python",
   "pygments_lexer": "ipython3",
   "version": "3.5.3"
  }
 },
 "nbformat": 4,
 "nbformat_minor": 2
}
