{
 "cells": [
  {
   "cell_type": "markdown",
   "metadata": {},
   "source": [
    "This notebook extracts all viral contigs from the CD-HIT-EST hits, and concats them together for domain finding."
   ]
  },
  {
   "cell_type": "code",
   "execution_count": 12,
   "metadata": {},
   "outputs": [],
   "source": [
    "%load_ext autoreload\n",
    "%autoreload 2"
   ]
  },
  {
   "cell_type": "code",
   "execution_count": 13,
   "metadata": {},
   "outputs": [],
   "source": [
    "from glob import glob\n",
    "import pandas as pd\n",
    "from Bio import SeqIO\n",
    "\n",
    "import util"
   ]
  },
  {
   "cell_type": "code",
   "execution_count": 51,
   "metadata": {},
   "outputs": [
    {
     "name": "stderr",
     "output_type": "stream",
     "text": [
      "/Users/josh/anaconda3/envs/flash/lib/python3.5/site-packages/ete3/ncbi_taxonomy/ncbiquery.py:240: UserWarning: taxid 984700 was translated into 2609777\n",
      "  warnings.warn(\"taxid %s was translated into %s\" %(taxid, merged_conversion[taxid]))\n",
      "/Users/josh/anaconda3/envs/flash/lib/python3.5/site-packages/ete3/ncbi_taxonomy/ncbiquery.py:240: UserWarning: taxid 35720 was translated into 2587410\n",
      "  warnings.warn(\"taxid %s was translated into %s\" %(taxid, merged_conversion[taxid]))\n",
      "/Users/josh/anaconda3/envs/flash/lib/python3.5/site-packages/ete3/ncbi_taxonomy/ncbiquery.py:240: UserWarning: taxid 1415176 was translated into 2587831\n",
      "  warnings.warn(\"taxid %s was translated into %s\" %(taxid, merged_conversion[taxid]))\n",
      "/Users/josh/anaconda3/envs/flash/lib/python3.5/site-packages/ete3/ncbi_taxonomy/ncbiquery.py:240: UserWarning: taxid 2267872 was translated into 1653778\n",
      "  warnings.warn(\"taxid %s was translated into %s\" %(taxid, merged_conversion[taxid]))\n",
      "/Users/josh/anaconda3/envs/flash/lib/python3.5/site-packages/ete3/ncbi_taxonomy/ncbiquery.py:240: UserWarning: taxid 6915 was translated into 2585209\n",
      "  warnings.warn(\"taxid %s was translated into %s\" %(taxid, merged_conversion[taxid]))\n",
      "/Users/josh/anaconda3/envs/flash/lib/python3.5/site-packages/ete3/ncbi_taxonomy/ncbiquery.py:240: UserWarning: taxid 2109339 was translated into 231269\n",
      "  warnings.warn(\"taxid %s was translated into %s\" %(taxid, merged_conversion[taxid]))\n",
      "/Users/josh/anaconda3/envs/flash/lib/python3.5/site-packages/ete3/ncbi_taxonomy/ncbiquery.py:240: UserWarning: taxid 47257 was translated into 97331\n",
      "  warnings.warn(\"taxid %s was translated into %s\" %(taxid, merged_conversion[taxid]))\n"
     ]
    }
   ],
   "source": [
    "lca_df = util.load_lca()\n",
    "clusters = util.load_cdhit_clusters('../data/500_contigs_cluster.clstr')"
   ]
  },
  {
   "cell_type": "code",
   "execution_count": 15,
   "metadata": {},
   "outputs": [],
   "source": [
    "df = util.merge_clusters_lca(clusters, lca_df)"
   ]
  },
  {
   "cell_type": "code",
   "execution_count": 16,
   "metadata": {},
   "outputs": [],
   "source": [
    "# Get Counts"
   ]
  },
  {
   "cell_type": "code",
   "execution_count": 17,
   "metadata": {},
   "outputs": [],
   "source": [
    "counts = pd.read_csv('~/src/skeeters/data/contig_quality_concat/bowtie_csp_counts_1000.txt',\n",
    "                     sep = '\\t', header=None)\n",
    "counts.columns = ['contig', 'count', 'sample']\n",
    "counts['contig_key'] = counts['sample'] + '~' + counts['contig']"
   ]
  },
  {
   "cell_type": "markdown",
   "metadata": {},
   "source": [
    "TODO:\n",
    "    * dataframe with each contig and kingdom\n",
    "    * total counts for each cluster"
   ]
  },
  {
   "cell_type": "code",
   "execution_count": 18,
   "metadata": {},
   "outputs": [],
   "source": [
    "clust2kingdom = dict(zip(df['cluster'], df['kingdom']))\n",
    "df[['cluster', 'kingdom']].to_csv('/Users/josh/src/skeeters/data/cluster_kingdoms.csv')"
   ]
  },
  {
   "cell_type": "code",
   "execution_count": 21,
   "metadata": {},
   "outputs": [
    {
     "data": {
      "text/plain": [
       "340"
      ]
     },
     "execution_count": 21,
     "metadata": {},
     "output_type": "execute_result"
    }
   ],
   "source": [
    "viral_df = df[df['kingdom'] == 'Viruses']\n",
    "viral_df.to_csv('../data/annotation/viral_clusters.csv', index=None)\n",
    "len(viral_df)"
   ]
  },
  {
   "cell_type": "code",
   "execution_count": 7,
   "metadata": {},
   "outputs": [
    {
     "data": {
      "text/plain": [
       "1564"
      ]
     },
     "execution_count": 7,
     "metadata": {},
     "output_type": "execute_result"
    }
   ],
   "source": [
    "bacteria_df = df[df['kingdom'] == 'Bacteria']\n",
    "bacteria_df.to_csv('../data/annotation/bacteria_clusters.csv')\n",
    "len(bacteria_df)"
   ]
  },
  {
   "cell_type": "code",
   "execution_count": 8,
   "metadata": {},
   "outputs": [],
   "source": [
    "recs = [record for record in SeqIO.parse(\"../data/s3/contigs/500_contigs_cluster.fasta\", \"fasta\")]"
   ]
  },
  {
   "cell_type": "code",
   "execution_count": 9,
   "metadata": {},
   "outputs": [],
   "source": [
    "from copy import deepcopy\n",
    "key_to_cluster = dict(zip(df.contig_key, df.cluster.map(str)))\n",
    "def clean_rec(record):\n",
    "    record = deepcopy(record)\n",
    "    record.id = key_to_cluster.get(record.id)\n",
    "    record.name = key_to_cluster.get(record.id)\n",
    "    record.description = ''\n",
    "    return record"
   ]
  },
  {
   "cell_type": "code",
   "execution_count": 98,
   "metadata": {},
   "outputs": [
    {
     "name": "stdout",
     "output_type": "stream",
     "text": [
      "There are  340  viral clusters.\n"
     ]
    },
    {
     "data": {
      "text/plain": [
       "340"
      ]
     },
     "execution_count": 98,
     "metadata": {},
     "output_type": "execute_result"
    }
   ],
   "source": [
    "viral_records = [clean_rec(record) for record in recs if record.id in viral_df.contig_key.values]\n",
    "\n",
    "print(\"There are \", len(viral_records), \" viral clusters.\")\n",
    "\n",
    "SeqIO.write(viral_records, open('../data/annotation/viral_clusters.fasta', 'w'), 'fasta')"
   ]
  },
  {
   "cell_type": "code",
   "execution_count": 99,
   "metadata": {},
   "outputs": [
    {
     "name": "stdout",
     "output_type": "stream",
     "text": [
      "There are  1564  bacteria clusters.\n"
     ]
    },
    {
     "data": {
      "text/plain": [
       "1564"
      ]
     },
     "execution_count": 99,
     "metadata": {},
     "output_type": "execute_result"
    }
   ],
   "source": [
    "bacteria_records = [clean_rec(record) for record in recs if record.id in bacteria_df.contig_key.values]\n",
    "\n",
    "print(\"There are \", len(bacteria_records), \" bacteria clusters.\")\n",
    "\n",
    "SeqIO.write(bacteria_records, open('../data/annotation/bacterial_clusters.fasta', 'w'), 'fasta')"
   ]
  },
  {
   "cell_type": "code",
   "execution_count": 100,
   "metadata": {},
   "outputs": [
    {
     "name": "stdout",
     "output_type": "stream",
     "text": [
      "There are  82161   clusters.\n"
     ]
    },
    {
     "data": {
      "text/plain": [
       "340"
      ]
     },
     "execution_count": 100,
     "metadata": {},
     "output_type": "execute_result"
    }
   ],
   "source": [
    "all_records = [clean_rec(record) for record in recs]\n",
    "\n",
    "print(\"There are \", len(all_records), \"  clusters.\")\n",
    "\n",
    "SeqIO.write(viral_records, open('../data/annotation/all_clusters.fasta', 'w'), 'fasta')"
   ]
  },
  {
   "cell_type": "markdown",
   "metadata": {},
   "source": [
    "# Chimera Hunter"
   ]
  },
  {
   "cell_type": "code",
   "execution_count": 32,
   "metadata": {},
   "outputs": [
    {
     "data": {
      "text/plain": [
       "False"
      ]
     },
     "execution_count": 32,
     "metadata": {},
     "output_type": "execute_result"
    }
   ],
   "source": [
    "any(df[df['cluster'] == int(id)].kingdom == \"Viruses\")"
   ]
  },
  {
   "cell_type": "code",
   "execution_count": 33,
   "metadata": {},
   "outputs": [
    {
     "name": "stdout",
     "output_type": "stream",
     "text": [
      "[502, 515, 524, 578, 594, 627, 629, 684, 707, 708, 795, 2245]\n",
      "[505, 523, 544, 603, 612, 612, 617, 626, 647, 654, 712, 765, 778, 1614, 2571]\n",
      "[520, 550, 703, 2273]\n",
      "[525, 1103, 1753]\n",
      "[535, 745, 1511]\n",
      "[561, 577, 992, 2240]\n",
      "[524, 529, 591, 724, 746, 13844]\n",
      "[676, 923, 992, 2041]\n",
      "[650, 739, 2041, 2051, 2116, 3729, 7060]\n",
      "[636, 661, 1843]\n",
      "[3867, 3907, 3909, 3912, 3918, 3931, 3946, 7067]\n",
      "[737, 794, 1408]\n",
      "[559, 568, 3034]\n",
      "[503, 528, 550, 554, 586, 587, 617, 659, 664, 675, 695, 709, 783, 841, 1449, 1486, 1497, 2068, 2197, 3766]\n",
      "[562, 596, 643, 9781]\n",
      "[507, 626, 645, 823, 1504]\n",
      "[509, 519, 535, 568, 623, 698, 905, 988, 1083, 1380, 1772, 7146]\n",
      "[823, 849, 854, 867, 867, 884, 1697]\n",
      "[507, 518, 542, 546, 550, 586, 650, 678, 691, 729, 744, 769, 798, 837, 918, 1119, 1552, 4969]\n",
      "[507, 523, 564, 2052, 3174]\n",
      "[805, 845, 3196]\n",
      "[501, 509, 521, 529, 530, 542, 545, 573, 576, 577, 600, 627, 635, 644, 678, 718, 753, 808, 829, 902, 946, 1102, 1430, 1475, 1532, 1535, 1995, 2059, 2845, 7155]\n"
     ]
    }
   ],
   "source": [
    "for id, cluster in clusters.items():\n",
    "    lengths = sorted([member['length'] for member in cluster])\n",
    "    if len(lengths) > 2:\n",
    "        if lengths[-1] > 1.5*lengths[-2]:\n",
    "            if (df[df['cluster'] == int(id)].kingdom == 'Viruses').any():\n",
    "                print(lengths)"
   ]
  },
  {
   "cell_type": "markdown",
   "metadata": {},
   "source": [
    "# Scratch"
   ]
  },
  {
   "cell_type": "markdown",
   "metadata": {},
   "source": [
    "For each cluster, we want the most specific mapping."
   ]
  },
  {
   "cell_type": "code",
   "execution_count": 466,
   "metadata": {
    "collapsed": true
   },
   "outputs": [],
   "source": [
    "from statistics import mode\n",
    "def mode(lst):\n",
    "    if len(lst) > 0:\n",
    "        return max(set(lst), key=lst.count)\n",
    "    else:\n",
    "        return None\n",
    "def get_cluster_leaf(cluster):\n",
    "    taxid_list = [member.taxid for member in cluster]\n",
    "    if all([taxid is None for taxid in taxid_list]):\n",
    "        return None\n",
    "    leaf = None\n",
    "    lineage = []\n",
    "    for taxid in taxid_list:\n",
    "        if taxid in lineage or taxid is None:\n",
    "            continue\n",
    "        else:\n",
    "            new_lineage = ncbi.get_lineage(taxid)\n",
    "            if leaf is None or leaf in new_lineage:\n",
    "                leaf = taxid\n",
    "                lineage = new_lineage\n",
    "            else:\n",
    "                return -1\n",
    "    return leaf\n",
    "\n",
    "def get_cluster_mode(cluster):\n",
    "    taxid_list = [member.taxid for member in cluster]\n",
    "    return mode(taxid_list)\n",
    "\n",
    "def get_cluster_rep(cluster):\n",
    "    for member in cluster:\n",
    "        if member.is_ref:\n",
    "            return member"
   ]
  },
  {
   "cell_type": "markdown",
   "metadata": {},
   "source": [
    "# Merge Viral DF With Annotations"
   ]
  },
  {
   "cell_type": "code",
   "execution_count": 1,
   "metadata": {},
   "outputs": [],
   "source": [
    "import pandas as pd"
   ]
  },
  {
   "cell_type": "code",
   "execution_count": 43,
   "metadata": {},
   "outputs": [],
   "source": [
    "annotated = pd.read_csv('/Users/josh/src/skeeters/data/annotation/viral_clusters_annotated_amy.csv')"
   ]
  },
  {
   "cell_type": "code",
   "execution_count": 44,
   "metadata": {},
   "outputs": [],
   "source": [
    "annotated = annotated[['cluster', 'manual_blastn', 'manual_blastx', 'manual_blast_notes', 'follow_up_notes']]"
   ]
  },
  {
   "cell_type": "code",
   "execution_count": 46,
   "metadata": {},
   "outputs": [],
   "source": [
    "annotations = annotated[annotated.drop('cluster', axis = 1).isna().sum(axis = 1) < 4]\n",
    "annotations.to_csv('../data/annotation/riboviria_annotations.csv')"
   ]
  },
  {
   "cell_type": "code",
   "execution_count": 47,
   "metadata": {},
   "outputs": [],
   "source": [
    "viral_df = pd.read_csv('../data/annotation/viral_clusters.csv')"
   ]
  },
  {
   "cell_type": "code",
   "execution_count": 50,
   "metadata": {},
   "outputs": [],
   "source": [
    "viral_df_annotated = viral_df.merge(annotations, how='left', on='cluster')\n",
    "viral_df_annotated.to_csv('../data/annotation/viral_clusters_annotated.csv')"
   ]
  },
  {
   "cell_type": "code",
   "execution_count": 53,
   "metadata": {},
   "outputs": [],
   "source": [
    "rdrps = pd.read_csv('../data/annotation/hmm_rdrp.tsv', sep='\\t',\n",
    "                    columns=['contig_key', ])"
   ]
  },
  {
   "cell_type": "code",
   "execution_count": 54,
   "metadata": {},
   "outputs": [
    {
     "data": {
      "text/html": [
       "<div>\n",
       "<style scoped>\n",
       "    .dataframe tbody tr th:only-of-type {\n",
       "        vertical-align: middle;\n",
       "    }\n",
       "\n",
       "    .dataframe tbody tr th {\n",
       "        vertical-align: top;\n",
       "    }\n",
       "\n",
       "    .dataframe thead th {\n",
       "        text-align: right;\n",
       "    }\n",
       "</style>\n",
       "<table border=\"1\" class=\"dataframe\">\n",
       "  <thead>\n",
       "    <tr style=\"text-align: right;\">\n",
       "      <th></th>\n",
       "      <th>CMS002_026d_Rb_S149_L004|NODE_3_length_2417_cov_14.070085</th>\n",
       "      <th>OrthomyxoRdRp_PF00602_full</th>\n",
       "    </tr>\n",
       "  </thead>\n",
       "  <tbody>\n",
       "    <tr>\n",
       "      <th>0</th>\n",
       "      <td>CMS002_045f_Rb_S189_L004|NODE_1_length_6613_co...</td>\n",
       "      <td>BunyaRdRp_PF04196_full</td>\n",
       "    </tr>\n",
       "    <tr>\n",
       "      <th>1</th>\n",
       "      <td>CMS002_045f_Rb_S189_L004|NODE_2_length_2972_co...</td>\n",
       "      <td>PicornaRdRp_PF00680_full,LuteoTotiRotaRdRp_PF0...</td>\n",
       "    </tr>\n",
       "    <tr>\n",
       "      <th>2</th>\n",
       "      <td>CMS002_045f_Rb_S189_L004|NODE_4_length_2425_co...</td>\n",
       "      <td>OrthomyxoRdRp_PF00602_full</td>\n",
       "    </tr>\n",
       "    <tr>\n",
       "      <th>3</th>\n",
       "      <td>CMS002_045d_Rb_S186_L004|NODE_2_length_3060_co...</td>\n",
       "      <td>PicornaRdRp_PF00680_full,LuteoTotiRotaRdRp_PF0...</td>\n",
       "    </tr>\n",
       "    <tr>\n",
       "      <th>4</th>\n",
       "      <td>CMS002_026a_Rb_S146_L004|NODE_1_length_6613_co...</td>\n",
       "      <td>BunyaRdRp_PF04196_full</td>\n",
       "    </tr>\n",
       "    <tr>\n",
       "      <th>5</th>\n",
       "      <td>CMS001_042_Ra_S23|NODE_1_length_7464_cov_55.51...</td>\n",
       "      <td>BunyaRdRp_PF04196_full,ArenaRdRp_PF06317_full,...</td>\n",
       "    </tr>\n",
       "    <tr>\n",
       "      <th>6</th>\n",
       "      <td>CMS001_042_Ra_S23|NODE_4_length_3148_cov_206.4...</td>\n",
       "      <td>MitoRdRp_PF05919_full</td>\n",
       "    </tr>\n",
       "    <tr>\n",
       "      <th>7</th>\n",
       "      <td>CMS002_029c_Rb_S161_L004|NODE_1_length_7463_co...</td>\n",
       "      <td>BunyaRdRp_PF04196_full,ArenaRdRp_PF06317_full,...</td>\n",
       "    </tr>\n",
       "    <tr>\n",
       "      <th>8</th>\n",
       "      <td>CMS002_029c_Rb_S161_L004|NODE_2_length_7155_co...</td>\n",
       "      <td>LuteoTotiRotaRdRp_PF02123_full,PicornaRdRp_PF0...</td>\n",
       "    </tr>\n",
       "    <tr>\n",
       "      <th>9</th>\n",
       "      <td>CMS002_029c_Rb_S161_L004|NODE_4_length_4950_co...</td>\n",
       "      <td>BromoTobamoTogaRdRp_PF00978_full,PicornaRdRp_P...</td>\n",
       "    </tr>\n",
       "    <tr>\n",
       "      <th>10</th>\n",
       "      <td>CMS002_029c_Rb_S161_L004|NODE_6_length_3176_co...</td>\n",
       "      <td>PicornaRdRp_PF00680_full,LuteoTotiRotaRdRp_PF0...</td>\n",
       "    </tr>\n",
       "    <tr>\n",
       "      <th>11</th>\n",
       "      <td>CMS002_029c_Rb_S161_L004|NODE_9_length_2441_co...</td>\n",
       "      <td>OrthomyxoRdRp_PF00602_full,BunyaRdRp_PF04196_full</td>\n",
       "    </tr>\n",
       "    <tr>\n",
       "      <th>12</th>\n",
       "      <td>CMS001_050_Ra_S23|NODE_2_length_7350_cov_11.92...</td>\n",
       "      <td>LuteoTotiRotaRdRp_PF02123_full,PicornaRdRp_PF0...</td>\n",
       "    </tr>\n",
       "    <tr>\n",
       "      <th>13</th>\n",
       "      <td>CMS001_048_Ra_S5|NODE_1_length_10707_cov_6.003951</td>\n",
       "      <td>BromoTobamoTogaRdRp_PF00978_full,PicornaRdRp_P...</td>\n",
       "    </tr>\n",
       "    <tr>\n",
       "      <th>14</th>\n",
       "      <td>CMS001_048_Ra_S5|NODE_2_length_8329_cov_3.719583</td>\n",
       "      <td>MononegaRdRp_PF00946_full</td>\n",
       "    </tr>\n",
       "    <tr>\n",
       "      <th>15</th>\n",
       "      <td>CMS001_048_Ra_S5|NODE_3_length_6887_cov_16.627460</td>\n",
       "      <td>BunyaRdRp_PF04196_full</td>\n",
       "    </tr>\n",
       "    <tr>\n",
       "      <th>16</th>\n",
       "      <td>CMS001_048_Ra_S5|NODE_4_length_4126_cov_3.607063</td>\n",
       "      <td>MononegaRdRp_PF00946_full</td>\n",
       "    </tr>\n",
       "    <tr>\n",
       "      <th>17</th>\n",
       "      <td>CMS001_048_Ra_S5|NODE_28_length_1162_cov_1.672811</td>\n",
       "      <td>LuteoTotiRotaRdRp_PF02123_full,PicornaRdRp_PF0...</td>\n",
       "    </tr>\n",
       "    <tr>\n",
       "      <th>18</th>\n",
       "      <td>CMS002_010a_Rb_S119_L004|NODE_1_length_7476_co...</td>\n",
       "      <td>BunyaRdRp_PF04196_full,ArenaRdRp_PF06317_full,...</td>\n",
       "    </tr>\n",
       "    <tr>\n",
       "      <th>19</th>\n",
       "      <td>CMS001_058_Ra_S9|NODE_1_length_10844_cov_23.89...</td>\n",
       "      <td>BromoTobamoTogaRdRp_PF00978_full,PicornaRdRp_P...</td>\n",
       "    </tr>\n",
       "    <tr>\n",
       "      <th>20</th>\n",
       "      <td>CMS001_058_Ra_S9|NODE_2_length_7689_cov_8.491592</td>\n",
       "      <td>LuteoTotiRotaRdRp_PF02123_full,PicornaRdRp_PF0...</td>\n",
       "    </tr>\n",
       "    <tr>\n",
       "      <th>21</th>\n",
       "      <td>CMS001_009_Ra_S13|NODE_70_length_2389_cov_1.56...</td>\n",
       "      <td>MitoRdRp_PF05919_full</td>\n",
       "    </tr>\n",
       "    <tr>\n",
       "      <th>22</th>\n",
       "      <td>CMS001_009_Ra_S13|NODE_835_length_1125_cov_1.7...</td>\n",
       "      <td>LuteoTotiRotaRdRp_PF02123_full</td>\n",
       "    </tr>\n",
       "    <tr>\n",
       "      <th>23</th>\n",
       "      <td>CMS002_029b_Rb_S160_L004|NODE_1_length_7463_co...</td>\n",
       "      <td>BunyaRdRp_PF04196_full,ArenaRdRp_PF06317_full,...</td>\n",
       "    </tr>\n",
       "    <tr>\n",
       "      <th>24</th>\n",
       "      <td>CMS002_029b_Rb_S160_L004|NODE_5_length_3161_co...</td>\n",
       "      <td>PicornaRdRp_PF00680_full,LuteoTotiRotaRdRp_PF0...</td>\n",
       "    </tr>\n",
       "    <tr>\n",
       "      <th>25</th>\n",
       "      <td>CMS002_028b_Rb_S155_L004|NODE_1_length_10898_c...</td>\n",
       "      <td>BromoTobamoTogaRdRp_PF00978_full</td>\n",
       "    </tr>\n",
       "    <tr>\n",
       "      <th>26</th>\n",
       "      <td>CMS002_028b_Rb_S155_L004|NODE_3_length_6399_co...</td>\n",
       "      <td>BunyaRdRp_PF04196_full</td>\n",
       "    </tr>\n",
       "    <tr>\n",
       "      <th>27</th>\n",
       "      <td>CMS002_028b_Rb_S155_L004|NODE_7_length_3608_co...</td>\n",
       "      <td>LuteoTotiRotaRdRp_PF02123_full</td>\n",
       "    </tr>\n",
       "    <tr>\n",
       "      <th>28</th>\n",
       "      <td>CMS002_017a_Rb_S122_L004|NODE_4_length_2431_co...</td>\n",
       "      <td>OrthomyxoRdRp_PF00602_full,BunyaRdRp_PF04196_full</td>\n",
       "    </tr>\n",
       "    <tr>\n",
       "      <th>29</th>\n",
       "      <td>CMS001_039_Ra_S9|NODE_1_length_18277_cov_48.17...</td>\n",
       "      <td>FlaviRdRp_PF00972_full</td>\n",
       "    </tr>\n",
       "    <tr>\n",
       "      <th>...</th>\n",
       "      <td>...</td>\n",
       "      <td>...</td>\n",
       "    </tr>\n",
       "    <tr>\n",
       "      <th>190</th>\n",
       "      <td>CMS002_020c_Rb_S133_L004|NODE_1_length_12368_c...</td>\n",
       "      <td>MononegaRdRp_PF00946_full</td>\n",
       "    </tr>\n",
       "    <tr>\n",
       "      <th>191</th>\n",
       "      <td>CMS002_020c_Rb_S133_L004|NODE_2_length_9884_co...</td>\n",
       "      <td>PicornaRdRp_PF00680_full,LuteoTotiRotaRdRp_PF0...</td>\n",
       "    </tr>\n",
       "    <tr>\n",
       "      <th>192</th>\n",
       "      <td>CMS002_031a_Rb_S165_L004|NODE_1_length_11785_c...</td>\n",
       "      <td>MononegaRdRp_PF00946_full</td>\n",
       "    </tr>\n",
       "    <tr>\n",
       "      <th>193</th>\n",
       "      <td>CMS002_031a_Rb_S165_L004|NODE_3_length_3233_co...</td>\n",
       "      <td>PicornaRdRp_PF00680_full,LuteoTotiRotaRdRp_PF0...</td>\n",
       "    </tr>\n",
       "    <tr>\n",
       "      <th>194</th>\n",
       "      <td>CMS002_031a_Rb_S165_L004|NODE_193_length_955_c...</td>\n",
       "      <td>PicornaRdRp_PF00680_full,LuteoTotiRotaRdRp_PF0...</td>\n",
       "    </tr>\n",
       "    <tr>\n",
       "      <th>195</th>\n",
       "      <td>CMS001_029_Ra_S18|NODE_1_length_10946_cov_79.5...</td>\n",
       "      <td>FlaviRdRp_PF00972_full,PicornaRdRp_PF00680_full</td>\n",
       "    </tr>\n",
       "    <tr>\n",
       "      <th>196</th>\n",
       "      <td>CMS001_029_Ra_S18|NODE_2_length_3151_cov_424.8...</td>\n",
       "      <td>MitoRdRp_PF05919_full</td>\n",
       "    </tr>\n",
       "    <tr>\n",
       "      <th>197</th>\n",
       "      <td>CMS002_046a_Rb_S191_L004|NODE_2_length_3148_co...</td>\n",
       "      <td>MitoRdRp_PF05919_full</td>\n",
       "    </tr>\n",
       "    <tr>\n",
       "      <th>198</th>\n",
       "      <td>CMS002_017b_Rb_S123_L004|NODE_1_length_6097_co...</td>\n",
       "      <td>LuteoTotiRotaRdRp_PF02123_full,PicornaRdRp_PF0...</td>\n",
       "    </tr>\n",
       "    <tr>\n",
       "      <th>199</th>\n",
       "      <td>CMS002_017b_Rb_S123_L004|NODE_3_length_3138_co...</td>\n",
       "      <td>PicornaRdRp_PF00680_full,LuteoTotiRotaRdRp_PF0...</td>\n",
       "    </tr>\n",
       "    <tr>\n",
       "      <th>200</th>\n",
       "      <td>CMS002_017b_Rb_S123_L004|NODE_4_length_2426_co...</td>\n",
       "      <td>OrthomyxoRdRp_PF00602_full,BunyaRdRp_PF04196_full</td>\n",
       "    </tr>\n",
       "    <tr>\n",
       "      <th>201</th>\n",
       "      <td>CMS002_028a_Rb_S154_L004|NODE_1_length_10917_c...</td>\n",
       "      <td>BromoTobamoTogaRdRp_PF00978_full,PicornaRdRp_P...</td>\n",
       "    </tr>\n",
       "    <tr>\n",
       "      <th>202</th>\n",
       "      <td>CMS002_045e_Rb_S188_L004|NODE_1_length_6614_co...</td>\n",
       "      <td>BunyaRdRp_PF04196_full</td>\n",
       "    </tr>\n",
       "    <tr>\n",
       "      <th>203</th>\n",
       "      <td>CMS002_045e_Rb_S188_L004|NODE_10_length_1444_c...</td>\n",
       "      <td>PicornaRdRp_PF00680_full,LuteoTotiRotaRdRp_PF0...</td>\n",
       "    </tr>\n",
       "    <tr>\n",
       "      <th>204</th>\n",
       "      <td>CMS002_035a_Rb_S169_L004|NODE_8_length_2960_co...</td>\n",
       "      <td>PicornaRdRp_PF00680_full,LuteoTotiRotaRdRp_PF0...</td>\n",
       "    </tr>\n",
       "    <tr>\n",
       "      <th>205</th>\n",
       "      <td>CMS001_003_Ra_S2|NODE_67_length_1724_cov_9.762599</td>\n",
       "      <td>PicornaRdRp_PF00680_full,LuteoTotiRotaRdRp_PF0...</td>\n",
       "    </tr>\n",
       "    <tr>\n",
       "      <th>206</th>\n",
       "      <td>CMS002_026b_Rb_S147_L004|NODE_1_length_6620_co...</td>\n",
       "      <td>BunyaRdRp_PF04196_full</td>\n",
       "    </tr>\n",
       "    <tr>\n",
       "      <th>207</th>\n",
       "      <td>CMS002_026b_Rb_S147_L004|NODE_9_length_1603_co...</td>\n",
       "      <td>PicornaRdRp_PF00680_full,LuteoTotiRotaRdRp_PF0...</td>\n",
       "    </tr>\n",
       "    <tr>\n",
       "      <th>208</th>\n",
       "      <td>CMS002_045c_Rb_S185_L004|NODE_2_length_3051_co...</td>\n",
       "      <td>PicornaRdRp_PF00680_full,LuteoTotiRotaRdRp_PF0...</td>\n",
       "    </tr>\n",
       "    <tr>\n",
       "      <th>209</th>\n",
       "      <td>CMS002_045c_Rb_S185_L004|NODE_4_length_2416_co...</td>\n",
       "      <td>OrthomyxoRdRp_PF00602_full</td>\n",
       "    </tr>\n",
       "    <tr>\n",
       "      <th>210</th>\n",
       "      <td>CMS002_037a_Rb_S171_L004|NODE_6_length_3200_co...</td>\n",
       "      <td>PicornaRdRp_PF00680_full,LuteoTotiRotaRdRp_PF0...</td>\n",
       "    </tr>\n",
       "    <tr>\n",
       "      <th>211</th>\n",
       "      <td>CMS001_024_Ra_S15|NODE_4_length_4004_cov_2.393175</td>\n",
       "      <td>LuteoTotiRotaRdRp_PF02123_full,PicornaRdRp_PF0...</td>\n",
       "    </tr>\n",
       "    <tr>\n",
       "      <th>212</th>\n",
       "      <td>CMS002_033a_Rb_S167_L004|NODE_9_length_3209_co...</td>\n",
       "      <td>PicornaRdRp_PF00680_full,LuteoTotiRotaRdRp_PF0...</td>\n",
       "    </tr>\n",
       "    <tr>\n",
       "      <th>213</th>\n",
       "      <td>CMS002_028d_Rb_S157_L004|NODE_1_length_10901_c...</td>\n",
       "      <td>BromoTobamoTogaRdRp_PF00978_full</td>\n",
       "    </tr>\n",
       "    <tr>\n",
       "      <th>214</th>\n",
       "      <td>CMS002_028d_Rb_S157_L004|NODE_7_length_3160_co...</td>\n",
       "      <td>MitoRdRp_PF05919_full</td>\n",
       "    </tr>\n",
       "    <tr>\n",
       "      <th>215</th>\n",
       "      <td>CMS001_037_Ra_S21|NODE_1_length_10869_cov_56.2...</td>\n",
       "      <td>BromoTobamoTogaRdRp_PF00978_full,PicornaRdRp_P...</td>\n",
       "    </tr>\n",
       "    <tr>\n",
       "      <th>216</th>\n",
       "      <td>CMS002_029d_Rb_S162_L004|NODE_2_length_7467_co...</td>\n",
       "      <td>BunyaRdRp_PF04196_full,ArenaRdRp_PF06317_full,...</td>\n",
       "    </tr>\n",
       "    <tr>\n",
       "      <th>217</th>\n",
       "      <td>CMS002_029d_Rb_S162_L004|NODE_3_length_7380_co...</td>\n",
       "      <td>LuteoTotiRotaRdRp_PF02123_full,PicornaRdRp_PF0...</td>\n",
       "    </tr>\n",
       "    <tr>\n",
       "      <th>218</th>\n",
       "      <td>CMS002_029d_Rb_S162_L004|NODE_7_length_3160_co...</td>\n",
       "      <td>MitoRdRp_PF05919_full</td>\n",
       "    </tr>\n",
       "    <tr>\n",
       "      <th>219</th>\n",
       "      <td>CMS002_029d_Rb_S162_L004|NODE_13_length_2438_c...</td>\n",
       "      <td>OrthomyxoRdRp_PF00602_full,BunyaRdRp_PF04196_full</td>\n",
       "    </tr>\n",
       "  </tbody>\n",
       "</table>\n",
       "<p>220 rows × 2 columns</p>\n",
       "</div>"
      ],
      "text/plain": [
       "    CMS002_026d_Rb_S149_L004|NODE_3_length_2417_cov_14.070085  \\\n",
       "0    CMS002_045f_Rb_S189_L004|NODE_1_length_6613_co...          \n",
       "1    CMS002_045f_Rb_S189_L004|NODE_2_length_2972_co...          \n",
       "2    CMS002_045f_Rb_S189_L004|NODE_4_length_2425_co...          \n",
       "3    CMS002_045d_Rb_S186_L004|NODE_2_length_3060_co...          \n",
       "4    CMS002_026a_Rb_S146_L004|NODE_1_length_6613_co...          \n",
       "5    CMS001_042_Ra_S23|NODE_1_length_7464_cov_55.51...          \n",
       "6    CMS001_042_Ra_S23|NODE_4_length_3148_cov_206.4...          \n",
       "7    CMS002_029c_Rb_S161_L004|NODE_1_length_7463_co...          \n",
       "8    CMS002_029c_Rb_S161_L004|NODE_2_length_7155_co...          \n",
       "9    CMS002_029c_Rb_S161_L004|NODE_4_length_4950_co...          \n",
       "10   CMS002_029c_Rb_S161_L004|NODE_6_length_3176_co...          \n",
       "11   CMS002_029c_Rb_S161_L004|NODE_9_length_2441_co...          \n",
       "12   CMS001_050_Ra_S23|NODE_2_length_7350_cov_11.92...          \n",
       "13   CMS001_048_Ra_S5|NODE_1_length_10707_cov_6.003951          \n",
       "14    CMS001_048_Ra_S5|NODE_2_length_8329_cov_3.719583          \n",
       "15   CMS001_048_Ra_S5|NODE_3_length_6887_cov_16.627460          \n",
       "16    CMS001_048_Ra_S5|NODE_4_length_4126_cov_3.607063          \n",
       "17   CMS001_048_Ra_S5|NODE_28_length_1162_cov_1.672811          \n",
       "18   CMS002_010a_Rb_S119_L004|NODE_1_length_7476_co...          \n",
       "19   CMS001_058_Ra_S9|NODE_1_length_10844_cov_23.89...          \n",
       "20    CMS001_058_Ra_S9|NODE_2_length_7689_cov_8.491592          \n",
       "21   CMS001_009_Ra_S13|NODE_70_length_2389_cov_1.56...          \n",
       "22   CMS001_009_Ra_S13|NODE_835_length_1125_cov_1.7...          \n",
       "23   CMS002_029b_Rb_S160_L004|NODE_1_length_7463_co...          \n",
       "24   CMS002_029b_Rb_S160_L004|NODE_5_length_3161_co...          \n",
       "25   CMS002_028b_Rb_S155_L004|NODE_1_length_10898_c...          \n",
       "26   CMS002_028b_Rb_S155_L004|NODE_3_length_6399_co...          \n",
       "27   CMS002_028b_Rb_S155_L004|NODE_7_length_3608_co...          \n",
       "28   CMS002_017a_Rb_S122_L004|NODE_4_length_2431_co...          \n",
       "29   CMS001_039_Ra_S9|NODE_1_length_18277_cov_48.17...          \n",
       "..                                                 ...          \n",
       "190  CMS002_020c_Rb_S133_L004|NODE_1_length_12368_c...          \n",
       "191  CMS002_020c_Rb_S133_L004|NODE_2_length_9884_co...          \n",
       "192  CMS002_031a_Rb_S165_L004|NODE_1_length_11785_c...          \n",
       "193  CMS002_031a_Rb_S165_L004|NODE_3_length_3233_co...          \n",
       "194  CMS002_031a_Rb_S165_L004|NODE_193_length_955_c...          \n",
       "195  CMS001_029_Ra_S18|NODE_1_length_10946_cov_79.5...          \n",
       "196  CMS001_029_Ra_S18|NODE_2_length_3151_cov_424.8...          \n",
       "197  CMS002_046a_Rb_S191_L004|NODE_2_length_3148_co...          \n",
       "198  CMS002_017b_Rb_S123_L004|NODE_1_length_6097_co...          \n",
       "199  CMS002_017b_Rb_S123_L004|NODE_3_length_3138_co...          \n",
       "200  CMS002_017b_Rb_S123_L004|NODE_4_length_2426_co...          \n",
       "201  CMS002_028a_Rb_S154_L004|NODE_1_length_10917_c...          \n",
       "202  CMS002_045e_Rb_S188_L004|NODE_1_length_6614_co...          \n",
       "203  CMS002_045e_Rb_S188_L004|NODE_10_length_1444_c...          \n",
       "204  CMS002_035a_Rb_S169_L004|NODE_8_length_2960_co...          \n",
       "205  CMS001_003_Ra_S2|NODE_67_length_1724_cov_9.762599          \n",
       "206  CMS002_026b_Rb_S147_L004|NODE_1_length_6620_co...          \n",
       "207  CMS002_026b_Rb_S147_L004|NODE_9_length_1603_co...          \n",
       "208  CMS002_045c_Rb_S185_L004|NODE_2_length_3051_co...          \n",
       "209  CMS002_045c_Rb_S185_L004|NODE_4_length_2416_co...          \n",
       "210  CMS002_037a_Rb_S171_L004|NODE_6_length_3200_co...          \n",
       "211  CMS001_024_Ra_S15|NODE_4_length_4004_cov_2.393175          \n",
       "212  CMS002_033a_Rb_S167_L004|NODE_9_length_3209_co...          \n",
       "213  CMS002_028d_Rb_S157_L004|NODE_1_length_10901_c...          \n",
       "214  CMS002_028d_Rb_S157_L004|NODE_7_length_3160_co...          \n",
       "215  CMS001_037_Ra_S21|NODE_1_length_10869_cov_56.2...          \n",
       "216  CMS002_029d_Rb_S162_L004|NODE_2_length_7467_co...          \n",
       "217  CMS002_029d_Rb_S162_L004|NODE_3_length_7380_co...          \n",
       "218  CMS002_029d_Rb_S162_L004|NODE_7_length_3160_co...          \n",
       "219  CMS002_029d_Rb_S162_L004|NODE_13_length_2438_c...          \n",
       "\n",
       "                            OrthomyxoRdRp_PF00602_full  \n",
       "0                               BunyaRdRp_PF04196_full  \n",
       "1    PicornaRdRp_PF00680_full,LuteoTotiRotaRdRp_PF0...  \n",
       "2                           OrthomyxoRdRp_PF00602_full  \n",
       "3    PicornaRdRp_PF00680_full,LuteoTotiRotaRdRp_PF0...  \n",
       "4                               BunyaRdRp_PF04196_full  \n",
       "5    BunyaRdRp_PF04196_full,ArenaRdRp_PF06317_full,...  \n",
       "6                                MitoRdRp_PF05919_full  \n",
       "7    BunyaRdRp_PF04196_full,ArenaRdRp_PF06317_full,...  \n",
       "8    LuteoTotiRotaRdRp_PF02123_full,PicornaRdRp_PF0...  \n",
       "9    BromoTobamoTogaRdRp_PF00978_full,PicornaRdRp_P...  \n",
       "10   PicornaRdRp_PF00680_full,LuteoTotiRotaRdRp_PF0...  \n",
       "11   OrthomyxoRdRp_PF00602_full,BunyaRdRp_PF04196_full  \n",
       "12   LuteoTotiRotaRdRp_PF02123_full,PicornaRdRp_PF0...  \n",
       "13   BromoTobamoTogaRdRp_PF00978_full,PicornaRdRp_P...  \n",
       "14                           MononegaRdRp_PF00946_full  \n",
       "15                              BunyaRdRp_PF04196_full  \n",
       "16                           MononegaRdRp_PF00946_full  \n",
       "17   LuteoTotiRotaRdRp_PF02123_full,PicornaRdRp_PF0...  \n",
       "18   BunyaRdRp_PF04196_full,ArenaRdRp_PF06317_full,...  \n",
       "19   BromoTobamoTogaRdRp_PF00978_full,PicornaRdRp_P...  \n",
       "20   LuteoTotiRotaRdRp_PF02123_full,PicornaRdRp_PF0...  \n",
       "21                               MitoRdRp_PF05919_full  \n",
       "22                      LuteoTotiRotaRdRp_PF02123_full  \n",
       "23   BunyaRdRp_PF04196_full,ArenaRdRp_PF06317_full,...  \n",
       "24   PicornaRdRp_PF00680_full,LuteoTotiRotaRdRp_PF0...  \n",
       "25                    BromoTobamoTogaRdRp_PF00978_full  \n",
       "26                              BunyaRdRp_PF04196_full  \n",
       "27                      LuteoTotiRotaRdRp_PF02123_full  \n",
       "28   OrthomyxoRdRp_PF00602_full,BunyaRdRp_PF04196_full  \n",
       "29                              FlaviRdRp_PF00972_full  \n",
       "..                                                 ...  \n",
       "190                          MononegaRdRp_PF00946_full  \n",
       "191  PicornaRdRp_PF00680_full,LuteoTotiRotaRdRp_PF0...  \n",
       "192                          MononegaRdRp_PF00946_full  \n",
       "193  PicornaRdRp_PF00680_full,LuteoTotiRotaRdRp_PF0...  \n",
       "194  PicornaRdRp_PF00680_full,LuteoTotiRotaRdRp_PF0...  \n",
       "195    FlaviRdRp_PF00972_full,PicornaRdRp_PF00680_full  \n",
       "196                              MitoRdRp_PF05919_full  \n",
       "197                              MitoRdRp_PF05919_full  \n",
       "198  LuteoTotiRotaRdRp_PF02123_full,PicornaRdRp_PF0...  \n",
       "199  PicornaRdRp_PF00680_full,LuteoTotiRotaRdRp_PF0...  \n",
       "200  OrthomyxoRdRp_PF00602_full,BunyaRdRp_PF04196_full  \n",
       "201  BromoTobamoTogaRdRp_PF00978_full,PicornaRdRp_P...  \n",
       "202                             BunyaRdRp_PF04196_full  \n",
       "203  PicornaRdRp_PF00680_full,LuteoTotiRotaRdRp_PF0...  \n",
       "204  PicornaRdRp_PF00680_full,LuteoTotiRotaRdRp_PF0...  \n",
       "205  PicornaRdRp_PF00680_full,LuteoTotiRotaRdRp_PF0...  \n",
       "206                             BunyaRdRp_PF04196_full  \n",
       "207  PicornaRdRp_PF00680_full,LuteoTotiRotaRdRp_PF0...  \n",
       "208  PicornaRdRp_PF00680_full,LuteoTotiRotaRdRp_PF0...  \n",
       "209                         OrthomyxoRdRp_PF00602_full  \n",
       "210  PicornaRdRp_PF00680_full,LuteoTotiRotaRdRp_PF0...  \n",
       "211  LuteoTotiRotaRdRp_PF02123_full,PicornaRdRp_PF0...  \n",
       "212  PicornaRdRp_PF00680_full,LuteoTotiRotaRdRp_PF0...  \n",
       "213                   BromoTobamoTogaRdRp_PF00978_full  \n",
       "214                              MitoRdRp_PF05919_full  \n",
       "215  BromoTobamoTogaRdRp_PF00978_full,PicornaRdRp_P...  \n",
       "216  BunyaRdRp_PF04196_full,ArenaRdRp_PF06317_full,...  \n",
       "217  LuteoTotiRotaRdRp_PF02123_full,PicornaRdRp_PF0...  \n",
       "218                              MitoRdRp_PF05919_full  \n",
       "219  OrthomyxoRdRp_PF00602_full,BunyaRdRp_PF04196_full  \n",
       "\n",
       "[220 rows x 2 columns]"
      ]
     },
     "execution_count": 54,
     "metadata": {},
     "output_type": "execute_result"
    }
   ],
   "source": [
    "rdrps"
   ]
  },
  {
   "cell_type": "code",
   "execution_count": null,
   "metadata": {},
   "outputs": [],
   "source": []
  }
 ],
 "metadata": {
  "kernelspec": {
   "display_name": "flash",
   "language": "python",
   "name": "flash"
  },
  "language_info": {
   "codemirror_mode": {
    "name": "ipython",
    "version": 3
   },
   "file_extension": ".py",
   "mimetype": "text/x-python",
   "name": "python",
   "nbconvert_exporter": "python",
   "pygments_lexer": "ipython3",
   "version": "3.5.3"
  }
 },
 "nbformat": 4,
 "nbformat_minor": 2
}
