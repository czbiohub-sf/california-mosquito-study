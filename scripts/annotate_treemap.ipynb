{
 "cells": [
  {
   "cell_type": "markdown",
   "metadata": {},
   "source": [
    "# Treemap\n",
    "\n",
    "----------------\n",
    "\n",
    "This Jupyter notebook walks through the steps of creating a treemap that can be used to display hierarchical information. As it is now it is designed to show how reads from a metagenomic study are distributed across the different branches of living organisms.\n",
    "\n",
    "*written by Gytis Dudas, 2019*"
   ]
  },
  {
   "cell_type": "markdown",
   "metadata": {},
   "source": [
    "## Step 1: process and prepare archived NCBI taxonomy file (optional)\n",
    "\n",
    "NCBI updated virus taxonomy over the course of this project based on ICTV proposals, but this change has been incomplete _e.g._ most sequences under `ssRNA negative-strand viruses` (descriptive category) have been moved to `Negarnaviricota` (genealogical category) but >100 accessions that are distinctly negative sense RNA viruses still remain under the old category following the evacuation. For the sake of consistency we have decided to go with the older version of taxonomy. \n",
    "\n",
    "This cell downloads the required version of taxonomy, unzips it and tar+gzips it, which is the only format `ete3` will take."
   ]
  },
  {
   "cell_type": "code",
   "execution_count": 1,
   "metadata": {
    "ExecuteTime": {
     "end_time": "2020-02-27T12:45:34.452518Z",
     "start_time": "2020-02-27T12:45:34.445002Z"
    }
   },
   "outputs": [],
   "source": [
    "# %%bash\n",
    "\n",
    "# store_folder=/Users/evogytis/Downloads\n",
    "# cd $store_folder\n",
    "\n",
    "# # tax_db=\"taxdmp_2019-01-01\" ## latest taxonomy release that still contains original virus taxonomy\n",
    "# tax_db=\"taxdmp_2019-12-01\" ## latest taxonomy release\n",
    "# curl -O ftp://ftp.ncbi.nlm.nih.gov/pub/taxonomy/taxdump_archive/$tax_db.zip ## download taxonomy file\n",
    "\n",
    "# rm -rf $store_folder/$tax_db ## remove existing category\n",
    "# mkdir $store_folder/$tax_db\n",
    "\n",
    "# unzip -o $store_folder/$tax_db.zip -d $store_folder/$tax_db\n",
    "\n",
    "# cd $store_folder/$tax_db; tar -czvf $store_folder/$tax_db.tar.gz *[dmp,prt,txt]"
   ]
  },
  {
   "cell_type": "markdown",
   "metadata": {},
   "source": [
    "## Step 2: load libraries, update ete3's taxonomy to file provided\n",
    "\n",
    "This cell loads three native libraries (`os`, `json`, and `glob`) and `ete3`. `ete3` is required to place all BLAST hits in the treemap via the `get_lineage` command. Updating the taxonomy database takes ~3 minutes.\n",
    "\n",
    "Also loaded is a CD-HIT file of clustered contigs, and file mapping numbers of reads to each contig."
   ]
  },
  {
   "cell_type": "code",
   "execution_count": 2,
   "metadata": {
    "ExecuteTime": {
     "end_time": "2020-02-27T12:45:35.468426Z",
     "start_time": "2020-02-27T12:45:34.474427Z"
    }
   },
   "outputs": [],
   "source": [
    "import ete3\n",
    "import os,json,glob\n",
    "\n",
    "# taxonomy_path='/Users/evogytis/Downloads/taxdmp_2019-01-01.tar.gz'\n",
    "taxonomy_path='/Users/evogytis/Downloads/taxdmp_2019-12-01.tar.gz'\n",
    "base_path='/Users/evogytis/Documents/manuscripts/skeeters/data' ## point to where the data folder to the repo is locally\n",
    "\n",
    "\n",
    "ncbi=ete3.ncbi_taxonomy.NCBITaxa()\n",
    "# ncbi.update_taxonomy_database(taxdump_file=taxonomy_path) ## uncomment to update ete3's taxonomy\n",
    "\n",
    "#########\n",
    "## Load read counts of each contig\n",
    "#########\n",
    "contig_info={}\n",
    "\n",
    "for line in open(os.path.join(base_path,'s3/contig_quality_concat/contig_calls_decontam.tsv'),'r'): ## iterate over lines\n",
    "    l=line.strip('\\n').split('\\t')\n",
    "    if l[0]=='sample':\n",
    "        header={x:i for i,x in enumerate(l)} ## create header dict\n",
    "    else:\n",
    "        sample=l[header['sample']]\n",
    "        contig_name=l[header['contig_name']] ## get contig name\n",
    "        read_count=int(float(l[header['read_count']])) ## get read count\n",
    "\n",
    "#         if sample not in contig_reads:\n",
    "#             contig_reads[sample]={}\n",
    "        if sample not in contig_info:\n",
    "            contig_info[sample]={}\n",
    "            \n",
    "        contig_info[sample][contig_name]={x:l[header[x]] for x in header}\n"
   ]
  },
  {
   "cell_type": "markdown",
   "metadata": {
    "ExecuteTime": {
     "end_time": "2019-05-02T09:34:31.678394Z",
     "start_time": "2019-05-02T09:34:31.335093Z"
    }
   },
   "source": [
    "## Step 3: load pre-defined taxa that will be displayed in the treemap\n",
    "-----\n",
    "\n",
    "The following cell loads a file (`displayed_taxa_reads.json`) that looks like this:\n",
    "\n",
    "```\n",
    "[{\"taxid\": 1,\n",
    "\"taxonomy\": \"root\"},\n",
    "{\"taxid\": 10239,\n",
    "\"taxonomy\": \"Viruses\"},\n",
    "{\"taxid\": 131567,\n",
    "\"taxonomy\": \"cellular organisms\"},\n",
    "{\"taxid\": 2157,\n",
    "\"taxonomy\": \"Archaea\"},\n",
    "{\"taxid\": 2759,\n",
    "\"taxonomy\": \"Eukaryota\"},\n",
    "{\"taxid\": 2,\n",
    "\"taxonomy\": \"Bacteria\"}]\n",
    "```\n",
    "\n",
    "It is loaded as a flat list of branches, which get annotated later (here with contig and read counts) and in the last steps built into a nested tree data structure (_i.e._ here it would be `(Root(Viruses,CellularOrganisms(Eukaryota,Bacteria,Archaea)));`).\n",
    "\n",
    "By default the produced treemap will only contain the taxids listed in this file and anything higher _e.g._ _Metazoa_ would be traversed back to a taxid that does exist in the file which would be _Eukaryota_.\n",
    "\n",
    "At the end of the cell additional branches are added to the tree. These are high-order taxonomic lineages that are currently not listed by NCBI (_e.g._ the Narna-Levi supergroup that links _Narnaviridae_ and _Leviviridae_), additionally linked into an even higher order structure based on strandedness (_i.e._ Baltimore class) which can be paraphyletic but is done here to introduce more structure into the treemap."
   ]
  },
  {
   "cell_type": "code",
   "execution_count": 3,
   "metadata": {
    "ExecuteTime": {
     "end_time": "2020-02-27T12:45:35.516121Z",
     "start_time": "2020-02-27T12:45:35.485498Z"
    },
    "scrolled": false
   },
   "outputs": [
    {
     "name": "stdout",
     "output_type": "stream",
     "text": [
      "current taxids that exist as branches: dict_keys([1, 131567, 2, 953, 1236, 28211, 203691, 91347, 135619, 1783272, 4751, 2759, 1437010, 35500, 33554, 9989, 9979, 8782, 9126, 5654, 1286322, 5690, 1206794, 33213, 6029, 451864, 6231, 33090, 33154, 7711, 10239, 2497569, 11157, 2501952, 11308, 1980410, 1980417, 1980418, 1980416, 1299308, 11270, 2501985, 186766, 11989, 2560063, 2169577, 119163, 11012, 11050, 39738, 10880, 11006, 249310, 464095, 699189, 232795, 249184, 675071, 'uncurated'])\n",
      "\n"
     ]
    }
   ],
   "source": [
    "J=json.load(open(os.path.join(base_path,'../treemap/displayed_taxa_reads.json'),'r')) ## load designated treemap branches\n",
    "branches={b['taxid']:b for b in J} ## flat list of branches indexed by taxid\n",
    "\n",
    "remove_branches=[] ## empty list that will contain taxids whose lineage cannot be recovered by ete3 (because of out-dated taxonomy)\n",
    "for taxid in branches: ## iterate over branches loaded so far\n",
    "    try:\n",
    "        ncbi.get_lineage(taxid) ## attempt to get lineage\n",
    "    except ValueError: ## attempt failed\n",
    "        remove_branches.append(taxid) ## remember taxid for removal later\n",
    "        print('taxid %s not in taxdump.tar.gz file loaded earlier, it will be excluded'%(taxid))\n",
    "        \n",
    "for taxid in remove_branches:\n",
    "    branches.pop(taxid) ## remove taxids that failed\n",
    "        \n",
    "branches['uncurated']={'taxonomy':'uncurated','taxid':'uncurated','attrs':{'colour': '#E7E7E6'}} ## also create a branch that could contain no hits (i.e. total number of queries minus number of queries that hit something)\n",
    "\n",
    "for b in branches: ## assign default colour to branches\n",
    "    branches[b]['attrs']={'colour':'#E7E7E6'} ## default colour is slategrey, but later cell assigns a colour based on descent from Bacteria, Eukaryotes or Viruses\n",
    "    \n",
    "print('current taxids that exist as branches: %s\\n'%(branches.keys()))\n",
    "\n",
    "###########\n",
    "## This code will add additional treemap compartments that group viral families into higher-order structures which don't exist in official NCBI taxonomy\n",
    "###########\n",
    "high_order_insert={2501952: 'Mononega-Chu', ## Chu\n",
    "                   11157: 'Mononega-Chu', ## Mononega\n",
    "                   249184: 'Hepe-Virga', ## Tymo\n",
    "                   675071: 'Hepe-Virga', ## Virga\n",
    "                   2560063: 'Narna-Levi', ## Botourmia\n",
    "                   186766: 'Narna-Levi', ## Narna\n",
    "                   11989: 'Narna-Levi', ## Levi\n",
    "                   119163: 'Luteo-Sobemo', ## Luteo\n",
    "                   2169577: 'Luteo-Sobemo', ## Solemo\n",
    "                   39738: 'Tombus-Noda', ## Tombus\n",
    "                   11006: 'Toti-Chryso', ## Toti\n",
    "                   249310: 'Toti-Chryso', ## Chryso\n",
    "                   11050: '(+)ssRNA viruses', ## Flavi\n",
    "                   464095: '(+)ssRNA viruses', ## Picorna\n",
    "                   10880: 'dsRNA viruses', ## Reo\n",
    "                   11012: 'dsRNA viruses', ## Partiti\n",
    "                   'Mononega-Chu': 2497569, ## comes back to (-)ssRNA viruses which exists as a taxid\n",
    "                   'Toti-Chryso': 'dsRNA viruses', \n",
    "                   'Luteo-Sobemo': '(+)ssRNA viruses', \n",
    "                   'Tombus-Noda': '(+)ssRNA viruses', \n",
    "                   'Narna-Levi': '(+)ssRNA viruses', \n",
    "                   'Hepe-Virga': '(+)ssRNA viruses'} ## this dictionary will be used to check taxids for insertion of a higher level \"taxid\"\n",
    "\n",
    "for insert in list(high_order_insert.keys())+list(high_order_insert.values()): ## combine all redirects and their destinations\n",
    "    try:\n",
    "        taxonomy=ncbi.get_taxid_translator([insert])[insert] ## get actual name if taxid\n",
    "    except:\n",
    "        taxonomy=insert\n",
    "        \n",
    "    if insert not in branches: ## insert branch if it hasn't been done in earlier loops\n",
    "        branches[insert]={'attrs':{'colour': '#E7E7E6'},'taxid': insert, 'taxonomy': taxonomy}\n"
   ]
  },
  {
   "cell_type": "markdown",
   "metadata": {},
   "source": [
    "## Step 4: annotation of branches\n",
    "------\n",
    "\n",
    "In this cell we add the information about how many reads (and contigs) belong to each taxonomic compartment. The `summarise` option allows you to choose between relying on the treemap compartments specified in the `displayed_taxa_reads.json` file or creating a new treemap compartment for every new taxid seen in the BLAST results summary file.\n",
    "\n",
    "If `backbone` is chosen every taxid in BLAST output summary is traversed back to the root and all reads get assigned to the first treemap compartment available, _e.g._ if BLAST hit was _Metazoa_ all the reads mapping to the contig would be assigned to _Eukaryota_ which is the highest treemap compartment available.\n",
    "\n",
    "If `all` is chosen a contig that's been assigned to _Metazoa_ will create a new treemap compartment with all the reads from the contig assigned to it. Future contigs assigned to _Metazoa_ will contribute their reads to this compartment."
   ]
  },
  {
   "cell_type": "code",
   "execution_count": 4,
   "metadata": {
    "ExecuteTime": {
     "end_time": "2020-02-27T12:45:36.485770Z",
     "start_time": "2020-02-27T12:45:35.523703Z"
    },
    "scrolled": true
   },
   "outputs": [
    {
     "name": "stderr",
     "output_type": "stream",
     "text": [
      "/Library/Frameworks/Python.framework/Versions/3.7/lib/python3.7/site-packages/ete3/ncbi_taxonomy/ncbiquery.py:240: UserWarning: taxid 6915 was translated into 2585209\n",
      "  warnings.warn(\"taxid %s was translated into %s\" %(taxid, merged_conversion[taxid]))\n",
      "/Library/Frameworks/Python.framework/Versions/3.7/lib/python3.7/site-packages/ete3/ncbi_taxonomy/ncbiquery.py:240: UserWarning: taxid 2267872 was translated into 1653778\n",
      "  warnings.warn(\"taxid %s was translated into %s\" %(taxid, merged_conversion[taxid]))\n",
      "/Library/Frameworks/Python.framework/Versions/3.7/lib/python3.7/site-packages/ete3/ncbi_taxonomy/ncbiquery.py:240: UserWarning: taxid 2053043 was translated into 2665496\n",
      "  warnings.warn(\"taxid %s was translated into %s\" %(taxid, merged_conversion[taxid]))\n"
     ]
    }
   ],
   "source": [
    "summarise='backbone'\n",
    "# summarise='all'\n",
    "\n",
    "in_json=open(os.path.join(base_path,'darkmatter/virus.json'),'r')\n",
    "virus=json.load(in_json)\n",
    "\n",
    "redirect={} ## will redirect some viruses from the taxids they were submitted under (usually under \"unclassified Viruses\") to something more informative\n",
    "\n",
    "for sample in contig_info:\n",
    "    for contig in contig_info[sample]:\n",
    "        name=contig_info[sample][contig]['name'] ## get name (only exists for curated things)\n",
    "        taxid=int(float(contig_info[sample][contig]['taxid'])) ## get taxid\n",
    "        read_count=int(float(contig_info[sample][contig]['read_count'])) ## get read count\n",
    "        \n",
    "        if contig_info[sample][contig]['curated']=='True': ## curated virus\n",
    "            pol_group=str(int(float(contig_info[sample][contig]['poly_group']))) ## get RdRp group\n",
    "            correct_taxid=virus[pol_group]['taxid'] ## get curated taxid\n",
    "            subm_taxid=virus[pol_group]['submission_taxid'] ## get taxid that will be used for submission\n",
    "            \n",
    "            if name=='TBD': ## new virus\n",
    "                vir_id=contig_info[sample][contig]['provisional_name'] ## id is its provisional name\n",
    "                redirect[vir_id]=correct_taxid ## add taxid for redirection later\n",
    "                name=vir_id\n",
    "                \n",
    "            elif name!='': ## virus name not new, but check if taxid is good\n",
    "                if correct_taxid!=subm_taxid: ## submission taxid won't be specific enough\n",
    "                    redirect[subm_taxid]=correct_taxid ## add taxid for redirection later\n",
    "                    vir_id=subm_taxid ## virus ID is its (incorrect/imprecise) taxid\n",
    "                else: ## taxid is specific and correct, id is taxid\n",
    "                    vir_id=taxid\n",
    "            \n",
    "            if vir_id not in branches:\n",
    "                branches[vir_id]={'attrs':{'colour': '#E7E7E6'}} ## create a new branch for treemap\n",
    "                branches[vir_id]['taxonomy']=name ## give it a name\n",
    "                branches[vir_id]['taxid']=vir_id ## give whatever was closest to a taxid (provisional name for new viruses)\n",
    "\n",
    "            if sample not in branches[vir_id]['attrs']:\n",
    "                branches[vir_id]['attrs'][sample]={'read_count':0} ## sample not encountered yet\n",
    "                \n",
    "            branches[vir_id]['attrs'][sample]['read_count']+=read_count ## assign reads to virus\n",
    "        \n",
    "        else: ## not a curated contig\n",
    "            try:\n",
    "                lineage=ncbi.get_lineage(taxid) ## get lineage of taxid\n",
    "\n",
    "                if summarise=='all': ## adding every taxid\n",
    "                    if taxid not in branches:\n",
    "                        branches[taxid]={'attrs':{'colour': '#E7E7E6'}} ## create a new branch for treemap\n",
    "                        branches[taxid]['taxonomy']=ncbi.get_taxid_translator([taxid])[taxid] ## give it a name\n",
    "                        branches[taxid]['taxid']=taxid ## assign taxid\n",
    "\n",
    "                if 10239 in lineage: ## viral lineage\n",
    "                    if sample not in branches['uncurated']['attrs']:\n",
    "                        branches['uncurated']['attrs'][sample]={'read_count': 0}\n",
    "                    branches['uncurated']['attrs'][sample]['read_count']+=read_count ## assign reads to uncurated part\n",
    "                else: ## nonviral lineage\n",
    "                    for rank in lineage[::-1]: ## iterate over lineage backwards (heading towards root)\n",
    "                        if rank in branches: ## rank exists as a branch in treemap\n",
    "                            branch=branches[rank] ## grab branch\n",
    "                            if sample not in branch['attrs']: ## sample not encountered before\n",
    "                                branch['attrs'][sample]={'read_count': 0}\n",
    "                            branch['attrs'][sample]['read_count']+=read_count ## assign reads\n",
    "                            break\n",
    "            except ValueError:\n",
    "                print('taxid %s not available'%(taxid))"
   ]
  },
  {
   "cell_type": "markdown",
   "metadata": {},
   "source": [
    "## Step 5: build tree structure, output to file\n",
    "-------\n",
    "\n",
    "All the branches have been annotated up to this stage and now it's time to build the tree data structure. We start by summarising the contig and read counts across samples. We then specify colours for particular compartment and their descendants (_e.g._ -ssRNA viruses obviously need to be red-ish). The procedure involves fetching branch A, retrieving its lineage and looking for taxids along its lineage which exist as a treemap compartment (let's call it B). Treemap compartment A gets assigned as a child of treemap compartment B.\n",
    "\n",
    "The resulting tree structure is saved to file as a JSON and can be inspected using javascript code included in the repository by running a local server with the command and opening `treemap.html`:\n",
    "```\n",
    "python3 -m http.server 4000\n",
    "```"
   ]
  },
  {
   "cell_type": "code",
   "execution_count": 5,
   "metadata": {
    "ExecuteTime": {
     "end_time": "2020-02-27T12:45:36.779994Z",
     "start_time": "2020-02-27T12:45:36.493635Z"
    },
    "scrolled": true
   },
   "outputs": [
    {
     "name": "stdout",
     "output_type": "stream",
     "text": [
      "Done!\n"
     ]
    }
   ],
   "source": [
    "taxa_tree={'children':[],'attrs':{'colour':'#E7E7E6'}} ## tree structure (+ add no-hit branch from the beginning)\n",
    "\n",
    "sorted_taxids=sorted(branches,key=lambda k: len(ncbi.get_lineage(k)) if isinstance(k,int) else 999)\n",
    "\n",
    "for b in sorted_taxids: ## iterate through flat list of branches\n",
    "    reads=[branches[b]['attrs'][c]['read_count'] for c in branches[b]['attrs'] if 'CMS' in c]\n",
    "#     contigs=[branches[b]['attrs'][c]['contig_count'] for c in branches[b]['attrs'] if 'CMS' in c]\n",
    "    branches[b]['attrs']['read_count']=sum(reads)\n",
    "#     branches[b]['attrs']['contig_count']=sum(contigs) ## compute sum of contig counts across samples  \n",
    "    branches[b]['attrs']['sample_count']=len(reads)\n",
    "\n",
    "## Colours assigned to a treemap compartment (all descendants inherit parental colour unless they have their own assigned colour)\n",
    "lineage_colours={'dsRNA viruses': 'grey', ## dsRNA\n",
    "                 '(+)ssRNA viruses': 'grey',  ## (+)ssRNA\n",
    "                 2497569: 'grey', ## (-)ssRNA\n",
    "                 10239: 'grey', ## viruses\n",
    "                 'Mononega-Chu': '#FF7D48', ## Mononegas+Chus\n",
    "#                  11157: '#FF7D48', ## Mononegas\n",
    "#                  2501952: '#9E415F', ## Chu\n",
    "                 1980410: '#AC6569', ## Bunyas\n",
    "                 11308: '#C43A3F', ## Orthomyxos\n",
    "                 11050: '#0074C4', ## Flavi \n",
    "                 464095: '#42C754', ## Picorna\n",
    "                 11012: '#965DAE', ## Partiti\n",
    "                 10880: '#866E8B', ## Reo\n",
    "                 'Hepe-Virga': '#AFD1FF', ## Hepe-Virga\n",
    "                 'Narna-Levi': '#6967BC', ## Narna-Levi\n",
    "                 'Luteo-Sobemo': '#E6C930', ## Luteo-Sobemo\n",
    "                 'Toti-Chryso': '#D8A5CE', ## Toti-Chryso\n",
    "                 'Tombus-Noda': '#618F80', ## Tombus-Noda\n",
    "                 'uncurated': '#ACADAE', ## uncurated viral contigs\n",
    "                 2: '#867A5F', ## Bacteria\n",
    "                 953: '#86665F', ## Wolbachia\n",
    "                 2759: '#E5E4E2', ## Eukaryota\n",
    "                 5794:'#5E716A', ## apicomplexa\n",
    "                 7711: '#B2BEB5', ## chordata\n",
    "                 8782: '#6082B6', ## Aves\n",
    "                 9347: '#658EA9', ## Eutheria\n",
    "                 33090: '#2e8b57', ## Viridiplantae\n",
    "                 4751: '#808080', ## Fungi\n",
    "                 5654: '#708090' ## Trypanosomatidae\n",
    "                }\n",
    "\n",
    "taxid_lineages={} ## will contain new lineages\n",
    "for taxid in sorted_taxids: ## iterate over taxids\n",
    "    if taxid in redirect: ## taxid has been redirected because the official taxid is imprecise (or this will create a new compartment for completely new things)\n",
    "        lineage=ncbi.get_lineage(redirect[taxid])+[taxid]\n",
    "    elif taxid=='uncurated': ## uncurated viral hit (not associated with RdRp or inexplicably fragmented viral sequences)\n",
    "        lineage=[1,10239,'uncurated']\n",
    "    elif taxid in high_order_insert or taxid in high_order_insert.values(): ## taxid will have more branches inserted because of higher level redirection\n",
    "        lineage=[1,10239,taxid]\n",
    "    else:\n",
    "        lineage=ncbi.get_lineage(taxid) ## taxid is correct as assigned\n",
    "        \n",
    "    adjusted_lineage=list(lineage) ## copy lineage\n",
    "    \n",
    "    continue_insertion=True ## assume inserting taxids is required\n",
    "    while continue_insertion:\n",
    "        left_to_insert=len([q for q in adjusted_lineage if q in high_order_insert and high_order_insert[q] not in adjusted_lineage]) ## count how many taxids in current lineage will need branches inserted before them\n",
    "        \n",
    "        for r,rank in enumerate(adjusted_lineage): ## iterate over ranks in lineage\n",
    "            if rank in high_order_insert and high_order_insert[rank] not in adjusted_lineage: ## rank is set for insertion\n",
    "                adjusted_lineage.insert(r,high_order_insert[rank]) ## insert new parental rank\n",
    "                \n",
    "        if left_to_insert==0: ## nothing left to insert, cease loop\n",
    "            continue_insertion=False ## terminate\n",
    "        \n",
    "    taxid_lineages[taxid]=adjusted_lineage ## assign new, adjusted lineage\n",
    "\n",
    "    \n",
    "for taxid in sorted_taxids: ## iterate over every taxon in treemap\n",
    "    taxon=branches[taxid] ## fetch branch\n",
    "    lineage=taxid_lineages[taxid] ## get lineage for taxid\n",
    "    \n",
    "    for rank in lineage: ## iterate over (potentially) new lineage\n",
    "        if rank in branches and rank in lineage_colours: ## lineage exists and has colour assignment\n",
    "            taxon['attrs']['colour']=lineage_colours[rank] ## assign colour\n",
    "\n",
    "    if len(lineage)==1 and taxon not in taxa_tree['children']: ## if root\n",
    "        taxa_tree['children'].append(taxon) ## add root to tree\n",
    "\n",
    "    for lin in lineage[::-1][1:]: ## iterate through lineage, starting from most recent, ignore first entry (self)\n",
    "        if lin in branches: ## rank present amongst branches\n",
    "            parent=branches[lin] ## grab parent\n",
    "            \n",
    "            if 'children' not in parent: ## if parent doesn't have children yet - add the attribute\n",
    "                parent['children']=[]\n",
    "\n",
    "            if taxon not in parent['children']: ## branch wasn't assigned to its parent yet\n",
    "                parent['children'].append(taxon) ## add child to parent\n",
    "\n",
    "            assert taxon['taxid']!=parent['taxid'], 'parent is child %s %s, lineage: %s'%(taxon['taxid'],taxon['taxonomy'],lineage)\n",
    "            break ## break for loop, parent has been identified\n",
    "    \n",
    "json.dump(taxa_tree,open(os.path.join(base_path,'../treemap/skeeters.json'),'w'),indent=1,sort_keys=True) ## write json out to repo\n",
    "\n",
    "print('Done!')"
   ]
  },
  {
   "cell_type": "code",
   "execution_count": 6,
   "metadata": {
    "ExecuteTime": {
     "end_time": "2020-02-27T12:45:36.853289Z",
     "start_time": "2020-02-27T12:45:36.792595Z"
    },
    "scrolled": false
   },
   "outputs": [
    {
     "name": "stdout",
     "output_type": "stream",
     "text": [
      "Done!\n"
     ]
    }
   ],
   "source": [
    "def table_treemap(node,samples,stat,file=None):\n",
    "    if 'taxid' in node:\n",
    "        sample_reads=[node['attrs'][s][stat] if s in node['attrs'] else 0 for s in samples]\n",
    "        if sum(sample_reads)>0:\n",
    "            row='%s\\t%s\\t%s'%(node['taxid'],node['taxonomy'],'\\t'.join(map(str,sample_reads)))\n",
    "            if file==None:\n",
    "                print(row)\n",
    "            else:\n",
    "                file.write('%s\\n'%(row))\n",
    "        \n",
    "    if 'children' in node:\n",
    "        for child in node['children']:\n",
    "            table_treemap(child,samples,stat,file=file)\n",
    "\n",
    "samples=sorted(list(set(sum([[attr for attr in branches[txid]['attrs'] if 'CMS' in attr] for txid in branches],[]))))\n",
    "\n",
    "header='taxid\\ttaxonomy\\t%s\\n'%('\\t'.join(sorted(samples)))\n",
    "table_out=open(os.path.join(base_path,'darkmatter/TableSX_treemap.tsv'),'w')\n",
    "table_out.write(header)\n",
    "# table_out=None\n",
    "\n",
    "table_treemap(taxa_tree,samples,'read_count',table_out)\n",
    "\n",
    "table_out.close()\n",
    "\n",
    "print('Done!')"
   ]
  },
  {
   "cell_type": "code",
   "execution_count": 7,
   "metadata": {
    "ExecuteTime": {
     "end_time": "2020-02-27T12:45:36.893140Z",
     "start_time": "2020-02-27T12:45:36.861802Z"
    },
    "scrolled": false
   },
   "outputs": [],
   "source": [
    "output_colours=open(os.path.join(base_path,'../figures/fig3/virus_color_scheme.tsv'),'w')\n",
    "\n",
    "for pol_group in sorted(virus,key=lambda k: (virus[k]['family'],k)):\n",
    "    family=virus[pol_group]['family']\n",
    "    \n",
    "    taxid=virus[pol_group]['taxid'] ## get assigned taxid to virus\n",
    "    subm_taxid=virus[pol_group]['submission_taxid'] ## get the taxid under which the virus will be submitted (may belong to a group sitting under \"unclassified Viruses\")\n",
    "    \n",
    "    name=virus[pol_group]['provisional_name'] if 'provisional_name' in virus[pol_group] else virus[pol_group]['name'] ## get the official or provisional name of the virus (human-readable)\n",
    "    \n",
    "    if taxid!=subm_taxid: ## assigned taxid does not match submission taxid (previously described viruses under incorrect taxid in the database)\n",
    "        vir_id=subm_taxid ## virus ID is the incorrect taxid\n",
    "    elif 'provisional_name' in virus[pol_group]: ## new virus, still needs redirect\n",
    "        vir_id=name\n",
    "    else: ## taxid matches assigned taxid, not a new virus and sits at the appropriate taxid\n",
    "        vir_id=taxid\n",
    "    \n",
    "    lineage=taxid_lineages[vir_id]\n",
    "    \n",
    "    for rank in lineage[::-1]:\n",
    "        if rank in lineage_colours:\n",
    "            output_colours.write('%s\\t%s\\t%s\\n'%(pol_group,family,lineage_colours[rank]))\n",
    "            break\n",
    "            \n",
    "output_colours.close()"
   ]
  },
  {
   "cell_type": "code",
   "execution_count": 8,
   "metadata": {
    "ExecuteTime": {
     "end_time": "2020-02-27T12:45:36.934570Z",
     "start_time": "2020-02-27T12:45:36.899573Z"
    },
    "scrolled": false
   },
   "outputs": [
    {
     "name": "stdout",
     "output_type": "stream",
     "text": [
      "root 215117\n",
      "cellular organisms 338321\n",
      "Bacteria 123177\n",
      "Wolbachia 295760\n",
      "Spirochaetes 106937\n",
      "Enterobacterales 71438\n",
      "Oceanospirillales 25934\n",
      "Terrabacteria group 48446\n",
      "Eukaryota 30950\n",
      "Boreoeutheria 36940\n",
      "Aves 38748\n",
      "Trypanosomatidae 186353\n",
      "Leishmaniinae 249890\n",
      "Ecdysozoa 30871\n",
      "Microsporidia 56145\n",
      "Dikarya 20896\n",
      "Viridiplantae 61664\n",
      "Opisthokonta 25604\n",
      "Chordata 27300\n",
      "uncurated 374696\n",
      "Hubei mosquito virus 4 879164\n",
      "76|Phasma-like 205279\n",
      "296|Reo-like 197759\n",
      "Hubei virga-like virus 2 342734\n",
      "Culex iflavi-like virus 4 602584\n",
      "Marma virus 2612944\n",
      "Culex bunyavirus 2 545058\n",
      "Culex narnavirus 1 919082\n",
      "1|Flavi-like 30224\n",
      "Wuhan mosquito virus 6 113519\n",
      "Gordis virus 102248\n",
      "Culex mosquito virus 6 92258\n",
      "1636|Partiti-like 614765\n",
      "63|Phenui-like 437625\n",
      "Culex flavivirus 39399\n",
      "30|Rhabdo-like 21608\n",
      "2|Rhabdo-like 93438\n",
      "Culex mosquito virus 4 196077\n",
      "24|Ifla-like 40486\n",
      "Guadeloupe mosquito virus 913066\n",
      "Aedes aegypti totivirus 56124\n",
      "Guadeloupe mosquito quaranja-like virus 1 26150\n",
      "25|Ifla-like 51675\n",
      "Kellev virus 70643\n",
      "Hubei chryso-like virus 1 21597\n",
      "Ūsinis virus 61694\n",
      "Barstukas virus 156507\n",
      "Culex pipiens-associated Tunisia virus 166870\n",
      "Culex-associated Luteo-like virus 49491\n",
      "Merida virus 253014\n",
      "Wenzhou sobemo-like virus 4 533167\n"
     ]
    }
   ],
   "source": [
    "for b in branches:\n",
    "    reads=branches[b]['attrs']['read_count']\n",
    "    if reads>20000:\n",
    "        print(branches[b]['taxonomy'],reads)"
   ]
  },
  {
   "cell_type": "code",
   "execution_count": null,
   "metadata": {},
   "outputs": [],
   "source": []
  }
 ],
 "metadata": {
  "kernelspec": {
   "display_name": "Python 3",
   "language": "python",
   "name": "python3"
  },
  "language_info": {
   "codemirror_mode": {
    "name": "ipython",
    "version": 3
   },
   "file_extension": ".py",
   "mimetype": "text/x-python",
   "name": "python",
   "nbconvert_exporter": "python",
   "pygments_lexer": "ipython3",
   "version": "3.7.1"
  }
 },
 "nbformat": 4,
 "nbformat_minor": 2
}
