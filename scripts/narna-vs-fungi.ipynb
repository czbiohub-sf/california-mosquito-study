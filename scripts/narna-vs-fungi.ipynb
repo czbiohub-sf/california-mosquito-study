{
 "cells": [
  {
   "cell_type": "code",
   "execution_count": 1,
   "metadata": {},
   "outputs": [],
   "source": [
    "#Generate plot of abundance of narna vs. fungi\n",
    "#4/6/2020 HR"
   ]
  },
  {
   "cell_type": "code",
   "execution_count": 1,
   "metadata": {},
   "outputs": [],
   "source": [
    "import pandas as pd\n",
    "import numpy as np\n",
    "from ete3 import NCBITaxa\n",
    "ncbi = NCBITaxa()\n",
    "import seaborn as sns\n",
    "\n",
    "sns.set_style(\"white\", {\"font\": 'Helvetica'})"
   ]
  },
  {
   "cell_type": "code",
   "execution_count": 2,
   "metadata": {},
   "outputs": [],
   "source": [
    "# do this once\n",
    "#ncbi.update_taxonomy_database()"
   ]
  },
  {
   "cell_type": "code",
   "execution_count": 3,
   "metadata": {},
   "outputs": [],
   "source": [
    "def get_desc_contigs(contig_df, txid):\n",
    "    taxa = ncbi.get_descendant_taxa(txid, intermediate_nodes=True)\n",
    "    taxa.append(txid)\n",
    "    df = contig_df[contig_df[\"taxid\"].apply(lambda x: x in taxa)]\n",
    "    return df"
   ]
  },
  {
   "cell_type": "code",
   "execution_count": 4,
   "metadata": {},
   "outputs": [],
   "source": [
    "# Read in (output of process_contigs_singleton_fig.ipynb)\n",
    "gitdir = \"/Users/Hanna/Desktop/MyBox/aa_DeRisi/mosquito/california-mosquito-study/\"\n",
    "\n",
    "with open(gitdir +\"/figures/fig3/all_contigs_df_new.tsv\", \"r\") as f:\n",
    "    all_contigs = pd.read_csv(f, sep=\"\\t\")"
   ]
  },
  {
   "cell_type": "code",
   "execution_count": 5,
   "metadata": {},
   "outputs": [],
   "source": [
    "viral_sum = all_contigs[all_contigs['poly_group']==493]\n",
    "viral_sum = viral_sum.groupby(['sample'], as_index=False).agg({'read_prop': sum} )\n",
    "viral_sum = viral_sum.assign(sample_trunc = ['_'.join(x.split('_')[0:2]) for x in viral_sum['sample'] ] )"
   ]
  },
  {
   "cell_type": "code",
   "execution_count": 6,
   "metadata": {},
   "outputs": [],
   "source": [
    "fungi_contigs = get_desc_contigs(all_contigs, 4751)\n",
    "fungi_sum = fungi_contigs.groupby(['sample'], as_index=False).agg({'read_prop': sum} )\n",
    "fungi_sum['sample_trunc'] = ['_'.join(x.split('_')[0:2]) for x in fungi_sum['sample'] ]"
   ]
  },
  {
   "cell_type": "code",
   "execution_count": 7,
   "metadata": {},
   "outputs": [],
   "source": [
    "df = fungi_sum.merge(viral_sum[['sample_trunc','read_prop']], on='sample_trunc', how='outer', suffixes = ('_fungi','_CxNV1'))\n"
   ]
  },
  {
   "cell_type": "code",
   "execution_count": 8,
   "metadata": {},
   "outputs": [
    {
     "name": "stdout",
     "output_type": "stream",
     "text": [
      "fungi_min is 1.0573730623638631e-05\n",
      "narna_min is 0.020862970079390752\n"
     ]
    },
    {
     "data": {
      "text/plain": [
       "(0.005, 0.9391162356704879)"
      ]
     },
     "execution_count": 8,
     "metadata": {},
     "output_type": "execute_result"
    },
    {
     "data": {
      "image/png": "[encoded data removed]",
      "text/plain": [
       "<Figure size 432x288 with 1 Axes>"
      ]
     },
     "metadata": {},
     "output_type": "display_data"
    }
   ],
   "source": [
    "my_data = df\n",
    "\n",
    "print(\"fungi_min is \" + str(my_data.min(skipna=True)[0]))\n",
    "print(\"narna_min is \" + str(my_data.min(skipna=True)[1]))\n",
    "\n",
    "xmin = 1e-05\n",
    "ymin = 1e-02 #1e-03\n",
    "\n",
    "myx = (xmin/2, my_data.max(skipna=True)[0]*1.5)\n",
    "myy = (ymin/2, my_data.max(skipna=True)[1]*1.5)\n",
    "\n",
    "my_data['read_prop_fungi'].fillna(xmin, inplace=True)\n",
    "my_data['read_prop_CxNV1'].fillna(ymin, inplace=True)\n",
    "\n",
    "f = sns.scatterplot(x='read_prop_fungi', y='read_prop_CxNV1', data=my_data,\n",
    "                   alpha=0.5, color='black')\n",
    "ax = f.axes\n",
    "\n",
    "f.set(xscale='log', yscale='log')\n",
    "ax.set_xlim(myx)\n",
    "ax.set_ylim(myy)"
   ]
  },
  {
   "cell_type": "code",
   "execution_count": 9,
   "metadata": {},
   "outputs": [],
   "source": [
    "figure = f.get_figure()\n",
    "figure.savefig(gitdir +\"/figSX_narna_fungi_correlation.pdf\", bbox_inches = \"tight\")"
   ]
  }
 ],
 "metadata": {
  "kernelspec": {
   "display_name": "Python 3",
   "language": "python",
   "name": "python3"
  },
  "language_info": {
   "codemirror_mode": {
    "name": "ipython",
    "version": 3
   },
   "file_extension": ".py",
   "mimetype": "text/x-python",
   "name": "python",
   "nbconvert_exporter": "python",
   "pygments_lexer": "ipython3",
   "version": "3.7.4"
  }
 },
 "nbformat": 4,
 "nbformat_minor": 2
}
