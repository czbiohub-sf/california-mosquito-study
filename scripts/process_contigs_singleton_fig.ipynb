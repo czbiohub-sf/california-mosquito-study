{
 "cells": [
  {
   "cell_type": "code",
   "execution_count": 1,
   "metadata": {},
   "outputs": [],
   "source": [
    "import pandas as pd\n",
    "import numpy as np\n",
    "from ete3 import NCBITaxa\n",
    "import boto3\n",
    "import tempfile\n",
    "import subprocess\n",
    "import os\n",
    "import io\n",
    "import re\n",
    "import time\n",
    "import json\n",
    "import math\n",
    "ncbi = NCBITaxa()"
   ]
  },
  {
   "cell_type": "code",
   "execution_count": 2,
   "metadata": {},
   "outputs": [
    {
     "name": "stderr",
     "output_type": "stream",
     "text": [
      "Downloading taxdump.tar.gz from NCBI FTP site (via HTTP)...\n",
      "Done. Parsing...\n"
     ]
    },
    {
     "name": "stdout",
     "output_type": "stream",
     "text": [
      "Loading node names...\n",
      "2234295 names loaded.\n",
      "216465 synonyms loaded.\n",
      "Loading nodes...\n",
      "2234295 nodes loaded.\n",
      "Linking nodes...\n",
      "Tree is loaded.\n",
      "Updating database: /Users/hanna/.etetoolkit/taxa.sqlite ...\n",
      " 2234000 generating entries...   \n",
      "Uploading to /Users/hanna/.etetoolkit/taxa.sqlite\n"
     ]
    },
    {
     "name": "stderr",
     "output_type": "stream",
     "text": [
      "Inserting synonyms:      25000 "
     ]
    },
    {
     "name": "stdout",
     "output_type": "stream",
     "text": [
      "\n"
     ]
    },
    {
     "name": "stderr",
     "output_type": "stream",
     "text": [
      "Inserting taxid merges:  45000  "
     ]
    },
    {
     "name": "stdout",
     "output_type": "stream",
     "text": [
      "\n"
     ]
    },
    {
     "name": "stderr",
     "output_type": "stream",
     "text": [
      "Inserting taxids:       25000  "
     ]
    },
    {
     "name": "stdout",
     "output_type": "stream",
     "text": [
      "\n"
     ]
    },
    {
     "name": "stderr",
     "output_type": "stream",
     "text": [
      "Inserting taxids:       2230000 "
     ]
    },
    {
     "name": "stdout",
     "output_type": "stream",
     "text": [
      "\n"
     ]
    }
   ],
   "source": [
    "# run this update as needed\n",
    "#ncbi.update_taxonomy_database()"
   ]
  },
  {
   "cell_type": "markdown",
   "metadata": {},
   "source": [
    "# Read in data"
   ]
  },
  {
   "cell_type": "code",
   "execution_count": 3,
   "metadata": {},
   "outputs": [],
   "source": [
    "gitdir = \"/Users/Hanna/Desktop/MyBox/aa_DeRisi/mosquito/california-mosquito-study/\"\n",
    "identity_qcov_threshold = 0.9"
   ]
  },
  {
   "cell_type": "code",
   "execution_count": 4,
   "metadata": {},
   "outputs": [],
   "source": [
    "## Load metadata\n",
    "metadata = pd.read_csv(gitdir + \"/data/metadata/CMS001_CMS002_MergedAnnotations.csv\", header=0)\n",
    "idseq_data = pd.read_csv(gitdir + \"/data/metadata/idseq_metadata.csv\", header=0)\n",
    "idseq_data = idseq_data[~idseq_data['sample'].str.contains('Placeholder')]"
   ]
  },
  {
   "cell_type": "code",
   "execution_count": 5,
   "metadata": {},
   "outputs": [
    {
     "name": "stderr",
     "output_type": "stream",
     "text": [
      "/usr/local/lib/python3.7/site-packages/IPython/core/interactiveshell.py:2785: DtypeWarning: Columns (4,5,6) have mixed types. Specify dtype option on import or set low_memory=False.\n",
      "  interactivity=interactivity, compiler=compiler, result=result)\n"
     ]
    }
   ],
   "source": [
    "## Load contig data\n",
    "contig_calls_all = pd.read_csv(gitdir + \"/data/s3/contig_calls.tsv\", sep=\"\\t\", header=0)\n",
    "contig_calls_decontam = pd.read_csv(gitdir + \"/data/s3/contig_calls_decontam.tsv\", sep=\"\\t\", header=0)"
   ]
  },
  {
   "cell_type": "code",
   "execution_count": 6,
   "metadata": {},
   "outputs": [],
   "source": [
    "## Calculate nonhost reads taking hexapoda and contaminating reads into account\n",
    "metadata_cols = [\"NewIDseqName\",\"ska_genus\", \"ska_species\", \"collected_by\"]\n",
    "idseq_cols = [\"sample\",\"nonhost_reads\", \"total_reads\"]\n",
    "# Calculate reads removed during decontamination and hexapoda subtraction\n",
    "contam_counts = pd.DataFrame(contig_calls_all.groupby('sample').read_count.sum() - \n",
    "                             contig_calls_decontam.groupby('sample').read_count.sum() )\n",
    "# Sum reads to hexapoda contigs by sample\n",
    "contigs_hex = contig_calls_all[(contig_calls_all.hexapoda == True) & (contig_calls_all.curated == False)]\n",
    "hex_counts = contigs_hex.groupby(\"sample\")[\"read_count\"].sum().reset_index()\n",
    "# Collect metadata, idseq nonhost reads, and additional hexapoda reads\n",
    "metadata = pd.concat([ metadata[metadata_cols].rename(columns={\"NewIDseqName\":\"sample\"}).set_index(\"sample\"), \n",
    "           idseq_data[idseq_cols].rename(columns={\"nonhost_reads\":\"idseq_nonhost_reads\"}).set_index(\"sample\"), \n",
    "           hex_counts.rename(columns={\"read_count\":\"hex_read_count\"}).set_index(\"sample\"),\n",
    "           contam_counts.rename(columns={'read_count': 'contaminating_and_hex_reads'})], \n",
    "                     axis=1, sort=True)\n",
    "#Check that hexapoda counts are < all contaminating_and_hex counts for all samples\n",
    "#print(metadata[~(metadata['contaminating_and_hex_reads'] >= metadata['hex_read_count'])]) #shld only contain waters\n",
    "# Subtract contaminating+hex reads from idseq_nonhost_reads to get final nonhost reads\n",
    "metadata['hex_read_count'].fillna(0,inplace=True)\n",
    "metadata['contaminating_and_hex_reads'].fillna(0,inplace=True)\n",
    "metadata['nonhost_reads'] = metadata['idseq_nonhost_reads'] - metadata['contaminating_and_hex_reads']\n",
    "# Reorganizing columns\n",
    "metadata['sample'] = metadata.index\n",
    "metadata.reset_index(inplace=True)\n",
    "metadata.drop(columns='index',inplace=True)"
   ]
  },
  {
   "cell_type": "code",
   "execution_count": 7,
   "metadata": {},
   "outputs": [],
   "source": [
    "# Write final nonhost reads to file\n",
    "metadata[['sample','nonhost_reads']].to_csv(\n",
    "    gitdir + \"/data/metadata/nonhost_reads_decontam_nohexapoda.tsv\", index=False, sep=\"\\t\")"
   ]
  },
  {
   "cell_type": "code",
   "execution_count": 8,
   "metadata": {},
   "outputs": [
    {
     "name": "stdout",
     "output_type": "stream",
     "text": [
      "True\n"
     ]
    }
   ],
   "source": [
    "# Update contig stats with nonhost reads\n",
    "contig_stats = pd.merge(contig_calls_decontam, metadata, how=\"left\", on=\"sample\")\n",
    "# Check no hexapoda remain\n",
    "print( contig_stats[(contig_stats.hexapoda == True) & (contig_stats.curated == False)].shape[0] == 0 ) #shld be True\n",
    "# Calculate read proportion and identity/query-coverage threshold\n",
    "contig_stats['read_prop'] = contig_stats['read_count'] / contig_stats['nonhost_reads']\n",
    "# Calculate identity/query-coverage threshold\n",
    "contig_stats = contig_stats.assign(identity_qcov=(contig_stats[\"identity\"]/100 \n",
    "                                                  * contig_stats[\"align_length\"]/contig_stats[\"contig_length\"]\n",
    "                                                 ).apply(lambda x: min(x, 1)))\n",
    "contig_stats.loc[contig_stats['curated'] == True, 'identity_qcov'] = np.nan"
   ]
  },
  {
   "cell_type": "markdown",
   "metadata": {},
   "source": [
    "# Viruses"
   ]
  },
  {
   "cell_type": "code",
   "execution_count": 9,
   "metadata": {},
   "outputs": [],
   "source": [
    "contig_stats_viral = contig_stats[(contig_stats[\"taxon_group\"]==\"Viruses\") & contig_stats[\"curated\"]==True]"
   ]
  },
  {
   "cell_type": "code",
   "execution_count": 10,
   "metadata": {},
   "outputs": [
    {
     "name": "stdout",
     "output_type": "stream",
     "text": [
      "set()\n"
     ]
    }
   ],
   "source": [
    "# Information about Baltimore classification of virus family groups\n",
    "viral_family_groups = pd.read_csv(gitdir + \"/data/virus_family_groups.csv\", header=0)\n",
    "viral_family_groups = viral_family_groups.loc[:, ~viral_family_groups.columns.str.startswith('Unnamed')]\n",
    "viral_family_groups = viral_family_groups.append(\n",
    "    {\"family\":\"Chuviridae\",\n",
    "    \"baltimore_group\":\"V\",\n",
    "    \"genome_description\":\"\",\n",
    "    \"number_of_segments_conventional\":\"\"}\n",
    "    , ignore_index = True)\n",
    "\n",
    "# Convert virus json into data frame\n",
    "with open (gitdir +\"/data/darkmatter/virus.json\", \"r\") as f:\n",
    "    viral_json = pd.DataFrame(json.load(f)).T\n",
    "    viral_json['poly_group'] = viral_json.index\n",
    "\n",
    "# Check which viral families not represented\n",
    "print(set(viral_json.family.unique()) - set (viral_family_groups.family.unique())) #should be empty\n",
    "\n",
    "# Merge viral info with contig stats\n",
    "viral_info = viral_json.merge(viral_family_groups,on='family')\n",
    "viral_info.provisional_name.fillna(viral_info.name, inplace=True)\n",
    "viral_info.rename(columns={'provisional_name':'sci_name'},inplace=True)\n",
    "contigs_viral = contig_stats_viral.merge(viral_info[['poly_group','family','baltimore_group',\n",
    "                                                     'genome_description','number_of_segments_conventional',\n",
    "                                                     'sci_name']].\n",
    "                                              astype({'poly_group': 'float64'}),\n",
    "                                              on='poly_group', how = 'left')\n",
    "contigs_viral = contigs_viral.assign(group=\"Virus\")"
   ]
  },
  {
   "cell_type": "markdown",
   "metadata": {},
   "source": [
    "# Non-viral contigs"
   ]
  },
  {
   "cell_type": "code",
   "execution_count": 11,
   "metadata": {},
   "outputs": [],
   "source": [
    "def get_rows_taxid(df, taxid, taxid_colname=\"taxid\"):\n",
    "    if (not isinstance(df, pd.DataFrame)):\n",
    "        if isinstance(taxid, str):\n",
    "            taxid = ncbi.get_name_translator([taxid])[taxid][0]\n",
    "        return (taxid in ncbi.get_lineage(df))\n",
    "    outdf = df[df[taxid_colname].apply(get_rows_taxid, taxid=taxid)]\n",
    "    return (outdf) \n",
    "\n",
    "def group_at_higher_tax(df, taxonomic_group, family_name, taxid_colname=\"taxid\", family_colname=\"family\"):\n",
    "    groups = {}\n",
    "    for x in taxonomic_group:\n",
    "        if isinstance(x, str):\n",
    "            groups[x] = ncbi.get_name_translator([x])[x][0]\n",
    "        else:\n",
    "            groups[ncbi.get_taxid_translator(x)[x]] = x\n",
    "    family_assignments = {}\n",
    "    for x in df[\"taxid\"].unique():\n",
    "        lin = ncbi.get_lineage(x)\n",
    "        family_assignments[x] = family_name\n",
    "        for key, taxid_x in groups.items():\n",
    "            if taxid_x in lin:\n",
    "                family_assignments[x] = key\n",
    "                break\n",
    "    df[family_colname] = df[\"taxid\"].apply(lambda x: family_assignments[x])\n",
    "    return (df)\n",
    "\n",
    "def get_summary_table (df, colnames, metric):\n",
    "    df = df.groupby(colnames)[metric].sum().reset_index()\n",
    "    if not isinstance(metric, list):\n",
    "        metric = [metric]\n",
    "    sort_order = colnames+metric\n",
    "    sort_order.remove(\"sample\")\n",
    "    return (df.sort_values(by=sort_order, ascending=False))"
   ]
  },
  {
   "cell_type": "code",
   "execution_count": 12,
   "metadata": {},
   "outputs": [],
   "source": [
    "# Subset to contigs that are not viral, and are strong NCBI hits based on identity/qcov threshold\n",
    "contig_stats_nonviral = contig_stats[ (contig_stats[\"taxon_group\"]!=\"Viruses\") &\n",
    "                                    (contig_stats[\"identity_qcov\"]>=identity_qcov_threshold) ]"
   ]
  },
  {
   "cell_type": "code",
   "execution_count": 13,
   "metadata": {},
   "outputs": [
    {
     "name": "stderr",
     "output_type": "stream",
     "text": [
      "/usr/local/lib/python3.7/site-packages/ipykernel_launcher.py:24: SettingWithCopyWarning: \n",
      "A value is trying to be set on a copy of a slice from a DataFrame.\n",
      "Try using .loc[row_indexer,col_indexer] = value instead\n",
      "\n",
      "See the caveats in the documentation: http://pandas.pydata.org/pandas-docs/stable/indexing.html#indexing-view-versus-copy\n"
     ]
    }
   ],
   "source": [
    "## WOLBACHIA\n",
    "wolbachia_taxid = 952\n",
    "wolbachia_contigs = get_rows_taxid(contig_stats_nonviral, wolbachia_taxid);\n",
    "## METAZOANS\n",
    "metazoan_contigs = contig_stats_nonviral[contig_stats_nonviral[\"taxon_group\"]==\"Metazoa\"];\n",
    "# In the 'family' column, add information about the higher taxonomic grouping for taxids\n",
    "metazoan_contigs = group_at_higher_tax(metazoan_contigs, \n",
    "                                       taxonomic_group=[\"Nematoda\"], \n",
    "                                       family_name=\"Other metazoa\", taxid_colname=\"taxid\", family_colname=\"family\")\n",
    "## CHORDATA\n",
    "chordate_contigs = get_rows_taxid(contig_stats_nonviral, taxid=\"Chordata\");\n",
    "# In the 'family' column, add information about the higher taxonomic grouping for taxids\n",
    "chordate_contigs = group_at_higher_tax(chordate_contigs, \n",
    "                                       taxonomic_group=[\"Pecora\", \"Aves\", \"Carnivora\", \"Rodentia\", \"Leporidae\"], \n",
    "                                       family_name=\"Other chordates\", taxid_colname=\"taxid\", family_colname=\"family\")\n",
    "## OTHER EUKARYOTES\n",
    "eukaryotic_contigs = contig_stats_nonviral[contig_stats_nonviral[\"taxon_group\"]==\"Eukaryota\"];\n",
    "# In the 'family' column, add information about the higher taxonomic grouping for taxids\n",
    "eukaryotic_contigs = group_at_higher_tax(eukaryotic_contigs, \n",
    "                                         taxonomic_group=[\"Trypanosomatidae\", \"Apicomplexa\", \"Microsporidia\"], \n",
    "                                         family_name=\"Other eukaryotes\", taxid_colname=\"taxid\", family_colname=\"family\")"
   ]
  },
  {
   "cell_type": "code",
   "execution_count": 14,
   "metadata": {},
   "outputs": [],
   "source": [
    "# Combine nonviral\n",
    "contigs_nonviral = pd.concat([wolbachia_contigs.assign(group=\"Wolbachia\").assign(family=\"Wolbachia\"), \n",
    "                            metazoan_contigs.assign(group=\"Metazoa\"),\n",
    "                            chordate_contigs.assign(group=\"Chordates\"),\n",
    "                            eukaryotic_contigs.assign(group=\"Other Eukaryotes\")], sort=False)\n",
    "# Convert taxids to human_readable\n",
    "contigs_nonviral = contigs_nonviral.assign(sci_name=contigs_nonviral[\"taxid\"].\n",
    "                                           apply(lambda x: ncbi.get_taxid_translator([x])[x]))\n",
    "contigs_nonviral.loc[contigs_nonviral['group']=='Wolbachia', ['sci_name']] = 'Wolbachieae'"
   ]
  },
  {
   "cell_type": "markdown",
   "metadata": {},
   "source": [
    "# Merging nonviral and viral"
   ]
  },
  {
   "cell_type": "code",
   "execution_count": 15,
   "metadata": {},
   "outputs": [
    {
     "name": "stdout",
     "output_type": "stream",
     "text": [
      "group\n",
      "Chordates            617\n",
      "Metazoa              657\n",
      "Other Eukaryotes     553\n",
      "Virus               1223\n",
      "Wolbachia           1137\n",
      "Name: group, dtype: int64\n"
     ]
    }
   ],
   "source": [
    "contigs_out = pd.concat([contigs_nonviral, contigs_viral], sort=False)\n",
    "# Count total number of contigs in each broad group\n",
    "numbers = contigs_out.groupby(\"group\")[\"group\"].count()\n",
    "print(numbers)"
   ]
  },
  {
   "cell_type": "code",
   "execution_count": 16,
   "metadata": {},
   "outputs": [
    {
     "data": {
      "text/plain": [
       "True"
      ]
     },
     "execution_count": 16,
     "metadata": {},
     "output_type": "execute_result"
    }
   ],
   "source": [
    "# Summary table to combine reads to all contigs from the same sample-taxon pair\n",
    "summary_nonviral = get_summary_table(contigs_out[contigs_out[\"group\"]!=\"Virus\"], \n",
    "                            colnames=[\"ska_genus\",\"ska_species\",\"collected_by\",\"sample\",\"taxid\",\"group\",\"family\",\"sci_name\"],\n",
    "                                     metric=[\"read_count\", \"read_prop\"])\n",
    "summary_viral = get_summary_table(contigs_out[contigs_out[\"group\"]==\"Virus\"], \n",
    "                            colnames=[\"ska_genus\",\"ska_species\",\"collected_by\",\"sample\",\"taxid\",\"group\",\"family\",\"sci_name\",\n",
    "                                      \"poly_group\",\"baltimore_group\",\"genome_description\",\"number_of_segments_conventional\"],\n",
    "                            metric=[\"read_count\", \"read_prop\"])\n",
    "contigs_out_summary = pd.concat([summary_nonviral, summary_viral], sort=False, ignore_index = True)\n",
    "# Rename column for consistency\n",
    "contigs_out_summary.rename(columns={\"read_count\":\"reads\"}, inplace = True)\n",
    "# Check all reads are accounted for in the summarizing\n",
    "contigs_out['read_count'].sum() == contigs_out_summary['reads'].sum() #Shld be True"
   ]
  },
  {
   "cell_type": "code",
   "execution_count": 17,
   "metadata": {},
   "outputs": [],
   "source": [
    "# Write to file\n",
    "contigs_out_summary.to_csv(gitdir + \"/figures/fig3/all_contigs_df_new.tsv\", sep=\"\\t\", index=False)"
   ]
  },
  {
   "cell_type": "code",
   "execution_count": 18,
   "metadata": {},
   "outputs": [
    {
     "name": "stdout",
     "output_type": "stream",
     "text": [
      "Apicomplexa: 9 contigs\n",
      "Trypanosomatidae: 71 contigs\n"
     ]
    }
   ],
   "source": [
    "# Write contig names to file for eukaryotes-in-bloodmeals analysis\n",
    "category_names = ['Apicomplexa','Trypanosomatidae']\n",
    "for catname in category_names:\n",
    "    df = contigs_out[(contigs_out['family']==catname) & (contigs_out['sample'].str.contains('CMS001'))]\n",
    "    out = df['sample'] + \"~\" + df['contig_name']\n",
    "    filename = \"contig_names_CMS001_\" + catname + \".txt\"\n",
    "    print(catname + \": \" + str(len(out)) + \" contigs\")\n",
    "    out.to_csv(gitdir + \"/figures/fig4/\" + filename, sep=\"\\n\", index=False)"
   ]
  },
  {
   "cell_type": "markdown",
   "metadata": {},
   "source": [
    "# Comparing old vs. new"
   ]
  },
  {
   "cell_type": "code",
   "execution_count": 19,
   "metadata": {},
   "outputs": [],
   "source": [
    "def whatsin(df):\n",
    "    return [{x:df[x].unique()} for x in df.columns.tolist()]\n",
    "\n",
    "def get_desc_contigs(contig_df, txid):\n",
    "    taxa = ncbi.get_descendant_taxa(txid, intermediate_nodes=True)\n",
    "    taxa.append(txid)\n",
    "    df = contig_df[contig_df[\"taxid\"].apply(lambda x: x in taxa)]\n",
    "    return df"
   ]
  },
  {
   "cell_type": "code",
   "execution_count": 20,
   "metadata": {},
   "outputs": [
    {
     "name": "stdout",
     "output_type": "stream",
     "text": [
      "For column: baltimore_group\n",
      "old df uniquely contains: set()\n",
      "new df uniquely contains: set()\n",
      "------\n",
      "For column: collected_by\n",
      "old df uniquely contains: set()\n",
      "new df uniquely contains: set()\n",
      "------\n",
      "For column: family\n",
      "old df uniquely contains: {nan, 'Onchocercidae'}\n",
      "new df uniquely contains: {'Nematoda', 'Wolbachia'}\n",
      "------\n",
      "For column: genome_description\n",
      "old df uniquely contains: set()\n",
      "new df uniquely contains: {''}\n",
      "------\n",
      "For column: group\n",
      "old df uniquely contains: set()\n",
      "new df uniquely contains: set()\n",
      "------\n",
      "For column: number_of_segments_conventional\n",
      "old df uniquely contains: set()\n",
      "new df uniquely contains: {''}\n",
      "------\n",
      "For column: poly_group\n",
      "old df uniquely contains: {nan}\n",
      "new df uniquely contains: {nan, 5308.0}\n",
      "------\n",
      "For column: read_prop\n",
      "old df uniquely contains: {0.08364174685418213, 0.12414373553409863, 4.277708859135047e-05, 0.25007581731060835, 0.00017110835436540188, 5.347136073918809e-05, 0.0004919365188005304, 8.555417718270094e-05, 0.02230070635721493, 0.011533125216788068, 0.0012027491408934706, 0.00010166680043877253, 0.0004445761707172496, 0.0001794956173153439, 0.056239392585975885, 0.03814304219096965, 0.019263844951092686, 0.0017217778158018573, 5.8055152394775034e-05, 0.00017465723517596715, 0.0007509287803335704, 0.014662756598240468, 7.733503470409682e-05, 0.0034364261168384888, 0.00019673179308733665, 6.646694161284466e-05, 0.01027175490699596, 7.922674694977025e-06, 6.133840397472858e-05, 0.010826443216788405, 0.025058731401722788, 0.005849766864867177, 3.4780747518527427e-05, 0.007113218731475994, 0.014098821403775856, 8.178453863297144e-05, 4.6988569694789096e-05, 0.2456970865842605, 0.03577332666948599, 1.9178673315273414e-05, 4.7809526845049326e-05, 0.0001022306732912143, 1.6313568538739292e-05, 0.0033749494702739803, 0.0011716294221866606, 0.00885532321736985, 9.269215082866783e-05, 1.330424139215582e-05, 8.82716412640499e-05, 5.9572744278037914e-05, 0.00021286889211417516, 0.010577885011475312, 0.00012267680794945715, 0.00014492585593210513, 0.0011682242990654205, 0.005056435118551625, 0.039002989962269516, 0.0007176197106213849, 0.06296830856160178, 0.12121038946195388, 6.606874452868209e-05, 0.013891859520041063, 8.572653236176597e-05, 4.0579239660989444e-05, 0.0010158069471284874, 0.054027179317202516, 0.013140354900667945, 0.00016356907726594288, 0.0007997729676736926, 0.000946521533364884, 0.1445927446954141, 0.19250829777145567, 0.07518694691469557, 0.17799249015477608, 0.1975541334268432, 0.031994858163754414, 0.07096447781860787, 0.0016793211255024564, 0.017602771955340712, 0.00269752358490566, 0.0013747232031873825, 7.420048972323217e-05, 0.001955034213098729, 0.0006110709902885165, 0.0002044613465824286, 0.003617430578788893, 0.012175724420663126, 0.008663572593718595, 8.995232526760817e-05, 0.0005023259877257736, 0.11875206140745405, 3.9496550634577915e-05, 8.806369940923936e-05, 0.00035061747633332034, 0.0008250825082508251, 4.422169811320754e-05, 0.0011286127876735856, 0.0015516776108662408, 1.815620143216117e-05, 0.0004344048653344917, 3.8064993257058335e-05, 3.524850193866761e-05, 0.0006054490413723513, 0.018626376794879187, 0.001419782300047326, 0.00998789124133123, 0.0022245037645448325, 0.14533938752870154, 0.19144654088050314, 0.005978910751168604, 0.00014223486532136188, 0.004615509739335529, 4.976609933313427e-05, 0.00043158037108534473, 0.0001882411997239129, 0.023475221422435497, 0.005978910751168606, 1.516748697492056e-05, 1.6146220169858234e-05, 0.001656412683388547, 0.00017145306472353194, 0.0376065145684442, 0.015381116729539556, 0.004279279279279279, 0.002289811706320245, 5.924482595186687e-05, 2.9157494204948028e-05, 0.0412402693956092, 0.00032713815453188575, 0.0004894070561621786, 4.898172437439453e-05, 0.00013121981944152846, 5.437856179579762e-05, 0.02463198394111743, 0.06653631946913141, 0.050313234142521535, 0.1149387745406606, 3.8641742742597696e-05, 0.03216837062069555, 0.02802275960170697, 1.7214031895141955e-05, 0.02745392198885555, 0.030619024235246543, 0.01110908094281016, 7.836097338576395e-05, 0.005647263249348393, 0.00017300372919149592, 3.716090672612412e-05, 0.0017948567057023484, 0.00035317860746720485, 0.005969759030894592, 0.0004274764150943397, 0.01605247641509434, 0.0038576161445017625, 5.981641797537738e-05, 0.00047357148238636983, 0.009280447495550471, 0.007892485581035958, 4.553734061930783e-05, 0.12321630031861742, 0.0096988810645008, 0.01750655539139347, 0.016150576806314508, 0.03898275762643446, 0.00040079951695850413, 0.000634347007035485, 0.00017044486108743818, 0.01923253045150655, 0.18241939688885025, 0.06266456970606807, 0.14062380071869654, 0.04117039586919105, 1.0750222171258206e-05, 0.0003707686033146713, 0.027041743936584126, 0.008272610372910416, 0.04382882600238439, 0.05501822475486421, 0.008686814611581863, 7.112375533428167e-05, 0.016782942977148146, 0.002258894396686955, 0.0016031445781516213, 0.00010470577676728394, 0.0035009890204397557, 0.03736367946894263, 0.00019445358542495588, 0.0017971334768499996, 0.019916306755879788, 7.049700387733522e-05, 0.01258382316416922, 5.8436246055553395e-05, 3.123113119157176e-05, 0.0004993644452514982, 0.005437162458035323, 0.004113345521023766, 0.0015995734470807786, 7.229612492770387e-05, 0.0016204252628250733, 0.0008884507222479114, 0.009753049011438529, 8.156784269369644e-05, 0.3126072352045625, 0.0420781451266638, 0.1421597798192435, 0.12128564155953753, 0.3030602171767029, 0.23148625429553266, 0.08458727429062768, 0.06708128685327902, 0.005105279134586196, 0.2263681094487559, 0.00012034273611244824, 3.04989630352568e-05, 1.8159879579820745e-05, 4.6455928808869986e-05, 0.0003710533417288837, 7.398711637680157e-05, 0.004075964738688495, 0.003583547222343063, 0.0007399963456970584, 0.03280650465923625, 0.11307273768613975, 0.043067602749022174, 0.04812501365016271, 0.00970752955818295, 0.11082270795385547, 0.0010304725452671868, 1.4333629561677605e-05, 0.02031701005275207, 9.244355505285595e-05, 0.0029151071139256967, 0.00010762988236053858, 0.00949766268457372, 0.005877686824506704, 0.0002884031572556163, 0.14198079658605975, 0.04604691572545613, 0.050435808970401314, 0.03927074782909232, 0.04194053757402491, 0.23062589340412495, 0.03987287332526643, 0.020702571099874254, 4.157218442932729e-05, 4.3680520671806406e-05, 0.005689814407599613, 4.383273428596476e-05, 0.003084181934269049, 0.03347906389544806, 0.058016426402019074, 0.00014596409283316303, 0.005345412624526907, 7.403111774649278e-05, 4.397924179787141e-05, 9.207927708242048e-05, 0.046672842931769085, 0.0569558564336685, 0.02906797433999507, 0.07897590896968619, 0.0879282427134822, 8.011186529553995e-05, 4.798506355839782e-05, 8.026326350429407e-06, 0.0061070735512347325, 7.791499474073786e-05, 3.0002400192015362e-05, 0.03037904124860646, 0.01587642795725341, 0.0004115894308471786, 0.009341349263726649, 0.2147034754982189, 7.308626427993164e-05, 0.09376110052636677, 0.04394909493320687, 0.06447576677931299, 0.09341332205910224, 0.0014183305479813528, 4.770117051333798e-05, 0.07850841110890472, 6.809515162520429e-05, 0.003475842891901286, 7.377442240775125e-05, 0.008422631804543506, 0.00019881434355118567, 5.446860429648351e-05, 0.0005207185916564858, 0.00011419497977117502, 1.6407249816785707e-05, 0.06537408563973136, 0.06964383719922586, 0.038645504946189804, 0.03010654091345734, 0.00011688729142923935, 3.715648826598101e-05, 0.0022033092841404933, 0.006004036326942482, 0.0008500303582270795, 0.00032748231595493835, 0.0005252509532332113, 0.00578819701657298, 0.012314240634058636, 8.767078944173939e-05, 0.0006899356544221244, 0.00021282060690566172, 4.81370944449793e-05, 0.00021985422278561245, 9.107468123861566e-05, 3.828358290583332e-05, 0.0007109401137504182, 0.08018935192520996, 0.17964096749811034, 0.09640390592985718, 5.891988074616136e-05, 4.305195294421543e-05, 0.0007973992516714715, 0.04938866982496951, 0.004171312137172735, 0.00041707661376566714, 0.0012484228700444914, 0.00017902298207532393, 0.0004840825334693623, 0.04918989928477595, 0.03744875698223575, 0.07847317489155019, 0.00017937467229627176, 0.00045216867050816795, 0.002296122391063182, 0.005916798828839821, 0.004422169811320755, 1.272680993418421e-05, 0.005228027196392751, 2.1787441718593404e-05, 3.356267830172848e-05, 5.3497782273753024e-05, 0.005427621258706155, 0.004379698745217648, 4.369738107029452e-05, 0.22219442835325715, 0.2874858561156331, 0.15698917590809486, 0.038052883647925306, 0.0004540867810292634, 2.1500444342516406e-05, 2.3567952298464552e-05, 1.0701768467239212e-05, 0.02224507180982044, 0.007174692901402327, 0.01775013619030325, 0.0019432512200111046, 8.105724586932275e-06, 0.0002371354043158644, 0.051624198199258516, 0.048090397885512566, 0.05338354775417759, 3.732457449985071e-05, 0.00014138426066907382, 0.018682179214677252, 3.435953820780649e-05, 0.003896611102235004, 0.005823943968329926, 0.0004397038381889876, 6.698970591519103e-05, 0.017616580310880828, 0.00010713311776851456, 0.0001422475106685633, 5.816371340411858e-06, 0.011758949775705869, 0.02212389380530973, 0.01761658031088083, 0.0024931765693890404, 0.0002712119665101082, 0.03478147955776508, 0.05118516574827255, 0.0322401614530777, 0.018395250517225868, 6.939304219096965e-05, 0.010810705520277377, 0.002801940448310472, 1.3759006416283325e-05, 0.0002991593621922398, 0.00344149459193707, 0.0039636291670331605, 0.0027941441036250787, 0.05994272095491779, 0.0653331883900424, 0.0004786549795075837, 0.00015225997302823334, 0.0024333580340870397, 0.006232697456998925, 0.01637127275925763, 0.02215705441511893, 0.1050349482285554, 0.11297786004128994, 2.2293892959588605e-05, 0.00015769782920781308, 0.000187434028154564, 0.00020181634712411703, 0.02129673450070989, 0.0018384131591678763, 2.5083851732935808e-05, 3.025581289805304e-05, 0.007527122524136558, 0.0004947664702260533, 0.004176664000710922, 0.0013660719245706088, 0.007156218732326967, 0.07903632290583251, 0.735904607684381, 0.02276529075184397, 0.0918832015295038, 0.12049594415847265, 0.6052424624081268, 0.09543585033741964, 0.0009409712659506104, 0.0011072306014300352, 5.7667909730498644e-05, 1.672954186149612e-05, 0.001822215179844716, 0.0010841258057293693, 0.0020102915460252844, 0.0014790968808456953, 0.0031724347298117787, 3.994364315075457e-05, 0.033201527133896916, 0.04432343340981805, 0.09967377614436436, 0.04868952538327366, 0.002072538860103627, 1.0410377063857253e-05, 2.6975627520535197e-05, 4.863434752159365e-06, 0.025446062124681385, 0.0830320994794679, 1.3377210584049014e-05, 0.00016306120230459833, 0.04015240406947864, 3.3023887278464756e-05, 0.0008782201405152225, 0.056825596288151564, 0.20558297048863086, 0.08169363166953528, 0.2271060979908354, 3.2082816443512856e-05, 0.0399313009875483, 0.0007700205338809035, 0.0003572784315476855, 0.0020947176684881605, 0.0010061796862620822, 0.00017980006233068828, 0.033654962462268775, 0.0006991833538427117, 4.607930907367423e-05, 3.984328308652633e-05, 0.0030702456196495718, 5.917178948460561e-05, 0.046291096038363504, 0.0040654717714851355, 8.889679082585119e-05, 0.00019032496628529168, 0.40887269609944304, 0.007207921597332356, 0.2714762241280532, 0.13984397572955792, 0.2131630884759796, 0.0003319108582266477, 8.91755718383544e-05, 0.012697953874424465, 0.0005615843284937979, 0.00013524609959909189, 8.293870562110389e-05, 8.766546857192952e-05, 4.4584514126324655e-05, 0.015109693512441472, 0.09291510700917223, 0.0004643843038105311, 0.0004756924775226227, 0.0013615115804123867, 8.0393032603841e-05, 0.009749501850270424, 0.00014831746918050236, 0.005680659539138288, 0.011755247878517195, 0.0017499204581609927, 0.0011350235849056606, 0.019953235393635773, 0.009646440351841671, 0.012554839019010859, 0.07417281317574573, 0.22161447433507095, 0.2143912099715801, 1.3687630032485307e-05, 0.007469425206858091, 2.1528293559810986e-05, 0.013191534423551124, 5.636158685138722e-05, 1.6144482354080787e-05, 0.12286044638985814, 0.003450322772130296, 0.03593935843496475, 6.713361827824647e-05, 0.010280436344177956, 0.012953545904343043, 2.267573696145125e-05, 0.001264942808818049, 5.809654589627126e-05, 0.005082883047898159, 0.008329053435455416, 0.007507559098405717, 0.04483230663928816, 0.03816435730543465, 0.0008835467842396248, 0.008808401200171453, 0.2178550717484916, 0.14608762781483964, 0.00015068183530475403, 0.00011957470187118249, 0.08087608658598944, 0.2881384105394136, 0.0013358287853244563, 0.08162452503202333, 0.5757370283018868, 0.0163006058936932, 0.13192191520304286, 9.836589654366831e-06, 0.00031500572737686136, 0.0006258913009031849, 0.0005946991887237933, 0.0003722794959908362, 0.0001346217129865079, 0.0072636502653593595, 3.866751735204841e-05, 0.0007609522774214588, 0.032127099477216266, 0.02229809430021535, 0.002720504009163801, 0.04164263883282394, 0.05373930886168355, 1.3955273348916721e-05, 0.00063565145684442, 0.000819672131147541, 0.0001278756655067688, 0.0001672220241242361, 1.6517186132170526e-05, 0.00025953802232026995, 0.013331913156166232, 0.0005644465103924563, 3.6362314097669175e-06, 0.0005470825983073934, 0.04832433829945383, 9.589336657636709e-06, 0.000108937208592967, 7.300069350658831e-05, 0.0006809515162520428, 8.073110084929117e-05, 0.01111694218490335, 2.541868200502564e-05, 0.0001560572507171202, 3.2814499633571415e-05, 0.012907837768576092, 0.005899721264336157, 0.00016971862438588654, 0.0048942711928217355, 9.660435685649424e-06, 9.200760596209288e-05, 0.0012115954168785714, 0.0008286377195889957, 0.024682270965209283, 9.829070074077626e-05, 0.006827273535425371, 0.0018031489137127273, 0.04584952504317789, 4.955155839651157e-05, 4.403184970461967e-05, 2.913158738019635e-05, 0.00016022110512507257, 0.003278765595414105, 0.02583846680355921, 0.11535642002262984, 0.0711746497052164, 0.07513864607817715, 0.01271687917290043, 4.4659803943460686e-05, 0.00017774617845716317, 9.62741888899586e-05, 0.0003740873558473724, 0.043680252655093066, 0.4705676107366857, 0.1907732671086096, 0.05735146152060061, 0.036590729175829007, 7.677189534455227e-05, 5.312437744870177e-05, 0.0003356080098445016, 0.0012144196352479974, 0.024068921983494262, 0.001641681427398799, 0.0012173771898296832, 0.00027183004349280694, 0.05757918111340528, 0.07097888720130781, 0.09246541256096348, 0.02237434803224277, 0.018163471241170532, 3.5561877667140835e-05, 0.00028227194492254733, 0.00023513054856979287, 0.00735105015002143, 1.549695639776348e-05, 0.0031365005018400803, 1.182599234858295e-05, 0.007514680999303273, 0.036900923274118286, 0.007095244639912041, 0.0028820637751772737, 0.012406338287679649, 0.0025394691903445087, 0.014710300214295731, 0.00011130073458484824, 0.003457387696638925, 0.3147904388667843, 0.035112732896740086, 0.004660620167482678, 0.0011867598875158019, 4.357471082237363e-05, 0.0007944434356273834, 0.009961366563139156, 0.025129329138237826, 0.004296259274922148, 0.0035264023387538827, 0.08448223733938019, 0.07117686542118805, 0.015631444361956612, 0.015186915887850469, 0.044359498622099744, 2.607108716433475e-05, 0.005717899602323596, 0.00325514977062157, 0.010962372980401916, 0.006745841543732581, 0.0007207584792313603, 1.780931213312817e-05, 0.00011108562910300146, 0.0012376237623762374, 0.8851110787232713, 0.10830955734284642, 0.32247908608437525, 1.825017337664708e-05, 0.00034223134839151266, 0.00029442072721919626, 0.0002944207272191962, 0.039135893983631605, 5.8443645714619675e-05, 0.023152351552569457, 4.833439669006052e-05, 4.005527628126815e-05, 0.00011876484560570071, 0.00730203888098625, 0.004539041894129915, 0.0010245901639344263, 0.014231886689667697, 0.08629516954811901, 0.09388056185765116, 0.0007330711400058861, 0.00025848901421689577, 0.0011314272500536806, 8.142919876576601e-05, 0.0005810519898649292, 0.0040066382171645345, 0.00011123058099440141, 8.951149103766198e-05, 0.027766665714204074, 6.871907641561298e-05, 6.363404967092105e-06, 1.0893720859296702e-05, 0.0003115490508621939, 0.002065441895858245, 8.267839078670921e-05, 4.653097072329486e-05, 4.3258927977212534e-05, 0.20941786182189195, 0.07710018486143758, 0.16666666666666666, 4.0528622934661384e-06, 0.00016557662058117395, 0.021665730261925784, 0.0035215031414420938, 0.044503495781842574, 0.02602934216753431, 3.3494852957595506e-05, 0.005221615057680632, 0.00597313942272019, 0.021912772491414916, 0.021263141253655842, 9.079353550027238e-05, 0.003119428494141082, 0.0033078636251155226, 0.07085730502309022, 0.046049445167956435, 0.08101077666295058, 0.0010524191223112854, 0.0031360785383146984, 0.00023932748975379184, 0.008569727075980072, 0.0003483626953319399, 0.015030742424545876, 0.00048225582252985733, 0.03225863470852335, 0.0037151268750876213, 0.0005535765861172619, 3.5960012466137654e-05, 0.0048958576505070935, 3.187301789669955e-05, 0.25632912990561224, 0.015667331666805395, 0.25304901561140064, 0.2423447602781505, 0.006245452177718826, 0.00010694272147837618, 0.0003903157709561087, 0.0011983092945226372, 0.020180153279585947, 6.516740646018026e-05, 5.8847760842699926e-05, 0.006086469847488457, 0.018706122811694655, 5.836121702591238e-05, 0.010256859822915751, 5.361546985023412e-05, 0.00011288930207849129, 0.05940728862532714, 0.04464294881667437, 0.0023566572482633533, 0.001426836672738312, 1.632724145813151e-05, 0.004923919136622343, 0.04180709884670072, 2.8110101646127557e-05, 1.992164154326317e-05, 0.0001101436505083999, 0.00991489177863222, 5.513868578141107e-05, 0.0040253665557254655, 0.005901653315152548, 0.0006031609724181643, 4.444839541292559e-05, 0.0010650922107229008, 0.13953054714036536, 0.04730589732711074, 0.0006638217164532954, 0.008153380224723535, 0.0004424410252139332, 2.1126016689553186e-05, 0.00011186933661483389, 6.381458035531957e-06, 7.94361009519363e-05, 0.05619708618781225, 0.05773060340660827, 0.003606653908435154, 0.0013711151736745884, 0.008659134829790397, 0.00020004753604816985, 2.4662372125600532e-05, 0.014617759215543853, 0.0016994940556746966, 0.00019157787184352648, 0.093669903951628, 0.000320833514595206, 0.02069382641379013, 0.00012320961034960727, 0.0001244152483328357, 0.032088667614983406, 0.013296903460837887, 2.2226032399204945e-05, 0.021659589628046257, 0.003494546389725126, 9.52544245680212e-06, 0.013889199026416277, 0.15701311806256313, 0.02838945797297021, 0.2324207846727553, 0.06152440229203715, 0.10732303929062836, 0.0663923350939688, 0.17959515575123386, 4.918294827183416e-06, 0.000705198039063108, 9.298173838658087e-06, 0.0009320074854144496, 8.049261480259187e-05, 0.0009579967956658904, 0.0030498281786941576, 5.942006021232768e-06, 0.09499004136663093, 0.04811718127427046, 0.0005268578672159721, 0.00016301872317982404, 2.2488081316902046e-05, 0.00019872349379281319, 0.002092195735345266, 0.0002413794106270921, 0.0020027271177773987, 0.012919233401779605, 3.555871633034048e-05, 0.0003711466247489302, 0.011427189163038221, 0.0004584752423369138, 0.00012183585127425966, 4.286081664142641e-05, 0.0005792064871126556, 0.0008457455236887974, 0.022544301520194297, 0.0115055850349968, 0.009751676239980779, 0.00155440414507772, 1.998940561502404e-05, 5.912996174291475e-06, 0.0007570172204960767, 0.062101554306454074, 0.04511389555377825, 0.05150499389508649, 0.05048210930563872, 3.16227532033849e-05, 0.0007204610951008645, 0.00032342757124919144, 0.0010589534514318564, 0.005595554008787576, 0.0003123113119157176, 0.039435456110154914, 0.034664371772805506, 3.649102320829076e-05, 0.01951794603091433, 0.00021363677251056941, 0.0003812802300753845, 0.0007730896096756459, 0.16558738807136636, 0.05149795650270034, 0.0002977617034874432, 2.9725190612784804e-05, 3.4761449552446336e-05, 0.024785302750298947, 0.011604439959636729, 0.0020332642023504536, 0.004492988215360877, 0.003576737272389447, 2.37459750572278e-05, 5.507745266781412e-05, 0.015167764669833004, 0.0014609514623698616, 0.002094696071456802, 0.002451050655046871, 0.00020904215443169367, 0.0057308979995472475, 0.000946019551070722, 1.6866060987676532e-05, 0.07769315808868689, 0.08266646907725746, 0.07680599226933167, 0.012783868878815623, 0.00014441128333493792, 7.478984054805995e-05, 0.001277592619427136, 1.623253649615289e-05, 0.00017418134766596994, 0.00017871806018451432, 0.006604738367138231, 0.0002542854578634038, 0.0029767911200807265, 5.187663735636656e-05, 0.0021328203412512552, 0.0003177773742509533, 0.00638881656686227, 9.876088015696395e-06, 0.1345133931568466, 0.042741389477362585, 0.041610709489384806, 0.14717926689576175, 0.02734127212963497, 0.08456816729337277, 5.727376861397479e-05, 0.00012617039644066672, 0.0754929502100222, 0.0441287154367219, 0.0006323610781756383, 0.0031647257534003024, 0.06535965991721669, 0.016965895339935297, 0.003092614216902642, 7.009673349221926e-05, 0.0005252180412397167, 8.07105759103144e-06, 0.00014830744132586854, 0.04935614808594024, 0.021338950453338217, 0.047387558295786884, 1.4524961145728934e-05, 0.0028132861029826987, 0.0018897746014293567, 0.0007215912656083327, 0.012004990446610074, 0.00017273927474181647, 0.000901356574066869, 0.1830835839818724, 0.5052762213337693, 0.07473794702083303, 0.1389303888185286, 0.2678830002896032, 0.19570582428430405, 0.7017027930784464, 0.14645736479726945, 0.08453599230298259, 0.09665190756353492, 0.0006394306659175429, 6.14786853397927e-05, 0.0001116495098586517, 2.2725780630564662e-05, 4.847623048831723e-05, 0.018143853915389203, 0.00013941846289523512, 2.318813694913682e-05, 5.422209369577791e-05, 1.2267003600365555e-05, 0.05821205821205834, 0.059991828581804976, 0.029416294470968732, 0.04838686163311125, 0.019744444178073986, 4.545289262208647e-06, 8.136358995303247e-05, 1.1986670822045885e-05, 6.421061080343527e-05, 0.00021012241914854745, 0.00012082839950702012, 0.00016587741124220778, 0.0010324059129231046, 0.0023184850569898585, 0.011417287089159256, 0.02461139896373057, 0.0006718836455616156, 0.00012016582884380445, 0.19824305101687748, 0.07378355318739596, 2.7538726333907055e-05, 0.002651640702684786, 0.01199240207402844, 0.0028960324355632784, 0.03999683819460912, 0.012038523274478331, 7.589460768812375e-05, 0.00910867827878718, 0.0004293805956513795, 0.004431566388273394, 0.00013012971329821567, 8.05518337624956e-06, 0.013804325005248792, 2.6830871600863954e-05, 0.00015888868712547668, 0.007306065212524009, 0.07014451885794852, 0.04509544138574022, 0.024453551912568303, 0.11290862784774795, 1.1817752081742482e-05, 0.0031227536795465525, 3.24228983477291e-06, 0.0004312692936262938, 0.047633607792604886, 0.025593175153292454, 0.0019237203077952488, 0.00019317272401136963, 0.16491882924517126, 0.03460605553696888, 0.1523877236639412, 0.16654522074582084, 0.07038710171401069, 0.16617512965179232, 4.057593232426318e-05, 2.0123153700647967e-05, 0.00841965095862646, 0.00011853959222380276, 6.450133302754923e-05, 6.727922801891507e-05, 2.1371174559753807e-05, 0.03048270957418437, 0.03983946750195772, 0.03432526736830161, 0.028234086242299793, 0.008780346416399309, 0.01231736816642477, 0.016668531155610247, 0.0034413756706834376, 0.0013476819869823902, 0.009743514150943395, 3.794730384406188e-05, 1.6158743496105746e-05, 0.010362694300518135, 0.0058696277022222895, 0.0001011963659260592, 0.0001546179219351292, 0.00027253357118081357, 0.0012221962645550784, 0.010000513373376456, 0.0661383405821345, 0.2142188503445048, 0.1344168499229665, 0.14348925410872312, 0.012803753249960055, 0.08719525162886918, 0.0012055924453120176, 0.22993214934559345, 3.945979540096085e-05, 0.0032105182693777713, 0.05448263797778361, 0.015623518255097203, 3.805030249990488e-05, 6.743906880133799e-05, 0.0051813471502590676, 0.030142808353466482, 2.5685245661028147e-05, 0.10525426851738116, 0.07062701947428172, 0.0002009691177455731, 1.7675964223848412e-05, 0.003052049822651159, 5.1539307311709726e-05, 0.002300215181420197, 9.296766053522808e-05, 0.0025906735751295338, 0.03563142194232682, 0.021647842455835502, 0.0023141236189907427, 2.540117988480565e-05, 1.2700589942402824e-05, 0.0013382402141184342}\n",
      "new df uniquely contains: {0.23469120616260764, 0.039473248850213416, 0.7206435999811065, 0.6260774904469919, 0.16721220455411157, 0.4963603220782984, 0.2958961845607808, 0.19393279496718385, 0.015391885505974482, 0.1034130164432776, 0.00013956247165137294, 0.018295223884609697, 0.0034538662155494467, 0.00017059206107195786, 0.00017026710652335854, 4.662121695721248e-05, 0.0006703326667878567, 0.0377580998882774, 8.844600371473216e-05, 0.0043130901167663, 0.007919636530365554, 0.021127317285268194, 0.00012533055935028638, 0.015651702721854028, 0.02373791735258115, 0.0002830169608021509, 3.425556938465579e-05, 7.243140142689861e-05, 0.44954320889422555, 0.00327733555011991, 0.010590602457921454, 0.00044569705708854954, 0.0003456619426201175, 0.19255100131012529, 0.0013351396988081914, 0.11355061053507234, 0.11436798302665976, 0.00504453735684421, 0.0001374075284470721, 0.0003824541790473949, 3.8346498964644526e-05, 0.028180724209605077, 0.05837589616231667, 0.06561254138793163, 0.009855036482255417, 0.0002613161243410289, 0.001709956071818155, 0.006201025987936185, 0.0007892214893736964, 0.8916248279478273, 2.728204568573422e-05, 5.172978658589157e-05, 0.00015353491564611105, 0.07215751996729129, 0.0001657834749400515, 1.8304625578883783e-05, 0.00016237531895151936, 0.0018683828108781398, 6.710637318812792e-05, 0.007172937202091721, 0.001557632398753894, 0.04219290567296069, 0.0005677264226556239, 0.0591706298281372, 0.2378129504868936, 0.00902101836806596, 0.013587351248673109, 0.002491759316162914, 0.3200872681938601, 3.861264757271244e-05, 8.881257586074188e-05, 0.00259086692753036, 0.0015882627383634938, 0.006178571428571428, 0.006067761887261609, 6.993496048674732e-05, 0.00012394184648562893, 0.008138428880084156, 0.027979609254261528, 0.002140231703345275, 0.1449640452525993, 0.0030271466701386612, 0.00022347557731190805, 0.0017530505386017115, 0.025064836485546207, 0.0012201073694485115, 0.0001568289795353557, 0.1209439192874023, 0.0005226322486820578, 7.38352489478477e-05, 4.692522465451303e-05, 0.032358738501971095, 0.03184834443519876, 0.47967973426868116, 0.00011531542612893802, 0.005307359683622694, 0.006409366467675506, 0.00031958967803288657, 0.0018226002430133657, 0.002555815717442206, 0.09656221528719663, 0.07888493475682087, 2.3240140370447838e-05, 0.00011087480218927338, 2.366341163293316e-05, 8.664810471712282e-05, 0.0001091930632624902, 0.000333555703802535, 0.0006593867703036176, 0.0004996766797954264, 0.034104029130524884, 0.00011361570623522995, 0.0012689480145101446, 0.00014525087731529897, 3.759916780508591e-05, 0.07229516251080358, 0.07321732996296514, 0.0002993339818902941, 8.932830474529821e-06, 0.0003247506379030387, 0.0011268864177918984, 5.6052172387237655e-05, 0.04297971765722252, 3.655576460037238e-05, 0.0002499791684026331, 0.12005416032941352, 0.06700003198601145, 0.2792582203521895, 0.2816373015341319, 0.3613160066266464, 0.4761189606561579, 3.970656845908735e-05, 0.11134611104656778, 0.8812397646630679, 0.08816102439065976, 0.0014652351055303233, 1.0573730623638631e-05, 0.0026710652335851866, 0.0011086474501108647, 0.0027457440966501922, 0.003955603416106023, 0.002220052009402573, 0.00010065425264217414, 0.0018920197310629096, 0.008562555456965396, 0.049431411897677205, 0.00855160618474228, 0.07967860271572492, 4.018194384171529e-05, 0.004758555054413043, 0.002593126757280422, 0.06753520640958678, 0.03584184235888456, 0.020776475413715315, 0.001335619826534314, 0.026478854719679163, 0.002979644324561679, 0.022989745744427158, 3.971405877680699e-05, 0.0048128094775325096, 0.00010107748600076819, 0.02209766336816368, 4.2015041384815764e-05, 5.895668113189682e-05, 9.071560657339241e-05, 0.14512838465902891, 0.14807675457811267, 0.13048458670307742, 0.0657211599341522, 0.06311596583442838, 5.8839104468829987e-05, 0.10930864538713095, 0.01745533439621308, 0.595741435587688, 1.1692305293886094e-05, 0.014688696263705092, 0.00030242404503791933, 0.004149412236174191, 6.958942240779402e-05, 0.00013398539559188047, 1.9403493491205904e-05, 9.385044930902607e-05, 0.10208954165416999, 9.145976825501797e-05, 4.4564603820672033e-05, 6.819072947032851e-05, 0.0001452595117045645, 0.08206947274172476, 0.019096808022547027, 0.0460525024052149, 0.1084888480981309, 0.08575869025899434, 4.067024564828372e-05, 0.0001731173488314579, 1.8910312171433326e-05, 0.000514169918035266, 0.16099290780141845, 0.09944413195248653, 0.29913639502468053, 0.06851218064483539, 0.2608043305580889, 0.19911851418020826, 0.4671336446519902, 0.4178401799850013, 7.463402671898156e-05, 0.0006679134384183809, 0.0005644849817285125, 1.6670695418059365e-05, 0.024452507804613784, 0.022261506825575768, 0.00011542393562642219, 0.0001687641641352042, 0.04989285714285714, 0.001610468042274786, 0.011757218463187518, 0.0022275072017150133, 0.0002272314124704599, 0.00025523147649871616, 0.0032456078459041837, 0.05738001489837182, 0.04527762865250403, 0.03565726450239489, 7.519833561017182e-05, 7.786706534604123e-05, 0.0004125124915754491, 0.00010078549696698645, 7.321850231553513e-05, 0.12964866380115866, 0.12505303907967066, 0.030373831775700938, 0.0039018324994819268, 0.0004341437349719476, 2.941717227431513e-05, 0.002870971667878508, 0.0004922349929856513, 0.023657410335884622, 0.02292634177884898, 0.0009348237211519242, 0.0008875593760786311, 0.33001881214727224, 0.0014224339659352043, 0.0007676745782305553, 0.05154256553003943, 4.930885422659062e-05, 0.0045668428313165735, 0.06731766332526788, 0.0009228497600590623, 0.016610231536560813, 0.004510150989272644, 5.8442425861608334e-05, 3.411871362701422e-05, 1.6411091271925218e-05, 0.4250854156896898, 0.00014353294380087196, 3.802611851111449e-05, 0.9867414608637779, 0.03656173724868528, 3.9527254041661726e-05, 4.2648015267989464e-05, 0.3056494568444903, 4.256677663083963e-05, 1.9368209021711762e-05, 0.0005244526025960404, 0.0017385498226805162, 0.003987833199102346, 0.0021750196677310383, 0.00015445059029084977, 4.2759407069555305e-05, 6.150156060210028e-06, 0.00010228609420549276, 0.023948908994145823, 0.022615270370620402, 0.0005153172911625146, 0.006908048444741927, 0.0011474469305794606, 1.43026731696154e-05, 0.004647346725565233, 9.812772304431448e-05, 0.0054914881933003845, 0.044367799910842075, 0.002211144692598553, 0.18317531139617027, 0.0054678007290400975, 0.0005544241984838631, 5.233478562363439e-05, 0.1299803085001641, 0.0016474464579901153, 0.007245636267015493, 0.18255002108617216, 0.08143948268590975, 0.052765879047487446, 0.15488013157062433, 0.0008118765947575968, 0.8576629049872588, 2.172921057777971e-05, 1.4194705942471695e-05, 0.00012433760620503864, 7.369536179816683e-05, 0.0003259452411994785, 0.0020798172488450195, 0.0002194018767298994, 0.0005521462714351071, 0.008717834960070987, 0.0009770622993532777, 0.19189408279686268, 0.0677603021590845, 0.04810147779126721, 0.07608845038228677, 0.0008214285714285715, 0.011805850364889724, 0.06617292935346812, 0.004575821359934108, 0.0006362828461299805, 4.9631075670846704e-05, 4.34593654932638e-05, 0.002305032654629274, 0.04974787533333496, 0.00109165270068728, 0.01049082493362468, 0.044422965949836794, 0.4232031943212065, 0.4055246297657809, 0.36516792473471177, 0.20795210496896238, 0.15884585126567635, 0.08331249218456921, 0.18605254061527826, 0.18321212652238678, 8.754173865039224e-05, 0.0003133973115592787, 0.03800824556036304, 0.044225299863979224, 0.0002504675394068929, 0.000666611115740355, 2.338461058777219e-05, 0.00013633884748227596, 0.001376927801986239, 0.0028097696584590947, 0.00017202417721617967, 0.0017081909840846595, 0.038069173254827796, 0.002403741095231852, 4.826580946589055e-05, 5.7170115036990855e-05, 0.16429099355928622, 6.490303486591033e-05, 0.00012644051876738556, 0.00010103178712602453, 0.0005140742094681045, 0.021487982423313255, 0.06147797748029967, 0.5299544203102637, 0.0003898321033458348, 0.00046697798532354903, 0.0012356211938454296, 0.003489508211975992, 0.0005290694256657457, 0.04816927784695876, 0.0943943576069873, 0.08550512221560633, 0.12695460182076643, 0.21351287886998302, 0.24766689428673624, 0.08225497658754874, 0.0008108655990269613, 1.724326219529719e-05, 0.12313060817547358, 0.07902751093488125, 0.00021515747301257556, 1.6697835960459526e-05, 3.06585455585987e-05, 0.000377688729215605, 0.10904854865323386, 0.04219180066637694, 0.011188275493644859, 0.001545010765766506, 0.0329218450014309, 0.04145038903218211, 0.06486811310013284, 0.0018679119412941961, 0.2031218347176167, 0.00020959504031946698, 0.02061063412974873, 4.5674092512874386e-05, 0.00012581464985782944, 9.657520190253148e-05, 0.0023527783544391393, 0.003117294002698553, 1.2185254866790795e-05, 0.007791823322182421, 4.6991377082305394e-05, 0.0007116199633120375, 0.3213488126289231, 0.24165580182529334, 0.13301301748701044, 0.020903877245965652, 0.453554895182647, 0.3062015503875969, 5.9208383907161255e-05, 0.03563511233166794, 0.6380263685392918, 0.4887254686299659, 0.00010048904669391037, 0.0003695491500369549, 6.865367031883388e-05, 0.0058201841380739515, 0.00020439030372399134, 8.800717684332452e-05, 0.00026083038911151686, 0.02732620659118224, 0.0005463277458263101, 0.0009204319455630249, 1.8272683252172166e-05, 0.011667826490373467, 0.002278103916586349, 0.0012164884877105095, 4.882494629255908e-05, 0.5216190315124866, 3.1283483103008686e-05, 0.03396522234891676, 0.05898650273395435, 0.0005328754551644513, 3.2276227124224024e-05, 2.4029219530949635e-05, 8.434468862752449e-05, 0.0005105639978330261, 0.0029662383123762147, 5.582498866054918e-05, 0.0008835483300936561, 0.0008300852865822642, 0.0008209983339741126, 6.82017749511931e-06, 0.0006141197408164032, 0.11183375803648535, 0.09337237404722068, 0.03801864375799671, 0.00019538746031192212, 7.853762934165832e-05, 0.05971180349603992, 0.01735681608450649, 0.0003860960016352301, 0.742631461059067, 0.004465846762510865, 1.819655357275332e-05, 0.00013108736973192634, 0.07330913699734991, 1.694039521942047e-05, 0.12072804503465522, 0.008694794628622146, 3.2709241014771496e-05, 0.018688628444726005, 0.004335967550178334, 5.418879375745096e-05, 0.038500907272135114, 0.001174460815716421, 0.000614074875266041, 0.002087418559048643, 0.002372865584143675, 0.0005164855739123137, 0.006282335550628234, 0.024002521563984688, 0.00020872294950574405, 0.014548674805490543, 0.006443087364824184, 0.06085074811425745, 0.10414115674399621, 0.00016911889058007779, 0.2464812146736119, 0.0002763957987838585, 0.10840325981471594, 0.27576626296048395, 0.044571108204074006, 0.2534891407491124, 0.18587775257240974, 0.0007885744326645054, 0.0001617239776012291, 3.1495467802183264e-05, 0.00021680644112226897, 9.844699859713026e-05, 0.047552795365030716, 0.001361933946203609, 0.06518580029063732, 8.864632627462337e-06, 0.5440348920277231, 0.5464181815259495, 0.004013685788641879, 0.00789225777188514, 9.798144231482557e-06, 0.3336587451043821, 0.008109010229526223, 0.011387338632391905, 4.611512971527201e-05, 0.015591121583175625, 0.021967726916569195, 0.29880707655889865, 0.00017806135697592462, 0.02914230019493177, 5.1922427892728264e-05, 0.023334389188047724, 0.0004010577899209164, 0.04998993245593161, 6.99867445105897e-06, 5.3596982847178924e-06, 0.11306637788880411, 9.861770845318125e-05, 0.014804343130902594, 0.04632947254395467, 0.12634147711492313, 0.0031331823129651967, 0.2086340498400957, 0.0018456995201181247, 2.068936980179584e-05, 0.010541252787350497, 7.820870775752172e-05, 0.3606237816764133, 0.004574632153724313, 0.0014107887322753828, 0.0027488170269580415, 0.00016571946618835478, 0.14544398690740157, 0.0002278497493652757, 0.001094699309557507, 0.0019176028334890593, 0.04523265561052579, 2.187944426211574e-05, 0.12095566694876635, 0.000993330748767716, 0.0993941699503753, 0.23421341437676757, 0.00014873021578275472, 8.21287779237845e-05, 0.007608695652173913, 0.00031228941010174064, 0.009249229230897426, 0.00012205293028743465, 0.05225675147253072, 0.054983365353076234, 0.00010225413561170695, 2.0588416956620205e-05, 0.009314174582509603, 9.748203893432635e-06, 0.004941414805081034, 0.003647175171492822, 0.704228543540403, 0.1303433575296693, 0.06880189798339265, 0.3984705291062647, 0.26911998118864267, 0.5120476649434855, 0.5856181860357226, 0.6506635645757748, 0.5544155481851152, 0.2969344372342806, 3.78869201722592e-05, 0.00021117094287825995, 0.001204422391962282, 0.005982807646159662, 3.4749801429706116e-05, 0.0006335128286347799, 7.419314949919624e-05, 3.8736418043423523e-05, 0.0004925299622393696, 0.03154720482486662, 0.00016322291056126422, 0.00022459292532285232, 0.01205789617985743, 0.0013544835578733884, 3.2145555073372226e-05, 0.08473228115711474, 8.551881413911061e-05, 0.45062233303440324, 0.002889969690561782, 0.015370027594508354, 0.0005350579258363189, 0.0018318109610802225, 0.00017159784689859471, 0.047963600206661926, 0.0355891562683204, 0.030392838163757506, 0.028914395864365196, 0.018671059857221308, 0.0019322329287852192, 0.0037253858435337944, 0.000698178483598016, 0.10682742184214214, 0.12320685501533071, 0.1732102159253777, 0.1333723075062241, 0.09282920469361147, 0.009830089186901899, 0.0003635702599527359, 0.0005701324938338932, 6.520966246406768e-05, 0.06483506257851393, 0.09549261881623397, 0.003142857142857143, 1.0779718606225502e-05, 0.002346625520356173, 1.3728469184162838e-05, 0.002142172614014319, 9.643666522011669e-05, 0.009117125110913931, 0.001332505328461003, 2.3462612327256516e-05, 1.619243084820001e-05, 0.010982976386600769, 0.003530346268129799, 3.690623545042641e-05, 9.846654763155131e-06, 0.0038629340119978187, 3.563283922462942e-05, 0.5092599582295363, 0.02205080255571139, 8.188821628567649e-05, 0.0018735148967282031, 0.002164572618970119, 1.0486989578554106e-05, 2.5196374241746612e-05, 0.05715453859764135, 0.00033521425777976424, 0.00760233918128655, 4.466415237264911e-06, 0.0027948574622694245, 0.0003151827591910101, 5.890322200624374e-05, 0.4870024493251753, 0.09576356587757268, 0.14979146689464745, 0.1529497527785995, 0.09206780947561516, 0.051008303677342826, 0.0018691881154047694, 0.41392039137202574, 0.002208149320889926, 1.8568584925280015e-05, 0.008207539044157894, 0.018867247877838066, 1.9857029388403494e-05, 0.001585275660089437, 0.0007264730714103395, 0.08579393259826824, 0.0992731169094437, 0.00020334556974217923, 0.005298502693706535, 0.0005847953216374269, 0.00012129298320092183, 6.896456600598612e-05, 0.0046228895504226335, 6.699269779594024e-05, 0.00017170431333076764, 0.0014036086983054985, 0.0011737739243532185, 0.0005788474147495325, 0.15393243927376685, 0.08656298192740727, 0.014398185434164462, 0.15403925838550644, 0.0054674406246167685, 8.320537355430663e-05, 0.0001827788230018619, 0.0005468877355166775, 0.04584798822619671, 0.013970539863284871, 0.5333374518867899, 1.9487175489810155e-05, 0.013636825684773514, 0.0026113852114258806, 1.4665516238392855e-05, 0.00048645302043102685, 0.00040430994400307275, 0.17384803186524012, 0.0020195170848197174, 0.0012430981361154325, 0.061988304093567245, 0.10675574658942254, 1.7762515172148377e-05, 8.610218484294039e-05, 0.00011923552991676225, 3.1277123130214485e-05, 0.0008862025086347937, 2.269237460571999e-05, 0.0015971914732114617, 0.00011692305293886093, 0.0014074705408596518, 0.0002362789441706609, 6.43163794166147e-05, 0.00028031527223559675, 0.7377818270265367, 0.2710254505193538, 0.688345492766168, 0.8604320811020726, 0.6215243702976775, 0.7481852877347898, 0.02941338740155308, 0.015455939149149445, 0.5334168429466871, 0.677034452191165, 0.00016274982097519693, 0.00035900347314987973, 6.339010269196635e-05, 1.1355764753977356e-05, 0.0004751346214760849, 8.623774884980402e-06, 0.001712001048698958, 2.758582640239445e-05, 0.003130649499537017, 0.02078729020117954, 0.0002255950068305155, 0.010870400836421224, 0.12458982294696298, 0.040741773563859454, 0.0036668412781561024, 3.6847680899083415e-05, 0.0036133299269473125, 3.573132189811928e-06, 0.015020837828323547, 0.0027078171230227183, 0.010415183384527757, 0.0004157401749888191, 0.0004642857142857143, 0.026398020962176937, 0.0018724192642377777, 0.00046277014207043364, 2.0934370747705942e-05, 0.00021435873759192693, 0.05982031742784569, 0.23562839204001276, 3.44955457626534e-05, 0.002240367267768357, 9.915347718850315e-05, 0.08964258996320554, 0.11051510473710083, 0.00018510805682817345, 9.65316189317811e-05, 0.06505056417260105, 3.146096873566232e-05, 8.13686201916231e-05, 0.004320868488888384, 6.816942374113798e-05, 8.69572630627712e-05, 0.0061377183110333045, 0.0004092306852860133, 8.898875404620741e-05, 1.889728068130996e-05, 5.0515893563012266e-05, 0.00014396346306592533, 2.8141467155390147e-05, 0.004236743789735859, 0.00036747182459754917, 0.00046880198409097784, 0.3755567474903638, 0.00020206357425204906, 0.00012628973390753066, 3.332444681418288e-05, 7.035366788847537e-05, 0.0009394363381970818, 0.08010640351574476, 2.9482001238244052e-05, 0.0006958942240779402, 0.023050014864703414, 0.09159279021889837, 0.006212511546151478, 0.000580932775974641, 0.012257283622291549, 0.0020429009193054137, 0.00011522064754003918, 0.025615963843645662, 0.00017670966601873123, 0.00036286298898307646, 0.006341217916456971, 0.0001484022029482571, 0.023043897310084993, 0.14850748581879064, 0.12000131490277938, 5.0244523346955184e-05, 0.04634637698372818, 0.1705939829121978, 5.955985268863102e-05, 0.20531987790444156, 6.776158087768188e-05, 0.41556196866959166, 0.00011792800495297621, 0.0002569975976311526, 0.011024719718835287, 0.42462780141913314, 4.5695485286053735e-05, 0.0034365256339714072, 0.00512366373584667, 0.026607789413786786, 0.5334792447230775, 0.45364334347385193, 0.004552401391734139, 0.0002212463264760887, 0.0009050784960053634, 0.0036075343194636586, 0.01035683805042327, 0.09941839092532297, 0.1125577761864462, 0.07067173509465415, 1.2482485512515252e-05, 0.013345195729537367, 0.10525818242930969, 3.926881467082916e-05, 8.0636219774017e-05, 0.002196595277320154, 3.339567192091905e-05, 0.04130998447154851, 0.03809278620840902, 8.244566830458728e-05, 0.0003493294650522514, 2.709439687872548e-05, 0.006342449717995104, 0.025052929243979807, 5.5705754775840044e-05, 0.006802358435244319, 0.10040611307042856, 0.07940522240934353, 0.03503345664786625, 0.05040011577031908, 0.09219713970708973, 0.0009861163554887049, 0.008431887866841875, 0.044806605823554974, 0.13217686131931636, 0.06194967516406688, 0.00044073300858269544, 0.000161309835867242, 0.0074412311855234226, 0.04598106247503585, 0.006550173925425659, 0.00019315040380506296, 0.049954170485792856, 0.014275150709997618, 0.029661782058478123, 7.324920989114453e-05, 0.017010144397733504, 0.03814154071482333, 0.0015536873470256467, 0.01637718266325283, 4.106438896189225e-05, 0.014571403029968396, 7.23343002018127e-05, 0.31930313202902094, 0.7958624127617149, 0.34701381789400787, 0.2870554590322729, 0.29829135991483713, 0.0016979155377334636, 0.5260313873040603, 0.0003504775256286691, 0.5216444265865883, 4.2260068461310905e-05, 0.00017983275553735026, 0.009193357058125741, 0.0029531192321889995, 0.0001279440458039684, 5.912902939698245e-05, 0.0005599508688269932, 0.001340267762189881, 2.3106161257899417e-05, 0.0005276522771493586, 0.00015364468416191292, 4.1445868735012875e-05, 0.00017601435368664903, 0.005571428571428572, 0.002791251029559806, 0.0877877010574959, 0.41173584345322256, 0.11801450083658672, 0.00018178512997636792, 0.00023936555529659282, 7.603053048190684e-05, 0.0007797270955165692, 0.029528873500680106, 9.361864134386438e-06, 6.813458852386415e-05, 6.047716483051275e-05, 0.005187158278424225, 0.24924458380843786, 0.18762169319037358, 4.575821359934108e-05, 0.0025427187786124807, 0.09443930927271962, 0.0014524302205900811, 0.0673823003735137, 0.11601915912719532, 0.152547927248894, 9.77814476000087e-05, 0.009349659727531356, 0.009653682576115576, 0.002383384405856316, 0.0008047809444240786, 0.8778958101154768, 0.0009084590945194599, 1.2713487261880357e-05, 0.00022605123568179782, 0.00462658782303986, 0.07077988286344343, 0.09932946103712918, 0.072591829517674, 9.632158566734805e-05, 0.0002945161100312187, 0.015663459386887447, 0.0001581700425939327, 0.009982693849985227, 0.11065713312904324, 0.0012861535823274703, 0.0022682072944231685, 5.013222374011455e-05, 5.8461526469430464e-05, 0.0007909551947145583, 0.0662219257282633, 0.2504087039855685, 0.13148784154701315, 0.06614152724432004, 0.0002072293436750644, 0.19383943046450974, 0.18768356006672776, 5.1710356993530296e-05, 0.0004037490987743331, 0.0011145208323791202, 0.0004224757076468103, 0.0002659096063755738, 0.0006555657532450505, 1.7329620943424564e-05, 0.0007338225483655771, 0.00034638897297229826, 0.00024859023171226334, 0.023193262489527758, 4.9576738594251576e-05, 6.314486695376533e-05, 0.38817797723735015, 0.0003662402283318389, 0.0008100992371565517, 0.0007082743104741271, 0.01254520907039311, 0.026990838321076932, 0.0011399060159121574, 0.13748550220366504, 0.00813266041816871, 0.005911853408883202, 0.000378029797642873, 0.30305765985006083, 0.003396421451600994, 0.00015682338550324624, 0.0003297826732183491, 6.509992839007877e-05, 8.737616109475609e-05, 0.015662483607169132, 0.035111268506671546, 0.027230808264663377, 0.00022137742560955127, 0.10648623013378332, 0.0891315215415379, 0.004024566137812311, 0.06128300680367259, 9.99190899076845e-05, 4.2584117827415086e-05, 0.09665190756353491, 8.0654917933621e-05, 0.002033264715911244, 0.15976418881798587, 0.016003667729313047, 8.08972237543666e-05, 2.3769342302298494e-05, 0.00425531914893617, 0.001536688436419516, 0.00479896761705045, 0.0014341278981334607, 6.510087018163143e-05, 0.5106242586902753, 0.05973925498436994, 0.15362719358850352, 0.3963316488863934, 0.9194687997657008, 0.13686359470044163, 0.003898635477582846, 0.0003236150745785649, 0.002159784806895604, 0.27208685761886453, 5.9290881062492586e-05, 0.009488090778690396, 5.073878749673273e-05, 0.0014888568371097567, 0.019920253797179547, 0.0002638261385746793, 0.0009032239266931806, 0.0010012174804562347, 1.5589740391848124e-05, 9.089256498818396e-05, 0.0007665352606219887, 0.003138044347079546, 0.0007916006999416715, 0.0010023880421002977, 2.410916630502917e-05, 0.00045318273722373285, 0.003054282937664862, 5.258535918429591e-05, 0.0001774622892635315, 9.278589654372535e-05, 0.003612507721539773, 0.0025714285714285713, 0.5248761980390211, 0.05637695686783219, 0.11454526969242086, 0.013465692033854185, 0.03363024904562807, 0.0005103224309904894, 0.08842070767612133, 4.405356914007433e-05, 0.003336565802665965, 0.0037156950088003305, 0.017241710460414245, 0.0018131430761520093, 0.00997690912876061, 0.2519192295165868, 6.0491188450215753e-05, 6.356743630940178e-06, 0.03798795195938522, 0.0010476689366160294, 0.0017078879119488898, 0.05532337485000207, 0.0004423293981269638, 0.39417119055524175, 0.005395429606616012, 7.225172500993461e-05, 0.0031147714074543343, 0.003994994437443026, 0.21953819267999455, 0.08674441342189879, 0.23968621898443657, 0.1726660813579163, 0.2107107808776111, 0.16758951642672573, 0.00019786960393100946, 9.3747587378266e-05, 0.003598298985933922, 6.512922229787738e-05, 1.9596288462965113e-05, 0.2862421640571615, 0.07363793221099013, 0.07127343617118709, 0.00023716553307188656, 0.0007405126686127859, 5.994425184578342e-05, 0.02289997860594088, 4.704870212794559e-05, 0.06673142469580011, 7.113556066677732e-05, 0.07924283635903599, 0.015129715668531428, 4.5192487717327445e-05, 0.00013775714667379108, 4.287178607758234e-05, 3.2593815866669564e-05, 0.0535199907823482, 0.00018469828991112753, 1.4892772041302622e-05, 0.00010384485578545653, 0.0004055474319137269, 0.008852570650323459, 0.003572364519110081, 0.005654081951315725, 0.000525169003854964, 0.20471393093107165, 0.43832814840419404, 0.00038326763031099433, 0.01610290911356133, 0.018139642774298307, 0.17293824570604432, 0.014350349045607785, 8.873114463176575e-05, 0.05785437442242176, 0.2669048783437715, 0.0034102017239847154, 0.003444341026571382, 0.0021867584795049553, 0.0013345485319966148, 0.0013188949049007356, 0.012217830378358618, 0.028416149068322974, 0.08058938539829881, 0.020862970079390752, 0.00012398871702675056, 1.4838446414660384e-05, 0.11708507489810223, 0.019995247734187552, 0.001982041674282581, 0.0004556994987305514, 0.0014736794004752331, 0.00011039066675962722, 0.00020252480928913792, 3.556778033338866e-05, 0.053102557996716336, 0.1317355658149839, 9.111487084020417e-05, 0.4656319290465632, 1.6296907933334782e-05, 0.01454418928322895, 0.00016840138197779276, 0.04028641689570375, 0.05026004108212054, 0.08407261837918775, 0.21311475409836064, 0.011530411460226347, 0.0046396598945346035, 0.09060402684563759, 0.00024029219530949635, 0.10055451589813466, 0.055127341664795826, 8.516823565483018e-06, 0.00027072924614210826, 0.000164257555847569, 5.5989395608471755e-06, 0.00015394179815861927, 0.025470965921117618, 0.0020482476103777882, 0.003783640838910474, 0.0007201290471252448, 0.02125891840386716, 0.00010787976516278489, 0.09145410418374399, 0.0010099112940720055, 0.000177896375361352, 0.002522427225940316, 0.15900578821927136, 0.00027766208524226016, 0.000757605702465183, 0.00021428571428571427, 0.02340287033879917, 0.077356385945343, 0.061958970710304755, 0.00011338368408785976, 0.002544833798416408, 1.949640778686527e-05, 0.20606835642852148}\n",
      "------\n",
      "For column: reads\n",
      "old df uniquely contains: set()\n",
      "new df uniquely contains: {3584, 770, 1159, 3207, 178963, 404, 5013, 152, 153, 280, 288, 163, 292, 165, 1062, 6186, 44, 10924, 48, 196, 69, 324, 62148, 357449, 203, 3659, 77, 205, 80, 175442, 86, 218, 347, 11610, 222, 223, 608, 3682, 364, 244, 250, 125, 218878}\n",
      "------\n",
      "For column: sample\n",
      "old df uniquely contains: set()\n",
      "new df uniquely contains: set()\n",
      "------\n",
      "For column: sci_name\n",
      "old df uniquely contains: {'1|Flavi-like', '312|Tombus-like', '1636|Partiti-like', '3110|Partiti-like', 'Ūsinis virus', '3256|Partiti-like'}\n",
      "new df uniquely contains: {'5308|Toti-like', 'Placeda virus', 'Erebo virus', 'Usinis virus', 'Netjeret virus', 'Nebet virus', 'Nefer virus'}\n",
      "------\n",
      "For column: ska_genus\n",
      "old df uniquely contains: set()\n",
      "new df uniquely contains: set()\n",
      "------\n",
      "For column: ska_species\n",
      "old df uniquely contains: set()\n",
      "new df uniquely contains: set()\n",
      "------\n",
      "For column: taxid\n",
      "old df uniquely contains: {1527522.0, 2600328.0, 330383.0, 2600344.0, 336635.0}\n",
      "new df uniquely contains: {2304484.0, 2304486.0, 1923335.0, 1922855.0, 2079148.0, 1923660.0, 1923736.0, 1922928.0, 2304499.0, 2607735.0, 2607736.0}\n",
      "------\n"
     ]
    }
   ],
   "source": [
    "# Checking column names and values in old vs. new\n",
    "old_df = pd.read_csv(gitdir + \"/figures/fig3/all_contigs_df.tsv\", sep=\"\\t\", header=0)\n",
    "for mycol in old_df.columns:\n",
    "    print(\"For column: \" + str(mycol))\n",
    "    a = set(old_df[mycol].unique())\n",
    "    b = set(contigs_out_summary[mycol].unique())\n",
    "    print(\"old df uniquely contains: \" + str(a-b))\n",
    "    print(\"new df uniquely contains: \" + str(b-a))\n",
    "    print(\"------\")"
   ]
  },
  {
   "cell_type": "code",
   "execution_count": 21,
   "metadata": {},
   "outputs": [],
   "source": [
    "txid = 5654\n",
    "category_name = 'Trypanosomatidae'\n",
    "new_level = 'family'\n",
    "old_level = 'family'\n",
    "\n",
    "def compare_new_to_old(txid, category_name, new_level = 'family', old_level = 'family'):\n",
    "    df = pd.concat([ get_desc_contigs(contigs_out,txid).groupby('sample')['read_prop'].sum().rename('new_contigs_by_taxid'),\n",
    "         contigs_out[(contigs_out[new_level]==category_name)].groupby('sample')['read_prop'].sum().rename('new_contigs_by_category'),\n",
    "         contigs_out_summary[contigs_out_summary[new_level]==category_name].groupby('sample')['read_prop'].sum().rename('new_summary_by_category'),\n",
    "         old_df[old_df[old_level]==category_name].groupby('sample')['read_prop'].sum().rename('old_by_category') ],\n",
    "         axis=1, sort=False)\n",
    "    return df"
   ]
  },
  {
   "cell_type": "code",
   "execution_count": 22,
   "metadata": {},
   "outputs": [
    {
     "data": {
      "text/html": [
       "<div>\n",
       "<style scoped>\n",
       "    .dataframe tbody tr th:only-of-type {\n",
       "        vertical-align: middle;\n",
       "    }\n",
       "\n",
       "    .dataframe tbody tr th {\n",
       "        vertical-align: top;\n",
       "    }\n",
       "\n",
       "    .dataframe thead th {\n",
       "        text-align: right;\n",
       "    }\n",
       "</style>\n",
       "<table border=\"1\" class=\"dataframe\">\n",
       "  <thead>\n",
       "    <tr style=\"text-align: right;\">\n",
       "      <th></th>\n",
       "      <th>new_contigs_by_taxid</th>\n",
       "      <th>new_contigs_by_category</th>\n",
       "      <th>new_summary_by_category</th>\n",
       "      <th>old_by_category</th>\n",
       "    </tr>\n",
       "    <tr>\n",
       "      <th>sample</th>\n",
       "      <th></th>\n",
       "      <th></th>\n",
       "      <th></th>\n",
       "      <th></th>\n",
       "    </tr>\n",
       "  </thead>\n",
       "  <tbody>\n",
       "    <tr>\n",
       "      <th>CMS001_001_Ra_S1</th>\n",
       "      <td>0.000051</td>\n",
       "      <td>0.000051</td>\n",
       "      <td>0.000051</td>\n",
       "      <td>0.000048</td>\n",
       "    </tr>\n",
       "    <tr>\n",
       "      <th>CMS001_007_Ra_S12</th>\n",
       "      <td>0.113066</td>\n",
       "      <td>0.113066</td>\n",
       "      <td>0.113066</td>\n",
       "      <td>0.083032</td>\n",
       "    </tr>\n",
       "    <tr>\n",
       "      <th>CMS001_011_Ra_S4</th>\n",
       "      <td>0.000041</td>\n",
       "      <td>0.000041</td>\n",
       "      <td>0.000041</td>\n",
       "      <td>0.000035</td>\n",
       "    </tr>\n",
       "    <tr>\n",
       "      <th>CMS001_018_Ra_S14</th>\n",
       "      <td>0.134400</td>\n",
       "      <td>0.134400</td>\n",
       "      <td>0.134400</td>\n",
       "      <td>0.124120</td>\n",
       "    </tr>\n",
       "    <tr>\n",
       "      <th>CMS001_022_Ra_S6</th>\n",
       "      <td>0.382009</td>\n",
       "      <td>0.382009</td>\n",
       "      <td>0.382009</td>\n",
       "      <td>0.340947</td>\n",
       "    </tr>\n",
       "    <tr>\n",
       "      <th>CMS001_029_Ra_S18</th>\n",
       "      <td>0.001015</td>\n",
       "      <td>0.001015</td>\n",
       "      <td>0.001015</td>\n",
       "      <td>0.000904</td>\n",
       "    </tr>\n",
       "    <tr>\n",
       "      <th>CMS001_032_Ra_S7</th>\n",
       "      <td>0.000619</td>\n",
       "      <td>0.000619</td>\n",
       "      <td>0.000619</td>\n",
       "      <td>0.000524</td>\n",
       "    </tr>\n",
       "    <tr>\n",
       "      <th>CMS001_035_Ra_S20</th>\n",
       "      <td>0.209380</td>\n",
       "      <td>0.209380</td>\n",
       "      <td>0.209380</td>\n",
       "      <td>0.197322</td>\n",
       "    </tr>\n",
       "    <tr>\n",
       "      <th>CMS001_046_Ra_S3</th>\n",
       "      <td>0.000010</td>\n",
       "      <td>0.000010</td>\n",
       "      <td>0.000010</td>\n",
       "      <td>0.000010</td>\n",
       "    </tr>\n",
       "    <tr>\n",
       "      <th>CMS001_047_Ra_S4</th>\n",
       "      <td>0.000140</td>\n",
       "      <td>0.000140</td>\n",
       "      <td>0.000140</td>\n",
       "      <td>0.000135</td>\n",
       "    </tr>\n",
       "    <tr>\n",
       "      <th>CMS001_049_Ra_S6</th>\n",
       "      <td>0.052391</td>\n",
       "      <td>0.052391</td>\n",
       "      <td>0.052391</td>\n",
       "      <td>0.049068</td>\n",
       "    </tr>\n",
       "    <tr>\n",
       "      <th>CMS001_059_Ra_S10</th>\n",
       "      <td>0.016004</td>\n",
       "      <td>0.016004</td>\n",
       "      <td>0.016004</td>\n",
       "      <td>0.015031</td>\n",
       "    </tr>\n",
       "  </tbody>\n",
       "</table>\n",
       "</div>"
      ],
      "text/plain": [
       "                   new_contigs_by_taxid  new_contigs_by_category  \\\n",
       "sample                                                             \n",
       "CMS001_001_Ra_S1               0.000051                 0.000051   \n",
       "CMS001_007_Ra_S12              0.113066                 0.113066   \n",
       "CMS001_011_Ra_S4               0.000041                 0.000041   \n",
       "CMS001_018_Ra_S14              0.134400                 0.134400   \n",
       "CMS001_022_Ra_S6               0.382009                 0.382009   \n",
       "CMS001_029_Ra_S18              0.001015                 0.001015   \n",
       "CMS001_032_Ra_S7               0.000619                 0.000619   \n",
       "CMS001_035_Ra_S20              0.209380                 0.209380   \n",
       "CMS001_046_Ra_S3               0.000010                 0.000010   \n",
       "CMS001_047_Ra_S4               0.000140                 0.000140   \n",
       "CMS001_049_Ra_S6               0.052391                 0.052391   \n",
       "CMS001_059_Ra_S10              0.016004                 0.016004   \n",
       "\n",
       "                   new_summary_by_category  old_by_category  \n",
       "sample                                                       \n",
       "CMS001_001_Ra_S1                  0.000051         0.000048  \n",
       "CMS001_007_Ra_S12                 0.113066         0.083032  \n",
       "CMS001_011_Ra_S4                  0.000041         0.000035  \n",
       "CMS001_018_Ra_S14                 0.134400         0.124120  \n",
       "CMS001_022_Ra_S6                  0.382009         0.340947  \n",
       "CMS001_029_Ra_S18                 0.001015         0.000904  \n",
       "CMS001_032_Ra_S7                  0.000619         0.000524  \n",
       "CMS001_035_Ra_S20                 0.209380         0.197322  \n",
       "CMS001_046_Ra_S3                  0.000010         0.000010  \n",
       "CMS001_047_Ra_S4                  0.000140         0.000135  \n",
       "CMS001_049_Ra_S6                  0.052391         0.049068  \n",
       "CMS001_059_Ra_S10                 0.016004         0.015031  "
      ]
     },
     "execution_count": 22,
     "metadata": {},
     "output_type": "execute_result"
    }
   ],
   "source": [
    "compare_new_to_old(5654,'Trypanosomatidae')"
   ]
  },
  {
   "cell_type": "code",
   "execution_count": 23,
   "metadata": {},
   "outputs": [
    {
     "data": {
      "text/html": [
       "<div>\n",
       "<style scoped>\n",
       "    .dataframe tbody tr th:only-of-type {\n",
       "        vertical-align: middle;\n",
       "    }\n",
       "\n",
       "    .dataframe tbody tr th {\n",
       "        vertical-align: top;\n",
       "    }\n",
       "\n",
       "    .dataframe thead th {\n",
       "        text-align: right;\n",
       "    }\n",
       "</style>\n",
       "<table border=\"1\" class=\"dataframe\">\n",
       "  <thead>\n",
       "    <tr style=\"text-align: right;\">\n",
       "      <th></th>\n",
       "      <th>new_contigs_by_taxid</th>\n",
       "      <th>new_contigs_by_category</th>\n",
       "      <th>new_summary_by_category</th>\n",
       "      <th>old_by_category</th>\n",
       "    </tr>\n",
       "    <tr>\n",
       "      <th>sample</th>\n",
       "      <th></th>\n",
       "      <th></th>\n",
       "      <th></th>\n",
       "      <th></th>\n",
       "    </tr>\n",
       "  </thead>\n",
       "  <tbody>\n",
       "    <tr>\n",
       "      <th>CMS001_027_Ra_S16</th>\n",
       "      <td>0.000065</td>\n",
       "      <td>0.000065</td>\n",
       "      <td>0.000065</td>\n",
       "      <td>0.000050</td>\n",
       "    </tr>\n",
       "    <tr>\n",
       "      <th>CMS001_035_Ra_S20</th>\n",
       "      <td>0.000011</td>\n",
       "      <td>0.000011</td>\n",
       "      <td>0.000011</td>\n",
       "      <td>0.000011</td>\n",
       "    </tr>\n",
       "    <tr>\n",
       "      <th>CMS001_037_Ra_S21</th>\n",
       "      <td>0.000048</td>\n",
       "      <td>0.000048</td>\n",
       "      <td>0.000048</td>\n",
       "      <td>0.000044</td>\n",
       "    </tr>\n",
       "    <tr>\n",
       "      <th>CMS001_040_Ra_S21</th>\n",
       "      <td>0.002026</td>\n",
       "      <td>0.002026</td>\n",
       "      <td>0.002026</td>\n",
       "      <td>0.001901</td>\n",
       "    </tr>\n",
       "    <tr>\n",
       "      <th>CMS001_058_Ra_S9</th>\n",
       "      <td>0.000098</td>\n",
       "      <td>0.000098</td>\n",
       "      <td>0.000098</td>\n",
       "      <td>0.000086</td>\n",
       "    </tr>\n",
       "    <tr>\n",
       "      <th>CMS002_004a_Rb_S117_L004</th>\n",
       "      <td>0.037329</td>\n",
       "      <td>0.037329</td>\n",
       "      <td>0.037329</td>\n",
       "      <td>0.027730</td>\n",
       "    </tr>\n",
       "    <tr>\n",
       "      <th>CMS002_017a_Rb_S122_L004</th>\n",
       "      <td>0.000863</td>\n",
       "      <td>0.000863</td>\n",
       "      <td>0.000863</td>\n",
       "      <td>0.000862</td>\n",
       "    </tr>\n",
       "    <tr>\n",
       "      <th>CMS002_017b_Rb_S123_L004</th>\n",
       "      <td>0.001441</td>\n",
       "      <td>0.001441</td>\n",
       "      <td>0.001441</td>\n",
       "      <td>0.001438</td>\n",
       "    </tr>\n",
       "    <tr>\n",
       "      <th>CMS002_017c_Rb_S124_L004</th>\n",
       "      <td>0.000247</td>\n",
       "      <td>0.000247</td>\n",
       "      <td>0.000247</td>\n",
       "      <td>0.000247</td>\n",
       "    </tr>\n",
       "  </tbody>\n",
       "</table>\n",
       "</div>"
      ],
      "text/plain": [
       "                          new_contigs_by_taxid  new_contigs_by_category  \\\n",
       "sample                                                                    \n",
       "CMS001_027_Ra_S16                     0.000065                 0.000065   \n",
       "CMS001_035_Ra_S20                     0.000011                 0.000011   \n",
       "CMS001_037_Ra_S21                     0.000048                 0.000048   \n",
       "CMS001_040_Ra_S21                     0.002026                 0.002026   \n",
       "CMS001_058_Ra_S9                      0.000098                 0.000098   \n",
       "CMS002_004a_Rb_S117_L004              0.037329                 0.037329   \n",
       "CMS002_017a_Rb_S122_L004              0.000863                 0.000863   \n",
       "CMS002_017b_Rb_S123_L004              0.001441                 0.001441   \n",
       "CMS002_017c_Rb_S124_L004              0.000247                 0.000247   \n",
       "\n",
       "                          new_summary_by_category  old_by_category  \n",
       "sample                                                              \n",
       "CMS001_027_Ra_S16                        0.000065         0.000050  \n",
       "CMS001_035_Ra_S20                        0.000011         0.000011  \n",
       "CMS001_037_Ra_S21                        0.000048         0.000044  \n",
       "CMS001_040_Ra_S21                        0.002026         0.001901  \n",
       "CMS001_058_Ra_S9                         0.000098         0.000086  \n",
       "CMS002_004a_Rb_S117_L004                 0.037329         0.027730  \n",
       "CMS002_017a_Rb_S122_L004                 0.000863         0.000862  \n",
       "CMS002_017b_Rb_S123_L004                 0.001441         0.001438  \n",
       "CMS002_017c_Rb_S124_L004                 0.000247         0.000247  "
      ]
     },
     "execution_count": 23,
     "metadata": {},
     "output_type": "execute_result"
    }
   ],
   "source": [
    "compare_new_to_old(5794,'Apicomplexa')"
   ]
  },
  {
   "cell_type": "code",
   "execution_count": 24,
   "metadata": {},
   "outputs": [
    {
     "data": {
      "text/html": [
       "<div>\n",
       "<style scoped>\n",
       "    .dataframe tbody tr th:only-of-type {\n",
       "        vertical-align: middle;\n",
       "    }\n",
       "\n",
       "    .dataframe tbody tr th {\n",
       "        vertical-align: top;\n",
       "    }\n",
       "\n",
       "    .dataframe thead th {\n",
       "        text-align: right;\n",
       "    }\n",
       "</style>\n",
       "<table border=\"1\" class=\"dataframe\">\n",
       "  <thead>\n",
       "    <tr style=\"text-align: right;\">\n",
       "      <th></th>\n",
       "      <th>new_contigs_by_taxid</th>\n",
       "      <th>new_contigs_by_category</th>\n",
       "      <th>new_summary_by_category</th>\n",
       "      <th>old_by_category</th>\n",
       "    </tr>\n",
       "  </thead>\n",
       "  <tbody>\n",
       "    <tr>\n",
       "      <th>CMS001_029_Ra_S18</th>\n",
       "      <td>0.000226</td>\n",
       "      <td>0.000226</td>\n",
       "      <td>0.000226</td>\n",
       "      <td>NaN</td>\n",
       "    </tr>\n",
       "    <tr>\n",
       "      <th>CMS001_032_Ra_S7</th>\n",
       "      <td>0.000518</td>\n",
       "      <td>0.000518</td>\n",
       "      <td>0.000518</td>\n",
       "      <td>NaN</td>\n",
       "    </tr>\n",
       "    <tr>\n",
       "      <th>CMS002_042a_Rb_S177_L004</th>\n",
       "      <td>0.025484</td>\n",
       "      <td>0.025484</td>\n",
       "      <td>0.025484</td>\n",
       "      <td>NaN</td>\n",
       "    </tr>\n",
       "  </tbody>\n",
       "</table>\n",
       "</div>"
      ],
      "text/plain": [
       "                          new_contigs_by_taxid  new_contigs_by_category  \\\n",
       "CMS001_029_Ra_S18                     0.000226                 0.000226   \n",
       "CMS001_032_Ra_S7                      0.000518                 0.000518   \n",
       "CMS002_042a_Rb_S177_L004              0.025484                 0.025484   \n",
       "\n",
       "                          new_summary_by_category  old_by_category  \n",
       "CMS001_029_Ra_S18                        0.000226              NaN  \n",
       "CMS001_032_Ra_S7                         0.000518              NaN  \n",
       "CMS002_042a_Rb_S177_L004                 0.025484              NaN  "
      ]
     },
     "execution_count": 24,
     "metadata": {},
     "output_type": "execute_result"
    }
   ],
   "source": [
    "compare_new_to_old(6231,'Nematoda')"
   ]
  },
  {
   "cell_type": "code",
   "execution_count": 25,
   "metadata": {},
   "outputs": [
    {
     "data": {
      "text/html": [
       "<div>\n",
       "<style scoped>\n",
       "    .dataframe tbody tr th:only-of-type {\n",
       "        vertical-align: middle;\n",
       "    }\n",
       "\n",
       "    .dataframe tbody tr th {\n",
       "        vertical-align: top;\n",
       "    }\n",
       "\n",
       "    .dataframe thead th {\n",
       "        text-align: right;\n",
       "    }\n",
       "</style>\n",
       "<table border=\"1\" class=\"dataframe\">\n",
       "  <thead>\n",
       "    <tr style=\"text-align: right;\">\n",
       "      <th></th>\n",
       "      <th>new_contigs_by_taxid</th>\n",
       "      <th>new_contigs_by_category</th>\n",
       "      <th>new_summary_by_category</th>\n",
       "      <th>old_by_category</th>\n",
       "    </tr>\n",
       "  </thead>\n",
       "  <tbody>\n",
       "    <tr>\n",
       "      <th>CMS001_029_Ra_S18</th>\n",
       "      <td>NaN</td>\n",
       "      <td>NaN</td>\n",
       "      <td>NaN</td>\n",
       "      <td>0.000201</td>\n",
       "    </tr>\n",
       "    <tr>\n",
       "      <th>CMS001_032_Ra_S7</th>\n",
       "      <td>NaN</td>\n",
       "      <td>NaN</td>\n",
       "      <td>NaN</td>\n",
       "      <td>0.000289</td>\n",
       "    </tr>\n",
       "    <tr>\n",
       "      <th>CMS002_042a_Rb_S177_L004</th>\n",
       "      <td>NaN</td>\n",
       "      <td>NaN</td>\n",
       "      <td>NaN</td>\n",
       "      <td>0.008251</td>\n",
       "    </tr>\n",
       "  </tbody>\n",
       "</table>\n",
       "</div>"
      ],
      "text/plain": [
       "                          new_contigs_by_taxid  new_contigs_by_category  \\\n",
       "CMS001_029_Ra_S18                          NaN                      NaN   \n",
       "CMS001_032_Ra_S7                           NaN                      NaN   \n",
       "CMS002_042a_Rb_S177_L004                   NaN                      NaN   \n",
       "\n",
       "                          new_summary_by_category  old_by_category  \n",
       "CMS001_029_Ra_S18                             NaN         0.000201  \n",
       "CMS001_032_Ra_S7                              NaN         0.000289  \n",
       "CMS002_042a_Rb_S177_L004                      NaN         0.008251  "
      ]
     },
     "execution_count": 25,
     "metadata": {},
     "output_type": "execute_result"
    }
   ],
   "source": [
    "compare_new_to_old(629,'Onchocercidae')"
   ]
  },
  {
   "cell_type": "code",
   "execution_count": 26,
   "metadata": {},
   "outputs": [
    {
     "data": {
      "text/html": [
       "<div>\n",
       "<style scoped>\n",
       "    .dataframe tbody tr th:only-of-type {\n",
       "        vertical-align: middle;\n",
       "    }\n",
       "\n",
       "    .dataframe tbody tr th {\n",
       "        vertical-align: top;\n",
       "    }\n",
       "\n",
       "    .dataframe thead th {\n",
       "        text-align: right;\n",
       "    }\n",
       "</style>\n",
       "<table border=\"1\" class=\"dataframe\">\n",
       "  <thead>\n",
       "    <tr style=\"text-align: right;\">\n",
       "      <th></th>\n",
       "      <th>new_contigs_by_taxid</th>\n",
       "      <th>new_contigs_by_category</th>\n",
       "      <th>new_summary_by_category</th>\n",
       "      <th>old_by_category</th>\n",
       "    </tr>\n",
       "    <tr>\n",
       "      <th>sample</th>\n",
       "      <th></th>\n",
       "      <th></th>\n",
       "      <th></th>\n",
       "      <th></th>\n",
       "    </tr>\n",
       "  </thead>\n",
       "  <tbody>\n",
       "    <tr>\n",
       "      <th>CMS001_036_Ra_S20</th>\n",
       "      <td>0.001286</td>\n",
       "      <td>0.001286</td>\n",
       "      <td>0.001286</td>\n",
       "      <td>0.001198</td>\n",
       "    </tr>\n",
       "    <tr>\n",
       "      <th>CMS001_038_Ra_S22</th>\n",
       "      <td>0.006068</td>\n",
       "      <td>0.006068</td>\n",
       "      <td>0.006068</td>\n",
       "      <td>0.005870</td>\n",
       "    </tr>\n",
       "    <tr>\n",
       "      <th>CMS001_043_Ra_S24</th>\n",
       "      <td>0.000246</td>\n",
       "      <td>0.000246</td>\n",
       "      <td>0.000246</td>\n",
       "      <td>0.000213</td>\n",
       "    </tr>\n",
       "    <tr>\n",
       "      <th>CMS002_029d_Rb_S162_L004</th>\n",
       "      <td>0.018867</td>\n",
       "      <td>0.018867</td>\n",
       "      <td>0.018867</td>\n",
       "      <td>0.017507</td>\n",
       "    </tr>\n",
       "    <tr>\n",
       "      <th>CMS002_045g_Rb_S190_L004</th>\n",
       "      <td>0.000031</td>\n",
       "      <td>0.000031</td>\n",
       "      <td>0.000031</td>\n",
       "      <td>0.000030</td>\n",
       "    </tr>\n",
       "    <tr>\n",
       "      <th>CMS002_047j_Rb_S3_L004</th>\n",
       "      <td>0.001869</td>\n",
       "      <td>0.001869</td>\n",
       "      <td>0.001869</td>\n",
       "      <td>0.001603</td>\n",
       "    </tr>\n",
       "    <tr>\n",
       "      <th>CMS002_053a_Rb_S7_L004</th>\n",
       "      <td>0.000057</td>\n",
       "      <td>0.000057</td>\n",
       "      <td>0.000057</td>\n",
       "      <td>0.000052</td>\n",
       "    </tr>\n",
       "  </tbody>\n",
       "</table>\n",
       "</div>"
      ],
      "text/plain": [
       "                          new_contigs_by_taxid  new_contigs_by_category  \\\n",
       "sample                                                                    \n",
       "CMS001_036_Ra_S20                     0.001286                 0.001286   \n",
       "CMS001_038_Ra_S22                     0.006068                 0.006068   \n",
       "CMS001_043_Ra_S24                     0.000246                 0.000246   \n",
       "CMS002_029d_Rb_S162_L004              0.018867                 0.018867   \n",
       "CMS002_045g_Rb_S190_L004              0.000031                 0.000031   \n",
       "CMS002_047j_Rb_S3_L004                0.001869                 0.001869   \n",
       "CMS002_053a_Rb_S7_L004                0.000057                 0.000057   \n",
       "\n",
       "                          new_summary_by_category  old_by_category  \n",
       "sample                                                              \n",
       "CMS001_036_Ra_S20                        0.001286         0.001198  \n",
       "CMS001_038_Ra_S22                        0.006068         0.005870  \n",
       "CMS001_043_Ra_S24                        0.000246         0.000213  \n",
       "CMS002_029d_Rb_S162_L004                 0.018867         0.017507  \n",
       "CMS002_045g_Rb_S190_L004                 0.000031         0.000030  \n",
       "CMS002_047j_Rb_S3_L004                   0.001869         0.001603  \n",
       "CMS002_053a_Rb_S7_L004                   0.000057         0.000052  "
      ]
     },
     "execution_count": 26,
     "metadata": {},
     "output_type": "execute_result"
    }
   ],
   "source": [
    "compare_new_to_old(6029,'Microsporidia')"
   ]
  },
  {
   "cell_type": "code",
   "execution_count": 27,
   "metadata": {},
   "outputs": [
    {
     "data": {
      "text/plain": [
       "family\n",
       "Botourmiaviridae      6\n",
       "Chrysoviridae        12\n",
       "Chuviridae           11\n",
       "Dicistroviridae       7\n",
       "Flaviviridae          8\n",
       "Iflaviridae          17\n",
       "Leviviridae           2\n",
       "Luteoviridae         15\n",
       "Narnaviridae         87\n",
       "Orthomyxoviridae    285\n",
       "Partitiviridae       54\n",
       "Peribunyaviridae     66\n",
       "Phasmaviridae       102\n",
       "Phenuiviridae        23\n",
       "Reoviridae           49\n",
       "Rhabdoviridae        28\n",
       "Solemoviridae       147\n",
       "Tombusviridae        36\n",
       "Totiviridae         195\n",
       "Tymoviridae           1\n",
       "Virgaviridae         52\n",
       "Xinmoviridae         20\n",
       "Name: family, dtype: int64"
      ]
     },
     "execution_count": 27,
     "metadata": {},
     "output_type": "execute_result"
    }
   ],
   "source": [
    "contigs_out[contigs_out.taxon_group == \"Viruses\"].groupby(\"family\")[\"family\"].count()"
   ]
  },
  {
   "cell_type": "code",
   "execution_count": 28,
   "metadata": {},
   "outputs": [
    {
     "data": {
      "text/plain": [
       "family\n",
       "Apicomplexa           29\n",
       "Aves                 285\n",
       "Carnivora             38\n",
       "Leporidae              9\n",
       "Microsporidia         15\n",
       "Nematoda              23\n",
       "Other chordates      120\n",
       "Other eukaryotes     438\n",
       "Other metazoa        634\n",
       "Pecora               127\n",
       "Rodentia              38\n",
       "Trypanosomatidae      71\n",
       "Wolbachia           1137\n",
       "Name: family, dtype: int64"
      ]
     },
     "execution_count": 28,
     "metadata": {},
     "output_type": "execute_result"
    }
   ],
   "source": [
    "contigs_out[contigs_out.taxon_group != \"Viruses\"].groupby(\"family\")[\"family\"].count()"
   ]
  },
  {
   "cell_type": "code",
   "execution_count": 29,
   "metadata": {},
   "outputs": [
    {
     "data": {
      "text/plain": [
       "group\n",
       "Chordates            617\n",
       "Metazoa              657\n",
       "Other Eukaryotes     553\n",
       "Wolbachia           1137\n",
       "Name: group, dtype: int64"
      ]
     },
     "execution_count": 29,
     "metadata": {},
     "output_type": "execute_result"
    }
   ],
   "source": [
    "contigs_out[contigs_out.taxon_group != \"Viruses\"].groupby(\"group\")[\"group\"].count()"
   ]
  },
  {
   "cell_type": "code",
   "execution_count": 30,
   "metadata": {},
   "outputs": [
    {
     "data": {
      "text/plain": [
       "array(['Wolbachia', 'Other metazoa', 'Nematoda', 'Pecora',\n",
       "       'Other chordates', 'Carnivora', 'Rodentia', 'Leporidae', 'Aves',\n",
       "       'Other eukaryotes', 'Trypanosomatidae', 'Apicomplexa',\n",
       "       'Microsporidia', 'Tombusviridae', 'Phasmaviridae', 'Reoviridae',\n",
       "       'Virgaviridae', 'Totiviridae', 'Peribunyaviridae', 'Iflaviridae',\n",
       "       'Solemoviridae', 'Narnaviridae', 'Flaviviridae',\n",
       "       'Orthomyxoviridae', 'Xinmoviridae', 'Partitiviridae',\n",
       "       'Phenuiviridae', 'Rhabdoviridae', 'Leviviridae', 'Chuviridae',\n",
       "       'Chrysoviridae', 'Luteoviridae', 'Tymoviridae', 'Dicistroviridae',\n",
       "       'Botourmiaviridae'], dtype=object)"
      ]
     },
     "execution_count": 30,
     "metadata": {},
     "output_type": "execute_result"
    }
   ],
   "source": [
    "contigs_out.family.unique()"
   ]
  },
  {
   "cell_type": "code",
   "execution_count": null,
   "metadata": {},
   "outputs": [],
   "source": []
  }
 ],
 "metadata": {
  "kernelspec": {
   "display_name": "Python 3",
   "language": "python",
   "name": "python3"
  },
  "language_info": {
   "codemirror_mode": {
    "name": "ipython",
    "version": 3
   },
   "file_extension": ".py",
   "mimetype": "text/x-python",
   "name": "python",
   "nbconvert_exporter": "python",
   "pygments_lexer": "ipython3",
   "version": "3.7.4"
  }
 },
 "nbformat": 4,
 "nbformat_minor": 2
}
