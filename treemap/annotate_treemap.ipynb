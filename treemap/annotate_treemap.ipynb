{
 "cells": [
  {
   "cell_type": "code",
   "execution_count": 1,
   "metadata": {
    "ExecuteTime": {
     "end_time": "2019-04-30T13:30:22.875077Z",
     "start_time": "2019-04-30T13:30:22.449994Z"
    }
   },
   "outputs": [],
   "source": [
    "from Bio import SearchIO,SeqIO\n",
    "import ete3\n",
    "import os,functools,json\n",
    "\n",
    "ncbi=ete3.ncbi_taxonomy.NCBITaxa()"
   ]
  },
  {
   "cell_type": "code",
   "execution_count": 2,
   "metadata": {
    "ExecuteTime": {
     "end_time": "2019-04-30T13:30:23.306272Z",
     "start_time": "2019-04-30T13:30:22.879723Z"
    }
   },
   "outputs": [],
   "source": [
    "acc_to_gi={} ## accession to gi dict\n",
    "acc_to_taxid={} ## accession to taxid dict\n",
    "\n",
    "for line in open('/Users/evogytis/Documents/skeeters/data/acc2gi.txt','r'):\n",
    "    acc,gi,taxid=line.strip('\\n').split('\\t')\n",
    "    acc_to_gi[acc]=gi\n",
    "    acc_to_taxid[acc]=int(taxid)"
   ]
  },
  {
   "cell_type": "code",
   "execution_count": 3,
   "metadata": {
    "ExecuteTime": {
     "end_time": "2019-04-30T13:30:23.313166Z",
     "start_time": "2019-04-30T13:30:23.308506Z"
    }
   },
   "outputs": [],
   "source": [
    "# J=json.load(open('/Users/evogytis/Documents/skeeters/treemap/displayed_taxa.json','r')) ## load designated treemap branches\n",
    "# branches={b['taxid']:b for b in J} ## flat list of branches indexed by taxid\n",
    "# branches['no_hit']={'taxonomy':'no blast hit','taxid':'no_hit'}\n",
    "\n",
    "# for b in branches:\n",
    "#     branches[b]['attrs']={} ## create attributes dict\n",
    "\n",
    "# local_path='/Users/evogytis/Dropbox/Jupyter_notebooks/Biohub/California_mosquitoes/s3_bucket/'\n",
    "\n",
    "# sampleCount=1\n",
    "# for subdir, dirs, files in os.walk(local_path): ## iterate through samples\n",
    "#     sample=os.path.basename(subdir) ## sample name is folder name\n",
    "#     if sample.startswith('CMS'):\n",
    "#         for b in branches:\n",
    "#             branches[b]['attrs'][sample]={'read_count':0,'contig_count':0} ## create a category for each sample\n",
    "\n",
    "#         search={}\n",
    "\n",
    "#         print('\\n%d %s'%(sampleCount,sample))\n",
    "#         for fname in files: ## iterate through files in subfolders\n",
    "#             fpath=os.path.join(subdir, fname)\n",
    "#             if 'blast' in fname: ## only interested in blast outputs\n",
    "#                 if 'gsnap' in fname:\n",
    "#                     blast_type='nt'\n",
    "#                 elif 'rapsearch' in fname:\n",
    "#                     blast_type='aa'\n",
    "\n",
    "#                 blast_search=SearchIO.parse(fpath,format='blast-tab') ## read blast output\n",
    "#                 search[blast_type]=SearchIO.to_dict(blast_search) ## turn to dict\n",
    "\n",
    "#             elif 'fasta' in fname: ## fasta contains contigs\n",
    "#                 contigs=SeqIO.parse(fpath,format='fasta') ## parse fasta contigs\n",
    "#                 seqs=SeqIO.to_dict(contigs) ## convert to dict\n",
    "#                 print('total number of contigs in sample: %s'%(len(seqs)))\n",
    "\n",
    "#         if len(search)==2 and contigs and 'water' not in sample.lower(): ## once done with sample, if there's nt and nr blast results, contigs are loaded and they're not controls - proceed\n",
    "#             for searchType in search: ## iterate over nt or nr blast results\n",
    "#                 no_hits=len(seqs)-len(search[searchType]) ## no hits is (total number of contigs - blast hits)\n",
    "\n",
    "#                 if searchType=='aa':\n",
    "#     #                 if 'attrs' not in branches['no_hit']: ## no-hit branch doesn't have attributes yet\n",
    "#     #                     branches['no_hit']['attrs']={}\n",
    "#                     branches['no_hit']['attrs'][sample]['contig_count']=no_hits ## assign sample contig_count\n",
    "#                     print('number of contigs without blastx hit: %d'%(no_hits))\n",
    "\n",
    "#                 for contig in search[searchType]: ## iterate through contigs blasted\n",
    "#                     blast_hit={} ## keep a record of hits\n",
    "#                     bitscores={} ## keep a record of bitscores\n",
    "#                     percent_id={} ## keep a record of percent identities\n",
    "#                     for hit in search[searchType][contig]: ## iterate over hits to contig\n",
    "#                         hit_id=hit.id\n",
    "\n",
    "#                         ## want to keep hits where best HSP is <1e-2 and longest match is >200 nt\n",
    "#                         if min([h.evalue for h in hit.hsps])<1e-2 and max([len(f) for f in hit.fragments])>200:\n",
    "#                             blast_hit[hit_id]=hit\n",
    "#                             bitscores[hit_id]=min([k.bitscore for k in hit.hsps]) ## keep track of worst HSP bitscore\n",
    "#                             percent_id[hit_id]=min([k.ident_pct for k in hit.hsps]) ## keep track of worst HSP percent identity\n",
    "\n",
    "#                     cutoff=0.1 ## within 10% of top hit\n",
    "#                     filteredHits=filter(lambda k: max(bitscores.values())*(1.0-cutoff)<=bitscores[k], blast_hit) ## filter hits down to those whose bitscore within 10% of the best bitscore\n",
    "#                     hitLineages=[ncbi.get_lineage(acc_to_taxid[k]) for k in filteredHits] ## get lineage of every hit\n",
    "#                     hitLineages=list(filter(lambda x: 7157 not in x, hitLineages)) ## filter out lineages with mosquito in its path\n",
    "\n",
    "#                     if searchType=='aa': ## if nr\n",
    "#                         hitLineages=list(filter(lambda x: 10239 in x, hitLineages)) ## keep viruses (nr)\n",
    "#                     elif searchType=='nt': ## if nt\n",
    "#                         hitLineages=list(filter(lambda x: 10239 not in x, hitLineages)) ## ignore viruses (nt)\n",
    "\n",
    "#                     if len(list(hitLineages))>0: ## hits exist\n",
    "#                         ranksPresent=functools.reduce(set.intersection,map(set,hitLineages)) ## reduce lineages seen down to those that are shared by all hits\n",
    "\n",
    "#                         lineages=[ncbi.get_lineage(lin) for lin in ranksPresent] ## get full lineage of each taxonomic rank that's shared across all hits\n",
    "#                         mrca_path=[lin for lin in lineages if len(lin)==max(map(len,lineages))][-1] ## longest lineage path is the most recent common ancestor\n",
    "\n",
    "#                         for rank in mrca_path[::-1]: ## invert ancestor path, so ranks iterated from most recent to oldest\n",
    "#                             if rank in branches: ## rank is present amongst those designated for treemap\n",
    "#                                 branch=branches[rank] ## fetch branch from treemap\n",
    "\n",
    "#     #                             if 'attrs' not in branch:\n",
    "#     #                                 branch['attrs']={} ## branch doesn't have attrs\n",
    "\n",
    "#     #                             if sample not in branch['attrs']:\n",
    "#     #                                 branch['attrs'][sample]={} ## branch hasn't seen sample\n",
    "\n",
    "#     #                             if 'contig_count' not in branch['attrs'][sample]:\n",
    "#     #                                 branch['attrs'][sample]['contig_count']=0 ## branch hasn't seen contig_count in sample\n",
    "#                                 branch['attrs'][sample]['contig_count']+=1 ## add to contig_count\n",
    "#                                 break ## no need to iterate further\n",
    "#         sampleCount+=1"
   ]
  },
  {
   "cell_type": "code",
   "execution_count": 4,
   "metadata": {
    "ExecuteTime": {
     "end_time": "2019-04-30T13:30:23.686021Z",
     "start_time": "2019-04-30T13:30:23.316596Z"
    },
    "scrolled": true
   },
   "outputs": [],
   "source": [
    "J=json.load(open('/Users/evogytis/Documents/skeeters/treemap/displayed_taxa.json','r')) ## load designated treemap branches\n",
    "branches={b['taxid']:b for b in J} ## flat list of branches indexed by taxid\n",
    "branches['no_hit']={'taxonomy':'no blast hit','taxid':'no_hit'}\n",
    "\n",
    "samples=[line.split(',')[1] for line in open('/Users/evogytis/Documents/skeeters/data/TableS1data.csv','r').readlines()[1:]] ## sample names\n",
    "\n",
    "for b in branches:\n",
    "    branches[b]['attrs']={sample:{'contig_count':0,'read_count':0} for sample in samples} ## create attributes dict, split by sample\n",
    "    branches[b]['attrs']['colour']='slategrey'\n",
    "\n",
    "contig_classification='/Users/evogytis/Documents/skeeters/data/reblast_contigs_no_arthopods.csv'\n",
    "# contig_classification='/Users/evogytis/Documents/skeeters/data/reblast_contigs.csv'\n",
    "import csv\n",
    "for line in csv.reader(open(contig_classification,'r')):\n",
    "#     l=line.strip('\\n').split(',')\n",
    "    if line[0]=='qseqid':\n",
    "        header={x:i for i,x in enumerate(line)}\n",
    "    else:\n",
    "        \n",
    "        try:\n",
    "            taxid=line[header['taxid']]\n",
    "            sample=line[header['sample']]\n",
    "            \n",
    "            if 'CMS002_0Water' in sample:\n",
    "                sample=sample.replace('CMS002_0Water','CMS002_Water')\n",
    "            \n",
    "#             print(ncbi.get_lineage(taxid))\n",
    "            for step in ncbi.get_lineage(taxid)[::-1]: ## iterate through lineage in reverse (recent to old)\n",
    "                if step in branches: ## lineage is designated for visualisation\n",
    "                    branches[step]['attrs'][sample]['contig_count']+=1 ## add to count\n",
    "                    break ## break for loop\n",
    "                    \n",
    "        except ValueError:\n",
    "            print(line[header['qseqid']],line[header['sample']])\n",
    "    "
   ]
  },
  {
   "cell_type": "code",
   "execution_count": 5,
   "metadata": {
    "ExecuteTime": {
     "end_time": "2019-04-30T13:30:29.573279Z",
     "start_time": "2019-04-30T13:30:23.689067Z"
    }
   },
   "outputs": [
    {
     "name": "stderr",
     "output_type": "stream",
     "text": [
      "/Library/Frameworks/Python.framework/Versions/3.7/lib/python3.7/site-packages/ete3/ncbi_taxonomy/ncbiquery.py:240: UserWarning: taxid 189363 was translated into 2506096\n",
      "  warnings.warn(\"taxid %s was translated into %s\" %(taxid, merged_conversion[taxid]))\n",
      "/Library/Frameworks/Python.framework/Versions/3.7/lib/python3.7/site-packages/ete3/ncbi_taxonomy/ncbiquery.py:240: UserWarning: taxid 497866 was translated into 2497756\n",
      "  warnings.warn(\"taxid %s was translated into %s\" %(taxid, merged_conversion[taxid]))\n",
      "/Library/Frameworks/Python.framework/Versions/3.7/lib/python3.7/site-packages/ete3/ncbi_taxonomy/ncbiquery.py:240: UserWarning: taxid 2339234 was translated into 2494702\n",
      "  warnings.warn(\"taxid %s was translated into %s\" %(taxid, merged_conversion[taxid]))\n",
      "/Library/Frameworks/Python.framework/Versions/3.7/lib/python3.7/site-packages/ete3/ncbi_taxonomy/ncbiquery.py:240: UserWarning: taxid 1508232 was translated into 2502029\n",
      "  warnings.warn(\"taxid %s was translated into %s\" %(taxid, merged_conversion[taxid]))\n",
      "/Library/Frameworks/Python.framework/Versions/3.7/lib/python3.7/site-packages/ete3/ncbi_taxonomy/ncbiquery.py:240: UserWarning: taxid 2094237 was translated into 2094150\n",
      "  warnings.warn(\"taxid %s was translated into %s\" %(taxid, merged_conversion[taxid]))\n",
      "/Library/Frameworks/Python.framework/Versions/3.7/lib/python3.7/site-packages/ete3/ncbi_taxonomy/ncbiquery.py:240: UserWarning: taxid 2127030 was translated into 2497989\n",
      "  warnings.warn(\"taxid %s was translated into %s\" %(taxid, merged_conversion[taxid]))\n"
     ]
    }
   ],
   "source": [
    "report_path='/Users/evogytis/Documents/skeeters/data/mosquito_reports.csv'\n",
    "\n",
    "reads={}\n",
    "for line in open(report_path,'r'):\n",
    "    l=line.strip('\\n').split(',')\n",
    "    if l[0]=='water':\n",
    "        header={x:i for i,x in enumerate(l)} ## map header label to index\n",
    "    else:\n",
    "        if l[header['tax_level']]=='1' and l[header['water']]=='False': ## only species and non-waters\n",
    "            sample=l[header['sample_name']] ## get sample name\n",
    "            taxid=int(l[header['tax_id']]) ## get assigned taxid\n",
    "            \n",
    "            nr_reads=float(l[header['NR_r']]) ## number of reads in NR\n",
    "            nt_reads=float(l[header['NT_r']]) ## number of reads in NT\n",
    "            \n",
    "#             if sample not in reads: ## sample not seen before\n",
    "#                 reads[sample]={}\n",
    "            \n",
    "#             if taxid not in reads[sample]: ## taxid not seen in sample\n",
    "#                 reads[sample][taxid]={}\n",
    "#             else:\n",
    "#                 print(sample,taxid,'already seen') ## warn in case there's more than one taxid in sample\n",
    "                \n",
    "#             reads[sample][taxid]['nr_reads']=nr_reads\n",
    "#             reads[sample][taxid]['nt_reads']=nt_reads ## assign numbers\n",
    "            \n",
    "            mrca_path=ncbi.get_lineage(taxid)\n",
    "            proceed=True\n",
    "            if 7157 in mrca_path:\n",
    "                proceed=False\n",
    "            \n",
    "            if 10239 in mrca_path:\n",
    "                n_reads=nr_reads ## virus, use NR\n",
    "            elif 10239 not in mrca_path:\n",
    "                n_reads=nt_reads ## not virus, use NT\n",
    "            \n",
    "            for rank in mrca_path[::-1]: ## invert ancestor path, so ranks iterated from most recent to oldest\n",
    "                if proceed==True and rank in branches: ## rank is present amongst those designated for treemap\n",
    "                    branch=branches[rank] ## fetch branch from treemap\n",
    "\n",
    "#                     if 'attrs' not in branch:\n",
    "#                         branch['attrs']={} ## branch doesn't have attrs\n",
    "\n",
    "#                     if sample not in branch['attrs']:\n",
    "#                         branch['attrs'][sample]={} ## branch hasn't seen sample\n",
    "\n",
    "#                     if 'read_count' not in branch['attrs'][sample]:\n",
    "#                     branch['attrs'][sample]['read_count']=0 ## branch hasn't seen contig_count in sample \n",
    "                    if sample in branch['attrs']:\n",
    "                        branch['attrs'][sample]['read_count']+=n_reads ## add to contig_count\n",
    "                        if 2 in mrca_path: ## bacteria\n",
    "                            branch['attrs']['colour']='#82689C'\n",
    "#                         '#4BC067' ## plants\n",
    "                        elif 2759 in mrca_path: ## eukaryotes\n",
    "                            branch['attrs']['colour']='#4B8AC0'\n",
    "                        elif 10239 in mrca_path: ## viruses\n",
    "                            branch['attrs']['colour']='#D07558'\n",
    "                    break ## no need to iterate further\n",
    "                \n",
    "                "
   ]
  },
  {
   "cell_type": "code",
   "execution_count": 6,
   "metadata": {
    "ExecuteTime": {
     "end_time": "2019-04-30T13:30:29.724810Z",
     "start_time": "2019-04-30T13:30:29.575843Z"
    },
    "scrolled": true
   },
   "outputs": [],
   "source": [
    "taxa_tree={'children':[branches['no_hit']],'attrs':{'colour':'slategrey'}} ## tree structure (+ add no-hit branch from the beginning)\n",
    "\n",
    "J=sorted(J,key=lambda k: len(ncbi.get_lineage(k['taxid'])))\n",
    "\n",
    "for b in branches: ## iterate through flat list of branches\n",
    "#     if 'attrs' in branches[b]: ## branch has been annotated before\n",
    "#     print(branches[b]['taxonomy'])\n",
    "    if branches[b]['taxid']!='no_hit':\n",
    "        branches[b]['attrs']['read_count']=sum([branches[b]['attrs'][c]['read_count'] for c in branches[b]['attrs'] if 'CMS' in c])\n",
    "        branches[b]['attrs']['contig_count']=sum([branches[b]['attrs'][c]['contig_count'] for c in branches[b]['attrs'] if 'CMS' in c]) ## compute sum of sample contig counts\n",
    "#         branches[b]['attrs']['sample_count']=len([c for c in branches[b]['attrs'] if 'CMS' in c])\n",
    "#     else:\n",
    "#         branches[b]['attrs']={'contig_count':0} ## nothing landed on the branch\n",
    "#         branches[b]['attrs']['sample_count']=0\n",
    "#         branches[b]['attrs']['read_count']=0\n",
    "\n",
    "for taxon in J: ## iterate over every taxon in treemap\n",
    "    lineage=ncbi.get_lineage(taxon['taxid']) ## get its lineage\n",
    "    \n",
    "    if len(lineage)==1 and taxon not in taxa_tree['children']: ## if root\n",
    "        taxa_tree['children'].append(taxon) ## add root to tree\n",
    "        \n",
    "    for lin in lineage[::-1][1:]: ## iterate through lineage, starting from most recent, ignore first entry (self)\n",
    "        \n",
    "        if lin in branches: ## rank present amongst branches\n",
    "            parent=branches[lin] ## grab parent\n",
    "            if 'children' not in parent: ## if parent doesn't have children yet - add the attribute\n",
    "                parent['children']=[]\n",
    "                \n",
    "            if taxon not in parent['children']: ## branch wasn't assigned to its parent yet\n",
    "                parent['children'].append(taxon) ## add child to parent\n",
    "            \n",
    "            break\n",
    "\n",
    "json.dump(taxa_tree,open('/Users/evogytis/Documents/skeeters/treemap/skeeters.json','w'),indent=1) ## write json out to repo\n"
   ]
  },
  {
   "cell_type": "code",
   "execution_count": 7,
   "metadata": {
    "ExecuteTime": {
     "end_time": "2019-04-30T13:30:29.732208Z",
     "start_time": "2019-04-30T13:30:29.727685Z"
    }
   },
   "outputs": [],
   "source": [
    "## then run python3 server locally in the folder where treemap.html is located:\n",
    "## python3 -m http.server 4000\n",
    "## python -m SimpleHTTPServer 4000\n",
    "\n"
   ]
  }
 ],
 "metadata": {
  "kernelspec": {
   "display_name": "Python 3",
   "language": "python",
   "name": "python3"
  },
  "language_info": {
   "codemirror_mode": {
    "name": "ipython",
    "version": 3
   },
   "file_extension": ".py",
   "mimetype": "text/x-python",
   "name": "python",
   "nbconvert_exporter": "python",
   "pygments_lexer": "ipython3",
   "version": "3.7.1"
  }
 },
 "nbformat": 4,
 "nbformat_minor": 2
}
